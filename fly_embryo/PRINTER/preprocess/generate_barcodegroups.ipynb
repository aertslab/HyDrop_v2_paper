{
 "cells": [
  {
   "cell_type": "markdown",
   "metadata": {},
   "source": [
    "# Generate BarcodeGroups (barcodes per cell type grouping)"
   ]
  },
  {
   "cell_type": "code",
   "execution_count": 7,
   "metadata": {},
   "outputs": [],
   "source": [
    "import os\n",
    "import json\n",
    "import time\n",
    "\n",
    "import anndata\n",
    "import scprinter as scp\n",
    "import pandas as pd"
   ]
  },
  {
   "cell_type": "code",
   "execution_count": 2,
   "metadata": {},
   "outputs": [],
   "source": [
    "zip_folder = \"../../../../../../data/hydrop/fly_embryo/paper_zips\"\n",
    "celltype_label = \"final_embryo_annot_atlas_05112024\"\n",
    "\n",
    "fa_file_path = \"../../../../../../../../../res_00001/genomes/drosophila_melanogaster/dm6_cellranger/indexes/bwa2/2.2.1/genome.fa\"\n",
    "precomputed_bias_path = \"../../../../../../data/PRINT/biases/dm6Tn5Bias.tar.gz.untar/dm6Tn5Bias.h5\" # download from scprinter Zenodo or create one with scp.genome.predict_genome_tn5_bias"
   ]
  },
  {
   "cell_type": "code",
   "execution_count": 4,
   "metadata": {},
   "outputs": [],
   "source": [
    "genome = scp.genome.Genome(\n",
    "    name=\"dm6\",\n",
    "    fa_file=fa_file_path,\n",
    "    bias_file=precomputed_bias_path,\n",
    ")"
   ]
  },
  {
   "cell_type": "markdown",
   "metadata": {},
   "source": [
    "## Hydrop"
   ]
  },
  {
   "cell_type": "code",
   "execution_count": 8,
   "metadata": {},
   "outputs": [],
   "source": [
    "cistopic_fragments_anndata_path = f\"{zip_folder}/10x_hydropv2_comparisons_data/printer/cistopic_fragments_fly_hydropv2_anndata.h5ad\" # barcodes and annotations\n",
    "printer_object_path = f\"{zip_folder}/10x_hydropv2_comparisons_data/printer/printer_fly_hydropv2.h5ad\"\n",
    "barcodegroups_out_path = f\"{zip_folder}/10x_hydropv2_comparisons_data/printer/barcodegroups_fly_hydropv2.csv\""
   ]
  },
  {
   "cell_type": "code",
   "execution_count": 9,
   "metadata": {},
   "outputs": [],
   "source": [
    "# load objects\n",
    "printer = scp.load_printer(printer_object_path, genome)\n",
    "cistopic_anndata = anndata.read_h5ad(cistopic_fragments_anndata_path)\n",
    "\n",
    "printer_barcodes = []\n",
    "printer_parts = []\n",
    "\n",
    "for name in printer.obs_names:\n",
    "    if \"part\" in name:\n",
    "        barcode, part = name.rsplit(\"part\", 1)\n",
    "        printer_barcodes.append(barcode)\n",
    "        printer_parts.append(part)\n",
    "    else:\n",
    "        # Handle cases where 'part' is not in name\n",
    "        barcode = name\n",
    "        part = None\n",
    "        printer_barcodes.append(barcode)\n",
    "        printer_parts.append(part)\n",
    "\n",
    "printer_df = pd.DataFrame(\n",
    "    {\n",
    "        \"obs_name\": printer.obs_names,\n",
    "        \"barcode\": printer_barcodes,\n",
    "        \"part\": printer_parts,\n",
    "    }\n",
    ")"
   ]
  },
  {
   "cell_type": "code",
   "execution_count": 23,
   "metadata": {},
   "outputs": [],
   "source": [
    "# Extract barcodes and sample names from `cistopic_anndata.obs.index`\n",
    "cistopic_barcodes = []\n",
    "cistopic_samples = []\n",
    "\n",
    "for idx in cistopic_anndata.obs.index:\n",
    "    parts = idx.split(\"___\")\n",
    "    barcode = parts[0]\n",
    "    sample = parts[-1]  # Assuming sample name is the last part\n",
    "    cistopic_barcodes.append(barcode)\n",
    "    cistopic_samples.append(sample)\n",
    "\n",
    "cistopic_df = pd.DataFrame(\n",
    "    {\n",
    "        \"index\": cistopic_anndata.obs.index,\n",
    "        \"barcode\": cistopic_barcodes,\n",
    "        \"sample\": cistopic_samples,\n",
    "        \"cell_type\": cistopic_anndata.obs[celltype_label].values,\n",
    "    }\n",
    ")"
   ]
  },
  {
   "cell_type": "code",
   "execution_count": 25,
   "metadata": {},
   "outputs": [
    {
     "data": {
      "text/html": [
       "<div>\n",
       "<style scoped>\n",
       "    .dataframe tbody tr th:only-of-type {\n",
       "        vertical-align: middle;\n",
       "    }\n",
       "\n",
       "    .dataframe tbody tr th {\n",
       "        vertical-align: top;\n",
       "    }\n",
       "\n",
       "    .dataframe thead th {\n",
       "        text-align: right;\n",
       "    }\n",
       "</style>\n",
       "<table border=\"1\" class=\"dataframe\">\n",
       "  <thead>\n",
       "    <tr style=\"text-align: right;\">\n",
       "      <th></th>\n",
       "      <th>index</th>\n",
       "      <th>barcode</th>\n",
       "      <th>sample</th>\n",
       "      <th>cell_type</th>\n",
       "    </tr>\n",
       "  </thead>\n",
       "  <tbody>\n",
       "    <tr>\n",
       "      <th>0</th>\n",
       "      <td>CTCGATATCTGCTCGTTCATGATCTAGGTA___FDM__0a2768__240229_HyDropATAC_Dros_DGRP_Embryo_16_20AEL_Dechor_sample_X3</td>\n",
       "      <td>CTCGATATCTGCTCGTTCATGATCTAGGTA</td>\n",
       "      <td>FDM__0a2768__240229_HyDropATAC_Dros_DGRP_Embryo_16_20AEL_Dechor_sample_X3</td>\n",
       "      <td>Neuronal</td>\n",
       "    </tr>\n",
       "    <tr>\n",
       "      <th>1</th>\n",
       "      <td>CTACGCTGATCTGATTATGTTAATCGCACA___FDM__0a2768__240229_HyDropATAC_Dros_DGRP_Embryo_16_20AEL_Dechor_sample_X3</td>\n",
       "      <td>CTACGCTGATCTGATTATGTTAATCGCACA</td>\n",
       "      <td>FDM__0a2768__240229_HyDropATAC_Dros_DGRP_Embryo_16_20AEL_Dechor_sample_X3</td>\n",
       "      <td>Neuronal</td>\n",
       "    </tr>\n",
       "    <tr>\n",
       "      <th>2</th>\n",
       "      <td>GTTACCGCTCGGACCAAGTGTGGCTTAACA___FDM__0a2768__240229_HyDropATAC_Dros_DGRP_Embryo_16_20AEL_Dechor_sample_X3</td>\n",
       "      <td>GTTACCGCTCGGACCAAGTGTGGCTTAACA</td>\n",
       "      <td>FDM__0a2768__240229_HyDropATAC_Dros_DGRP_Embryo_16_20AEL_Dechor_sample_X3</td>\n",
       "      <td>Tracheal_system</td>\n",
       "    </tr>\n",
       "  </tbody>\n",
       "</table>\n",
       "</div>"
      ],
      "text/plain": [
       "                                                                                                        index  \\\n",
       "0  CTCGATATCTGCTCGTTCATGATCTAGGTA___FDM__0a2768__240229_HyDropATAC_Dros_DGRP_Embryo_16_20AEL_Dechor_sample_X3   \n",
       "1  CTACGCTGATCTGATTATGTTAATCGCACA___FDM__0a2768__240229_HyDropATAC_Dros_DGRP_Embryo_16_20AEL_Dechor_sample_X3   \n",
       "2  GTTACCGCTCGGACCAAGTGTGGCTTAACA___FDM__0a2768__240229_HyDropATAC_Dros_DGRP_Embryo_16_20AEL_Dechor_sample_X3   \n",
       "\n",
       "                          barcode  \\\n",
       "0  CTCGATATCTGCTCGTTCATGATCTAGGTA   \n",
       "1  CTACGCTGATCTGATTATGTTAATCGCACA   \n",
       "2  GTTACCGCTCGGACCAAGTGTGGCTTAACA   \n",
       "\n",
       "                                                                      sample  \\\n",
       "0  FDM__0a2768__240229_HyDropATAC_Dros_DGRP_Embryo_16_20AEL_Dechor_sample_X3   \n",
       "1  FDM__0a2768__240229_HyDropATAC_Dros_DGRP_Embryo_16_20AEL_Dechor_sample_X3   \n",
       "2  FDM__0a2768__240229_HyDropATAC_Dros_DGRP_Embryo_16_20AEL_Dechor_sample_X3   \n",
       "\n",
       "         cell_type  \n",
       "0         Neuronal  \n",
       "1         Neuronal  \n",
       "2  Tracheal_system  "
      ]
     },
     "execution_count": 25,
     "metadata": {},
     "output_type": "execute_result"
    }
   ],
   "source": [
    "cistopic_df.head(3)"
   ]
  },
  {
   "cell_type": "code",
   "execution_count": 26,
   "metadata": {},
   "outputs": [],
   "source": [
    "# Group barcodes by part number and by sample name\n",
    "barcodes_by_part = printer_df.groupby(\"part\")[\"barcode\"].apply(set).to_dict()\n",
    "barcodes_by_sample = cistopic_df.groupby(\"sample\")[\"barcode\"].apply(set).to_dict()\n",
    "\n",
    "# Find the best matching sample for each part by computing the overlap of barcodes\n",
    "part_to_sample = {}\n",
    "for part, part_barcodes in barcodes_by_part.items():\n",
    "    max_overlap = 0\n",
    "    best_sample = None\n",
    "    for sample, sample_barcodes in barcodes_by_sample.items():\n",
    "        overlap = len(part_barcodes & sample_barcodes)\n",
    "        if overlap > max_overlap:\n",
    "            max_overlap = overlap\n",
    "            best_sample = sample\n",
    "    if best_sample:\n",
    "        part_to_sample[part] = best_sample\n",
    "    else:\n",
    "        print(f\"No matching sample found for part {part}\")\n",
    "\n",
    "# Map each part to its corresponding sample\n",
    "printer_df[\"sample\"] = printer_df[\"part\"].map(part_to_sample)\n",
    "\n",
    "# Remove entries where sample mapping was not found\n",
    "printer_df = printer_df.dropna(subset=[\"sample\"])"
   ]
  },
  {
   "cell_type": "code",
   "execution_count": 27,
   "metadata": {},
   "outputs": [
    {
     "data": {
      "text/html": [
       "<div>\n",
       "<style scoped>\n",
       "    .dataframe tbody tr th:only-of-type {\n",
       "        vertical-align: middle;\n",
       "    }\n",
       "\n",
       "    .dataframe tbody tr th {\n",
       "        vertical-align: top;\n",
       "    }\n",
       "\n",
       "    .dataframe thead th {\n",
       "        text-align: right;\n",
       "    }\n",
       "</style>\n",
       "<table border=\"1\" class=\"dataframe\">\n",
       "  <thead>\n",
       "    <tr style=\"text-align: right;\">\n",
       "      <th></th>\n",
       "      <th>obs_name</th>\n",
       "      <th>barcode</th>\n",
       "      <th>part</th>\n",
       "      <th>sample</th>\n",
       "    </tr>\n",
       "  </thead>\n",
       "  <tbody>\n",
       "    <tr>\n",
       "      <th>0</th>\n",
       "      <td>AAGCAGATAGACGTTCGCACAGAGGAATCCpart2</td>\n",
       "      <td>AAGCAGATAGACGTTCGCACAGAGGAATCC</td>\n",
       "      <td>2</td>\n",
       "      <td>FDM__8521d7__240208_HyDropATAC_Dros_DGRP_Embryo_16_20AEL_sampleV4</td>\n",
       "    </tr>\n",
       "    <tr>\n",
       "      <th>1</th>\n",
       "      <td>AAGCAGATAGATCGCTGCTCGATCTAGGTApart2</td>\n",
       "      <td>AAGCAGATAGATCGCTGCTCGATCTAGGTA</td>\n",
       "      <td>2</td>\n",
       "      <td>FDM__8521d7__240208_HyDropATAC_Dros_DGRP_Embryo_16_20AEL_sampleV4</td>\n",
       "    </tr>\n",
       "    <tr>\n",
       "      <th>2</th>\n",
       "      <td>AAGCAGATAGCCGTACCTATTGAATCCAAGpart2</td>\n",
       "      <td>AAGCAGATAGCCGTACCTATTGAATCCAAG</td>\n",
       "      <td>2</td>\n",
       "      <td>FDM__8521d7__240208_HyDropATAC_Dros_DGRP_Embryo_16_20AEL_sampleV4</td>\n",
       "    </tr>\n",
       "  </tbody>\n",
       "</table>\n",
       "</div>"
      ],
      "text/plain": [
       "                              obs_name                         barcode part  \\\n",
       "0  AAGCAGATAGACGTTCGCACAGAGGAATCCpart2  AAGCAGATAGACGTTCGCACAGAGGAATCC    2   \n",
       "1  AAGCAGATAGATCGCTGCTCGATCTAGGTApart2  AAGCAGATAGATCGCTGCTCGATCTAGGTA    2   \n",
       "2  AAGCAGATAGCCGTACCTATTGAATCCAAGpart2  AAGCAGATAGCCGTACCTATTGAATCCAAG    2   \n",
       "\n",
       "                                                              sample  \n",
       "0  FDM__8521d7__240208_HyDropATAC_Dros_DGRP_Embryo_16_20AEL_sampleV4  \n",
       "1  FDM__8521d7__240208_HyDropATAC_Dros_DGRP_Embryo_16_20AEL_sampleV4  \n",
       "2  FDM__8521d7__240208_HyDropATAC_Dros_DGRP_Embryo_16_20AEL_sampleV4  "
      ]
     },
     "execution_count": 27,
     "metadata": {},
     "output_type": "execute_result"
    }
   ],
   "source": [
    "printer_df.head(3)"
   ]
  },
  {
   "cell_type": "code",
   "execution_count": 28,
   "metadata": {},
   "outputs": [
    {
     "data": {
      "text/html": [
       "<div>\n",
       "<style scoped>\n",
       "    .dataframe tbody tr th:only-of-type {\n",
       "        vertical-align: middle;\n",
       "    }\n",
       "\n",
       "    .dataframe tbody tr th {\n",
       "        vertical-align: top;\n",
       "    }\n",
       "\n",
       "    .dataframe thead th {\n",
       "        text-align: right;\n",
       "    }\n",
       "</style>\n",
       "<table border=\"1\" class=\"dataframe\">\n",
       "  <thead>\n",
       "    <tr style=\"text-align: right;\">\n",
       "      <th></th>\n",
       "      <th>obs_name</th>\n",
       "      <th>barcode</th>\n",
       "      <th>part</th>\n",
       "      <th>sample</th>\n",
       "      <th>index</th>\n",
       "      <th>cell_type</th>\n",
       "    </tr>\n",
       "  </thead>\n",
       "  <tbody>\n",
       "    <tr>\n",
       "      <th>0</th>\n",
       "      <td>AAGCAGATAGACGTTCGCACAGAGGAATCCpart2</td>\n",
       "      <td>AAGCAGATAGACGTTCGCACAGAGGAATCC</td>\n",
       "      <td>2</td>\n",
       "      <td>FDM__8521d7__240208_HyDropATAC_Dros_DGRP_Embryo_16_20AEL_sampleV4</td>\n",
       "      <td>AAGCAGATAGACGTTCGCACAGAGGAATCC___FDM__8521d7__240208_HyDropATAC_Dros_DGRP_Embryo_16_20AEL_sampleV4</td>\n",
       "      <td>Neuronal</td>\n",
       "    </tr>\n",
       "    <tr>\n",
       "      <th>1</th>\n",
       "      <td>AAGCAGATAGATCGCTGCTCGATCTAGGTApart2</td>\n",
       "      <td>AAGCAGATAGATCGCTGCTCGATCTAGGTA</td>\n",
       "      <td>2</td>\n",
       "      <td>FDM__8521d7__240208_HyDropATAC_Dros_DGRP_Embryo_16_20AEL_sampleV4</td>\n",
       "      <td>AAGCAGATAGATCGCTGCTCGATCTAGGTA___FDM__8521d7__240208_HyDropATAC_Dros_DGRP_Embryo_16_20AEL_sampleV4</td>\n",
       "      <td>Neuronal</td>\n",
       "    </tr>\n",
       "    <tr>\n",
       "      <th>2</th>\n",
       "      <td>AAGCAGATAGCCGTACCTATTGAATCCAAGpart2</td>\n",
       "      <td>AAGCAGATAGCCGTACCTATTGAATCCAAG</td>\n",
       "      <td>2</td>\n",
       "      <td>FDM__8521d7__240208_HyDropATAC_Dros_DGRP_Embryo_16_20AEL_sampleV4</td>\n",
       "      <td>AAGCAGATAGCCGTACCTATTGAATCCAAG___FDM__8521d7__240208_HyDropATAC_Dros_DGRP_Embryo_16_20AEL_sampleV4</td>\n",
       "      <td>Epidermis</td>\n",
       "    </tr>\n",
       "  </tbody>\n",
       "</table>\n",
       "</div>"
      ],
      "text/plain": [
       "                              obs_name                         barcode part  \\\n",
       "0  AAGCAGATAGACGTTCGCACAGAGGAATCCpart2  AAGCAGATAGACGTTCGCACAGAGGAATCC    2   \n",
       "1  AAGCAGATAGATCGCTGCTCGATCTAGGTApart2  AAGCAGATAGATCGCTGCTCGATCTAGGTA    2   \n",
       "2  AAGCAGATAGCCGTACCTATTGAATCCAAGpart2  AAGCAGATAGCCGTACCTATTGAATCCAAG    2   \n",
       "\n",
       "                                                              sample  \\\n",
       "0  FDM__8521d7__240208_HyDropATAC_Dros_DGRP_Embryo_16_20AEL_sampleV4   \n",
       "1  FDM__8521d7__240208_HyDropATAC_Dros_DGRP_Embryo_16_20AEL_sampleV4   \n",
       "2  FDM__8521d7__240208_HyDropATAC_Dros_DGRP_Embryo_16_20AEL_sampleV4   \n",
       "\n",
       "                                                                                                index  \\\n",
       "0  AAGCAGATAGACGTTCGCACAGAGGAATCC___FDM__8521d7__240208_HyDropATAC_Dros_DGRP_Embryo_16_20AEL_sampleV4   \n",
       "1  AAGCAGATAGATCGCTGCTCGATCTAGGTA___FDM__8521d7__240208_HyDropATAC_Dros_DGRP_Embryo_16_20AEL_sampleV4   \n",
       "2  AAGCAGATAGCCGTACCTATTGAATCCAAG___FDM__8521d7__240208_HyDropATAC_Dros_DGRP_Embryo_16_20AEL_sampleV4   \n",
       "\n",
       "   cell_type  \n",
       "0   Neuronal  \n",
       "1   Neuronal  \n",
       "2  Epidermis  "
      ]
     },
     "execution_count": 28,
     "metadata": {},
     "output_type": "execute_result"
    }
   ],
   "source": [
    "# Merge the datasets using both `barcode` and `sample`\n",
    "merged_df = pd.merge(printer_df, cistopic_df, on=[\"barcode\", \"sample\"], how=\"inner\")\n",
    "merged_df.head(3)"
   ]
  },
  {
   "cell_type": "code",
   "execution_count": 29,
   "metadata": {},
   "outputs": [],
   "source": [
    "# Generate the final CSV file\n",
    "merged_df[[\"obs_name\", \"cell_type\"]].to_csv(barcodegroups_out_path, sep=\"\\t\", index=False)\n",
    "time.sleep(1)\n",
    "printer.close()"
   ]
  },
  {
   "cell_type": "markdown",
   "metadata": {},
   "source": [
    "## 10x"
   ]
  },
  {
   "cell_type": "code",
   "execution_count": 30,
   "metadata": {},
   "outputs": [],
   "source": [
    "cistopic_fragments_anndata_path = f\"{zip_folder}/10x_hydropv2_comparisons_data/printer/cistopic_fragments_fly_10x_anndata.h5ad\" # barcodes and annotations\n",
    "printer_object_path = f\"{zip_folder}/10x_hydropv2_comparisons_data/printer/printer_fly_10x.h5ad\"\n",
    "barcodegroups_out_path = f\"{zip_folder}/10x_hydropv2_comparisons_data/printer/barcodegroups_fly_10x.csv\""
   ]
  },
  {
   "cell_type": "code",
   "execution_count": 31,
   "metadata": {},
   "outputs": [],
   "source": [
    "# load objects\n",
    "printer = scp.load_printer(printer_object_path, genome)\n",
    "cistopic_anndata = anndata.read_h5ad(cistopic_fragments_anndata_path)\n",
    "\n",
    "printer_barcodes = []\n",
    "printer_parts = []\n",
    "\n",
    "for name in printer.obs_names:\n",
    "    if \"part\" in name:\n",
    "        barcode, part = name.rsplit(\"part\", 1)\n",
    "        printer_barcodes.append(barcode)\n",
    "        printer_parts.append(part)\n",
    "    else:\n",
    "        # Handle cases where 'part' is not in name\n",
    "        barcode = name\n",
    "        part = None\n",
    "        printer_barcodes.append(barcode)\n",
    "        printer_parts.append(part)\n",
    "\n",
    "printer_df = pd.DataFrame(\n",
    "    {\n",
    "        \"obs_name\": printer.obs_names,\n",
    "        \"barcode\": printer_barcodes,\n",
    "        \"part\": printer_parts,\n",
    "    }\n",
    ")"
   ]
  },
  {
   "cell_type": "code",
   "execution_count": 32,
   "metadata": {},
   "outputs": [],
   "source": [
    "# Extract barcodes and sample names from `cistopic_anndata.obs.index`\n",
    "cistopic_barcodes = []\n",
    "cistopic_samples = []\n",
    "\n",
    "for idx in cistopic_anndata.obs.index:\n",
    "    parts = idx.split(\"___\")\n",
    "    barcode = parts[0]\n",
    "    sample = parts[-1]  # Assuming sample name is the last part\n",
    "    cistopic_barcodes.append(barcode)\n",
    "    cistopic_samples.append(sample)\n",
    "\n",
    "cistopic_df = pd.DataFrame(\n",
    "    {\n",
    "        \"index\": cistopic_anndata.obs.index,\n",
    "        \"barcode\": cistopic_barcodes,\n",
    "        \"sample\": cistopic_samples,\n",
    "        \"cell_type\": cistopic_anndata.obs[celltype_label].values,\n",
    "    }\n",
    ")"
   ]
  },
  {
   "cell_type": "code",
   "execution_count": 36,
   "metadata": {},
   "outputs": [],
   "source": [
    "# Group barcodes by part number and by sample name\n",
    "barcodes_by_part = printer_df.groupby(\"part\")[\"barcode\"].apply(set).to_dict()\n",
    "barcodes_by_sample = cistopic_df.groupby(\"sample\")[\"barcode\"].apply(set).to_dict()\n",
    "\n",
    "# Find the best matching sample for each part by computing the overlap of barcodes\n",
    "part_to_sample = {}\n",
    "for part, part_barcodes in barcodes_by_part.items():\n",
    "    max_overlap = 0\n",
    "    best_sample = None\n",
    "    for sample, sample_barcodes in barcodes_by_sample.items():\n",
    "        overlap = len(part_barcodes & sample_barcodes)\n",
    "        if overlap > max_overlap:\n",
    "            max_overlap = overlap\n",
    "            best_sample = sample\n",
    "    if best_sample:\n",
    "        part_to_sample[part] = best_sample\n",
    "    else:\n",
    "        print(f\"No matching sample found for part {part}\")\n",
    "\n",
    "# Map each part to its corresponding sample\n",
    "printer_df[\"sample\"] = printer_df[\"part\"].map(part_to_sample)\n",
    "\n",
    "# Remove entries where sample mapping was not found\n",
    "printer_df = printer_df.dropna(subset=[\"sample\"])"
   ]
  },
  {
   "cell_type": "code",
   "execution_count": 37,
   "metadata": {},
   "outputs": [],
   "source": [
    "# Merge the datasets using both `barcode` and `sample`\n",
    "merged_df = pd.merge(printer_df, cistopic_df, on=[\"barcode\", \"sample\"], how=\"inner\")\n",
    "\n",
    "# Generate the final CSV file\n",
    "merged_df[[\"obs_name\", \"cell_type\"]].to_csv(barcodegroups_out_path, sep=\"\\t\", index=False)\n",
    "time.sleep(1)\n",
    "printer.close()"
   ]
  }
 ],
 "metadata": {
  "kernelspec": {
   "display_name": "scprinter",
   "language": "python",
   "name": "python3"
  },
  "language_info": {
   "codemirror_mode": {
    "name": "ipython",
    "version": 3
   },
   "file_extension": ".py",
   "mimetype": "text/x-python",
   "name": "python",
   "nbconvert_exporter": "python",
   "pygments_lexer": "ipython3",
   "version": "3.10.15"
  }
 },
 "nbformat": 4,
 "nbformat_minor": 2
}
