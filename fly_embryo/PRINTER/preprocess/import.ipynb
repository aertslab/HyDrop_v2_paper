{
 "cells": [
  {
   "cell_type": "markdown",
   "metadata": {},
   "source": [
    "# Import fragments into printer object"
   ]
  },
  {
   "cell_type": "code",
   "execution_count": 1,
   "metadata": {},
   "outputs": [
    {
     "name": "stderr",
     "output_type": "stream",
     "text": [
      "/lustre1/project/stg_00002/mambaforge/vsc35862/envs/scprinter/lib/python3.10/site-packages/tqdm/auto.py:21: TqdmWarning: IProgress not found. Please update jupyter and ipywidgets. See https://ipywidgets.readthedocs.io/en/stable/user_install.html\n",
      "  from .autonotebook import tqdm as notebook_tqdm\n"
     ]
    }
   ],
   "source": [
    "import os\n",
    "import json\n",
    "import time\n",
    "\n",
    "import anndata\n",
    "import scprinter as scp"
   ]
  },
  {
   "cell_type": "code",
   "execution_count": 2,
   "metadata": {},
   "outputs": [],
   "source": [
    "zip_folder = \"../../../../../../data/hydrop/fly_embryo/paper_zips\"\n",
    "cistopic_fragments_hydrop_anndata_path = f\"{zip_folder}/10x_hydropv2_comparisons_data/printer/cistopic_fragments_fly_hydropv2_anndata.h5ad\" # barcodes and annotations\n",
    "cistopic_fragments_10x_anndata_path = f\"{zip_folder}/10x_hydropv2_comparisons_data/printer/cistopic_fragments_fly_10x_anndata.h5ad\" # barcodes and annotations\n",
    "celltype_label = \"final_embryo_annot_atlas_05112024\"  # annotation column name\n",
    "printer_hydrop_object_output_path = f\"{zip_folder}/10x_hydropv2_comparisons_data/printer/printer_fly_hydropv2.h5ad\"\n",
    "printer_10x_object_output_path = f\"{zip_folder}/10x_hydropv2_comparisons_data/printer/printer_fly_10x.h5ad\"\n",
    "fa_file_path = \"../../../../../../../../../res_00001/genomes/drosophila_melanogaster/dm6_cellranger/indexes/bwa2/2.2.1/genome.fa\"\n",
    "precomputed_bias_path = \"../../../../../../data/PRINT/biases/dm6bias_cellranger.h5\" # download from scprinter Zenodo or create one with scp.genome.predict_genome_tn5_bias"
   ]
  },
  {
   "cell_type": "code",
   "execution_count": 3,
   "metadata": {},
   "outputs": [],
   "source": [
    "genome = scp.genome.Genome(\n",
    "    name=\"dm6\",\n",
    "    fa_file=fa_file_path,\n",
    "    bias_file=precomputed_bias_path,\n",
    ")"
   ]
  },
  {
   "cell_type": "markdown",
   "metadata": {},
   "source": [
    "## Hydropv2"
   ]
  },
  {
   "cell_type": "code",
   "execution_count": 4,
   "metadata": {},
   "outputs": [],
   "source": [
    "rel_path = \"../../../../../../..\"\n",
    "fragments_hydrop_dict = {\n",
    "    \"FDM__0a2768__240229_HyDropATAC_Dros_DGRP_Embryo_16_20AEL_Dechor_sample_X3\": f\"{rel_path}/fderop/data/20231115_hydrop_v2/analysis_drosophila/PUMATAC_out/data/fragments/FDM__0a2768__240229_HyDropATAC_Dros_DGRP_Embryo_16_20AEL_Dechor_sample_X3.fragments.tsv.gz\",\n",
    "    \"FDM__9d9712__240229_HyDropATAC_Dros_DGRP_Embryo_16_20AEL_Dechor_sample_X1\": f\"{rel_path}/fderop/data/20231115_hydrop_v2/analysis_drosophila/PUMATAC_out/data/fragments/FDM__9d9712__240229_HyDropATAC_Dros_DGRP_Embryo_16_20AEL_Dechor_sample_X1.fragments.tsv.gz\",\n",
    "    \"FDM__8521d7__240208_HyDropATAC_Dros_DGRP_Embryo_16_20AEL_sampleV4\": f\"{rel_path}/fderop/data/20231115_hydrop_v2/analysis_drosophila/PUMATAC_out/data/fragments/FDM__8521d7__240208_HyDropATAC_Dros_DGRP_Embryo_16_20AEL_sampleV4.fragments.tsv.gz\",\n",
    "    \"FDM__15d2ea__240116_HyDropATAC_Dros_DGRP_Embryo_16_20AEL_sampleS5\": f\"{rel_path}/fderop/data/20231115_hydrop_v2/analysis_drosophila/PUMATAC_out/data/fragments/FDM__15d2ea__240116_HyDropATAC_Dros_DGRP_Embryo_16_20AEL_sampleS5.fragments.tsv.gz\",\n",
    "    \"FDM__15999e__240321_HyDropATAC_Dros_DGRP_Embryo_16-20AEL_Dechor_sampleAF5\": f\"{rel_path}/fderop/data/20231115_hydrop_v2/analysis_drosophila/PUMATAC_out/data/fragments/FDM__15999e__240321_HyDropATAC_Dros_DGRP_Embryo_16-20AEL_Dechor_sampleAF5.fragments.tsv.gz\",\n",
    "    \"FDM__a436c1__240208_HyDropATAC_Dros_DGRP_Embryo_16_20AEL_sampleV3\": f\"{rel_path}/fderop/data/20231115_hydrop_v2/analysis_drosophila/PUMATAC_out/data/fragments/FDM__a436c1__240208_HyDropATAC_Dros_DGRP_Embryo_16_20AEL_sampleV3.fragments.tsv.gz\",\n",
    "    \"FDM__cc46ab__240208_HyDropATAC_Dros_DGRP_Embryo_16_20AEL_sampleV2\": f\"{rel_path}/fderop/data/20231115_hydrop_v2/analysis_drosophila/PUMATAC_out/data/fragments/FDM__cc46ab__240208_HyDropATAC_Dros_DGRP_Embryo_16_20AEL_sampleV2.fragments.tsv.gz\",\n",
    "    \"FDM__5d36d3__240208_HyDropATAC_Dros_DGRP_Embryo_16_20AEL_sampleV1\": f\"{rel_path}/fderop/data/20231115_hydrop_v2/analysis_drosophila/PUMATAC_out/data/fragments/FDM__5d36d3__240208_HyDropATAC_Dros_DGRP_Embryo_16_20AEL_sampleV1.fragments.tsv.gz\",\n",
    "    \"FDM__0cd23d__240321_HyDropATAC_Dros_DGRP_Embryo_16-20AEL_Dechor_sampleAF4\": f\"{rel_path}/fderop/data/20231115_hydrop_v2/analysis_drosophila/PUMATAC_out/data/fragments/FDM__0cd23d__240321_HyDropATAC_Dros_DGRP_Embryo_16-20AEL_Dechor_sampleAF4.fragments.tsv.gz\",\n",
    "    \"FDM__4ae8ee__240116_HyDropATAC_Dros_DGRP_Embryo_16_20AEL_sampleS4\": f\"{rel_path}/fderop/data/20231115_hydrop_v2/analysis_drosophila/PUMATAC_out/data/fragments/FDM__4ae8ee__240116_HyDropATAC_Dros_DGRP_Embryo_16_20AEL_sampleS4.fragments.tsv.gz\",\n",
    "    \"FDM__23c6d3__240116_HyDropATAC_Dros_DGRP_Embryo_16_20AEL_sampleS6\": f\"{rel_path}/fderop/data/20231115_hydrop_v2/analysis_drosophila/PUMATAC_out/data/fragments/FDM__23c6d3__240116_HyDropATAC_Dros_DGRP_Embryo_16_20AEL_sampleS6.fragments.tsv.gz\",\n",
    "    \"FDM__ad7491__240321_HyDropATAC_Dros_DGRP_Embryo_16-20AEL_Dechor_sampleAF6\": f\"{rel_path}/fderop/data/20231115_hydrop_v2/analysis_drosophila/PUMATAC_out/data/fragments/FDM__ad7491__240321_HyDropATAC_Dros_DGRP_Embryo_16-20AEL_Dechor_sampleAF6.fragments.tsv.gz\",\n",
    "    \"FDM__79eb57__240116_HyDropATAC_Dros_DGRP_Embryo_16_20AEL_sampleS1\": f\"{rel_path}/fderop/data/20231115_hydrop_v2/analysis_drosophila/PUMATAC_out/data/fragments/FDM__79eb57__240116_HyDropATAC_Dros_DGRP_Embryo_16_20AEL_sampleS1.fragments.tsv.gz\",\n",
    "    \"FDM__eda215__240321_HyDropATAC_Dros_DGRP_Embryo_16-20AEL_Dechor_sampleAF3\": f\"{rel_path}/fderop/data/20231115_hydrop_v2/analysis_drosophila/PUMATAC_out/data/fragments/FDM__eda215__240321_HyDropATAC_Dros_DGRP_Embryo_16-20AEL_Dechor_sampleAF3.fragments.tsv.gz\",\n",
    "    \"FDM__af277c__240229_HyDropATAC_Dros_DGRP_Embryo_16_20AEL_Dechor_sample_X2\": f\"{rel_path}/fderop/data/20231115_hydrop_v2/analysis_drosophila/PUMATAC_out/data/fragments/FDM__af277c__240229_HyDropATAC_Dros_DGRP_Embryo_16_20AEL_Dechor_sample_X2.fragments.tsv.gz\",\n",
    "    \"FDM__48e432__240116_HyDropATAC_Dros_DGRP_Embryo_16_20AEL_sampleS3\": f\"{rel_path}/fderop/data/20231115_hydrop_v2/analysis_drosophila/PUMATAC_out/data/fragments/FDM__48e432__240116_HyDropATAC_Dros_DGRP_Embryo_16_20AEL_sampleS3.fragments.tsv.gz\",\n",
    "    \"FDM__ff0cf3__240116_HyDropATAC_Dros_DGRP_Embryo_16_20AEL_sampleS2\": f\"{rel_path}/fderop/data/20231115_hydrop_v2/analysis_drosophila/PUMATAC_out/data/fragments/FDM__ff0cf3__240116_HyDropATAC_Dros_DGRP_Embryo_16_20AEL_sampleS2.fragments.tsv.gz\",\n",
    "    \"FDM__01cd58__240229_HyDropATAC_Dros_DGRP_Embryo_16_20AEL_Dechor_sample_X4\": f\"{rel_path}/fderop/data/20231115_hydrop_v2/analysis_drosophila/PUMATAC_out/data/fragments/FDM__01cd58__240229_HyDropATAC_Dros_DGRP_Embryo_16_20AEL_Dechor_sample_X4.fragments.tsv.gz\"\n",
    "} # fragment files themselves are on GEO (not Zenodo)\n",
    "\n",
    "for key, value in fragments_hydrop_dict.items():\n",
    "    if not os.path.exists(value):\n",
    "        raise FileNotFoundError(f\"Fragment file {value} does not exist. Please check the path.\")"
   ]
  },
  {
   "cell_type": "code",
   "execution_count": 5,
   "metadata": {},
   "outputs": [
    {
     "name": "stdout",
     "output_type": "stream",
     "text": [
      "No. of cells in cistopic anndata: 276045\n",
      "Unique celltypes in cistopic anndata: ['Neuronal', 'Tracheal_system', 'Midgut', 'Somatic_muscles', 'Epidermis', 'PNS_sens_neurons', 'NA_lowQ', 'Visceral_muscles', 'Neuroblasts', 'Head_Ectoderm', 'Fat_body', 'Salivary_gland', 'Pharnyx', 'Primordium_all', 'muscle_attachement_Stripe', 'Hindgut', 'Malpighian_tubule', 'Glia', 'Yolk', 'Hemocytes', 'Midgut_acidification']\n",
      "Total fragments in cistopic anndata: 3337901595\n"
     ]
    }
   ],
   "source": [
    "# Get cell barcodes per sample from cistopic_anndata\n",
    "cistopic_fragments_hydrop_anndata = anndata.read_h5ad(cistopic_fragments_hydrop_anndata_path)\n",
    "print(\n",
    "    f\"No. of cells in cistopic anndata: {cistopic_fragments_hydrop_anndata.shape[0]}\"\n",
    ")\n",
    "print(\n",
    "    f\"Unique celltypes in cistopic anndata: {list(cistopic_fragments_hydrop_anndata.obs[celltype_label].unique())}\"\n",
    ")\n",
    "print(\n",
    "    f\"Total fragments in cistopic anndata: {sum(cistopic_fragments_hydrop_anndata.obs['Total_nr_frag'])}\"\n",
    ")\n",
    "\n",
    "unique_barcodes_list_of_lists = []\n",
    "for sample_name, sample_path in fragments_hydrop_dict.items():\n",
    "    sample_barcodes_list = []\n",
    "    for index in cistopic_fragments_hydrop_anndata.obs.index:\n",
    "        barcode, sample = index.split(\"___\")\n",
    "        if sample == sample_name:\n",
    "            sample_barcodes_list.append(barcode)\n",
    "    unique_barcodes_list_of_lists.append(sample_barcodes_list)\n",
    "\n",
    "assert (\n",
    "    sum([len(fraglist) for fraglist in unique_barcodes_list_of_lists])\n",
    "    == cistopic_fragments_hydrop_anndata.obs.shape[0]\n",
    "), f\"Number of barcodes in cistopic fragments anndata: {cistopic_fragments_hydrop_anndata.obs.shape[0]} does not match the number of barcodes in fragments_dict: {sum([len(fraglist) for fraglist in unique_barcodes_list_of_lists])}\""
   ]
  },
  {
   "cell_type": "code",
   "execution_count": 6,
   "metadata": {},
   "outputs": [
    {
     "name": "stderr",
     "output_type": "stream",
     "text": [
      "100%|██████████| 18/18 [21:34<00:00, 71.94s/it] 00<00:00, 192.26it/s]\n"
     ]
    },
    {
     "name": "stdout",
     "output_type": "stream",
     "text": [
      "start transferring insertions\n",
      "creating bias bigwig (runs for new bias h5 file)\n"
     ]
    },
    {
     "name": "stderr",
     "output_type": "stream",
     "text": [
      "Importing fragments: 100%|██████████| 18/18 [34:25<00:00, 114.77s/it]\n",
      "/tmp/ipykernel_652154/1994229525.py:18: DeprecationWarning: `Series._import_from_c` is deprecated. use _import_arrow_from_c; if you are using an extension, please compile it with latest 'pyo3-polars'\n",
      "  xx + f\"{sample}\" for xx, sample in zip(printer.obs_names, printer.obs[\"sample\"])\n"
     ]
    }
   ],
   "source": [
    "# Import fragments into scprinter object\n",
    "fragments_paths = [\n",
    "    fragments_hydrop_dict[sample_name] for sample_name in fragments_hydrop_dict.keys()\n",
    "]\n",
    "printer = scp.pp.import_fragments(\n",
    "    pathToFrags=fragments_paths,\n",
    "    barcodes=unique_barcodes_list_of_lists,\n",
    "    savename=printer_hydrop_object_output_path,\n",
    "    genome=genome,\n",
    "    min_num_fragments=0,\n",
    "    min_tsse=0,\n",
    "    sorted_by_barcode=False,\n",
    "    low_memory=False,\n",
    "    auto_detect_shift=False,\n",
    ")\n",
    "\n",
    "printer.insertion_file.obs_names = [\n",
    "    xx + f\"{sample}\" for xx, sample in zip(printer.obs_names, printer.obs[\"sample\"])\n",
    "]\n",
    "\n",
    "time.sleep(1)\n",
    "printer.close()"
   ]
  },
  {
   "cell_type": "markdown",
   "metadata": {},
   "source": [
    "## 10x"
   ]
  },
  {
   "cell_type": "code",
   "execution_count": 9,
   "metadata": {},
   "outputs": [],
   "source": [
    "rel_path = \"../../../../../../..\"\n",
    "fragments_10x_dict = {\n",
    "    \"FDM__3a8f3b__20230622_Dros_DGRP_scATAC_sample4_16_20hAEL_Embryo\": f\"{rel_path}/fderop/data/20231115_hydrop_v2/analysis_drosophila/PUMATAC_out/data/fragments/FDM__3a8f3b__20230622_Dros_DGRP_scATAC_sample4_16_20hAEL_Embryo.fragments.tsv.gz\",\n",
    "    \"FDM__5260fa__240321_10xscATAC_Dros_DGRP_Embryo_16-20AEL_Dechor_sampleAF1\": f\"{rel_path}/fderop/data/20231115_hydrop_v2/analysis_drosophila/PUMATAC_out/data/fragments/FDM__5260fa__240321_10xscATAC_Dros_DGRP_Embryo_16-20AEL_Dechor_sampleAF1.fragments.tsv.gz\",\n",
    "    \"FDM__f83e74__240321_10xscATAC_Dros_DGRP_Embryo_16-20AEL_Dechor_sampleAF2\": f\"{rel_path}/fderop/data/20231115_hydrop_v2/analysis_drosophila/PUMATAC_out/data/fragments/FDM__f83e74__240321_10xscATAC_Dros_DGRP_Embryo_16-20AEL_Dechor_sampleAF2.fragments.tsv.gz\" \n",
    "} # fragment files themselves are on GEO (not Zenodo)\n",
    "\n",
    "for key, value in fragments_10x_dict.items():\n",
    "    if not os.path.exists(value):\n",
    "        raise FileNotFoundError(f\"Fragment file {value} does not exist. Please check the path.\")"
   ]
  },
  {
   "cell_type": "code",
   "execution_count": 10,
   "metadata": {},
   "outputs": [
    {
     "name": "stdout",
     "output_type": "stream",
     "text": [
      "No. of cells in cistopic anndata: 139625\n",
      "Unique celltypes in cistopic anndata: ['Fat_body', 'Midgut', 'Neuroblasts', 'Neuronal', 'Primordium_all', 'Salivary_gland', 'Visceral_muscles', 'Head_Ectoderm', 'Hindgut', 'Epidermis', 'Pharnyx', 'Midgut_acidification', 'Somatic_muscles', 'Hemocytes', 'Glia', 'muscle_attachement_Stripe', 'PNS_sens_neurons', 'NA_lowQ', 'Tracheal_system', 'Malpighian_tubule', 'Yolk']\n",
      "Total fragments in cistopic anndata: 836502191\n"
     ]
    }
   ],
   "source": [
    "# Get cell barcodes per sample from cistopic_anndata\n",
    "cistopic_fragments_10x_anndata = anndata.read_h5ad(cistopic_fragments_10x_anndata_path)\n",
    "print(\n",
    "    f\"No. of cells in cistopic anndata: {cistopic_fragments_10x_anndata.shape[0]}\"\n",
    ")\n",
    "print(\n",
    "    f\"Unique celltypes in cistopic anndata: {list(cistopic_fragments_10x_anndata.obs[celltype_label].unique())}\"\n",
    ")\n",
    "print(\n",
    "    f\"Total fragments in cistopic anndata: {sum(cistopic_fragments_10x_anndata.obs['Total_nr_frag'])}\"\n",
    ")\n",
    "\n",
    "unique_barcodes_list_of_lists = []\n",
    "for sample_name, sample_path in fragments_10x_dict.items():\n",
    "    sample_barcodes_list = []\n",
    "    for index in cistopic_fragments_10x_anndata.obs.index:\n",
    "        barcode, sample = index.split(\"___\")\n",
    "        if sample == sample_name:\n",
    "            sample_barcodes_list.append(barcode)\n",
    "    unique_barcodes_list_of_lists.append(sample_barcodes_list)\n",
    "\n",
    "assert (\n",
    "    sum([len(fraglist) for fraglist in unique_barcodes_list_of_lists])\n",
    "    == cistopic_fragments_10x_anndata.obs.shape[0]\n",
    "), f\"Number of barcodes in cistopic fragments anndata: {cistopic_fragments_hydrop_anndata.obs.shape[0]} does not match the number of barcodes in fragments_dict: {sum([len(fraglist) for fraglist in unique_barcodes_list_of_lists])}\""
   ]
  },
  {
   "cell_type": "code",
   "execution_count": 11,
   "metadata": {},
   "outputs": [
    {
     "name": "stderr",
     "output_type": "stream",
     "text": [
      "100%|██████████| 3/3 [18:43<00:00, 374.47s/it]00<00:00, 443.47it/s]\n"
     ]
    },
    {
     "name": "stdout",
     "output_type": "stream",
     "text": [
      "start transferring insertions\n"
     ]
    },
    {
     "name": "stderr",
     "output_type": "stream",
     "text": [
      "Importing fragments: 100%|██████████| 3/3 [25:55<00:00, 518.43s/it]\n",
      "/tmp/ipykernel_652154/384804424.py:18: DeprecationWarning: `Series._import_from_c` is deprecated. use _import_arrow_from_c; if you are using an extension, please compile it with latest 'pyo3-polars'\n",
      "  xx + f\"{sample}\" for xx, sample in zip(printer.obs_names, printer.obs[\"sample\"])\n"
     ]
    }
   ],
   "source": [
    "# Import fragments into scprinter object\n",
    "fragments_paths = [\n",
    "    fragments_10x_dict[sample_name] for sample_name in fragments_10x_dict.keys()\n",
    "]\n",
    "printer = scp.pp.import_fragments(\n",
    "    pathToFrags=fragments_paths,\n",
    "    barcodes=unique_barcodes_list_of_lists,\n",
    "    savename=printer_10x_object_output_path,\n",
    "    genome=genome,\n",
    "    min_num_fragments=0,\n",
    "    min_tsse=0,\n",
    "    sorted_by_barcode=False,\n",
    "    low_memory=False,\n",
    "    auto_detect_shift=False,\n",
    ")\n",
    "\n",
    "printer.insertion_file.obs_names = [\n",
    "    xx + f\"{sample}\" for xx, sample in zip(printer.obs_names, printer.obs[\"sample\"])\n",
    "]\n",
    "\n",
    "time.sleep(1)\n",
    "printer.close()"
   ]
  }
 ],
 "metadata": {
  "kernelspec": {
   "display_name": "scprinter",
   "language": "python",
   "name": "python3"
  },
  "language_info": {
   "codemirror_mode": {
    "name": "ipython",
    "version": 3
   },
   "file_extension": ".py",
   "mimetype": "text/x-python",
   "name": "python",
   "nbconvert_exporter": "python",
   "pygments_lexer": "ipython3",
   "version": "3.10.15"
  }
 },
 "nbformat": 4,
 "nbformat_minor": 2
}
