{
 "cells": [
  {
   "cell_type": "code",
   "execution_count": 1,
   "id": "f6c11d62-0db1-4e5d-8f9c-21174fcd35c4",
   "metadata": {},
   "outputs": [
    {
     "name": "stdout",
     "output_type": "stream",
     "text": [
      "\n",
      "The following have been reloaded with a version change:\n",
      "  1) zlib/1.2.11-GCCcore-10.3.0 => zlib/1.2.13\n",
      "\n",
      "\n",
      "The following have been reloaded with a version change:\n",
      "  1) libxml2/2.11.4-GCCcore-12.3.0 => libxml2/2.9.10-GCCcore-10.3.0\n",
      "  2) zlib/1.2.13 => zlib/1.2.11-GCCcore-10.3.0\n",
      "\n"
     ]
    }
   ],
   "source": [
    "ml load BEDTools\n",
    "ml load Kent_tools\n",
    "ml load deepTools"
   ]
  },
  {
   "cell_type": "code",
   "execution_count": 71,
   "id": "742a895a-3ec8-4c6f-bbc8-bd6845e6ea3c",
   "metadata": {},
   "outputs": [],
   "source": [
    "generate_combined_heatmap() {\n",
    "  local bed_file=$1\n",
    "  local sample_labels=$2   # Sample labels combined (space-separated)\n",
    "  local bigwig_files=$3    # BigWig file paths combined (space-separated)\n",
    "  local cell_type=$4\n",
    "  local output_prefix=$5\n",
    "  local z_min_list=$6      # Space-separated list of zMin values (one per sample)\n",
    "  local z_max_list=$7      # Space-separated list of zMax values (one per sample)\n",
    "\n",
    "  # Compute matrix for all samples together\n",
    "  computeMatrix reference-point \\\n",
    "    -R ${bed_file} \\\n",
    "    -S ${bigwig_files} \\\n",
    "    --referencePoint center \\\n",
    "    -b 500 -a 500 \\\n",
    "    -out ${output_prefix}_matrix.gz \\\n",
    "    --missingDataAsZero\n",
    "\n",
    "  # Plot combined heatmap with per-sample zMin and zMax values\n",
    "  plotHeatmap -m ${output_prefix}_matrix.gz \\\n",
    "    --dpi 300 \\\n",
    "    --whatToShow 'heatmap and colorbar' \\\n",
    "    --plotFileFormat svg \\\n",
    "    --xAxisLabel '' \\\n",
    "    --regionsLabel '' \\\n",
    "    --samplesLabel ${sample_labels} \\\n",
    "    -T \"${cell_type}\" \\\n",
    "    --zMin ${z_min_list} \\\n",
    "    --zMax ${z_max_list} \\\n",
    "    --heatmapHeight 10 --heatmapWidth 5 \\\n",
    "    -out ${output_prefix}_heatmap.svg\n",
    "}"
   ]
  },
  {
   "cell_type": "markdown",
   "id": "f2af961e-4564-4581-b4d9-55357169fe4d",
   "metadata": {},
   "source": [
    "https://deeptools.readthedocs.io/en/develop/content/tools/computeMatrix.html#computematrix\n",
    "\n",
    "https://deeptools.readthedocs.io/en/develop/content/tools/plotHeatmap.html"
   ]
  },
  {
   "cell_type": "code",
   "execution_count": null,
   "id": "d86a7af0-0902-4f6f-9f2d-dc70c2ab9d16",
   "metadata": {},
   "outputs": [],
   "source": [
    "generate_combined_heatmap $bakken2021_path_bed/AST.bed \"Bakken Ma Li\" \\\n",
    "  \"$bakken2021_path_bw/AST.bw $ma2022_path_bw/AST.bw $li2023_path_bw/ASCT.bw\" \\\n",
    "  \"Astrocytes\" \"$human_out_path/AST_combined\" \"0 0 0\" \"3.6 1.7 4.5\""
   ]
  },
  {
   "cell_type": "markdown",
   "id": "377748a3-53aa-49f0-b746-c213d401c92d",
   "metadata": {},
   "source": [
    "give input bed file from HyDrop, then titles, then the paths to bws HyDrop and BICCN, then titles, then outpur prefix (also folder where svg should be saved, then keep positions and size of plot"
   ]
  },
  {
   "cell_type": "code",
   "execution_count": 3,
   "id": "243eb4e3-b959-4edf-9be8-9d7d5dba75c7",
   "metadata": {
    "collapsed": true,
    "jupyter": {
     "outputs_hidden": true
    }
   },
   "outputs": [
    {
     "name": "stdout",
     "output_type": "stream",
     "text": [
      "Preloading the following deepBlue files: lustre1/project/stg_00002/lcb/hydrop_v2_paper/mcortex/cistopic/mcortex_HyDrop_otsu_notdownsampled_own_consensuspeaks/pseudobulk_100_topics/dict_BICCN_corrected_08112024/pseudobulk_bw_files_BICCN_only/Micro_PVM.bw\n",
      "Traceback (most recent call last):\n",
      "  File \"/data/leuven/software/biomed/wice_icelake_rocky8/2021a/software/deepTools/3.5.0-foss-2021a/bin/computeMatrix\", line 14, in <module>\n",
      "    main(args)\n",
      "  File \"/data/leuven/software/biomed/wice_icelake_rocky8/2021a/software/deepTools/3.5.0-foss-2021a/lib/python3.9/site-packages/deeptools/computeMatrix.py\", line 412, in main\n",
      "    res = list(map(db.preloadWrapper, deepBlueFiles))\n",
      "  File \"/data/leuven/software/biomed/wice_icelake_rocky8/2021a/software/deepTools/3.5.0-foss-2021a/lib/python3.9/site-packages/deeptools/deepBlue.py\", line 114, in preloadWrapper\n",
      "    res = deepBlue(foo[0], url=args.deepBlueURL, userKey=args.userKey)\n",
      "  File \"/data/leuven/software/biomed/wice_icelake_rocky8/2021a/software/deepTools/3.5.0-foss-2021a/lib/python3.9/site-packages/deeptools/deepBlue.py\", line 138, in __init__\n",
      "    experimentID = self.getEID()\n",
      "  File \"/data/leuven/software/biomed/wice_icelake_rocky8/2021a/software/deepTools/3.5.0-foss-2021a/lib/python3.9/site-packages/deeptools/deepBlue.py\", line 164, in getEID\n",
      "    (status, resps) = self.server.search(self.sample, \"experiments\", self.userKey)\n",
      "  File \"/apps/leuven/icelake/2021a/software/Python/3.9.5-GCCcore-10.3.0/lib/python3.9/xmlrpc/client.py\", line 1116, in __call__\n",
      "    return self.__send(self.__name, args)\n",
      "  File \"/apps/leuven/icelake/2021a/software/Python/3.9.5-GCCcore-10.3.0/lib/python3.9/xmlrpc/client.py\", line 1458, in __request\n",
      "    response = self.__transport.request(\n",
      "  File \"/apps/leuven/icelake/2021a/software/Python/3.9.5-GCCcore-10.3.0/lib/python3.9/xmlrpc/client.py\", line 1160, in request\n",
      "    return self.single_request(host, handler, request_body, verbose)\n",
      "  File \"/apps/leuven/icelake/2021a/software/Python/3.9.5-GCCcore-10.3.0/lib/python3.9/xmlrpc/client.py\", line 1172, in single_request\n",
      "    http_conn = self.send_request(host, handler, request_body, verbose)\n",
      "  File \"/apps/leuven/icelake/2021a/software/Python/3.9.5-GCCcore-10.3.0/lib/python3.9/xmlrpc/client.py\", line 1285, in send_request\n",
      "    self.send_content(connection, request_body)\n",
      "  File \"/apps/leuven/icelake/2021a/software/Python/3.9.5-GCCcore-10.3.0/lib/python3.9/xmlrpc/client.py\", line 1315, in send_content\n",
      "    connection.endheaders(request_body)\n",
      "  File \"/apps/leuven/icelake/2021a/software/Python/3.9.5-GCCcore-10.3.0/lib/python3.9/http/client.py\", line 1248, in endheaders\n",
      "    self._send_output(message_body, encode_chunked=encode_chunked)\n",
      "  File \"/apps/leuven/icelake/2021a/software/Python/3.9.5-GCCcore-10.3.0/lib/python3.9/http/client.py\", line 1008, in _send_output\n",
      "    self.send(msg)\n",
      "  File \"/apps/leuven/icelake/2021a/software/Python/3.9.5-GCCcore-10.3.0/lib/python3.9/http/client.py\", line 948, in send\n",
      "    self.connect()\n",
      "  File \"/apps/leuven/icelake/2021a/software/Python/3.9.5-GCCcore-10.3.0/lib/python3.9/http/client.py\", line 919, in connect\n",
      "    self.sock = self._create_connection(\n",
      "  File \"/apps/leuven/icelake/2021a/software/Python/3.9.5-GCCcore-10.3.0/lib/python3.9/socket.py\", line 843, in create_connection\n",
      "    raise err\n",
      "  File \"/apps/leuven/icelake/2021a/software/Python/3.9.5-GCCcore-10.3.0/lib/python3.9/socket.py\", line 831, in create_connection\n",
      "    sock.connect(sa)\n",
      "ConnectionRefusedError: [Errno 111] Connection refused\n",
      "usage: plotHeatmap [--matrixFile MATRIXFILE] --outFileName OUTFILENAME\n",
      "                   [--outFileSortedRegions FILE] [--outFileNameMatrix FILE]\n",
      "                   [--interpolationMethod STR] [--dpi DPI] [--kmeans KMEANS]\n",
      "                   [--hclust HCLUST] [--silhouette] [--help] [--version]\n",
      "                   [--plotType {lines,fill,se,std}]\n",
      "                   [--sortRegions {descend,ascend,no,keep}]\n",
      "                   [--sortUsing {mean,median,max,min,sum,region_length}]\n",
      "                   [--sortUsingSamples SORTUSINGSAMPLES [SORTUSINGSAMPLES ...]]\n",
      "                   [--linesAtTickMarks]\n",
      "                   [--clusterUsingSamples CLUSTERUSINGSAMPLES [CLUSTERUSINGSAMPLES ...]]\n",
      "                   [--averageTypeSummaryPlot {mean,median,min,max,std,sum}]\n",
      "                   [--missingDataColor MISSINGDATACOLOR]\n",
      "                   [--colorMap COLORMAP [COLORMAP ...]] [--alpha ALPHA]\n",
      "                   [--colorList COLORLIST [COLORLIST ...]]\n",
      "                   [--colorNumber COLORNUMBER] [--zMin ZMIN [ZMIN ...]]\n",
      "                   [--zMax ZMAX [ZMAX ...]] [--heatmapHeight HEATMAPHEIGHT]\n",
      "                   [--heatmapWidth HEATMAPWIDTH]\n",
      "                   [--whatToShow {plot, heatmap and colorbar,plot and heatmap,heatmap only,heatmap and colorbar}]\n",
      "                   [--boxAroundHeatmaps BOXAROUNDHEATMAPS]\n",
      "                   [--xAxisLabel XAXISLABEL] [--startLabel STARTLABEL]\n",
      "                   [--endLabel ENDLABEL] [--refPointLabel REFPOINTLABEL]\n",
      "                   [--labelRotation LABEL_ROTATION]\n",
      "                   [--regionsLabel REGIONSLABEL [REGIONSLABEL ...]]\n",
      "                   [--samplesLabel SAMPLESLABEL [SAMPLESLABEL ...]]\n",
      "                   [--plotTitle PLOTTITLE] [--yAxisLabel YAXISLABEL]\n",
      "                   [--yMin YMIN [YMIN ...]] [--yMax YMAX [YMAX ...]]\n",
      "                   [--legendLocation {best,upper-right,upper-left,upper-center,lower-left,lower-right,lower-center,center,center-left,center-right,none}]\n",
      "                   [--perGroup] [--plotFileFormat] [--verbose]\n",
      "plotHeatmap: error: argument --matrixFile/-m: can't open '_matrix.gz': [Errno 2] No such file or directory: '_matrix.gz'\n"
     ]
    },
    {
     "ename": "",
     "evalue": "2",
     "output_type": "error",
     "traceback": []
    }
   ],
   "source": [
    "generate_combined_heatmap /lustre1/project/stg_00002/lcb/hydrop_v2_paper/mcortex/cistopic/mcortex_all_otsu_notdownsampled_own_consensuspeaks/DARs/tech_cell_types_BICCN/bed_celltype_HyDrop_v2/Micro_PVM.bed \"HyDrop_v2 BICCN\" \\\n",
    "  \"lustre1/project/stg_00002/lcb/hydrop_v2_paper/mcortex/cistopic/mcortex_HyDrop_otsu_notdownsampled_own_consensuspeaks/pseudobulk_100_topics/dict_BICCN_corrected_08112024/pseudobulk_bw_files_BICCN_only/Micro_PVM.bw /staging/leuven/stg_00002/lcb/hydrop_v2_paper/mcortex/CREsted/BICCN/bw/Micro_PVM.bw\" \\\n",
    "  \"Micro_PVM\" \"$Micro_PVM_combined\" \"0 0\" \"3.6 4.5\""
   ]
  },
  {
   "cell_type": "markdown",
   "id": "e54cd203-c24c-41e5-8240-570db2d54632",
   "metadata": {},
   "source": [
    "# HyDrop vs 10x vs sciATAC - with bed from HyDrop & 10x"
   ]
  },
  {
   "cell_type": "code",
   "execution_count": 74,
   "id": "3b959129-ed1d-4b00-8d9b-da54f4815e8f",
   "metadata": {},
   "outputs": [
    {
     "name": "stdout",
     "output_type": "stream",
     "text": [
      "/data/leuven/software/biomed/wice_icelake_rocky8/2021a/software/deepTools/3.5.0-foss-2021a/lib/python3.9/site-packages/deeptools/plotHeatmap.py:481: MatplotlibDeprecationWarning:\n",
      "\n",
      "You are modifying the state of a globally registered colormap. This has been deprecated since 3.3 and in 3.6, you will not be able to modify a registered colormap in-place. To remove this warning, you can make a copy of the colormap first. cmap = mpl.cm.get_cmap(\"RdYlBu\").copy()\n",
      "\n",
      "/data/leuven/software/biomed/wice_icelake_rocky8/2021a/software/deepTools/3.5.0-foss-2021a/lib/python3.9/site-packages/deeptools/plotHeatmap.py:738: MatplotlibDeprecationWarning:\n",
      "\n",
      "The 'alpha' parameter to Colorbar has no effect because it is overridden by the mappable; it is deprecated since 3.3 and will be removed two minor releases later.\n",
      "\n",
      "/data/leuven/software/biomed/wice_icelake_rocky8/2021a/software/deepTools/3.5.0-foss-2021a/lib/python3.9/site-packages/deeptools/plotHeatmap.py:770: MatplotlibDeprecationWarning:\n",
      "\n",
      "savefig() got unexpected keyword argument \"pdd_inches\" which is no longer supported as of 3.3 and will become an error two minor releases later\n",
      "\n"
     ]
    }
   ],
   "source": [
    "#GLIA\n",
    "generate_combined_heatmap \\\n",
    "  /lustre1/project/stg_00002/lcb/hydrop_v2_paper/fly/cistopic_LCB_embryo_consensuspeaks/HyDrop_10x_otsu_notdownsampled/DARs/final_embryo_annot_atlas_05112024/all_bed/Glia.bed \\\n",
    "  \"HyDrop_v2 10x_v2 sciATAC\" \\\n",
    "  \"/lustre1/project/stg_00002/lcb/hydrop_v2_paper/fly/cistopic_LCB_embryo_consensuspeaks/HyDrop_10x_otsu_notdownsampled/pseudobulk/techxfinal_embryo_annot_atlas_05112024/pseudobulk_bw_files/HyDrop_v2___Glia.bw /lustre1/project/stg_00002/lcb/hydrop_v2_paper/fly/cistopic_LCB_embryo_consensuspeaks/HyDrop_10x_otsu_notdownsampled/pseudobulk/techxfinal_embryo_annot_atlas_05112024/pseudobulk_bw_files/10x_v2___Glia.bw /user/leuven/350/vsc35050/lcb/hydrop_v2_paper/fly/sci_ATAC/pseudobulk/embyro_annotations_paper/pseudobulk_bw_files/Glia.bw\" \\\n",
    "  \"Glia\" \"Glia__v2_all_bed_combined\" \"0 0 0\" \"3 5 10\"\n"
   ]
  },
  {
   "cell_type": "code",
   "execution_count": 78,
   "id": "b84d8d56-5f5d-4d0f-8249-33594a987b68",
   "metadata": {},
   "outputs": [
    {
     "name": "stdout",
     "output_type": "stream",
     "text": [
      "/data/leuven/software/biomed/wice_icelake_rocky8/2021a/software/deepTools/3.5.0-foss-2021a/lib/python3.9/site-packages/deeptools/plotHeatmap.py:481: MatplotlibDeprecationWarning:\n",
      "\n",
      "You are modifying the state of a globally registered colormap. This has been deprecated since 3.3 and in 3.6, you will not be able to modify a registered colormap in-place. To remove this warning, you can make a copy of the colormap first. cmap = mpl.cm.get_cmap(\"RdYlBu\").copy()\n",
      "\n",
      "/data/leuven/software/biomed/wice_icelake_rocky8/2021a/software/deepTools/3.5.0-foss-2021a/lib/python3.9/site-packages/deeptools/plotHeatmap.py:738: MatplotlibDeprecationWarning:\n",
      "\n",
      "The 'alpha' parameter to Colorbar has no effect because it is overridden by the mappable; it is deprecated since 3.3 and will be removed two minor releases later.\n",
      "\n",
      "/data/leuven/software/biomed/wice_icelake_rocky8/2021a/software/deepTools/3.5.0-foss-2021a/lib/python3.9/site-packages/deeptools/plotHeatmap.py:770: MatplotlibDeprecationWarning:\n",
      "\n",
      "savefig() got unexpected keyword argument \"pdd_inches\" which is no longer supported as of 3.3 and will become an error two minor releases later\n",
      "\n"
     ]
    }
   ],
   "source": [
    "#EPIDERMIS\n",
    "generate_combined_heatmap \\\n",
    "  /lustre1/project/stg_00002/lcb/hydrop_v2_paper/fly/cistopic_LCB_embryo_consensuspeaks/HyDrop_10x_otsu_notdownsampled/DARs/final_embryo_annot_atlas_05112024/all_bed/Epidermis.bed \\\n",
    "  \"HyDrop_v2 10x_v2 sciATAC\" \\\n",
    "  \"/lustre1/project/stg_00002/lcb/hydrop_v2_paper/fly/cistopic_LCB_embryo_consensuspeaks/HyDrop_10x_otsu_notdownsampled/pseudobulk/techxfinal_embryo_annot_atlas_05112024/pseudobulk_bw_files/HyDrop_v2___Epidermis.bw /lustre1/project/stg_00002/lcb/hydrop_v2_paper/fly/cistopic_LCB_embryo_consensuspeaks/HyDrop_10x_otsu_notdownsampled/pseudobulk/techxfinal_embryo_annot_atlas_05112024/pseudobulk_bw_files/10x_v2___Epidermis.bw /user/leuven/350/vsc35050/lcb/hydrop_v2_paper/fly/sci_ATAC/pseudobulk/embyro_annotations_paper/pseudobulk_bw_files/Epidermis.bw\" \\\n",
    "  \"Epidermis\" \"Epidermis__all_bed_combined\" \"0 0 0\" \"2 6 14\"\n"
   ]
  },
  {
   "cell_type": "code",
   "execution_count": 79,
   "id": "206cdeb8-3fab-4e33-929b-73b9fb9ecf32",
   "metadata": {},
   "outputs": [
    {
     "name": "stdout",
     "output_type": "stream",
     "text": [
      "/data/leuven/software/biomed/wice_icelake_rocky8/2021a/software/deepTools/3.5.0-foss-2021a/lib/python3.9/site-packages/deeptools/plotHeatmap.py:481: MatplotlibDeprecationWarning:\n",
      "\n",
      "You are modifying the state of a globally registered colormap. This has been deprecated since 3.3 and in 3.6, you will not be able to modify a registered colormap in-place. To remove this warning, you can make a copy of the colormap first. cmap = mpl.cm.get_cmap(\"RdYlBu\").copy()\n",
      "\n",
      "/data/leuven/software/biomed/wice_icelake_rocky8/2021a/software/deepTools/3.5.0-foss-2021a/lib/python3.9/site-packages/deeptools/plotHeatmap.py:738: MatplotlibDeprecationWarning:\n",
      "\n",
      "The 'alpha' parameter to Colorbar has no effect because it is overridden by the mappable; it is deprecated since 3.3 and will be removed two minor releases later.\n",
      "\n",
      "/data/leuven/software/biomed/wice_icelake_rocky8/2021a/software/deepTools/3.5.0-foss-2021a/lib/python3.9/site-packages/deeptools/plotHeatmap.py:770: MatplotlibDeprecationWarning:\n",
      "\n",
      "savefig() got unexpected keyword argument \"pdd_inches\" which is no longer supported as of 3.3 and will become an error two minor releases later\n",
      "\n"
     ]
    }
   ],
   "source": [
    "#Hemocytes\n",
    "generate_combined_heatmap \\\n",
    "  /lustre1/project/stg_00002/lcb/hydrop_v2_paper/fly/cistopic_LCB_embryo_consensuspeaks/HyDrop_10x_otsu_notdownsampled/DARs/final_embryo_annot_atlas_05112024/all_bed/Hemocytes.bed \\\n",
    "  \"HyDrop_v2 10x_v2 sciATAC\" \\\n",
    "  \"/lustre1/project/stg_00002/lcb/hydrop_v2_paper/fly/cistopic_LCB_embryo_consensuspeaks/HyDrop_10x_otsu_notdownsampled/pseudobulk/techxfinal_embryo_annot_atlas_05112024/pseudobulk_bw_files/HyDrop_v2___Hemocytes.bw /lustre1/project/stg_00002/lcb/hydrop_v2_paper/fly/cistopic_LCB_embryo_consensuspeaks/HyDrop_10x_otsu_notdownsampled/pseudobulk/techxfinal_embryo_annot_atlas_05112024/pseudobulk_bw_files/10x_v2___Hemocytes.bw /user/leuven/350/vsc35050/lcb/hydrop_v2_paper/fly/sci_ATAC/pseudobulk/embyro_annotations_paper/pseudobulk_bw_files/Plasmatocytes.bw\" \\\n",
    "  \"Hemocytes\" \"Hemocytes__all_bed_combined\" \"0 0 0\" \"3 6 14\"\n"
   ]
  },
  {
   "cell_type": "code",
   "execution_count": 16,
   "id": "65e632b8-f5c4-4d1f-944a-9f76c91e1fd0",
   "metadata": {},
   "outputs": [
    {
     "name": "stdout",
     "output_type": "stream",
     "text": [
      "/data/leuven/software/biomed/wice_icelake_rocky8/2021a/software/deepTools/3.5.0-foss-2021a/lib/python3.9/site-packages/deeptools/plotHeatmap.py:481: MatplotlibDeprecationWarning:\n",
      "\n",
      "You are modifying the state of a globally registered colormap. This has been deprecated since 3.3 and in 3.6, you will not be able to modify a registered colormap in-place. To remove this warning, you can make a copy of the colormap first. cmap = mpl.cm.get_cmap(\"RdYlBu\").copy()\n",
      "\n",
      "/data/leuven/software/biomed/wice_icelake_rocky8/2021a/software/deepTools/3.5.0-foss-2021a/lib/python3.9/site-packages/deeptools/plotHeatmap.py:738: MatplotlibDeprecationWarning:\n",
      "\n",
      "The 'alpha' parameter to Colorbar has no effect because it is overridden by the mappable; it is deprecated since 3.3 and will be removed two minor releases later.\n",
      "\n",
      "/data/leuven/software/biomed/wice_icelake_rocky8/2021a/software/deepTools/3.5.0-foss-2021a/lib/python3.9/site-packages/deeptools/plotHeatmap.py:770: MatplotlibDeprecationWarning:\n",
      "\n",
      "savefig() got unexpected keyword argument \"pdd_inches\" which is no longer supported as of 3.3 and will become an error two minor releases later\n",
      "\n"
     ]
    }
   ],
   "source": [
    "#Salivary_gland\n",
    "generate_combined_heatmap \\\n",
    "  /lustre1/project/stg_00002/lcb/hydrop_v2_paper/fly/cistopic_LCB_embryo_consensuspeaks/HyDrop_10x_otsu_notdownsampled/DARs/final_embryo_annot_atlas_05112024/all_bed/Salivary_gland.bed \\\n",
    "  \"HyDrop_v2 10x_v2 sciATAC\" \\\n",
    "  \"/lustre1/project/stg_00002/lcb/hydrop_v2_paper/fly/cistopic_LCB_embryo_consensuspeaks/HyDrop_10x_otsu_notdownsampled/pseudobulk/techxfinal_embryo_annot_atlas_05112024/pseudobulk_bw_files/HyDrop_v2___Salivary_gland.bw /lustre1/project/stg_00002/lcb/hydrop_v2_paper/fly/cistopic_LCB_embryo_consensuspeaks/HyDrop_10x_otsu_notdownsampled/pseudobulk/techxfinal_embryo_annot_atlas_05112024/pseudobulk_bw_files/10x_v2___Salivary_gland.bw /user/leuven/350/vsc35050/lcb/hydrop_v2_paper/fly/sci_ATAC/pseudobulk/embyro_annotations_paper/pseudobulk_bw_files/Salivary_gland.bw\" \\\n",
    "  \"Salivary_gland\" \"Salivary_gland__all_bed_combined\" \"0 0 0\" \"3 3 3\"\n"
   ]
  },
  {
   "cell_type": "code",
   "execution_count": 17,
   "id": "059223a2-3765-41fc-9984-b81dddd00fc7",
   "metadata": {},
   "outputs": [
    {
     "name": "stdout",
     "output_type": "stream",
     "text": [
      "/data/leuven/software/biomed/wice_icelake_rocky8/2021a/software/deepTools/3.5.0-foss-2021a/lib/python3.9/site-packages/deeptools/plotHeatmap.py:481: MatplotlibDeprecationWarning:\n",
      "\n",
      "You are modifying the state of a globally registered colormap. This has been deprecated since 3.3 and in 3.6, you will not be able to modify a registered colormap in-place. To remove this warning, you can make a copy of the colormap first. cmap = mpl.cm.get_cmap(\"RdYlBu\").copy()\n",
      "\n",
      "/data/leuven/software/biomed/wice_icelake_rocky8/2021a/software/deepTools/3.5.0-foss-2021a/lib/python3.9/site-packages/deeptools/plotHeatmap.py:738: MatplotlibDeprecationWarning:\n",
      "\n",
      "The 'alpha' parameter to Colorbar has no effect because it is overridden by the mappable; it is deprecated since 3.3 and will be removed two minor releases later.\n",
      "\n",
      "/data/leuven/software/biomed/wice_icelake_rocky8/2021a/software/deepTools/3.5.0-foss-2021a/lib/python3.9/site-packages/deeptools/plotHeatmap.py:770: MatplotlibDeprecationWarning:\n",
      "\n",
      "savefig() got unexpected keyword argument \"pdd_inches\" which is no longer supported as of 3.3 and will become an error two minor releases later\n",
      "\n"
     ]
    }
   ],
   "source": [
    "#Tracheal_system\n",
    "generate_combined_heatmap \\\n",
    "  /lustre1/project/stg_00002/lcb/hydrop_v2_paper/fly/cistopic_LCB_embryo_consensuspeaks/HyDrop_10x_otsu_notdownsampled/DARs/final_embryo_annot_atlas_05112024/all_bed/Tracheal_system.bed \\\n",
    "  \"HyDrop_v2 10x_v2 sciATAC\" \\\n",
    "  \"/lustre1/project/stg_00002/lcb/hydrop_v2_paper/fly/cistopic_LCB_embryo_consensuspeaks/HyDrop_10x_otsu_notdownsampled/pseudobulk/techxfinal_embryo_annot_atlas_05112024/pseudobulk_bw_files/HyDrop_v2___Tracheal_system.bw /lustre1/project/stg_00002/lcb/hydrop_v2_paper/fly/cistopic_LCB_embryo_consensuspeaks/HyDrop_10x_otsu_notdownsampled/pseudobulk/techxfinal_embryo_annot_atlas_05112024/pseudobulk_bw_files/10x_v2___Tracheal_system.bw /user/leuven/350/vsc35050/lcb/hydrop_v2_paper/fly/sci_ATAC/pseudobulk/embyro_annotations_paper/pseudobulk_bw_files/Tracheal_system.bw\" \\\n",
    "  \"Tracheal_system\" \"Tracheal_system__all_bed_combined\" \"0 0 0\" \"3 3 3\"\n"
   ]
  },
  {
   "cell_type": "code",
   "execution_count": 84,
   "id": "f5a612ae-7b24-4769-99b6-acb9426f27ec",
   "metadata": {},
   "outputs": [
    {
     "name": "stdout",
     "output_type": "stream",
     "text": [
      "/data/leuven/software/biomed/wice_icelake_rocky8/2021a/software/deepTools/3.5.0-foss-2021a/lib/python3.9/site-packages/deeptools/plotHeatmap.py:481: MatplotlibDeprecationWarning:\n",
      "\n",
      "You are modifying the state of a globally registered colormap. This has been deprecated since 3.3 and in 3.6, you will not be able to modify a registered colormap in-place. To remove this warning, you can make a copy of the colormap first. cmap = mpl.cm.get_cmap(\"RdYlBu\").copy()\n",
      "\n",
      "/data/leuven/software/biomed/wice_icelake_rocky8/2021a/software/deepTools/3.5.0-foss-2021a/lib/python3.9/site-packages/deeptools/plotHeatmap.py:738: MatplotlibDeprecationWarning:\n",
      "\n",
      "The 'alpha' parameter to Colorbar has no effect because it is overridden by the mappable; it is deprecated since 3.3 and will be removed two minor releases later.\n",
      "\n",
      "/data/leuven/software/biomed/wice_icelake_rocky8/2021a/software/deepTools/3.5.0-foss-2021a/lib/python3.9/site-packages/deeptools/plotHeatmap.py:770: MatplotlibDeprecationWarning:\n",
      "\n",
      "savefig() got unexpected keyword argument \"pdd_inches\" which is no longer supported as of 3.3 and will become an error two minor releases later\n",
      "\n"
     ]
    }
   ],
   "source": [
    "#Neuronal\n",
    "generate_combined_heatmap \\\n",
    "  /lustre1/project/stg_00002/lcb/hydrop_v2_paper/fly/cistopic_LCB_embryo_consensuspeaks/HyDrop_10x_otsu_notdownsampled/DARs/final_embryo_annot_atlas_05112024/all_bed/Neuronal.bed \\\n",
    "  \"HyDrop_v2 10x_v2 sciATAC\" \\\n",
    "  \"/lustre1/project/stg_00002/lcb/hydrop_v2_paper/fly/cistopic_LCB_embryo_consensuspeaks/HyDrop_10x_otsu_notdownsampled/pseudobulk/techxfinal_embryo_annot_atlas_05112024/pseudobulk_bw_files/HyDrop_v2___Neuronal.bw /lustre1/project/stg_00002/lcb/hydrop_v2_paper/fly/cistopic_LCB_embryo_consensuspeaks/HyDrop_10x_otsu_notdownsampled/pseudobulk/techxfinal_embryo_annot_atlas_05112024/pseudobulk_bw_files/10x_v2___Neuronal.bw /user/leuven/350/vsc35050/lcb/hydrop_v2_paper/fly/sci_ATAC/pseudobulk/embyro_annotations_paper/pseudobulk_bw_files/Brain.bw\" \\\n",
    "  \"Neuronal\" \"Neuronal__all_bed_combined\" \"0 0 0\" \"3 3 6\"\n"
   ]
  },
  {
   "cell_type": "code",
   "execution_count": 19,
   "id": "c2a65dad-8999-44e5-b09d-97afaaaa3172",
   "metadata": {},
   "outputs": [
    {
     "name": "stdout",
     "output_type": "stream",
     "text": [
      "/data/leuven/software/biomed/wice_icelake_rocky8/2021a/software/deepTools/3.5.0-foss-2021a/lib/python3.9/site-packages/deeptools/plotHeatmap.py:481: MatplotlibDeprecationWarning:\n",
      "\n",
      "You are modifying the state of a globally registered colormap. This has been deprecated since 3.3 and in 3.6, you will not be able to modify a registered colormap in-place. To remove this warning, you can make a copy of the colormap first. cmap = mpl.cm.get_cmap(\"RdYlBu\").copy()\n",
      "\n",
      "/data/leuven/software/biomed/wice_icelake_rocky8/2021a/software/deepTools/3.5.0-foss-2021a/lib/python3.9/site-packages/deeptools/plotHeatmap.py:738: MatplotlibDeprecationWarning:\n",
      "\n",
      "The 'alpha' parameter to Colorbar has no effect because it is overridden by the mappable; it is deprecated since 3.3 and will be removed two minor releases later.\n",
      "\n",
      "/data/leuven/software/biomed/wice_icelake_rocky8/2021a/software/deepTools/3.5.0-foss-2021a/lib/python3.9/site-packages/deeptools/plotHeatmap.py:770: MatplotlibDeprecationWarning:\n",
      "\n",
      "savefig() got unexpected keyword argument \"pdd_inches\" which is no longer supported as of 3.3 and will become an error two minor releases later\n",
      "\n"
     ]
    }
   ],
   "source": [
    "#Malpighian_tubule\n",
    "\n",
    "#dars >1.5 logF in bed fly 10x and HyDrop bed\n",
    "generate_combined_heatmap \\\n",
    "  /lustre1/project/stg_00002/lcb/hydrop_v2_paper/fly/cistopic_LCB_embryo_consensuspeaks/HyDrop_10x_otsu_notdownsampled/DARs/final_embryo_annot_atlas_05112024/all_bed/Malpighian_tubule.bed \\\n",
    "  \"HyDrop_v2 10x_v2 sciATAC\" \\\n",
    "  \"/lustre1/project/stg_00002/lcb/hydrop_v2_paper/fly/cistopic_LCB_embryo_consensuspeaks/HyDrop_10x_otsu_notdownsampled/pseudobulk/techxfinal_embryo_annot_atlas_05112024/pseudobulk_bw_files/HyDrop_v2___Malpighian_tubule.bw /lustre1/project/stg_00002/lcb/hydrop_v2_paper/fly/cistopic_LCB_embryo_consensuspeaks/HyDrop_10x_otsu_notdownsampled/pseudobulk/techxfinal_embryo_annot_atlas_05112024/pseudobulk_bw_files/10x_v2___Malpighian_tubule.bw /user/leuven/350/vsc35050/lcb/hydrop_v2_paper/fly/sci_ATAC/pseudobulk/embyro_annotations_paper/pseudobulk_bw_files/Malpighian_tubule.bw\" \\\n",
    "  \"Malpighian_tubule\" \"Malpighian_tubule__all_bed_combined\" \"0 0 0\" \"3 3 3\"\n"
   ]
  },
  {
   "cell_type": "code",
   "execution_count": 20,
   "id": "6d5f6fd9-a2e0-4a27-9d5f-1792e09f1759",
   "metadata": {},
   "outputs": [
    {
     "name": "stdout",
     "output_type": "stream",
     "text": [
      "/data/leuven/software/biomed/wice_icelake_rocky8/2021a/software/deepTools/3.5.0-foss-2021a/lib/python3.9/site-packages/deeptools/plotHeatmap.py:481: MatplotlibDeprecationWarning:\n",
      "\n",
      "You are modifying the state of a globally registered colormap. This has been deprecated since 3.3 and in 3.6, you will not be able to modify a registered colormap in-place. To remove this warning, you can make a copy of the colormap first. cmap = mpl.cm.get_cmap(\"RdYlBu\").copy()\n",
      "\n",
      "/data/leuven/software/biomed/wice_icelake_rocky8/2021a/software/deepTools/3.5.0-foss-2021a/lib/python3.9/site-packages/deeptools/plotHeatmap.py:738: MatplotlibDeprecationWarning:\n",
      "\n",
      "The 'alpha' parameter to Colorbar has no effect because it is overridden by the mappable; it is deprecated since 3.3 and will be removed two minor releases later.\n",
      "\n",
      "/data/leuven/software/biomed/wice_icelake_rocky8/2021a/software/deepTools/3.5.0-foss-2021a/lib/python3.9/site-packages/deeptools/plotHeatmap.py:770: MatplotlibDeprecationWarning:\n",
      "\n",
      "savefig() got unexpected keyword argument \"pdd_inches\" which is no longer supported as of 3.3 and will become an error two minor releases later\n",
      "\n"
     ]
    }
   ],
   "source": [
    "#Visceral_muscles\n",
    "\n",
    "#dars >1.5 logF in bed fly 10x and HyDrop bed\n",
    "generate_combined_heatmap \\\n",
    "  /lustre1/project/stg_00002/lcb/hydrop_v2_paper/fly/cistopic_LCB_embryo_consensuspeaks/HyDrop_10x_otsu_notdownsampled/DARs/final_embryo_annot_atlas_05112024/all_bed/Visceral_muscles.bed \\\n",
    "  \"HyDrop_v2 10x_v2 sciATAC\" \\\n",
    "  \"/lustre1/project/stg_00002/lcb/hydrop_v2_paper/fly/cistopic_LCB_embryo_consensuspeaks/HyDrop_10x_otsu_notdownsampled/pseudobulk/techxfinal_embryo_annot_atlas_05112024/pseudobulk_bw_files/HyDrop_v2___Visceral_muscles.bw /lustre1/project/stg_00002/lcb/hydrop_v2_paper/fly/cistopic_LCB_embryo_consensuspeaks/HyDrop_10x_otsu_notdownsampled/pseudobulk/techxfinal_embryo_annot_atlas_05112024/pseudobulk_bw_files/10x_v2___Visceral_muscles.bw /user/leuven/350/vsc35050/lcb/hydrop_v2_paper/fly/sci_ATAC/pseudobulk/embyro_annotations_paper/pseudobulk_bw_files/Visceral_muscle.bw\" \\\n",
    "  \"Visceral_muscles\" \"Visceral_muscles__all_bed_combined\" \"0 0 0\" \"3 3 3\"\n"
   ]
  },
  {
   "cell_type": "code",
   "execution_count": 81,
   "id": "f1088562-1379-4857-9471-ba16b96f0c8a",
   "metadata": {},
   "outputs": [
    {
     "name": "stdout",
     "output_type": "stream",
     "text": [
      "/data/leuven/software/biomed/wice_icelake_rocky8/2021a/software/deepTools/3.5.0-foss-2021a/lib/python3.9/site-packages/deeptools/plotHeatmap.py:481: MatplotlibDeprecationWarning:\n",
      "\n",
      "You are modifying the state of a globally registered colormap. This has been deprecated since 3.3 and in 3.6, you will not be able to modify a registered colormap in-place. To remove this warning, you can make a copy of the colormap first. cmap = mpl.cm.get_cmap(\"RdYlBu\").copy()\n",
      "\n",
      "/data/leuven/software/biomed/wice_icelake_rocky8/2021a/software/deepTools/3.5.0-foss-2021a/lib/python3.9/site-packages/deeptools/plotHeatmap.py:738: MatplotlibDeprecationWarning:\n",
      "\n",
      "The 'alpha' parameter to Colorbar has no effect because it is overridden by the mappable; it is deprecated since 3.3 and will be removed two minor releases later.\n",
      "\n",
      "/data/leuven/software/biomed/wice_icelake_rocky8/2021a/software/deepTools/3.5.0-foss-2021a/lib/python3.9/site-packages/deeptools/plotHeatmap.py:770: MatplotlibDeprecationWarning:\n",
      "\n",
      "savefig() got unexpected keyword argument \"pdd_inches\" which is no longer supported as of 3.3 and will become an error two minor releases later\n",
      "\n"
     ]
    }
   ],
   "source": [
    "#Midgut\n",
    "\n",
    "#dars >1.5 logF in bed fly 10x and HyDrop bed\n",
    "generate_combined_heatmap \\\n",
    "  /lustre1/project/stg_00002/lcb/hydrop_v2_paper/fly/cistopic_LCB_embryo_consensuspeaks/HyDrop_10x_otsu_notdownsampled/DARs/final_embryo_annot_atlas_05112024/all_bed/Midgut.bed \\\n",
    "  \"HyDrop_v2 10x_v2 sciATAC\" \\\n",
    "  \"/lustre1/project/stg_00002/lcb/hydrop_v2_paper/fly/cistopic_LCB_embryo_consensuspeaks/HyDrop_10x_otsu_notdownsampled/pseudobulk/techxfinal_embryo_annot_atlas_05112024/pseudobulk_bw_files/HyDrop_v2___Midgut.bw /lustre1/project/stg_00002/lcb/hydrop_v2_paper/fly/cistopic_LCB_embryo_consensuspeaks/HyDrop_10x_otsu_notdownsampled/pseudobulk/techxfinal_embryo_annot_atlas_05112024/pseudobulk_bw_files/10x_v2___Midgut.bw /user/leuven/350/vsc35050/lcb/hydrop_v2_paper/fly/sci_ATAC/pseudobulk/embyro_annotations_paper/pseudobulk_bw_files/Midgut.bw\" \\\n",
    "  \"Midgut\" \"Midgut__all_bed_combined\" \"0 0 0\" \"3 6 12\"\n"
   ]
  },
  {
   "cell_type": "code",
   "execution_count": 83,
   "id": "7c322b7d-12eb-4b82-be05-d7a5191a7bc4",
   "metadata": {},
   "outputs": [
    {
     "name": "stdout",
     "output_type": "stream",
     "text": [
      "/data/leuven/software/biomed/wice_icelake_rocky8/2021a/software/deepTools/3.5.0-foss-2021a/lib/python3.9/site-packages/deeptools/plotHeatmap.py:481: MatplotlibDeprecationWarning:\n",
      "\n",
      "You are modifying the state of a globally registered colormap. This has been deprecated since 3.3 and in 3.6, you will not be able to modify a registered colormap in-place. To remove this warning, you can make a copy of the colormap first. cmap = mpl.cm.get_cmap(\"RdYlBu\").copy()\n",
      "\n",
      "/data/leuven/software/biomed/wice_icelake_rocky8/2021a/software/deepTools/3.5.0-foss-2021a/lib/python3.9/site-packages/deeptools/plotHeatmap.py:738: MatplotlibDeprecationWarning:\n",
      "\n",
      "The 'alpha' parameter to Colorbar has no effect because it is overridden by the mappable; it is deprecated since 3.3 and will be removed two minor releases later.\n",
      "\n",
      "/data/leuven/software/biomed/wice_icelake_rocky8/2021a/software/deepTools/3.5.0-foss-2021a/lib/python3.9/site-packages/deeptools/plotHeatmap.py:770: MatplotlibDeprecationWarning:\n",
      "\n",
      "savefig() got unexpected keyword argument \"pdd_inches\" which is no longer supported as of 3.3 and will become an error two minor releases later\n",
      "\n"
     ]
    }
   ],
   "source": [
    "#Yolk\n",
    "\n",
    "#dars >1.5 logF in bed fly 10x and HyDrop bed\n",
    "generate_combined_heatmap \\\n",
    "  /lustre1/project/stg_00002/lcb/hydrop_v2_paper/fly/cistopic_LCB_embryo_consensuspeaks/HyDrop_10x_otsu_notdownsampled/DARs/final_embryo_annot_atlas_05112024/all_bed/Yolk.bed \\\n",
    "  \"HyDrop_v2 10x_v2 sciATAC\" \\\n",
    "  \"/lustre1/project/stg_00002/lcb/hydrop_v2_paper/fly/cistopic_LCB_embryo_consensuspeaks/HyDrop_10x_otsu_notdownsampled/pseudobulk/techxfinal_embryo_annot_atlas_05112024/pseudobulk_bw_files/HyDrop_v2___Yolk.bw /lustre1/project/stg_00002/lcb/hydrop_v2_paper/fly/cistopic_LCB_embryo_consensuspeaks/HyDrop_10x_otsu_notdownsampled/pseudobulk/techxfinal_embryo_annot_atlas_05112024/pseudobulk_bw_files/10x_v2___Yolk.bw /user/leuven/350/vsc35050/lcb/hydrop_v2_paper/fly/sci_ATAC/pseudobulk/embyro_annotations_paper/pseudobulk_bw_files/Yolk.bw\" \\\n",
    "  \"Yolk\" \"Yolk__all_bed_combined\" \"0 0 0\" \"3 6 12\"\n"
   ]
  },
  {
   "cell_type": "code",
   "execution_count": 26,
   "id": "dadc63ff-14af-4513-ab09-3c3216fb24d1",
   "metadata": {},
   "outputs": [
    {
     "name": "stdout",
     "output_type": "stream",
     "text": [
      "/data/leuven/software/biomed/wice_icelake_rocky8/2021a/software/deepTools/3.5.0-foss-2021a/lib/python3.9/site-packages/deeptools/plotHeatmap.py:481: MatplotlibDeprecationWarning:\n",
      "\n",
      "You are modifying the state of a globally registered colormap. This has been deprecated since 3.3 and in 3.6, you will not be able to modify a registered colormap in-place. To remove this warning, you can make a copy of the colormap first. cmap = mpl.cm.get_cmap(\"RdYlBu\").copy()\n",
      "\n",
      "/data/leuven/software/biomed/wice_icelake_rocky8/2021a/software/deepTools/3.5.0-foss-2021a/lib/python3.9/site-packages/deeptools/plotHeatmap.py:738: MatplotlibDeprecationWarning:\n",
      "\n",
      "The 'alpha' parameter to Colorbar has no effect because it is overridden by the mappable; it is deprecated since 3.3 and will be removed two minor releases later.\n",
      "\n",
      "/data/leuven/software/biomed/wice_icelake_rocky8/2021a/software/deepTools/3.5.0-foss-2021a/lib/python3.9/site-packages/deeptools/plotHeatmap.py:770: MatplotlibDeprecationWarning:\n",
      "\n",
      "savefig() got unexpected keyword argument \"pdd_inches\" which is no longer supported as of 3.3 and will become an error two minor releases later\n",
      "\n"
     ]
    }
   ],
   "source": [
    "#Hindgut\n",
    "\n",
    "#dars >1.5 logF in bed fly 10x and HyDrop bed\n",
    "generate_combined_heatmap \\\n",
    "  /lustre1/project/stg_00002/lcb/hydrop_v2_paper/fly/cistopic_LCB_embryo_consensuspeaks/HyDrop_10x_otsu_notdownsampled/DARs/final_embryo_annot_atlas_05112024/all_bed/Hindgut.bed \\\n",
    "  \"HyDrop_v2 10x_v2 sciATAC\" \\\n",
    "  \"/lustre1/project/stg_00002/lcb/hydrop_v2_paper/fly/cistopic_LCB_embryo_consensuspeaks/HyDrop_10x_otsu_notdownsampled/pseudobulk/techxfinal_embryo_annot_atlas_05112024/pseudobulk_bw_files/HyDrop_v2___Hindgut.bw /lustre1/project/stg_00002/lcb/hydrop_v2_paper/fly/cistopic_LCB_embryo_consensuspeaks/HyDrop_10x_otsu_notdownsampled/pseudobulk/techxfinal_embryo_annot_atlas_05112024/pseudobulk_bw_files/10x_v2___Hindgut.bw /user/leuven/350/vsc35050/lcb/hydrop_v2_paper/fly/sci_ATAC/pseudobulk/embyro_annotations_paper/pseudobulk_bw_files/Hindgut.bw\" \\\n",
    "  \"Hindgut\" \"Hindgut__all_bed_combined\" \"0 0 0\" \"3 3 3\"\n"
   ]
  },
  {
   "cell_type": "code",
   "execution_count": 27,
   "id": "e7d3fe91-86ae-4828-91c0-59095775ca93",
   "metadata": {},
   "outputs": [
    {
     "name": "stdout",
     "output_type": "stream",
     "text": [
      "/data/leuven/software/biomed/wice_icelake_rocky8/2021a/software/deepTools/3.5.0-foss-2021a/lib/python3.9/site-packages/deeptools/plotHeatmap.py:481: MatplotlibDeprecationWarning:\n",
      "\n",
      "You are modifying the state of a globally registered colormap. This has been deprecated since 3.3 and in 3.6, you will not be able to modify a registered colormap in-place. To remove this warning, you can make a copy of the colormap first. cmap = mpl.cm.get_cmap(\"RdYlBu\").copy()\n",
      "\n",
      "/data/leuven/software/biomed/wice_icelake_rocky8/2021a/software/deepTools/3.5.0-foss-2021a/lib/python3.9/site-packages/deeptools/plotHeatmap.py:738: MatplotlibDeprecationWarning:\n",
      "\n",
      "The 'alpha' parameter to Colorbar has no effect because it is overridden by the mappable; it is deprecated since 3.3 and will be removed two minor releases later.\n",
      "\n",
      "/data/leuven/software/biomed/wice_icelake_rocky8/2021a/software/deepTools/3.5.0-foss-2021a/lib/python3.9/site-packages/deeptools/plotHeatmap.py:770: MatplotlibDeprecationWarning:\n",
      "\n",
      "savefig() got unexpected keyword argument \"pdd_inches\" which is no longer supported as of 3.3 and will become an error two minor releases later\n",
      "\n"
     ]
    }
   ],
   "source": [
    "#Pharnyx\n",
    "\n",
    "#dars >1.5 logF in bed fly 10x and HyDrop bed\n",
    "generate_combined_heatmap \\\n",
    "  /lustre1/project/stg_00002/lcb/hydrop_v2_paper/fly/cistopic_LCB_embryo_consensuspeaks/HyDrop_10x_otsu_notdownsampled/DARs/final_embryo_annot_atlas_05112024/all_bed/Pharnyx.bed \\\n",
    "  \"HyDrop_v2 10x_v2 sciATAC\" \\\n",
    "  \"/lustre1/project/stg_00002/lcb/hydrop_v2_paper/fly/cistopic_LCB_embryo_consensuspeaks/HyDrop_10x_otsu_notdownsampled/pseudobulk/techxfinal_embryo_annot_atlas_05112024/pseudobulk_bw_files/HyDrop_v2___Pharnyx.bw /lustre1/project/stg_00002/lcb/hydrop_v2_paper/fly/cistopic_LCB_embryo_consensuspeaks/HyDrop_10x_otsu_notdownsampled/pseudobulk/techxfinal_embryo_annot_atlas_05112024/pseudobulk_bw_files/10x_v2___Pharnyx.bw /user/leuven/350/vsc35050/lcb/hydrop_v2_paper/fly/sci_ATAC/pseudobulk/embyro_annotations_paper/pseudobulk_bw_files/Pharnyx.bw\" \\\n",
    "  \"Pharnyx\" \"Pharnyx__all_bed_combined\" \"0 0 0\" \"3 3 3\"\n"
   ]
  },
  {
   "cell_type": "code",
   "execution_count": 28,
   "id": "acf7e6bb-fd46-4479-83bc-d3c74f812e02",
   "metadata": {},
   "outputs": [
    {
     "name": "stdout",
     "output_type": "stream",
     "text": [
      "/data/leuven/software/biomed/wice_icelake_rocky8/2021a/software/deepTools/3.5.0-foss-2021a/lib/python3.9/site-packages/deeptools/plotHeatmap.py:481: MatplotlibDeprecationWarning:\n",
      "\n",
      "You are modifying the state of a globally registered colormap. This has been deprecated since 3.3 and in 3.6, you will not be able to modify a registered colormap in-place. To remove this warning, you can make a copy of the colormap first. cmap = mpl.cm.get_cmap(\"RdYlBu\").copy()\n",
      "\n",
      "/data/leuven/software/biomed/wice_icelake_rocky8/2021a/software/deepTools/3.5.0-foss-2021a/lib/python3.9/site-packages/deeptools/plotHeatmap.py:738: MatplotlibDeprecationWarning:\n",
      "\n",
      "The 'alpha' parameter to Colorbar has no effect because it is overridden by the mappable; it is deprecated since 3.3 and will be removed two minor releases later.\n",
      "\n",
      "/data/leuven/software/biomed/wice_icelake_rocky8/2021a/software/deepTools/3.5.0-foss-2021a/lib/python3.9/site-packages/deeptools/plotHeatmap.py:770: MatplotlibDeprecationWarning:\n",
      "\n",
      "savefig() got unexpected keyword argument \"pdd_inches\" which is no longer supported as of 3.3 and will become an error two minor releases later\n",
      "\n"
     ]
    }
   ],
   "source": [
    "#Fat_body\n",
    "\n",
    "#dars >1.5 logF in bed fly 10x and HyDrop bed\n",
    "generate_combined_heatmap \\\n",
    "  /lustre1/project/stg_00002/lcb/hydrop_v2_paper/fly/cistopic_LCB_embryo_consensuspeaks/HyDrop_10x_otsu_notdownsampled/DARs/final_embryo_annot_atlas_05112024/all_bed/Fat_body.bed \\\n",
    "  \"HyDrop_v2 10x_v2 sciATAC\" \\\n",
    "  \"/lustre1/project/stg_00002/lcb/hydrop_v2_paper/fly/cistopic_LCB_embryo_consensuspeaks/HyDrop_10x_otsu_notdownsampled/pseudobulk/techxfinal_embryo_annot_atlas_05112024/pseudobulk_bw_files/HyDrop_v2___Fat_body.bw /lustre1/project/stg_00002/lcb/hydrop_v2_paper/fly/cistopic_LCB_embryo_consensuspeaks/HyDrop_10x_otsu_notdownsampled/pseudobulk/techxfinal_embryo_annot_atlas_05112024/pseudobulk_bw_files/10x_v2___Fat_body.bw /user/leuven/350/vsc35050/lcb/hydrop_v2_paper/fly/sci_ATAC/pseudobulk/embyro_annotations_paper/pseudobulk_bw_files/Fatbody.bw\" \\\n",
    "  \"Fat_body\" \"Fat_body__all_bed_combined\" \"0 0 0\" \"3 3 3\"\n"
   ]
  },
  {
   "cell_type": "code",
   "execution_count": 29,
   "id": "30c8a73e-3e0c-4bdc-9940-a72b9d8be13c",
   "metadata": {},
   "outputs": [
    {
     "name": "stdout",
     "output_type": "stream",
     "text": [
      "/data/leuven/software/biomed/wice_icelake_rocky8/2021a/software/deepTools/3.5.0-foss-2021a/lib/python3.9/site-packages/deeptools/plotHeatmap.py:481: MatplotlibDeprecationWarning:\n",
      "\n",
      "You are modifying the state of a globally registered colormap. This has been deprecated since 3.3 and in 3.6, you will not be able to modify a registered colormap in-place. To remove this warning, you can make a copy of the colormap first. cmap = mpl.cm.get_cmap(\"RdYlBu\").copy()\n",
      "\n",
      "/data/leuven/software/biomed/wice_icelake_rocky8/2021a/software/deepTools/3.5.0-foss-2021a/lib/python3.9/site-packages/deeptools/plotHeatmap.py:738: MatplotlibDeprecationWarning:\n",
      "\n",
      "The 'alpha' parameter to Colorbar has no effect because it is overridden by the mappable; it is deprecated since 3.3 and will be removed two minor releases later.\n",
      "\n",
      "/data/leuven/software/biomed/wice_icelake_rocky8/2021a/software/deepTools/3.5.0-foss-2021a/lib/python3.9/site-packages/deeptools/plotHeatmap.py:770: MatplotlibDeprecationWarning:\n",
      "\n",
      "savefig() got unexpected keyword argument \"pdd_inches\" which is no longer supported as of 3.3 and will become an error two minor releases later\n",
      "\n"
     ]
    }
   ],
   "source": [
    "#PNS_sens_neurons\n",
    "\n",
    "#dars >1.5 logF in bed fly 10x and HyDrop bed\n",
    "generate_combined_heatmap \\\n",
    "  /lustre1/project/stg_00002/lcb/hydrop_v2_paper/fly/cistopic_LCB_embryo_consensuspeaks/HyDrop_10x_otsu_notdownsampled/DARs/final_embryo_annot_atlas_05112024/all_bed/PNS_sens_neurons.bed \\\n",
    "  \"HyDrop_v2 10x_v2 sciATAC\" \\\n",
    "  \"/lustre1/project/stg_00002/lcb/hydrop_v2_paper/fly/cistopic_LCB_embryo_consensuspeaks/HyDrop_10x_otsu_notdownsampled/pseudobulk/techxfinal_embryo_annot_atlas_05112024/pseudobulk_bw_files/HyDrop_v2___PNS_sens_neurons.bw /lustre1/project/stg_00002/lcb/hydrop_v2_paper/fly/cistopic_LCB_embryo_consensuspeaks/HyDrop_10x_otsu_notdownsampled/pseudobulk/techxfinal_embryo_annot_atlas_05112024/pseudobulk_bw_files/10x_v2___PNS_sens_neurons.bw /user/leuven/350/vsc35050/lcb/hydrop_v2_paper/fly/sci_ATAC/pseudobulk/embyro_annotations_paper/pseudobulk_bw_files/PNS_sense.bw\" \\\n",
    "  \"PNS_sens_neurons\" \"PNS_sens_neurons__all_bed_combined\" \"0 0 0\" \"3 3 3\"\n"
   ]
  },
  {
   "cell_type": "code",
   "execution_count": 89,
   "id": "d9048f38-c2bb-48a7-b09f-6cb92f105e39",
   "metadata": {},
   "outputs": [
    {
     "name": "stdout",
     "output_type": "stream",
     "text": [
      "/data/leuven/software/biomed/wice_icelake_rocky8/2021a/software/deepTools/3.5.0-foss-2021a/lib/python3.9/site-packages/deeptools/plotHeatmap.py:481: MatplotlibDeprecationWarning:\n",
      "\n",
      "You are modifying the state of a globally registered colormap. This has been deprecated since 3.3 and in 3.6, you will not be able to modify a registered colormap in-place. To remove this warning, you can make a copy of the colormap first. cmap = mpl.cm.get_cmap(\"RdYlBu\").copy()\n",
      "\n",
      "/data/leuven/software/biomed/wice_icelake_rocky8/2021a/software/deepTools/3.5.0-foss-2021a/lib/python3.9/site-packages/deeptools/plotHeatmap.py:738: MatplotlibDeprecationWarning:\n",
      "\n",
      "The 'alpha' parameter to Colorbar has no effect because it is overridden by the mappable; it is deprecated since 3.3 and will be removed two minor releases later.\n",
      "\n",
      "/data/leuven/software/biomed/wice_icelake_rocky8/2021a/software/deepTools/3.5.0-foss-2021a/lib/python3.9/site-packages/deeptools/plotHeatmap.py:770: MatplotlibDeprecationWarning:\n",
      "\n",
      "savefig() got unexpected keyword argument \"pdd_inches\" which is no longer supported as of 3.3 and will become an error two minor releases later\n",
      "\n"
     ]
    }
   ],
   "source": [
    "#Somatic_muscles\n",
    "\n",
    "#dars >1.5 logF in bed fly 10x and HyDrop bed\n",
    "generate_combined_heatmap \\\n",
    "  /lustre1/project/stg_00002/lcb/hydrop_v2_paper/fly/cistopic_LCB_embryo_consensuspeaks/HyDrop_10x_otsu_notdownsampled/DARs/final_embryo_annot_atlas_05112024/all_bed/Somatic_muscles.bed \\\n",
    "  \"HyDrop_v2 10x_v2 sciATAC\" \\\n",
    "  \"/lustre1/project/stg_00002/lcb/hydrop_v2_paper/fly/cistopic_LCB_embryo_consensuspeaks/HyDrop_10x_otsu_notdownsampled/pseudobulk/techxfinal_embryo_annot_atlas_05112024/pseudobulk_bw_files/HyDrop_v2___Somatic_muscles.bw /lustre1/project/stg_00002/lcb/hydrop_v2_paper/fly/cistopic_LCB_embryo_consensuspeaks/HyDrop_10x_otsu_notdownsampled/pseudobulk/techxfinal_embryo_annot_atlas_05112024/pseudobulk_bw_files/10x_v2___Somatic_muscles.bw /user/leuven/350/vsc35050/lcb/hydrop_v2_paper/fly/sci_ATAC/pseudobulk/embyro_annotations_paper/pseudobulk_bw_files/Somatic_muscle.bw\" \\\n",
    "  \"Somatic_muscles\" \"Somatic_muscles__all_bed_combined\" \"0 0 0\" \"3 6 16\"\n"
   ]
  },
  {
   "cell_type": "code",
   "execution_count": 31,
   "id": "1f8a9170-4d52-421e-b1e3-1184a2f0329d",
   "metadata": {},
   "outputs": [
    {
     "name": "stdout",
     "output_type": "stream",
     "text": [
      "/data/leuven/software/biomed/wice_icelake_rocky8/2021a/software/deepTools/3.5.0-foss-2021a/lib/python3.9/site-packages/deeptools/plotHeatmap.py:481: MatplotlibDeprecationWarning:\n",
      "\n",
      "You are modifying the state of a globally registered colormap. This has been deprecated since 3.3 and in 3.6, you will not be able to modify a registered colormap in-place. To remove this warning, you can make a copy of the colormap first. cmap = mpl.cm.get_cmap(\"RdYlBu\").copy()\n",
      "\n",
      "/data/leuven/software/biomed/wice_icelake_rocky8/2021a/software/deepTools/3.5.0-foss-2021a/lib/python3.9/site-packages/deeptools/plotHeatmap.py:738: MatplotlibDeprecationWarning:\n",
      "\n",
      "The 'alpha' parameter to Colorbar has no effect because it is overridden by the mappable; it is deprecated since 3.3 and will be removed two minor releases later.\n",
      "\n",
      "/data/leuven/software/biomed/wice_icelake_rocky8/2021a/software/deepTools/3.5.0-foss-2021a/lib/python3.9/site-packages/deeptools/plotHeatmap.py:770: MatplotlibDeprecationWarning:\n",
      "\n",
      "savefig() got unexpected keyword argument \"pdd_inches\" which is no longer supported as of 3.3 and will become an error two minor releases later\n",
      "\n"
     ]
    }
   ],
   "source": [
    "#GLIA\n",
    "generate_combined_heatmap \\\n",
    "  /lustre1/project/stg_00002/lcb/hydrop_v2_paper/fly/sci_ATAC/DARs/bed_embyro_annotations_paper_sciATAC_nochr_all_bed/Glia.bed \\\n",
    "  \"HyDrop_v2 10x_v2 sciATAC\" \\\n",
    "  \"/lustre1/project/stg_00002/lcb/hydrop_v2_paper/fly/cistopic_LCB_embryo_consensuspeaks/HyDrop_10x_otsu_notdownsampled/pseudobulk/techxfinal_embryo_annot_atlas_05112024/pseudobulk_bw_files/HyDrop_v2___Glia.bw /lustre1/project/stg_00002/lcb/hydrop_v2_paper/fly/cistopic_LCB_embryo_consensuspeaks/HyDrop_10x_otsu_notdownsampled/pseudobulk/techxfinal_embryo_annot_atlas_05112024/pseudobulk_bw_files/10x_v2___Glia.bw /user/leuven/350/vsc35050/lcb/hydrop_v2_paper/fly/sci_ATAC/pseudobulk/embyro_annotations_paper/pseudobulk_bw_files/Glia.bw\" \\\n",
    "  \"Glia\" \"Glia__sciATAC_bed_combined\" \"0 0 0\" \"3 3 3\"\n"
   ]
  },
  {
   "cell_type": "code",
   "execution_count": 38,
   "id": "9ccc98fb-8343-419a-b747-8b02b7924357",
   "metadata": {},
   "outputs": [
    {
     "name": "stdout",
     "output_type": "stream",
     "text": [
      "/data/leuven/software/biomed/wice_icelake_rocky8/2021a/software/deepTools/3.5.0-foss-2021a/lib/python3.9/site-packages/deeptools/plotHeatmap.py:481: MatplotlibDeprecationWarning:\n",
      "\n",
      "You are modifying the state of a globally registered colormap. This has been deprecated since 3.3 and in 3.6, you will not be able to modify a registered colormap in-place. To remove this warning, you can make a copy of the colormap first. cmap = mpl.cm.get_cmap(\"RdYlBu\").copy()\n",
      "\n",
      "/data/leuven/software/biomed/wice_icelake_rocky8/2021a/software/deepTools/3.5.0-foss-2021a/lib/python3.9/site-packages/deeptools/plotHeatmap.py:738: MatplotlibDeprecationWarning:\n",
      "\n",
      "The 'alpha' parameter to Colorbar has no effect because it is overridden by the mappable; it is deprecated since 3.3 and will be removed two minor releases later.\n",
      "\n",
      "/data/leuven/software/biomed/wice_icelake_rocky8/2021a/software/deepTools/3.5.0-foss-2021a/lib/python3.9/site-packages/deeptools/plotHeatmap.py:770: MatplotlibDeprecationWarning:\n",
      "\n",
      "savefig() got unexpected keyword argument \"pdd_inches\" which is no longer supported as of 3.3 and will become an error two minor releases later\n",
      "\n"
     ]
    }
   ],
   "source": [
    "#GLIA\n",
    "generate_combined_heatmap \\\n",
    "  /lustre1/project/stg_00002/lcb/hydrop_v2_paper/fly/sci_ATAC/DARs/bed_embyro_annotations_paper_sciATAC_nochr_all_bed/Glia.bed \\\n",
    "  \"HyDrop_v2 10x_v2 sciATAC\" \\\n",
    "  \"/lustre1/project/stg_00002/lcb/hydrop_v2_paper/fly/cistopic_LCB_embryo_consensuspeaks/HyDrop_10x_otsu_notdownsampled/pseudobulk/techxfinal_embryo_annot_atlas_05112024/pseudobulk_bw_files/HyDrop_v2___Glia.bw /lustre1/project/stg_00002/lcb/hydrop_v2_paper/fly/cistopic_LCB_embryo_consensuspeaks/HyDrop_10x_otsu_notdownsampled/pseudobulk/techxfinal_embryo_annot_atlas_05112024/pseudobulk_bw_files/10x_v2___Glia.bw /user/leuven/350/vsc35050/lcb/hydrop_v2_paper/fly/sci_ATAC/pseudobulk/embyro_annotations_paper/pseudobulk_bw_files/Glia.bw\" \\\n",
    "  \"Glia\" \"Glia__v2_sciATAC_bed_combined\" \"0 0 0\" \"3 3 15\"\n"
   ]
  },
  {
   "cell_type": "code",
   "execution_count": 32,
   "id": "f8d1ed8c-4b41-4dc2-af24-a62ee9dcfe8d",
   "metadata": {},
   "outputs": [
    {
     "name": "stdout",
     "output_type": "stream",
     "text": [
      "/data/leuven/software/biomed/wice_icelake_rocky8/2021a/software/deepTools/3.5.0-foss-2021a/lib/python3.9/site-packages/deeptools/plotHeatmap.py:481: MatplotlibDeprecationWarning:\n",
      "\n",
      "You are modifying the state of a globally registered colormap. This has been deprecated since 3.3 and in 3.6, you will not be able to modify a registered colormap in-place. To remove this warning, you can make a copy of the colormap first. cmap = mpl.cm.get_cmap(\"RdYlBu\").copy()\n",
      "\n",
      "/data/leuven/software/biomed/wice_icelake_rocky8/2021a/software/deepTools/3.5.0-foss-2021a/lib/python3.9/site-packages/deeptools/plotHeatmap.py:738: MatplotlibDeprecationWarning:\n",
      "\n",
      "The 'alpha' parameter to Colorbar has no effect because it is overridden by the mappable; it is deprecated since 3.3 and will be removed two minor releases later.\n",
      "\n",
      "/data/leuven/software/biomed/wice_icelake_rocky8/2021a/software/deepTools/3.5.0-foss-2021a/lib/python3.9/site-packages/deeptools/plotHeatmap.py:770: MatplotlibDeprecationWarning:\n",
      "\n",
      "savefig() got unexpected keyword argument \"pdd_inches\" which is no longer supported as of 3.3 and will become an error two minor releases later\n",
      "\n"
     ]
    }
   ],
   "source": [
    "#EPIDERMIS\n",
    "generate_combined_heatmap \\\n",
    "  /lustre1/project/stg_00002/lcb/hydrop_v2_paper/fly/sci_ATAC/DARs/bed_embyro_annotations_paper_sciATAC_nochr_all_bed/Epidermis.bed \\\n",
    "  \"HyDrop_v2 10x_v2 sciATAC\" \\\n",
    "  \"/lustre1/project/stg_00002/lcb/hydrop_v2_paper/fly/cistopic_LCB_embryo_consensuspeaks/HyDrop_10x_otsu_notdownsampled/pseudobulk/techxfinal_embryo_annot_atlas_05112024/pseudobulk_bw_files/HyDrop_v2___Epidermis.bw /lustre1/project/stg_00002/lcb/hydrop_v2_paper/fly/cistopic_LCB_embryo_consensuspeaks/HyDrop_10x_otsu_notdownsampled/pseudobulk/techxfinal_embryo_annot_atlas_05112024/pseudobulk_bw_files/10x_v2___Epidermis.bw /user/leuven/350/vsc35050/lcb/hydrop_v2_paper/fly/sci_ATAC/pseudobulk/embyro_annotations_paper/pseudobulk_bw_files/Epidermis.bw\" \\\n",
    "  \"Epidermis\" \"Epidermis__sciATAC_bed_combined\" \"0 0 0\" \"3 3 3\"\n"
   ]
  },
  {
   "cell_type": "code",
   "execution_count": 33,
   "id": "e09061d4-4bed-465e-aee7-f4461bc8fdeb",
   "metadata": {},
   "outputs": [
    {
     "name": "stdout",
     "output_type": "stream",
     "text": [
      "/data/leuven/software/biomed/wice_icelake_rocky8/2021a/software/deepTools/3.5.0-foss-2021a/lib/python3.9/site-packages/deeptools/plotHeatmap.py:481: MatplotlibDeprecationWarning:\n",
      "\n",
      "You are modifying the state of a globally registered colormap. This has been deprecated since 3.3 and in 3.6, you will not be able to modify a registered colormap in-place. To remove this warning, you can make a copy of the colormap first. cmap = mpl.cm.get_cmap(\"RdYlBu\").copy()\n",
      "\n",
      "/data/leuven/software/biomed/wice_icelake_rocky8/2021a/software/deepTools/3.5.0-foss-2021a/lib/python3.9/site-packages/deeptools/plotHeatmap.py:738: MatplotlibDeprecationWarning:\n",
      "\n",
      "The 'alpha' parameter to Colorbar has no effect because it is overridden by the mappable; it is deprecated since 3.3 and will be removed two minor releases later.\n",
      "\n",
      "/data/leuven/software/biomed/wice_icelake_rocky8/2021a/software/deepTools/3.5.0-foss-2021a/lib/python3.9/site-packages/deeptools/plotHeatmap.py:770: MatplotlibDeprecationWarning:\n",
      "\n",
      "savefig() got unexpected keyword argument \"pdd_inches\" which is no longer supported as of 3.3 and will become an error two minor releases later\n",
      "\n"
     ]
    }
   ],
   "source": [
    "#Hemocytes\n",
    "generate_combined_heatmap \\\n",
    "  /lustre1/project/stg_00002/lcb/hydrop_v2_paper/fly/sci_ATAC/DARs/bed_embyro_annotations_paper_sciATAC_nochr_all_bed/Plasmatocytes.bed \\\n",
    "  \"HyDrop_v2 10x_v2 sciATAC\" \\\n",
    "  \"/lustre1/project/stg_00002/lcb/hydrop_v2_paper/fly/cistopic_LCB_embryo_consensuspeaks/HyDrop_10x_otsu_notdownsampled/pseudobulk/techxfinal_embryo_annot_atlas_05112024/pseudobulk_bw_files/HyDrop_v2___Hemocytes.bw /lustre1/project/stg_00002/lcb/hydrop_v2_paper/fly/cistopic_LCB_embryo_consensuspeaks/HyDrop_10x_otsu_notdownsampled/pseudobulk/techxfinal_embryo_annot_atlas_05112024/pseudobulk_bw_files/10x_v2___Hemocytes.bw /user/leuven/350/vsc35050/lcb/hydrop_v2_paper/fly/sci_ATAC/pseudobulk/embyro_annotations_paper/pseudobulk_bw_files/Plasmatocytes.bw\" \\\n",
    "  \"Hemocytes\" \"Hemocytes__sciATAC_bed_combined\" \"0 0 0\" \"3 3 3\"\n"
   ]
  },
  {
   "cell_type": "code",
   "execution_count": 34,
   "id": "2cfc551f-7591-47e8-82f4-de64566c5b4d",
   "metadata": {},
   "outputs": [
    {
     "name": "stdout",
     "output_type": "stream",
     "text": [
      "Traceback (most recent call last):\n",
      "  File \"/data/leuven/software/biomed/wice_icelake_rocky8/2021a/software/deepTools/3.5.0-foss-2021a/bin/computeMatrix\", line 14, in <module>\n",
      "    main(args)\n",
      "  File \"/data/leuven/software/biomed/wice_icelake_rocky8/2021a/software/deepTools/3.5.0-foss-2021a/lib/python3.9/site-packages/deeptools/computeMatrix.py\", line 421, in main\n",
      "    hm.computeMatrix(scores_file_list, args.regionsFileName, parameters, blackListFileName=args.blackListFileName, verbose=args.verbose, allArgs=args)\n",
      "  File \"/data/leuven/software/biomed/wice_icelake_rocky8/2021a/software/deepTools/3.5.0-foss-2021a/lib/python3.9/site-packages/deeptools/heatmapper.py\", line 252, in computeMatrix\n",
      "    res, labels = mapReduce.mapReduce([score_file_list, parameters],\n",
      "  File \"/data/leuven/software/biomed/wice_icelake_rocky8/2021a/software/deepTools/3.5.0-foss-2021a/lib/python3.9/site-packages/deeptools/mapReduce.py\", line 85, in mapReduce\n",
      "    bed_interval_tree = GTF(bedFile, defaultGroup=defaultGroup, transcriptID=transcriptID, exonID=exonID, transcript_id_designator=transcript_id_designator, keepExons=keepExons)\n",
      "  File \"/data/leuven/software/biomed/wice_icelake_rocky8/2021a/software/deepTools/3.5.0-foss-2021a/lib/python3.9/site-packages/deeptoolsintervals/parse.py\", line 584, in __init__\n",
      "    fp = openPossiblyCompressed(fname)\n",
      "  File \"/data/leuven/software/biomed/wice_icelake_rocky8/2021a/software/deepTools/3.5.0-foss-2021a/lib/python3.9/site-packages/deeptoolsintervals/parse.py\", line 102, in openPossiblyCompressed\n",
      "    with open(fname, \"rb\") as f:\n",
      "FileNotFoundError: [Errno 2] No such file or directory: 'Plasmatocytes/Salivary_gland.bed'\n",
      "usage: plotHeatmap [--matrixFile MATRIXFILE] --outFileName OUTFILENAME\n",
      "                   [--outFileSortedRegions FILE] [--outFileNameMatrix FILE]\n",
      "                   [--interpolationMethod STR] [--dpi DPI] [--kmeans KMEANS]\n",
      "                   [--hclust HCLUST] [--silhouette] [--help] [--version]\n",
      "                   [--plotType {lines,fill,se,std}]\n",
      "                   [--sortRegions {descend,ascend,no,keep}]\n",
      "                   [--sortUsing {mean,median,max,min,sum,region_length}]\n",
      "                   [--sortUsingSamples SORTUSINGSAMPLES [SORTUSINGSAMPLES ...]]\n",
      "                   [--linesAtTickMarks]\n",
      "                   [--clusterUsingSamples CLUSTERUSINGSAMPLES [CLUSTERUSINGSAMPLES ...]]\n",
      "                   [--averageTypeSummaryPlot {mean,median,min,max,std,sum}]\n",
      "                   [--missingDataColor MISSINGDATACOLOR]\n",
      "                   [--colorMap COLORMAP [COLORMAP ...]] [--alpha ALPHA]\n",
      "                   [--colorList COLORLIST [COLORLIST ...]]\n",
      "                   [--colorNumber COLORNUMBER] [--zMin ZMIN [ZMIN ...]]\n",
      "                   [--zMax ZMAX [ZMAX ...]] [--heatmapHeight HEATMAPHEIGHT]\n",
      "                   [--heatmapWidth HEATMAPWIDTH]\n",
      "                   [--whatToShow {plot, heatmap and colorbar,plot and heatmap,heatmap only,heatmap and colorbar}]\n",
      "                   [--boxAroundHeatmaps BOXAROUNDHEATMAPS]\n",
      "                   [--xAxisLabel XAXISLABEL] [--startLabel STARTLABEL]\n",
      "                   [--endLabel ENDLABEL] [--refPointLabel REFPOINTLABEL]\n",
      "                   [--labelRotation LABEL_ROTATION]\n",
      "                   [--regionsLabel REGIONSLABEL [REGIONSLABEL ...]]\n",
      "                   [--samplesLabel SAMPLESLABEL [SAMPLESLABEL ...]]\n",
      "                   [--plotTitle PLOTTITLE] [--yAxisLabel YAXISLABEL]\n",
      "                   [--yMin YMIN [YMIN ...]] [--yMax YMAX [YMAX ...]]\n",
      "                   [--legendLocation {best,upper-right,upper-left,upper-center,lower-left,lower-right,lower-center,center,center-left,center-right,none}]\n",
      "                   [--perGroup] [--plotFileFormat] [--verbose]\n",
      "plotHeatmap: error: argument --matrixFile/-m: can't open 'Salivary_gland__sciATAC_bed_combined_matrix.gz': [Errno 2] No such file or directory: 'Salivary_gland__sciATAC_bed_combined_matrix.gz'\n"
     ]
    },
    {
     "ename": "",
     "evalue": "2",
     "output_type": "error",
     "traceback": []
    }
   ],
   "source": [
    "#Salivary_gland\n",
    "generate_combined_heatmap \\\n",
    "  /lustre1/project/stg_00002/lcb/hydrop_v2_paper/fly/sci_ATAC/DARs/bed_embyro_annotations_paper_sciATAC_nochr_all_bed//Salivary_gland.bed \\\n",
    "  \"HyDrop_v2 10x_v2 sciATAC\" \\\n",
    "  \"/lustre1/project/stg_00002/lcb/hydrop_v2_paper/fly/cistopic_LCB_embryo_consensuspeaks/HyDrop_10x_otsu_notdownsampled/pseudobulk/techxfinal_embryo_annot_atlas_05112024/pseudobulk_bw_files/HyDrop_v2___Salivary_gland.bw /lustre1/project/stg_00002/lcb/hydrop_v2_paper/fly/cistopic_LCB_embryo_consensuspeaks/HyDrop_10x_otsu_notdownsampled/pseudobulk/techxfinal_embryo_annot_atlas_05112024/pseudobulk_bw_files/10x_v2___Salivary_gland.bw /user/leuven/350/vsc35050/lcb/hydrop_v2_paper/fly/sci_ATAC/pseudobulk/embyro_annotations_paper/pseudobulk_bw_files/Salivary_gland.bw\" \\\n",
    "  \"Salivary_gland\" \"Salivary_gland__sciATAC_bed_combined\" \"0 0 0\" \"3 3 3\"\n"
   ]
  },
  {
   "cell_type": "code",
   "execution_count": 17,
   "id": "05ebc32e-f436-44ed-81e1-9455630316bc",
   "metadata": {
    "collapsed": true,
    "jupyter": {
     "outputs_hidden": true
    }
   },
   "outputs": [
    {
     "name": "stdout",
     "output_type": "stream",
     "text": [
      "/data/leuven/software/biomed/wice_icelake_rocky8/2021a/software/deepTools/3.5.0-foss-2021a/lib/python3.9/site-packages/deeptools/plotHeatmap.py:481: MatplotlibDeprecationWarning:\n",
      "\n",
      "You are modifying the state of a globally registered colormap. This has been deprecated since 3.3 and in 3.6, you will not be able to modify a registered colormap in-place. To remove this warning, you can make a copy of the colormap first. cmap = mpl.cm.get_cmap(\"RdYlBu\").copy()\n",
      "\n",
      "/data/leuven/software/biomed/wice_icelake_rocky8/2021a/software/deepTools/3.5.0-foss-2021a/lib/python3.9/site-packages/deeptools/plotHeatmap.py:738: MatplotlibDeprecationWarning:\n",
      "\n",
      "The 'alpha' parameter to Colorbar has no effect because it is overridden by the mappable; it is deprecated since 3.3 and will be removed two minor releases later.\n",
      "\n",
      "/data/leuven/software/biomed/wice_icelake_rocky8/2021a/software/deepTools/3.5.0-foss-2021a/lib/python3.9/site-packages/deeptools/plotHeatmap.py:770: MatplotlibDeprecationWarning:\n",
      "\n",
      "savefig() got unexpected keyword argument \"pdd_inches\" which is no longer supported as of 3.3 and will become an error two minor releases later\n",
      "\n"
     ]
    }
   ],
   "source": [
    "#Tracheal_system\n",
    "generate_combined_heatmap \\\n",
    "  /lustre1/project/stg_00002/lcb/hydrop_v2_paper/fly/cistopic_LCB_embryo_consensuspeaks/HyDrop_10x_otsu_notdownsampled/DARs/final_embryo_annot_atlas_05112024/all_bed/Tracheal_system.bed \\\n",
    "  \"HyDrop_v2 10x_v2 sciATAC\" \\\n",
    "  \"/lustre1/project/stg_00002/lcb/hydrop_v2_paper/fly/cistopic_LCB_embryo_consensuspeaks/HyDrop_10x_otsu_notdownsampled/pseudobulk/techxfinal_embryo_annot_atlas_05112024/pseudobulk_bw_files/HyDrop_v2___Tracheal_system.bw /lustre1/project/stg_00002/lcb/hydrop_v2_paper/fly/cistopic_LCB_embryo_consensuspeaks/HyDrop_10x_otsu_notdownsampled/pseudobulk/techxfinal_embryo_annot_atlas_05112024/pseudobulk_bw_files/10x_v2___Tracheal_system.bw /user/leuven/350/vsc35050/lcb/hydrop_v2_paper/fly/sci_ATAC/pseudobulk/embyro_annotations_paper/pseudobulk_bw_files/Tracheal_system.bw\" \\\n",
    "  \"Tracheal_system\" \"Tracheal_system__all_bed_combined\" \"0 0 0\" \"3 3 3\"\n"
   ]
  },
  {
   "cell_type": "code",
   "execution_count": 18,
   "id": "3de6070d-df82-4caa-b506-7fdb5e576112",
   "metadata": {
    "collapsed": true,
    "jupyter": {
     "outputs_hidden": true,
     "source_hidden": true
    }
   },
   "outputs": [
    {
     "name": "stdout",
     "output_type": "stream",
     "text": [
      "/data/leuven/software/biomed/wice_icelake_rocky8/2021a/software/deepTools/3.5.0-foss-2021a/lib/python3.9/site-packages/deeptools/plotHeatmap.py:481: MatplotlibDeprecationWarning:\n",
      "\n",
      "You are modifying the state of a globally registered colormap. This has been deprecated since 3.3 and in 3.6, you will not be able to modify a registered colormap in-place. To remove this warning, you can make a copy of the colormap first. cmap = mpl.cm.get_cmap(\"RdYlBu\").copy()\n",
      "\n",
      "/data/leuven/software/biomed/wice_icelake_rocky8/2021a/software/deepTools/3.5.0-foss-2021a/lib/python3.9/site-packages/deeptools/plotHeatmap.py:738: MatplotlibDeprecationWarning:\n",
      "\n",
      "The 'alpha' parameter to Colorbar has no effect because it is overridden by the mappable; it is deprecated since 3.3 and will be removed two minor releases later.\n",
      "\n",
      "/data/leuven/software/biomed/wice_icelake_rocky8/2021a/software/deepTools/3.5.0-foss-2021a/lib/python3.9/site-packages/deeptools/plotHeatmap.py:770: MatplotlibDeprecationWarning:\n",
      "\n",
      "savefig() got unexpected keyword argument \"pdd_inches\" which is no longer supported as of 3.3 and will become an error two minor releases later\n",
      "\n"
     ]
    }
   ],
   "source": [
    "#Neuronal\n",
    "generate_combined_heatmap \\\n",
    "  /lustre1/project/stg_00002/lcb/hydrop_v2_paper/fly/cistopic_LCB_embryo_consensuspeaks/HyDrop_10x_otsu_notdownsampled/DARs/final_embryo_annot_atlas_05112024/all_bed/Neuronal.bed \\\n",
    "  \"HyDrop_v2 10x_v2 sciATAC\" \\\n",
    "  \"/lustre1/project/stg_00002/lcb/hydrop_v2_paper/fly/cistopic_LCB_embryo_consensuspeaks/HyDrop_10x_otsu_notdownsampled/pseudobulk/techxfinal_embryo_annot_atlas_05112024/pseudobulk_bw_files/HyDrop_v2___Neuronal.bw /lustre1/project/stg_00002/lcb/hydrop_v2_paper/fly/cistopic_LCB_embryo_consensuspeaks/HyDrop_10x_otsu_notdownsampled/pseudobulk/techxfinal_embryo_annot_atlas_05112024/pseudobulk_bw_files/10x_v2___Neuronal.bw /user/leuven/350/vsc35050/lcb/hydrop_v2_paper/fly/sci_ATAC/pseudobulk/embyro_annotations_paper/pseudobulk_bw_files/Brain.bw\" \\\n",
    "  \"Neuronal\" \"Neuronal__all_bed_combined\" \"0 0 0\" \"3 3 3\"\n"
   ]
  },
  {
   "cell_type": "code",
   "execution_count": 19,
   "id": "26dbb3c5-1bba-4754-851d-88076ebf96b7",
   "metadata": {
    "collapsed": true,
    "jupyter": {
     "outputs_hidden": true,
     "source_hidden": true
    }
   },
   "outputs": [
    {
     "name": "stdout",
     "output_type": "stream",
     "text": [
      "/data/leuven/software/biomed/wice_icelake_rocky8/2021a/software/deepTools/3.5.0-foss-2021a/lib/python3.9/site-packages/deeptools/plotHeatmap.py:481: MatplotlibDeprecationWarning:\n",
      "\n",
      "You are modifying the state of a globally registered colormap. This has been deprecated since 3.3 and in 3.6, you will not be able to modify a registered colormap in-place. To remove this warning, you can make a copy of the colormap first. cmap = mpl.cm.get_cmap(\"RdYlBu\").copy()\n",
      "\n",
      "/data/leuven/software/biomed/wice_icelake_rocky8/2021a/software/deepTools/3.5.0-foss-2021a/lib/python3.9/site-packages/deeptools/plotHeatmap.py:738: MatplotlibDeprecationWarning:\n",
      "\n",
      "The 'alpha' parameter to Colorbar has no effect because it is overridden by the mappable; it is deprecated since 3.3 and will be removed two minor releases later.\n",
      "\n",
      "/data/leuven/software/biomed/wice_icelake_rocky8/2021a/software/deepTools/3.5.0-foss-2021a/lib/python3.9/site-packages/deeptools/plotHeatmap.py:770: MatplotlibDeprecationWarning:\n",
      "\n",
      "savefig() got unexpected keyword argument \"pdd_inches\" which is no longer supported as of 3.3 and will become an error two minor releases later\n",
      "\n"
     ]
    }
   ],
   "source": [
    "#Malpighian_tubule\n",
    "\n",
    "#dars >1.5 logF in bed fly 10x and HyDrop bed\n",
    "generate_combined_heatmap \\\n",
    "  /lustre1/project/stg_00002/lcb/hydrop_v2_paper/fly/cistopic_LCB_embryo_consensuspeaks/HyDrop_10x_otsu_notdownsampled/DARs/final_embryo_annot_atlas_05112024/all_bed/Malpighian_tubule.bed \\\n",
    "  \"HyDrop_v2 10x_v2 sciATAC\" \\\n",
    "  \"/lustre1/project/stg_00002/lcb/hydrop_v2_paper/fly/cistopic_LCB_embryo_consensuspeaks/HyDrop_10x_otsu_notdownsampled/pseudobulk/techxfinal_embryo_annot_atlas_05112024/pseudobulk_bw_files/HyDrop_v2___Malpighian_tubule.bw /lustre1/project/stg_00002/lcb/hydrop_v2_paper/fly/cistopic_LCB_embryo_consensuspeaks/HyDrop_10x_otsu_notdownsampled/pseudobulk/techxfinal_embryo_annot_atlas_05112024/pseudobulk_bw_files/10x_v2___Malpighian_tubule.bw /user/leuven/350/vsc35050/lcb/hydrop_v2_paper/fly/sci_ATAC/pseudobulk/embyro_annotations_paper/pseudobulk_bw_files/Malpighian_tubule.bw\" \\\n",
    "  \"Malpighian_tubule\" \"Malpighian_tubule__all_bed_combined\" \"0 0 0\" \"3 3 3\"\n"
   ]
  },
  {
   "cell_type": "code",
   "execution_count": 20,
   "id": "e62c1287-0a06-4432-8d34-081506a0230e",
   "metadata": {
    "collapsed": true,
    "jupyter": {
     "outputs_hidden": true,
     "source_hidden": true
    }
   },
   "outputs": [
    {
     "name": "stdout",
     "output_type": "stream",
     "text": [
      "/data/leuven/software/biomed/wice_icelake_rocky8/2021a/software/deepTools/3.5.0-foss-2021a/lib/python3.9/site-packages/deeptools/plotHeatmap.py:481: MatplotlibDeprecationWarning:\n",
      "\n",
      "You are modifying the state of a globally registered colormap. This has been deprecated since 3.3 and in 3.6, you will not be able to modify a registered colormap in-place. To remove this warning, you can make a copy of the colormap first. cmap = mpl.cm.get_cmap(\"RdYlBu\").copy()\n",
      "\n",
      "/data/leuven/software/biomed/wice_icelake_rocky8/2021a/software/deepTools/3.5.0-foss-2021a/lib/python3.9/site-packages/deeptools/plotHeatmap.py:738: MatplotlibDeprecationWarning:\n",
      "\n",
      "The 'alpha' parameter to Colorbar has no effect because it is overridden by the mappable; it is deprecated since 3.3 and will be removed two minor releases later.\n",
      "\n",
      "/data/leuven/software/biomed/wice_icelake_rocky8/2021a/software/deepTools/3.5.0-foss-2021a/lib/python3.9/site-packages/deeptools/plotHeatmap.py:770: MatplotlibDeprecationWarning:\n",
      "\n",
      "savefig() got unexpected keyword argument \"pdd_inches\" which is no longer supported as of 3.3 and will become an error two minor releases later\n",
      "\n"
     ]
    }
   ],
   "source": [
    "#Visceral_muscles\n",
    "\n",
    "#dars >1.5 logF in bed fly 10x and HyDrop bed\n",
    "generate_combined_heatmap \\\n",
    "  /lustre1/project/stg_00002/lcb/hydrop_v2_paper/fly/cistopic_LCB_embryo_consensuspeaks/HyDrop_10x_otsu_notdownsampled/DARs/final_embryo_annot_atlas_05112024/all_bed/Visceral_muscles.bed \\\n",
    "  \"HyDrop_v2 10x_v2 sciATAC\" \\\n",
    "  \"/lustre1/project/stg_00002/lcb/hydrop_v2_paper/fly/cistopic_LCB_embryo_consensuspeaks/HyDrop_10x_otsu_notdownsampled/pseudobulk/techxfinal_embryo_annot_atlas_05112024/pseudobulk_bw_files/HyDrop_v2___Visceral_muscles.bw /lustre1/project/stg_00002/lcb/hydrop_v2_paper/fly/cistopic_LCB_embryo_consensuspeaks/HyDrop_10x_otsu_notdownsampled/pseudobulk/techxfinal_embryo_annot_atlas_05112024/pseudobulk_bw_files/10x_v2___Visceral_muscles.bw /user/leuven/350/vsc35050/lcb/hydrop_v2_paper/fly/sci_ATAC/pseudobulk/embyro_annotations_paper/pseudobulk_bw_files/Visceral_muscle.bw\" \\\n",
    "  \"Visceral_muscles\" \"Visceral_muscles__all_bed_combined\" \"0 0 0\" \"3 3 3\"\n"
   ]
  },
  {
   "cell_type": "code",
   "execution_count": 21,
   "id": "395f87fe-555c-4936-afa4-82829f4d96f0",
   "metadata": {
    "collapsed": true,
    "jupyter": {
     "outputs_hidden": true,
     "source_hidden": true
    }
   },
   "outputs": [
    {
     "name": "stdout",
     "output_type": "stream",
     "text": [
      "/data/leuven/software/biomed/wice_icelake_rocky8/2021a/software/deepTools/3.5.0-foss-2021a/lib/python3.9/site-packages/deeptools/plotHeatmap.py:481: MatplotlibDeprecationWarning:\n",
      "\n",
      "You are modifying the state of a globally registered colormap. This has been deprecated since 3.3 and in 3.6, you will not be able to modify a registered colormap in-place. To remove this warning, you can make a copy of the colormap first. cmap = mpl.cm.get_cmap(\"RdYlBu\").copy()\n",
      "\n",
      "/data/leuven/software/biomed/wice_icelake_rocky8/2021a/software/deepTools/3.5.0-foss-2021a/lib/python3.9/site-packages/deeptools/plotHeatmap.py:738: MatplotlibDeprecationWarning:\n",
      "\n",
      "The 'alpha' parameter to Colorbar has no effect because it is overridden by the mappable; it is deprecated since 3.3 and will be removed two minor releases later.\n",
      "\n",
      "/data/leuven/software/biomed/wice_icelake_rocky8/2021a/software/deepTools/3.5.0-foss-2021a/lib/python3.9/site-packages/deeptools/plotHeatmap.py:770: MatplotlibDeprecationWarning:\n",
      "\n",
      "savefig() got unexpected keyword argument \"pdd_inches\" which is no longer supported as of 3.3 and will become an error two minor releases later\n",
      "\n"
     ]
    }
   ],
   "source": [
    "#Midgut\n",
    "\n",
    "#dars >1.5 logF in bed fly 10x and HyDrop bed\n",
    "generate_combined_heatmap \\\n",
    "  /lustre1/project/stg_00002/lcb/hydrop_v2_paper/fly/cistopic_LCB_embryo_consensuspeaks/HyDrop_10x_otsu_notdownsampled/DARs/final_embryo_annot_atlas_05112024/all_bed/Midgut.bed \\\n",
    "  \"HyDrop_v2 10x_v2 sciATAC\" \\\n",
    "  \"/lustre1/project/stg_00002/lcb/hydrop_v2_paper/fly/cistopic_LCB_embryo_consensuspeaks/HyDrop_10x_otsu_notdownsampled/pseudobulk/techxfinal_embryo_annot_atlas_05112024/pseudobulk_bw_files/HyDrop_v2___Midgut.bw /lustre1/project/stg_00002/lcb/hydrop_v2_paper/fly/cistopic_LCB_embryo_consensuspeaks/HyDrop_10x_otsu_notdownsampled/pseudobulk/techxfinal_embryo_annot_atlas_05112024/pseudobulk_bw_files/10x_v2___Midgut.bw /user/leuven/350/vsc35050/lcb/hydrop_v2_paper/fly/sci_ATAC/pseudobulk/embyro_annotations_paper/pseudobulk_bw_files/Midgut.bw\" \\\n",
    "  \"Midgut\" \"Midgut__all_bed_combined\" \"0 0 0\" \"3 3 3\"\n"
   ]
  },
  {
   "cell_type": "code",
   "execution_count": 25,
   "id": "1d62926e-2c9a-45f6-ad80-2df36172c6ca",
   "metadata": {
    "collapsed": true,
    "jupyter": {
     "outputs_hidden": true,
     "source_hidden": true
    }
   },
   "outputs": [
    {
     "name": "stdout",
     "output_type": "stream",
     "text": [
      "/data/leuven/software/biomed/wice_icelake_rocky8/2021a/software/deepTools/3.5.0-foss-2021a/lib/python3.9/site-packages/deeptools/plotHeatmap.py:481: MatplotlibDeprecationWarning:\n",
      "\n",
      "You are modifying the state of a globally registered colormap. This has been deprecated since 3.3 and in 3.6, you will not be able to modify a registered colormap in-place. To remove this warning, you can make a copy of the colormap first. cmap = mpl.cm.get_cmap(\"RdYlBu\").copy()\n",
      "\n",
      "/data/leuven/software/biomed/wice_icelake_rocky8/2021a/software/deepTools/3.5.0-foss-2021a/lib/python3.9/site-packages/deeptools/plotHeatmap.py:738: MatplotlibDeprecationWarning:\n",
      "\n",
      "The 'alpha' parameter to Colorbar has no effect because it is overridden by the mappable; it is deprecated since 3.3 and will be removed two minor releases later.\n",
      "\n",
      "/data/leuven/software/biomed/wice_icelake_rocky8/2021a/software/deepTools/3.5.0-foss-2021a/lib/python3.9/site-packages/deeptools/plotHeatmap.py:770: MatplotlibDeprecationWarning:\n",
      "\n",
      "savefig() got unexpected keyword argument \"pdd_inches\" which is no longer supported as of 3.3 and will become an error two minor releases later\n",
      "\n"
     ]
    }
   ],
   "source": [
    "#Yolk\n",
    "\n",
    "#dars >1.5 logF in bed fly 10x and HyDrop bed\n",
    "generate_combined_heatmap \\\n",
    "  /lustre1/project/stg_00002/lcb/hydrop_v2_paper/fly/cistopic_LCB_embryo_consensuspeaks/HyDrop_10x_otsu_notdownsampled/DARs/final_embryo_annot_atlas_05112024/all_bed/Yolk.bed \\\n",
    "  \"HyDrop_v2 10x_v2 sciATAC\" \\\n",
    "  \"/lustre1/project/stg_00002/lcb/hydrop_v2_paper/fly/cistopic_LCB_embryo_consensuspeaks/HyDrop_10x_otsu_notdownsampled/pseudobulk/techxfinal_embryo_annot_atlas_05112024/pseudobulk_bw_files/HyDrop_v2___Yolk.bw /lustre1/project/stg_00002/lcb/hydrop_v2_paper/fly/cistopic_LCB_embryo_consensuspeaks/HyDrop_10x_otsu_notdownsampled/pseudobulk/techxfinal_embryo_annot_atlas_05112024/pseudobulk_bw_files/10x_v2___Yolk.bw /user/leuven/350/vsc35050/lcb/hydrop_v2_paper/fly/sci_ATAC/pseudobulk/embyro_annotations_paper/pseudobulk_bw_files/Yolk.bw\" \\\n",
    "  \"Yolk\" \"Yolk__all_bed_combined\" \"0 0 0\" \"3 3 3\"\n"
   ]
  },
  {
   "cell_type": "code",
   "execution_count": 26,
   "id": "04bb754d-7ba9-4853-b31d-e24d97fa8f9a",
   "metadata": {
    "collapsed": true,
    "jupyter": {
     "outputs_hidden": true,
     "source_hidden": true
    }
   },
   "outputs": [
    {
     "name": "stdout",
     "output_type": "stream",
     "text": [
      "/data/leuven/software/biomed/wice_icelake_rocky8/2021a/software/deepTools/3.5.0-foss-2021a/lib/python3.9/site-packages/deeptools/plotHeatmap.py:481: MatplotlibDeprecationWarning:\n",
      "\n",
      "You are modifying the state of a globally registered colormap. This has been deprecated since 3.3 and in 3.6, you will not be able to modify a registered colormap in-place. To remove this warning, you can make a copy of the colormap first. cmap = mpl.cm.get_cmap(\"RdYlBu\").copy()\n",
      "\n",
      "/data/leuven/software/biomed/wice_icelake_rocky8/2021a/software/deepTools/3.5.0-foss-2021a/lib/python3.9/site-packages/deeptools/plotHeatmap.py:738: MatplotlibDeprecationWarning:\n",
      "\n",
      "The 'alpha' parameter to Colorbar has no effect because it is overridden by the mappable; it is deprecated since 3.3 and will be removed two minor releases later.\n",
      "\n",
      "/data/leuven/software/biomed/wice_icelake_rocky8/2021a/software/deepTools/3.5.0-foss-2021a/lib/python3.9/site-packages/deeptools/plotHeatmap.py:770: MatplotlibDeprecationWarning:\n",
      "\n",
      "savefig() got unexpected keyword argument \"pdd_inches\" which is no longer supported as of 3.3 and will become an error two minor releases later\n",
      "\n"
     ]
    }
   ],
   "source": [
    "#Hindgut\n",
    "\n",
    "#dars >1.5 logF in bed fly 10x and HyDrop bed\n",
    "generate_combined_heatmap \\\n",
    "  /lustre1/project/stg_00002/lcb/hydrop_v2_paper/fly/cistopic_LCB_embryo_consensuspeaks/HyDrop_10x_otsu_notdownsampled/DARs/final_embryo_annot_atlas_05112024/all_bed/Hindgut.bed \\\n",
    "  \"HyDrop_v2 10x_v2 sciATAC\" \\\n",
    "  \"/lustre1/project/stg_00002/lcb/hydrop_v2_paper/fly/cistopic_LCB_embryo_consensuspeaks/HyDrop_10x_otsu_notdownsampled/pseudobulk/techxfinal_embryo_annot_atlas_05112024/pseudobulk_bw_files/HyDrop_v2___Hindgut.bw /lustre1/project/stg_00002/lcb/hydrop_v2_paper/fly/cistopic_LCB_embryo_consensuspeaks/HyDrop_10x_otsu_notdownsampled/pseudobulk/techxfinal_embryo_annot_atlas_05112024/pseudobulk_bw_files/10x_v2___Hindgut.bw /user/leuven/350/vsc35050/lcb/hydrop_v2_paper/fly/sci_ATAC/pseudobulk/embyro_annotations_paper/pseudobulk_bw_files/Hindgut.bw\" \\\n",
    "  \"Hindgut\" \"Hindgut__all_bed_combined\" \"0 0 0\" \"3 3 3\"\n"
   ]
  },
  {
   "cell_type": "code",
   "execution_count": 27,
   "id": "f9127f0c-c916-42dd-a139-85a2e0ee7a81",
   "metadata": {
    "collapsed": true,
    "jupyter": {
     "outputs_hidden": true,
     "source_hidden": true
    }
   },
   "outputs": [
    {
     "name": "stdout",
     "output_type": "stream",
     "text": [
      "/data/leuven/software/biomed/wice_icelake_rocky8/2021a/software/deepTools/3.5.0-foss-2021a/lib/python3.9/site-packages/deeptools/plotHeatmap.py:481: MatplotlibDeprecationWarning:\n",
      "\n",
      "You are modifying the state of a globally registered colormap. This has been deprecated since 3.3 and in 3.6, you will not be able to modify a registered colormap in-place. To remove this warning, you can make a copy of the colormap first. cmap = mpl.cm.get_cmap(\"RdYlBu\").copy()\n",
      "\n",
      "/data/leuven/software/biomed/wice_icelake_rocky8/2021a/software/deepTools/3.5.0-foss-2021a/lib/python3.9/site-packages/deeptools/plotHeatmap.py:738: MatplotlibDeprecationWarning:\n",
      "\n",
      "The 'alpha' parameter to Colorbar has no effect because it is overridden by the mappable; it is deprecated since 3.3 and will be removed two minor releases later.\n",
      "\n",
      "/data/leuven/software/biomed/wice_icelake_rocky8/2021a/software/deepTools/3.5.0-foss-2021a/lib/python3.9/site-packages/deeptools/plotHeatmap.py:770: MatplotlibDeprecationWarning:\n",
      "\n",
      "savefig() got unexpected keyword argument \"pdd_inches\" which is no longer supported as of 3.3 and will become an error two minor releases later\n",
      "\n"
     ]
    }
   ],
   "source": [
    "#Pharnyx\n",
    "\n",
    "#dars >1.5 logF in bed fly 10x and HyDrop bed\n",
    "generate_combined_heatmap \\\n",
    "  /lustre1/project/stg_00002/lcb/hydrop_v2_paper/fly/cistopic_LCB_embryo_consensuspeaks/HyDrop_10x_otsu_notdownsampled/DARs/final_embryo_annot_atlas_05112024/all_bed/Pharnyx.bed \\\n",
    "  \"HyDrop_v2 10x_v2 sciATAC\" \\\n",
    "  \"/lustre1/project/stg_00002/lcb/hydrop_v2_paper/fly/cistopic_LCB_embryo_consensuspeaks/HyDrop_10x_otsu_notdownsampled/pseudobulk/techxfinal_embryo_annot_atlas_05112024/pseudobulk_bw_files/HyDrop_v2___Pharnyx.bw /lustre1/project/stg_00002/lcb/hydrop_v2_paper/fly/cistopic_LCB_embryo_consensuspeaks/HyDrop_10x_otsu_notdownsampled/pseudobulk/techxfinal_embryo_annot_atlas_05112024/pseudobulk_bw_files/10x_v2___Pharnyx.bw /user/leuven/350/vsc35050/lcb/hydrop_v2_paper/fly/sci_ATAC/pseudobulk/embyro_annotations_paper/pseudobulk_bw_files/Pharnyx.bw\" \\\n",
    "  \"Pharnyx\" \"Pharnyx__all_bed_combined\" \"0 0 0\" \"3 3 3\"\n"
   ]
  },
  {
   "cell_type": "code",
   "execution_count": 28,
   "id": "697eb06c-211d-476e-b074-456d3a7293d7",
   "metadata": {
    "collapsed": true,
    "jupyter": {
     "outputs_hidden": true,
     "source_hidden": true
    }
   },
   "outputs": [
    {
     "name": "stdout",
     "output_type": "stream",
     "text": [
      "/data/leuven/software/biomed/wice_icelake_rocky8/2021a/software/deepTools/3.5.0-foss-2021a/lib/python3.9/site-packages/deeptools/plotHeatmap.py:481: MatplotlibDeprecationWarning:\n",
      "\n",
      "You are modifying the state of a globally registered colormap. This has been deprecated since 3.3 and in 3.6, you will not be able to modify a registered colormap in-place. To remove this warning, you can make a copy of the colormap first. cmap = mpl.cm.get_cmap(\"RdYlBu\").copy()\n",
      "\n",
      "/data/leuven/software/biomed/wice_icelake_rocky8/2021a/software/deepTools/3.5.0-foss-2021a/lib/python3.9/site-packages/deeptools/plotHeatmap.py:738: MatplotlibDeprecationWarning:\n",
      "\n",
      "The 'alpha' parameter to Colorbar has no effect because it is overridden by the mappable; it is deprecated since 3.3 and will be removed two minor releases later.\n",
      "\n",
      "/data/leuven/software/biomed/wice_icelake_rocky8/2021a/software/deepTools/3.5.0-foss-2021a/lib/python3.9/site-packages/deeptools/plotHeatmap.py:770: MatplotlibDeprecationWarning:\n",
      "\n",
      "savefig() got unexpected keyword argument \"pdd_inches\" which is no longer supported as of 3.3 and will become an error two minor releases later\n",
      "\n"
     ]
    }
   ],
   "source": [
    "#Fat_body\n",
    "\n",
    "#dars >1.5 logF in bed fly 10x and HyDrop bed\n",
    "generate_combined_heatmap \\\n",
    "  /lustre1/project/stg_00002/lcb/hydrop_v2_paper/fly/cistopic_LCB_embryo_consensuspeaks/HyDrop_10x_otsu_notdownsampled/DARs/final_embryo_annot_atlas_05112024/all_bed/Fat_body.bed \\\n",
    "  \"HyDrop_v2 10x_v2 sciATAC\" \\\n",
    "  \"/lustre1/project/stg_00002/lcb/hydrop_v2_paper/fly/cistopic_LCB_embryo_consensuspeaks/HyDrop_10x_otsu_notdownsampled/pseudobulk/techxfinal_embryo_annot_atlas_05112024/pseudobulk_bw_files/HyDrop_v2___Fat_body.bw /lustre1/project/stg_00002/lcb/hydrop_v2_paper/fly/cistopic_LCB_embryo_consensuspeaks/HyDrop_10x_otsu_notdownsampled/pseudobulk/techxfinal_embryo_annot_atlas_05112024/pseudobulk_bw_files/10x_v2___Fat_body.bw /user/leuven/350/vsc35050/lcb/hydrop_v2_paper/fly/sci_ATAC/pseudobulk/embyro_annotations_paper/pseudobulk_bw_files/Fatbody.bw\" \\\n",
    "  \"Fat_body\" \"Fat_body__all_bed_combined\" \"0 0 0\" \"3 3 3\"\n"
   ]
  },
  {
   "cell_type": "code",
   "execution_count": 29,
   "id": "e6bb3c84-3400-4046-a07e-e147b8f1eb62",
   "metadata": {
    "collapsed": true,
    "jupyter": {
     "outputs_hidden": true,
     "source_hidden": true
    }
   },
   "outputs": [
    {
     "name": "stdout",
     "output_type": "stream",
     "text": [
      "/data/leuven/software/biomed/wice_icelake_rocky8/2021a/software/deepTools/3.5.0-foss-2021a/lib/python3.9/site-packages/deeptools/plotHeatmap.py:481: MatplotlibDeprecationWarning:\n",
      "\n",
      "You are modifying the state of a globally registered colormap. This has been deprecated since 3.3 and in 3.6, you will not be able to modify a registered colormap in-place. To remove this warning, you can make a copy of the colormap first. cmap = mpl.cm.get_cmap(\"RdYlBu\").copy()\n",
      "\n",
      "/data/leuven/software/biomed/wice_icelake_rocky8/2021a/software/deepTools/3.5.0-foss-2021a/lib/python3.9/site-packages/deeptools/plotHeatmap.py:738: MatplotlibDeprecationWarning:\n",
      "\n",
      "The 'alpha' parameter to Colorbar has no effect because it is overridden by the mappable; it is deprecated since 3.3 and will be removed two minor releases later.\n",
      "\n",
      "/data/leuven/software/biomed/wice_icelake_rocky8/2021a/software/deepTools/3.5.0-foss-2021a/lib/python3.9/site-packages/deeptools/plotHeatmap.py:770: MatplotlibDeprecationWarning:\n",
      "\n",
      "savefig() got unexpected keyword argument \"pdd_inches\" which is no longer supported as of 3.3 and will become an error two minor releases later\n",
      "\n"
     ]
    }
   ],
   "source": [
    "#PNS_sens_neurons\n",
    "\n",
    "#dars >1.5 logF in bed fly 10x and HyDrop bed\n",
    "generate_combined_heatmap \\\n",
    "  /lustre1/project/stg_00002/lcb/hydrop_v2_paper/fly/cistopic_LCB_embryo_consensuspeaks/HyDrop_10x_otsu_notdownsampled/DARs/final_embryo_annot_atlas_05112024/all_bed/PNS_sens_neurons.bed \\\n",
    "  \"HyDrop_v2 10x_v2 sciATAC\" \\\n",
    "  \"/lustre1/project/stg_00002/lcb/hydrop_v2_paper/fly/cistopic_LCB_embryo_consensuspeaks/HyDrop_10x_otsu_notdownsampled/pseudobulk/techxfinal_embryo_annot_atlas_05112024/pseudobulk_bw_files/HyDrop_v2___PNS_sens_neurons.bw /lustre1/project/stg_00002/lcb/hydrop_v2_paper/fly/cistopic_LCB_embryo_consensuspeaks/HyDrop_10x_otsu_notdownsampled/pseudobulk/techxfinal_embryo_annot_atlas_05112024/pseudobulk_bw_files/10x_v2___PNS_sens_neurons.bw /user/leuven/350/vsc35050/lcb/hydrop_v2_paper/fly/sci_ATAC/pseudobulk/embyro_annotations_paper/pseudobulk_bw_files/PNS_sense.bw\" \\\n",
    "  \"PNS_sens_neurons\" \"PNS_sens_neurons__all_bed_combined\" \"0 0 0\" \"3 3 3\"\n"
   ]
  },
  {
   "cell_type": "code",
   "execution_count": 30,
   "id": "11fdd83e-b7aa-4eca-8304-114c88b7ad49",
   "metadata": {
    "collapsed": true,
    "jupyter": {
     "outputs_hidden": true,
     "source_hidden": true
    }
   },
   "outputs": [
    {
     "name": "stdout",
     "output_type": "stream",
     "text": [
      "/data/leuven/software/biomed/wice_icelake_rocky8/2021a/software/deepTools/3.5.0-foss-2021a/lib/python3.9/site-packages/deeptools/plotHeatmap.py:481: MatplotlibDeprecationWarning:\n",
      "\n",
      "You are modifying the state of a globally registered colormap. This has been deprecated since 3.3 and in 3.6, you will not be able to modify a registered colormap in-place. To remove this warning, you can make a copy of the colormap first. cmap = mpl.cm.get_cmap(\"RdYlBu\").copy()\n",
      "\n",
      "/data/leuven/software/biomed/wice_icelake_rocky8/2021a/software/deepTools/3.5.0-foss-2021a/lib/python3.9/site-packages/deeptools/plotHeatmap.py:738: MatplotlibDeprecationWarning:\n",
      "\n",
      "The 'alpha' parameter to Colorbar has no effect because it is overridden by the mappable; it is deprecated since 3.3 and will be removed two minor releases later.\n",
      "\n",
      "/data/leuven/software/biomed/wice_icelake_rocky8/2021a/software/deepTools/3.5.0-foss-2021a/lib/python3.9/site-packages/deeptools/plotHeatmap.py:770: MatplotlibDeprecationWarning:\n",
      "\n",
      "savefig() got unexpected keyword argument \"pdd_inches\" which is no longer supported as of 3.3 and will become an error two minor releases later\n",
      "\n"
     ]
    }
   ],
   "source": [
    "#Somatic_muscles\n",
    "\n",
    "#dars >1.5 logF in bed fly 10x and HyDrop bed\n",
    "generate_combined_heatmap \\\n",
    "  /lustre1/project/stg_00002/lcb/hydrop_v2_paper/fly/cistopic_LCB_embryo_consensuspeaks/HyDrop_10x_otsu_notdownsampled/DARs/final_embryo_annot_atlas_05112024/all_bed/Somatic_muscles.bed \\\n",
    "  \"HyDrop_v2 10x_v2 sciATAC\" \\\n",
    "  \"/lustre1/project/stg_00002/lcb/hydrop_v2_paper/fly/cistopic_LCB_embryo_consensuspeaks/HyDrop_10x_otsu_notdownsampled/pseudobulk/techxfinal_embryo_annot_atlas_05112024/pseudobulk_bw_files/HyDrop_v2___Somatic_muscles.bw /lustre1/project/stg_00002/lcb/hydrop_v2_paper/fly/cistopic_LCB_embryo_consensuspeaks/HyDrop_10x_otsu_notdownsampled/pseudobulk/techxfinal_embryo_annot_atlas_05112024/pseudobulk_bw_files/10x_v2___Somatic_muscles.bw /user/leuven/350/vsc35050/lcb/hydrop_v2_paper/fly/sci_ATAC/pseudobulk/embyro_annotations_paper/pseudobulk_bw_files/Somatic_muscle.bw\" \\\n",
    "  \"Somatic_muscles\" \"Somatic_muscles__all_bed_combined\" \"0 0 0\" \"3 3 3\"\n"
   ]
  },
  {
   "cell_type": "code",
   "execution_count": 40,
   "id": "a9bc0744-112f-4b9d-8754-f8cebda790e0",
   "metadata": {},
   "outputs": [],
   "source": [
    "generate_combined_heatmap() {\n",
    "  local bed_file=$1\n",
    "  local sample_labels=$2   # Sample labels combined (space-separated)\n",
    "  local bigwig_files=$3    # BigWig file paths combined (space-separated)\n",
    "  local cell_type=$4\n",
    "  local output_prefix=$5\n",
    "  local z_min_list=$6      # Space-separated list of zMin values (one per sample)\n",
    "  local z_max_list=$7      # Space-separated list of zMax values (one per sample)\n",
    "\n",
    "  # Compute matrix for all samples together\n",
    "  computeMatrix reference-point \\\n",
    "    -R ${bed_file} \\\n",
    "    -S ${bigwig_files} \\\n",
    "    --referencePoint center \\\n",
    "    -b 2000 -a 2000 \\\n",
    "    -out ${output_prefix}_matrix.gz \\\n",
    "    --missingDataAsZero\n",
    "\n",
    "  # Plot combined heatmap with per-sample zMin and zMax values\n",
    "  plotHeatmap -m ${output_prefix}_matrix.gz \\\n",
    "    --dpi 300 \\\n",
    "    --whatToShow 'heatmap and colorbar' \\\n",
    "    --plotFileFormat svg \\\n",
    "    --xAxisLabel '' \\\n",
    "    --regionsLabel '' \\\n",
    "    --samplesLabel ${sample_labels} \\\n",
    "    -T \"${cell_type}\" \\\n",
    "    --zMin ${z_min_list} \\\n",
    "    --zMax ${z_max_list} \\\n",
    "    --heatmapHeight 10 --heatmapWidth 5 \\\n",
    "    -out ${output_prefix}_heatmap.svg\n",
    "}"
   ]
  },
  {
   "cell_type": "code",
   "execution_count": 41,
   "id": "e9e1ee06-e345-474a-8221-c5334a918723",
   "metadata": {},
   "outputs": [
    {
     "name": "stdout",
     "output_type": "stream",
     "text": [
      "/data/leuven/software/biomed/wice_icelake_rocky8/2021a/software/deepTools/3.5.0-foss-2021a/lib/python3.9/site-packages/deeptools/plotHeatmap.py:481: MatplotlibDeprecationWarning:\n",
      "\n",
      "You are modifying the state of a globally registered colormap. This has been deprecated since 3.3 and in 3.6, you will not be able to modify a registered colormap in-place. To remove this warning, you can make a copy of the colormap first. cmap = mpl.cm.get_cmap(\"RdYlBu\").copy()\n",
      "\n",
      "/data/leuven/software/biomed/wice_icelake_rocky8/2021a/software/deepTools/3.5.0-foss-2021a/lib/python3.9/site-packages/deeptools/plotHeatmap.py:738: MatplotlibDeprecationWarning:\n",
      "\n",
      "The 'alpha' parameter to Colorbar has no effect because it is overridden by the mappable; it is deprecated since 3.3 and will be removed two minor releases later.\n",
      "\n",
      "/data/leuven/software/biomed/wice_icelake_rocky8/2021a/software/deepTools/3.5.0-foss-2021a/lib/python3.9/site-packages/deeptools/plotHeatmap.py:770: MatplotlibDeprecationWarning:\n",
      "\n",
      "savefig() got unexpected keyword argument \"pdd_inches\" which is no longer supported as of 3.3 and will become an error two minor releases later\n",
      "\n"
     ]
    }
   ],
   "source": [
    "#GLIA\n",
    "generate_combined_heatmap \\\n",
    "  /lustre1/project/stg_00002/lcb/hydrop_v2_paper/fly/cistopic_LCB_embryo_consensuspeaks/HyDrop_10x_otsu_notdownsampled/DARs/final_embryo_annot_atlas_05112024/all_bed/Glia.bed \\\n",
    "  \"HyDrop_v2 10x_v2 sciATAC\" \\\n",
    "  \"/lustre1/project/stg_00002/lcb/hydrop_v2_paper/fly/cistopic_LCB_embryo_consensuspeaks/HyDrop_10x_otsu_notdownsampled/pseudobulk/techxfinal_embryo_annot_atlas_05112024/pseudobulk_bw_files/HyDrop_v2___Glia.bw /lustre1/project/stg_00002/lcb/hydrop_v2_paper/fly/cistopic_LCB_embryo_consensuspeaks/HyDrop_10x_otsu_notdownsampled/pseudobulk/techxfinal_embryo_annot_atlas_05112024/pseudobulk_bw_files/10x_v2___Glia.bw /user/leuven/350/vsc35050/lcb/hydrop_v2_paper/fly/sci_ATAC/pseudobulk/embyro_annotations_paper/pseudobulk_bw_files/Glia.bw\" \\\n",
    "  \"Glia\" \"Glia__v3_all_bed_combined\" \"0 0 0\" \"3 3 15\"\n"
   ]
  },
  {
   "cell_type": "code",
   "execution_count": 42,
   "id": "da49c13e-2801-46f9-a9dd-0204724f99eb",
   "metadata": {},
   "outputs": [],
   "source": [
    "generate_combined_heatmap() {\n",
    "  local bed_file=$1\n",
    "  local sample_labels=$2   # Sample labels combined (space-separated)\n",
    "  local bigwig_files=$3    # BigWig file paths combined (space-separated)\n",
    "  local cell_type=$4\n",
    "  local output_prefix=$5\n",
    "  local z_min_list=$6      # Space-separated list of zMin values (one per sample)\n",
    "  local z_max_list=$7      # Space-separated list of zMax values (one per sample)\n",
    "\n",
    "  # Compute matrix for all samples together\n",
    "  computeMatrix reference-point \\\n",
    "    -R ${bed_file} \\\n",
    "    -S ${bigwig_files} \\\n",
    "    --referencePoint center \\\n",
    "    -b 500 -a 500 \\\n",
    "    -out ${output_prefix}_matrix.gz \\\n",
    "    --missingDataAsZero\n",
    "\n",
    "  # Plot combined heatmap with per-sample zMin and zMax values\n",
    "  plotHeatmap -m ${output_prefix}_matrix.gz \\\n",
    "    --dpi 300 \\\n",
    "    --whatToShow 'heatmap and colorbar' \\\n",
    "    --plotFileFormat svg \\\n",
    "    --xAxisLabel '' \\\n",
    "    --regionsLabel '' \\\n",
    "    --samplesLabel ${sample_labels} \\\n",
    "    -T \"${cell_type}\" \\\n",
    "    --zMin ${z_min_list} \\\n",
    "    --zMax ${z_max_list} \\\n",
    "    --heatmapHeight 10 --heatmapWidth 5 \\\n",
    "    -out ${output_prefix}_heatmap.svg\n",
    "}"
   ]
  },
  {
   "cell_type": "code",
   "execution_count": 43,
   "id": "13c200a6-2a0d-4169-8745-15b8c572e95b",
   "metadata": {},
   "outputs": [
    {
     "name": "stdout",
     "output_type": "stream",
     "text": [
      "/data/leuven/software/biomed/wice_icelake_rocky8/2021a/software/deepTools/3.5.0-foss-2021a/lib/python3.9/site-packages/deeptools/plotHeatmap.py:481: MatplotlibDeprecationWarning:\n",
      "\n",
      "You are modifying the state of a globally registered colormap. This has been deprecated since 3.3 and in 3.6, you will not be able to modify a registered colormap in-place. To remove this warning, you can make a copy of the colormap first. cmap = mpl.cm.get_cmap(\"RdYlBu\").copy()\n",
      "\n",
      "/data/leuven/software/biomed/wice_icelake_rocky8/2021a/software/deepTools/3.5.0-foss-2021a/lib/python3.9/site-packages/deeptools/plotHeatmap.py:738: MatplotlibDeprecationWarning:\n",
      "\n",
      "The 'alpha' parameter to Colorbar has no effect because it is overridden by the mappable; it is deprecated since 3.3 and will be removed two minor releases later.\n",
      "\n",
      "/data/leuven/software/biomed/wice_icelake_rocky8/2021a/software/deepTools/3.5.0-foss-2021a/lib/python3.9/site-packages/deeptools/plotHeatmap.py:770: MatplotlibDeprecationWarning:\n",
      "\n",
      "savefig() got unexpected keyword argument \"pdd_inches\" which is no longer supported as of 3.3 and will become an error two minor releases later\n",
      "\n"
     ]
    }
   ],
   "source": [
    "#GLIA\n",
    "generate_combined_heatmap \\\n",
    "  /lustre1/project/stg_00002/lcb/hydrop_v2_paper/fly/cistopic_LCB_embryo_consensuspeaks/HyDrop_10x_otsu_notdownsampled/DARs/final_embryo_annot_atlas_05112024/all_bed/Glia.bed \\\n",
    "  \"HyDrop_v2 10x_v2 sciATAC\" \\\n",
    "  \"/lustre1/project/stg_00002/lcb/hydrop_v2_paper/fly/cistopic_LCB_embryo_consensuspeaks/HyDrop_10x_otsu_notdownsampled/pseudobulk/techxfinal_embryo_annot_atlas_05112024/pseudobulk_bw_files/HyDrop_v2___Glia.bw /lustre1/project/stg_00002/lcb/hydrop_v2_paper/fly/cistopic_LCB_embryo_consensuspeaks/HyDrop_10x_otsu_notdownsampled/pseudobulk/techxfinal_embryo_annot_atlas_05112024/pseudobulk_bw_files/10x_v2___Glia.bw /user/leuven/350/vsc35050/lcb/hydrop_v2_paper/fly/sci_ATAC/pseudobulk/embyro_annotations_paper/pseudobulk_bw_files/Glia.bw\" \\\n",
    "  \"Glia\" \"Glia__v4_all_bed_combined\" \"0 0 0\" \"3 3 15\"\n"
   ]
  },
  {
   "cell_type": "code",
   "execution_count": 44,
   "id": "bcfed782-95a3-4a3b-8005-5d0ff9b492b5",
   "metadata": {},
   "outputs": [],
   "source": [
    "generate_combined_heatmap() {\n",
    "  local bed_file=$1\n",
    "  local sample_labels=$2   # Sample labels combined (space-separated)\n",
    "  local bigwig_files=$3    # BigWig file paths combined (space-separated)\n",
    "  local cell_type=$4\n",
    "  local output_prefix=$5\n",
    "  local z_min_list=$6      # Space-separated list of zMin values (one per sample)\n",
    "  local z_max_list=$7      # Space-separated list of zMax values (one per sample)\n",
    "\n",
    "  # Compute matrix for all samples together\n",
    "  computeMatrix reference-point \\\n",
    "    -R ${bed_file} \\\n",
    "    -S ${bigwig_files} \\\n",
    "    --referencePoint center \\\n",
    "    -b 250 -a 250 \\\n",
    "    -out ${output_prefix}_matrix.gz \\\n",
    "    --missingDataAsZero\n",
    "\n",
    "  # Plot combined heatmap with per-sample zMin and zMax values\n",
    "  plotHeatmap -m ${output_prefix}_matrix.gz \\\n",
    "    --dpi 300 \\\n",
    "    --whatToShow 'heatmap and colorbar' \\\n",
    "    --plotFileFormat svg \\\n",
    "    --xAxisLabel '' \\\n",
    "    --regionsLabel '' \\\n",
    "    --samplesLabel ${sample_labels} \\\n",
    "    -T \"${cell_type}\" \\\n",
    "    --zMin ${z_min_list} \\\n",
    "    --zMax ${z_max_list} \\\n",
    "    --heatmapHeight 10 --heatmapWidth 5 \\\n",
    "    -out ${output_prefix}_heatmap.svg\n",
    "}"
   ]
  },
  {
   "cell_type": "code",
   "execution_count": 45,
   "id": "d98b1bb4-3b56-412a-bc53-5ef91b7c68d4",
   "metadata": {},
   "outputs": [
    {
     "name": "stdout",
     "output_type": "stream",
     "text": [
      "/data/leuven/software/biomed/wice_icelake_rocky8/2021a/software/deepTools/3.5.0-foss-2021a/lib/python3.9/site-packages/deeptools/plotHeatmap.py:481: MatplotlibDeprecationWarning:\n",
      "\n",
      "You are modifying the state of a globally registered colormap. This has been deprecated since 3.3 and in 3.6, you will not be able to modify a registered colormap in-place. To remove this warning, you can make a copy of the colormap first. cmap = mpl.cm.get_cmap(\"RdYlBu\").copy()\n",
      "\n",
      "/data/leuven/software/biomed/wice_icelake_rocky8/2021a/software/deepTools/3.5.0-foss-2021a/lib/python3.9/site-packages/deeptools/plotHeatmap.py:738: MatplotlibDeprecationWarning:\n",
      "\n",
      "The 'alpha' parameter to Colorbar has no effect because it is overridden by the mappable; it is deprecated since 3.3 and will be removed two minor releases later.\n",
      "\n",
      "/data/leuven/software/biomed/wice_icelake_rocky8/2021a/software/deepTools/3.5.0-foss-2021a/lib/python3.9/site-packages/deeptools/plotHeatmap.py:770: MatplotlibDeprecationWarning:\n",
      "\n",
      "savefig() got unexpected keyword argument \"pdd_inches\" which is no longer supported as of 3.3 and will become an error two minor releases later\n",
      "\n"
     ]
    }
   ],
   "source": [
    "#GLIA\n",
    "generate_combined_heatmap \\\n",
    "  /lustre1/project/stg_00002/lcb/hydrop_v2_paper/fly/cistopic_LCB_embryo_consensuspeaks/HyDrop_10x_otsu_notdownsampled/DARs/final_embryo_annot_atlas_05112024/all_bed/Glia.bed \\\n",
    "  \"HyDrop_v2 10x_v2 sciATAC\" \\\n",
    "  \"/lustre1/project/stg_00002/lcb/hydrop_v2_paper/fly/cistopic_LCB_embryo_consensuspeaks/HyDrop_10x_otsu_notdownsampled/pseudobulk/techxfinal_embryo_annot_atlas_05112024/pseudobulk_bw_files/HyDrop_v2___Glia.bw /lustre1/project/stg_00002/lcb/hydrop_v2_paper/fly/cistopic_LCB_embryo_consensuspeaks/HyDrop_10x_otsu_notdownsampled/pseudobulk/techxfinal_embryo_annot_atlas_05112024/pseudobulk_bw_files/10x_v2___Glia.bw /user/leuven/350/vsc35050/lcb/hydrop_v2_paper/fly/sci_ATAC/pseudobulk/embyro_annotations_paper/pseudobulk_bw_files/Glia.bw\" \\\n",
    "  \"Glia\" \"Glia__v5_all_bed_combined\" \"0 0 0\" \"3 3 15\"\n"
   ]
  },
  {
   "cell_type": "code",
   "execution_count": 50,
   "id": "c150d6e6-2cb6-4b21-bbdf-01cce3739a3b",
   "metadata": {},
   "outputs": [],
   "source": [
    "generate_combined_heatmap() {\n",
    "  local bed_file=$1\n",
    "  local sample_labels=$2   # Sample labels combined (space-separated)\n",
    "  local bigwig_files=$3    # BigWig file paths combined (space-separated)\n",
    "  local cell_type=$4\n",
    "  local output_prefix=$5\n",
    "  local z_min_list=$6      # Space-separated list of zMin values (one per sample)\n",
    "  local z_max_list=$7      # Space-separated list of zMax values (one per sample)\n",
    "\n",
    "  # Compute matrix for all samples together\n",
    "  computeMatrix reference-point \\\n",
    "    -R ${bed_file} \\\n",
    "    -S ${bigwig_files} \\\n",
    "    --referencePoint center \\\n",
    "    -b 500 -a 500 \\\n",
    "    -out ${output_prefix}_matrix.gz \\\n",
    "    --missingDataAsZero \\\n",
    "    -p\n",
    "\n",
    "  # Plot combined heatmap with per-sample zMin and zMax values\n",
    "  plotHeatmap -m ${output_prefix}_matrix.gz \\\n",
    "    --dpi 300 \\\n",
    "    --whatToShow 'heatmap and colorbar' \\\n",
    "    --plotFileFormat svg \\\n",
    "    --xAxisLabel '' \\\n",
    "    --regionsLabel '' \\\n",
    "    --samplesLabel ${sample_labels} \\\n",
    "    -T \"${cell_type}\" \\\n",
    "    --zMin ${z_min_list} \\\n",
    "    --zMax ${z_max_list} \\\n",
    "    --heatmapHeight 10 --heatmapWidth 5 \\\n",
    "    -out ${output_prefix}_heatmap.svg\n",
    "}"
   ]
  },
  {
   "cell_type": "code",
   "execution_count": 53,
   "id": "ad92d1f2-60fb-44ad-a94a-f839b08290a5",
   "metadata": {},
   "outputs": [
    {
     "name": "stdout",
     "output_type": "stream",
     "text": [
      "/data/leuven/software/biomed/wice_icelake_rocky8/2021a/software/deepTools/3.5.0-foss-2021a/lib/python3.9/site-packages/deeptools/plotHeatmap.py:481: MatplotlibDeprecationWarning:\n",
      "\n",
      "You are modifying the state of a globally registered colormap. This has been deprecated since 3.3 and in 3.6, you will not be able to modify a registered colormap in-place. To remove this warning, you can make a copy of the colormap first. cmap = mpl.cm.get_cmap(\"RdYlBu\").copy()\n",
      "\n",
      "/data/leuven/software/biomed/wice_icelake_rocky8/2021a/software/deepTools/3.5.0-foss-2021a/lib/python3.9/site-packages/deeptools/plotHeatmap.py:738: MatplotlibDeprecationWarning:\n",
      "\n",
      "The 'alpha' parameter to Colorbar has no effect because it is overridden by the mappable; it is deprecated since 3.3 and will be removed two minor releases later.\n",
      "\n",
      "/data/leuven/software/biomed/wice_icelake_rocky8/2021a/software/deepTools/3.5.0-foss-2021a/lib/python3.9/site-packages/deeptools/plotHeatmap.py:770: MatplotlibDeprecationWarning:\n",
      "\n",
      "savefig() got unexpected keyword argument \"pdd_inches\" which is no longer supported as of 3.3 and will become an error two minor releases later\n",
      "\n"
     ]
    }
   ],
   "source": [
    "#GLIA\n",
    "generate_combined_heatmap \\\n",
    "  /lustre1/project/stg_00002/lcb/hydrop_v2_paper/fly/sci_ATAC/DARs/bed_embyro_annotations_paper_sciATAC_nochr_all_bed/Glia.bed \\\n",
    "  \"HyDrop_v2 10x_v2 sciATAC\" \\\n",
    "  \"/lustre1/project/stg_00002/lcb/hydrop_v2_paper/fly/cistopic_LCB_embryo_consensuspeaks/HyDrop_10x_otsu_notdownsampled/pseudobulk/techxfinal_embryo_annot_atlas_05112024/pseudobulk_bw_files/HyDrop_v2___Glia.bw /lustre1/project/stg_00002/lcb/hydrop_v2_paper/fly/cistopic_LCB_embryo_consensuspeaks/HyDrop_10x_otsu_notdownsampled/pseudobulk/techxfinal_embryo_annot_atlas_05112024/pseudobulk_bw_files/10x_v2___Glia.bw /user/leuven/350/vsc35050/lcb/hydrop_v2_paper/fly/sci_ATAC/pseudobulk/embyro_annotations_paper/pseudobulk_bw_files/Glia.bw\" \\\n",
    "  \"Glia\" \"Glia__v6_all_bed_combined\" \"0 0 0\" \"1 3 15\"\n"
   ]
  },
  {
   "cell_type": "markdown",
   "id": "54e400c1-7ca3-47cf-a145-50fb6459abf4",
   "metadata": {},
   "source": [
    "# cut site bws"
   ]
  },
  {
   "cell_type": "code",
   "execution_count": 57,
   "id": "df9e185d-c40b-4454-974e-550f4e6c8385",
   "metadata": {},
   "outputs": [],
   "source": [
    "generate_combined_heatmap() {\n",
    "  local bed_file=$1\n",
    "  local sample_labels=$2   # Sample labels combined (space-separated)\n",
    "  local bigwig_files=$3    # BigWig file paths combined (space-separated)\n",
    "  local cell_type=$4\n",
    "  local output_prefix=$5\n",
    "  local z_min_list=$6      # Space-separated list of zMin values (one per sample)\n",
    "  local z_max_list=$7      # Space-separated list of zMax values (one per sample)\n",
    "\n",
    "  # Compute matrix for all samples together\n",
    "  computeMatrix reference-point \\\n",
    "    -R ${bed_file} \\\n",
    "    -S ${bigwig_files} \\\n",
    "    --referencePoint center \\\n",
    "    -b 500 -a 500 \\\n",
    "    -out ${output_prefix}_matrix.gz \\\n",
    "    --missingDataAsZero \n",
    "\n",
    "  # Plot combined heatmap with per-sample zMin and zMax values\n",
    "  plotHeatmap -m ${output_prefix}_matrix.gz \\\n",
    "    --dpi 300 \\\n",
    "    --whatToShow 'heatmap and colorbar' \\\n",
    "    --plotFileFormat svg \\\n",
    "    --xAxisLabel '' \\\n",
    "    --regionsLabel '' \\\n",
    "    --samplesLabel ${sample_labels} \\\n",
    "    -T \"${cell_type}\" \\\n",
    "    --zMin ${z_min_list} \\\n",
    "    --zMax ${z_max_list} \\\n",
    "    --heatmapHeight 10 --heatmapWidth 5 \\\n",
    "    -out ${output_prefix}_heatmap.svg\n",
    "}"
   ]
  },
  {
   "cell_type": "code",
   "execution_count": 63,
   "id": "5a7d8fe3-073d-4f26-8e6b-74b2daa394df",
   "metadata": {},
   "outputs": [
    {
     "name": "stdout",
     "output_type": "stream",
     "text": [
      "/data/leuven/software/biomed/wice_icelake_rocky8/2021a/software/deepTools/3.5.0-foss-2021a/lib/python3.9/site-packages/deeptools/plotHeatmap.py:481: MatplotlibDeprecationWarning:\n",
      "\n",
      "You are modifying the state of a globally registered colormap. This has been deprecated since 3.3 and in 3.6, you will not be able to modify a registered colormap in-place. To remove this warning, you can make a copy of the colormap first. cmap = mpl.cm.get_cmap(\"RdYlBu\").copy()\n",
      "\n",
      "/data/leuven/software/biomed/wice_icelake_rocky8/2021a/software/deepTools/3.5.0-foss-2021a/lib/python3.9/site-packages/deeptools/plotHeatmap.py:738: MatplotlibDeprecationWarning:\n",
      "\n",
      "The 'alpha' parameter to Colorbar has no effect because it is overridden by the mappable; it is deprecated since 3.3 and will be removed two minor releases later.\n",
      "\n",
      "/data/leuven/software/biomed/wice_icelake_rocky8/2021a/software/deepTools/3.5.0-foss-2021a/lib/python3.9/site-packages/deeptools/plotHeatmap.py:770: MatplotlibDeprecationWarning:\n",
      "\n",
      "savefig() got unexpected keyword argument \"pdd_inches\" which is no longer supported as of 3.3 and will become an error two minor releases later\n",
      "\n"
     ]
    }
   ],
   "source": [
    "#GLIA\n",
    "generate_combined_heatmap \\\n",
    "  /lustre1/project/stg_00002/lcb/hydrop_v2_paper/fly/cistopic_LCB_embryo_consensuspeaks/HyDrop_10x_otsu_notdownsampled/DARs/final_embryo_annot_atlas_05112024/all_bed/Glia.bed \\\n",
    "  \"HyDrop_v2 10x_v2 sciATAC\" \\\n",
    "  \"/lustre1/project/stg_00002/lcb/hydrop_v2_paper/fly/cistopic_LCB_embryo_consensuspeaks/HyDrop_10x_otsu_notdownsampled/pseudobulk/downsampled/minimal_1000cells/bw_cut_sites/HyDrop_v2___Glia.fragments.bw /lustre1/project/stg_00002/lcb/hydrop_v2_paper/fly/cistopic_LCB_embryo_consensuspeaks/HyDrop_10x_otsu_notdownsampled/pseudobulk/downsampled/minimal_1000cells/bw_cut_sites/10x_v2___Glia.fragments.bw /lustre1/project/stg_00002/lcb/hydrop_v2_paper/fly/cistopic_LCB_embryo_consensuspeaks/HyDrop_10x_otsu_notdownsampled/pseudobulk/downsampled/minimal_1000cells/bw_cut_sites/sciATAC___Glia.fragments.bw\" \\\n",
    "  \"Glia\" \"Glia_cut_sites\" \"0 0 0\" \"0.1 0.1 0.05\"\n"
   ]
  },
  {
   "cell_type": "code",
   "execution_count": 64,
   "id": "25130636-7116-41ef-a76e-c02a9b825901",
   "metadata": {},
   "outputs": [
    {
     "name": "stdout",
     "output_type": "stream",
     "text": [
      "/data/leuven/software/biomed/wice_icelake_rocky8/2021a/software/deepTools/3.5.0-foss-2021a/lib/python3.9/site-packages/deeptools/plotHeatmap.py:481: MatplotlibDeprecationWarning:\n",
      "\n",
      "You are modifying the state of a globally registered colormap. This has been deprecated since 3.3 and in 3.6, you will not be able to modify a registered colormap in-place. To remove this warning, you can make a copy of the colormap first. cmap = mpl.cm.get_cmap(\"RdYlBu\").copy()\n",
      "\n",
      "/data/leuven/software/biomed/wice_icelake_rocky8/2021a/software/deepTools/3.5.0-foss-2021a/lib/python3.9/site-packages/deeptools/plotHeatmap.py:738: MatplotlibDeprecationWarning:\n",
      "\n",
      "The 'alpha' parameter to Colorbar has no effect because it is overridden by the mappable; it is deprecated since 3.3 and will be removed two minor releases later.\n",
      "\n",
      "/data/leuven/software/biomed/wice_icelake_rocky8/2021a/software/deepTools/3.5.0-foss-2021a/lib/python3.9/site-packages/deeptools/plotHeatmap.py:770: MatplotlibDeprecationWarning:\n",
      "\n",
      "savefig() got unexpected keyword argument \"pdd_inches\" which is no longer supported as of 3.3 and will become an error two minor releases later\n",
      "\n"
     ]
    }
   ],
   "source": [
    "#Epidermis\n",
    "generate_combined_heatmap \\\n",
    "  /lustre1/project/stg_00002/lcb/hydrop_v2_paper/fly/cistopic_LCB_embryo_consensuspeaks/HyDrop_10x_otsu_notdownsampled/DARs/final_embryo_annot_atlas_05112024/all_bed/Epidermis.bed \\\n",
    "  \"HyDrop_v2 10x_v2 sciATAC\" \\\n",
    "  \"/lustre1/project/stg_00002/lcb/hydrop_v2_paper/fly/cistopic_LCB_embryo_consensuspeaks/HyDrop_10x_otsu_notdownsampled/pseudobulk/downsampled/minimal_1000cells/bw_cut_sites/HyDrop_v2___Epidermis.fragments.bw /lustre1/project/stg_00002/lcb/hydrop_v2_paper/fly/cistopic_LCB_embryo_consensuspeaks/HyDrop_10x_otsu_notdownsampled/pseudobulk/downsampled/minimal_1000cells/bw_cut_sites/10x_v2___Epidermis.fragments.bw /lustre1/project/stg_00002/lcb/hydrop_v2_paper/fly/cistopic_LCB_embryo_consensuspeaks/HyDrop_10x_otsu_notdownsampled/pseudobulk/downsampled/minimal_1000cells/bw_cut_sites/sciATAC___Epidermis.fragments.bw\" \\\n",
    "  \"Epidermis\" \"Epidermis_cut_sites\" \"0 0 0\" \"0.1 0.1 0.05\""
   ]
  },
  {
   "cell_type": "code",
   "execution_count": 65,
   "id": "e62ff5dc-e236-44fe-b22b-59967bb5872c",
   "metadata": {},
   "outputs": [
    {
     "name": "stdout",
     "output_type": "stream",
     "text": [
      "/data/leuven/software/biomed/wice_icelake_rocky8/2021a/software/deepTools/3.5.0-foss-2021a/lib/python3.9/site-packages/deeptools/plotHeatmap.py:481: MatplotlibDeprecationWarning:\n",
      "\n",
      "You are modifying the state of a globally registered colormap. This has been deprecated since 3.3 and in 3.6, you will not be able to modify a registered colormap in-place. To remove this warning, you can make a copy of the colormap first. cmap = mpl.cm.get_cmap(\"RdYlBu\").copy()\n",
      "\n",
      "/data/leuven/software/biomed/wice_icelake_rocky8/2021a/software/deepTools/3.5.0-foss-2021a/lib/python3.9/site-packages/deeptools/plotHeatmap.py:738: MatplotlibDeprecationWarning:\n",
      "\n",
      "The 'alpha' parameter to Colorbar has no effect because it is overridden by the mappable; it is deprecated since 3.3 and will be removed two minor releases later.\n",
      "\n",
      "/data/leuven/software/biomed/wice_icelake_rocky8/2021a/software/deepTools/3.5.0-foss-2021a/lib/python3.9/site-packages/deeptools/plotHeatmap.py:770: MatplotlibDeprecationWarning:\n",
      "\n",
      "savefig() got unexpected keyword argument \"pdd_inches\" which is no longer supported as of 3.3 and will become an error two minor releases later\n",
      "\n"
     ]
    }
   ],
   "source": [
    "#Yolk\n",
    "generate_combined_heatmap \\\n",
    "  /lustre1/project/stg_00002/lcb/hydrop_v2_paper/fly/cistopic_LCB_embryo_consensuspeaks/HyDrop_10x_otsu_notdownsampled/DARs/final_embryo_annot_atlas_05112024/all_bed/Yolk.bed \\\n",
    "  \"HyDrop_v2 10x_v2 sciATAC\" \\\n",
    "  \"/lustre1/project/stg_00002/lcb/hydrop_v2_paper/fly/cistopic_LCB_embryo_consensuspeaks/HyDrop_10x_otsu_notdownsampled/pseudobulk/downsampled/minimal_1000cells/bw_cut_sites/HyDrop_v2___Yolk.fragments.bw /lustre1/project/stg_00002/lcb/hydrop_v2_paper/fly/cistopic_LCB_embryo_consensuspeaks/HyDrop_10x_otsu_notdownsampled/pseudobulk/downsampled/minimal_1000cells/bw_cut_sites/10x_v2___Yolk.fragments.bw /lustre1/project/stg_00002/lcb/hydrop_v2_paper/fly/cistopic_LCB_embryo_consensuspeaks/HyDrop_10x_otsu_notdownsampled/pseudobulk/downsampled/minimal_1000cells/bw_cut_sites/sciATAC___Yolk.fragments.bw\" \\\n",
    "  \"Yolk\" \"Yolk_cut_sites\" \"0 0 0\" \"0.1 0.1 0.05\""
   ]
  },
  {
   "cell_type": "code",
   "execution_count": 66,
   "id": "b6f17a60-8046-4a98-a9f1-65d752b16336",
   "metadata": {},
   "outputs": [
    {
     "name": "stdout",
     "output_type": "stream",
     "text": [
      "/data/leuven/software/biomed/wice_icelake_rocky8/2021a/software/deepTools/3.5.0-foss-2021a/lib/python3.9/site-packages/deeptools/plotHeatmap.py:481: MatplotlibDeprecationWarning:\n",
      "\n",
      "You are modifying the state of a globally registered colormap. This has been deprecated since 3.3 and in 3.6, you will not be able to modify a registered colormap in-place. To remove this warning, you can make a copy of the colormap first. cmap = mpl.cm.get_cmap(\"RdYlBu\").copy()\n",
      "\n",
      "/data/leuven/software/biomed/wice_icelake_rocky8/2021a/software/deepTools/3.5.0-foss-2021a/lib/python3.9/site-packages/deeptools/plotHeatmap.py:738: MatplotlibDeprecationWarning:\n",
      "\n",
      "The 'alpha' parameter to Colorbar has no effect because it is overridden by the mappable; it is deprecated since 3.3 and will be removed two minor releases later.\n",
      "\n",
      "/data/leuven/software/biomed/wice_icelake_rocky8/2021a/software/deepTools/3.5.0-foss-2021a/lib/python3.9/site-packages/deeptools/plotHeatmap.py:770: MatplotlibDeprecationWarning:\n",
      "\n",
      "savefig() got unexpected keyword argument \"pdd_inches\" which is no longer supported as of 3.3 and will become an error two minor releases later\n",
      "\n"
     ]
    }
   ],
   "source": [
    "#_Neuronal\n",
    "generate_combined_heatmap \\\n",
    "  /lustre1/project/stg_00002/lcb/hydrop_v2_paper/fly/cistopic_LCB_embryo_consensuspeaks/HyDrop_10x_otsu_notdownsampled/DARs/final_embryo_annot_atlas_05112024/all_bed/Neuronal.bed \\\n",
    "  \"HyDrop_v2 10x_v2 sciATAC\" \\\n",
    "  \"/lustre1/project/stg_00002/lcb/hydrop_v2_paper/fly/cistopic_LCB_embryo_consensuspeaks/HyDrop_10x_otsu_notdownsampled/pseudobulk/downsampled/minimal_1000cells/bw_cut_sites/HyDrop_v2___Neuronal.fragments.bw /lustre1/project/stg_00002/lcb/hydrop_v2_paper/fly/cistopic_LCB_embryo_consensuspeaks/HyDrop_10x_otsu_notdownsampled/pseudobulk/downsampled/minimal_1000cells/bw_cut_sites/10x_v2___Neuronal.fragments.bw /lustre1/project/stg_00002/lcb/hydrop_v2_paper/fly/cistopic_LCB_embryo_consensuspeaks/HyDrop_10x_otsu_notdownsampled/pseudobulk/downsampled/minimal_1000cells/bw_cut_sites/sciATAC___Neuronal.fragments.bw\" \\\n",
    "  \"Neuronal\" \"Neuronal_cut_sites\" \"0 0 0\" \"0.1 0.1 0.05\""
   ]
  },
  {
   "cell_type": "code",
   "execution_count": 67,
   "id": "28d50867-083d-4cc8-9230-df947103cf8a",
   "metadata": {},
   "outputs": [
    {
     "name": "stdout",
     "output_type": "stream",
     "text": [
      "/data/leuven/software/biomed/wice_icelake_rocky8/2021a/software/deepTools/3.5.0-foss-2021a/lib/python3.9/site-packages/deeptools/plotHeatmap.py:481: MatplotlibDeprecationWarning:\n",
      "\n",
      "You are modifying the state of a globally registered colormap. This has been deprecated since 3.3 and in 3.6, you will not be able to modify a registered colormap in-place. To remove this warning, you can make a copy of the colormap first. cmap = mpl.cm.get_cmap(\"RdYlBu\").copy()\n",
      "\n",
      "/data/leuven/software/biomed/wice_icelake_rocky8/2021a/software/deepTools/3.5.0-foss-2021a/lib/python3.9/site-packages/deeptools/plotHeatmap.py:738: MatplotlibDeprecationWarning:\n",
      "\n",
      "The 'alpha' parameter to Colorbar has no effect because it is overridden by the mappable; it is deprecated since 3.3 and will be removed two minor releases later.\n",
      "\n",
      "/data/leuven/software/biomed/wice_icelake_rocky8/2021a/software/deepTools/3.5.0-foss-2021a/lib/python3.9/site-packages/deeptools/plotHeatmap.py:770: MatplotlibDeprecationWarning:\n",
      "\n",
      "savefig() got unexpected keyword argument \"pdd_inches\" which is no longer supported as of 3.3 and will become an error two minor releases later\n",
      "\n"
     ]
    }
   ],
   "source": [
    "#Midgut\n",
    "generate_combined_heatmap \\\n",
    "  /lustre1/project/stg_00002/lcb/hydrop_v2_paper/fly/cistopic_LCB_embryo_consensuspeaks/HyDrop_10x_otsu_notdownsampled/DARs/final_embryo_annot_atlas_05112024/all_bed/Midgut.bed \\\n",
    "  \"HyDrop_v2 10x_v2 sciATAC\" \\\n",
    "  \"/lustre1/project/stg_00002/lcb/hydrop_v2_paper/fly/cistopic_LCB_embryo_consensuspeaks/HyDrop_10x_otsu_notdownsampled/pseudobulk/downsampled/minimal_1000cells/bw_cut_sites/HyDrop_v2___Midgut.fragments.bw /lustre1/project/stg_00002/lcb/hydrop_v2_paper/fly/cistopic_LCB_embryo_consensuspeaks/HyDrop_10x_otsu_notdownsampled/pseudobulk/downsampled/minimal_1000cells/bw_cut_sites/10x_v2___Midgut.fragments.bw /lustre1/project/stg_00002/lcb/hydrop_v2_paper/fly/cistopic_LCB_embryo_consensuspeaks/HyDrop_10x_otsu_notdownsampled/pseudobulk/downsampled/minimal_1000cells/bw_cut_sites/sciATAC___Midgut.fragments.bw\" \\\n",
    "  \"Midgut\" \"Midgut_cut_sites\" \"0 0 0\" \"0.1 0.1 0.05\""
   ]
  },
  {
   "cell_type": "code",
   "execution_count": 73,
   "id": "4affb34a-d027-488f-b9f7-70b511d110a7",
   "metadata": {},
   "outputs": [
    {
     "name": "stdout",
     "output_type": "stream",
     "text": [
      "/data/leuven/software/biomed/wice_icelake_rocky8/2021a/software/deepTools/3.5.0-foss-2021a/lib/python3.9/site-packages/deeptools/plotHeatmap.py:481: MatplotlibDeprecationWarning:\n",
      "\n",
      "You are modifying the state of a globally registered colormap. This has been deprecated since 3.3 and in 3.6, you will not be able to modify a registered colormap in-place. To remove this warning, you can make a copy of the colormap first. cmap = mpl.cm.get_cmap(\"RdYlBu\").copy()\n",
      "\n",
      "/data/leuven/software/biomed/wice_icelake_rocky8/2021a/software/deepTools/3.5.0-foss-2021a/lib/python3.9/site-packages/deeptools/plotHeatmap.py:738: MatplotlibDeprecationWarning:\n",
      "\n",
      "The 'alpha' parameter to Colorbar has no effect because it is overridden by the mappable; it is deprecated since 3.3 and will be removed two minor releases later.\n",
      "\n",
      "/data/leuven/software/biomed/wice_icelake_rocky8/2021a/software/deepTools/3.5.0-foss-2021a/lib/python3.9/site-packages/deeptools/plotHeatmap.py:770: MatplotlibDeprecationWarning:\n",
      "\n",
      "savefig() got unexpected keyword argument \"pdd_inches\" which is no longer supported as of 3.3 and will become an error two minor releases later\n",
      "\n"
     ]
    }
   ],
   "source": [
    "#Somatic_muscles\n",
    "generate_combined_heatmap \\\n",
    "  /lustre1/project/stg_00002/lcb/hydrop_v2_paper/fly/cistopic_LCB_embryo_consensuspeaks/HyDrop_10x_otsu_notdownsampled/DARs/final_embryo_annot_atlas_05112024/all_bed/Somatic_muscles.bed \\\n",
    "  \"HyDrop_v2 10x_v2 sciATAC\" \\\n",
    "  \"/lustre1/project/stg_00002/lcb/hydrop_v2_paper/fly/cistopic_LCB_embryo_consensuspeaks/HyDrop_10x_otsu_notdownsampled/pseudobulk/downsampled/minimal_1000cells/bw_cut_sites/HyDrop_v2___Somatic_muscles.fragments.bw /lustre1/project/stg_00002/lcb/hydrop_v2_paper/fly/cistopic_LCB_embryo_consensuspeaks/HyDrop_10x_otsu_notdownsampled/pseudobulk/downsampled/minimal_1000cells/bw_cut_sites/10x_v2___Somatic_muscles.fragments.bw /lustre1/project/stg_00002/lcb/hydrop_v2_paper/fly/cistopic_LCB_embryo_consensuspeaks/HyDrop_10x_otsu_notdownsampled/pseudobulk/downsampled/minimal_1000cells/bw_cut_sites/sciATAC___Somatic_muscles.fragments.bw\" \\\n",
    "  \"Somatic_muscles\" \"Somatic_muscles_cut_sites\" \"0 0 0\" \"0.1 0.1 0.1\""
   ]
  },
  {
   "cell_type": "code",
   "execution_count": 70,
   "id": "489ace3d-0fa7-4e5c-ba9e-b933f6819bfd",
   "metadata": {},
   "outputs": [
    {
     "name": "stdout",
     "output_type": "stream",
     "text": [
      "/data/leuven/software/biomed/wice_icelake_rocky8/2021a/software/deepTools/3.5.0-foss-2021a/lib/python3.9/site-packages/deeptools/plotHeatmap.py:481: MatplotlibDeprecationWarning:\n",
      "\n",
      "You are modifying the state of a globally registered colormap. This has been deprecated since 3.3 and in 3.6, you will not be able to modify a registered colormap in-place. To remove this warning, you can make a copy of the colormap first. cmap = mpl.cm.get_cmap(\"RdYlBu\").copy()\n",
      "\n",
      "/data/leuven/software/biomed/wice_icelake_rocky8/2021a/software/deepTools/3.5.0-foss-2021a/lib/python3.9/site-packages/deeptools/plotHeatmap.py:738: MatplotlibDeprecationWarning:\n",
      "\n",
      "The 'alpha' parameter to Colorbar has no effect because it is overridden by the mappable; it is deprecated since 3.3 and will be removed two minor releases later.\n",
      "\n",
      "/data/leuven/software/biomed/wice_icelake_rocky8/2021a/software/deepTools/3.5.0-foss-2021a/lib/python3.9/site-packages/deeptools/plotHeatmap.py:770: MatplotlibDeprecationWarning:\n",
      "\n",
      "savefig() got unexpected keyword argument \"pdd_inches\" which is no longer supported as of 3.3 and will become an error two minor releases later\n",
      "\n"
     ]
    }
   ],
   "source": [
    "#Hemocytes\n",
    "generate_combined_heatmap \\\n",
    "  /lustre1/project/stg_00002/lcb/hydrop_v2_paper/fly/cistopic_LCB_embryo_consensuspeaks/HyDrop_10x_otsu_notdownsampled/DARs/final_embryo_annot_atlas_05112024/all_bed/Somatic_muscles.bed \\\n",
    "  \"HyDrop_v2 10x_v2 sciATAC\" \\\n",
    "  \"/lustre1/project/stg_00002/lcb/hydrop_v2_paper/fly/cistopic_LCB_embryo_consensuspeaks/HyDrop_10x_otsu_notdownsampled/pseudobulk/downsampled/minimal_1000cells/bw_cut_sites/HyDrop_v2___Hemocytes.fragments.bw /lustre1/project/stg_00002/lcb/hydrop_v2_paper/fly/cistopic_LCB_embryo_consensuspeaks/HyDrop_10x_otsu_notdownsampled/pseudobulk/downsampled/minimal_1000cells/bw_cut_sites/10x_v2___Hemocytes.fragments.bw /lustre1/project/stg_00002/lcb/hydrop_v2_paper/fly/cistopic_LCB_embryo_consensuspeaks/HyDrop_10x_otsu_notdownsampled/pseudobulk/downsampled/minimal_1000cells/bw_cut_sites/sciATAC___Hemocytes.fragments.bw\" \\\n",
    "  \"Hemocytes\" \"Hemocytes_cut_sites\" \"0 0 0\" \"0.1 0.1 0.05\""
   ]
  },
  {
   "cell_type": "code",
   "execution_count": 7,
   "id": "b0e909f0-fbf1-49a6-ada1-7af142cfbe97",
   "metadata": {},
   "outputs": [],
   "source": [
    "generate_combined_heatmap() {\n",
    "  local bed_file=$1\n",
    "  local sample_labels=$2   # Sample labels combined (space-separated)\n",
    "  local bigwig_files=$3    # BigWig file paths combined (space-separated)\n",
    "  local cell_type=$4\n",
    "  local output_prefix=$5\n",
    "  local z_min_list=$6      # Space-separated list of zMin values (one per sample)\n",
    "  local z_max_list=$7      # Space-separated list of zMax values (one per sample)\n",
    "\n",
    "  # Compute matrix for all samples together\n",
    "  computeMatrix reference-point \\\n",
    "    -R ${bed_file} \\\n",
    "    -S ${bigwig_files} \\\n",
    "    --referencePoint center \\\n",
    "    -b 500 -a 500 \\\n",
    "    -out ${output_prefix}_matrix.gz \\\n",
    "    --missingDataAsZero \n",
    "\n",
    "  # Plot combined heatmap with per-sample zMin and zMax values\n",
    "  plotHeatmap -m ${output_prefix}_matrix.gz \\\n",
    "    --dpi 300 \\\n",
    "    --whatToShow 'heatmap and colorbar' \\\n",
    "    --plotFileFormat svg \\\n",
    "    --xAxisLabel '' \\\n",
    "    --regionsLabel '' \\\n",
    "    --samplesLabel ${sample_labels} \\\n",
    "    -T \"${cell_type}\" \\\n",
    "    --zMin ${z_min_list} \\\n",
    "    --zMax ${z_max_list} \\\n",
    "    --heatmapHeight 10 --heatmapWidth 5 \\\n",
    "    -out ${output_prefix}_heatmap.svg\n",
    "}"
   ]
  },
  {
   "cell_type": "code",
   "execution_count": 8,
   "id": "06366094-5868-484a-8ea3-2c912f5529f5",
   "metadata": {},
   "outputs": [
    {
     "name": "stdout",
     "output_type": "stream",
     "text": [
      "/data/leuven/software/biomed/wice_icelake_rocky8/2021a/software/deepTools/3.5.0-foss-2021a/lib/python3.9/site-packages/deeptools/plotHeatmap.py:481: MatplotlibDeprecationWarning:\n",
      "\n",
      "You are modifying the state of a globally registered colormap. This has been deprecated since 3.3 and in 3.6, you will not be able to modify a registered colormap in-place. To remove this warning, you can make a copy of the colormap first. cmap = mpl.cm.get_cmap(\"RdYlBu\").copy()\n",
      "\n",
      "/data/leuven/software/biomed/wice_icelake_rocky8/2021a/software/deepTools/3.5.0-foss-2021a/lib/python3.9/site-packages/deeptools/plotHeatmap.py:738: MatplotlibDeprecationWarning:\n",
      "\n",
      "The 'alpha' parameter to Colorbar has no effect because it is overridden by the mappable; it is deprecated since 3.3 and will be removed two minor releases later.\n",
      "\n",
      "/data/leuven/software/biomed/wice_icelake_rocky8/2021a/software/deepTools/3.5.0-foss-2021a/lib/python3.9/site-packages/deeptools/plotHeatmap.py:770: MatplotlibDeprecationWarning:\n",
      "\n",
      "savefig() got unexpected keyword argument \"pdd_inches\" which is no longer supported as of 3.3 and will become an error two minor releases later\n",
      "\n"
     ]
    }
   ],
   "source": [
    "#GLIA\n",
    "generate_combined_heatmap \\\n",
    "  /lustre1/project/stg_00002/lcb/hydrop_v2_paper/fly/cistopic_LCB_embryo_consensuspeaks/HyDrop_10x_otsu_notdownsampled/consensus_peak_calling/MACS/Glia_summits_trimmed.bed \\\n",
    "  \"HyDrop_v2 10x_v2 sciATAC\" \\\n",
    "  \"/lustre1/project/stg_00002/lcb/hydrop_v2_paper/fly/cistopic_LCB_embryo_consensuspeaks/HyDrop_10x_otsu_notdownsampled/pseudobulk/downsampled/minimal_1000cells/bw_cut_sites/HyDrop_v2___Glia.fragments.bw /lustre1/project/stg_00002/lcb/hydrop_v2_paper/fly/cistopic_LCB_embryo_consensuspeaks/HyDrop_10x_otsu_notdownsampled/pseudobulk/downsampled/minimal_1000cells/bw_cut_sites/10x_v2___Glia.fragments.bw /lustre1/project/stg_00002/lcb/hydrop_v2_paper/fly/cistopic_LCB_embryo_consensuspeaks/HyDrop_10x_otsu_notdownsampled/pseudobulk/downsampled/minimal_1000cells/bw_cut_sites/sciATAC___Glia.fragments.bw\" \\\n",
    "  \"Glia\" \"Glia_summits_cut_sites\" \"0 0 0\" \"0.1 0.1 0.05\"\n"
   ]
  },
  {
   "cell_type": "code",
   "execution_count": 9,
   "id": "24ed8ace-fe0b-45a0-88a5-1e43c642b199",
   "metadata": {},
   "outputs": [
    {
     "name": "stdout",
     "output_type": "stream",
     "text": [
      "/data/leuven/software/biomed/wice_icelake_rocky8/2021a/software/deepTools/3.5.0-foss-2021a/lib/python3.9/site-packages/deeptools/plotHeatmap.py:481: MatplotlibDeprecationWarning:\n",
      "\n",
      "You are modifying the state of a globally registered colormap. This has been deprecated since 3.3 and in 3.6, you will not be able to modify a registered colormap in-place. To remove this warning, you can make a copy of the colormap first. cmap = mpl.cm.get_cmap(\"RdYlBu\").copy()\n",
      "\n",
      "/data/leuven/software/biomed/wice_icelake_rocky8/2021a/software/deepTools/3.5.0-foss-2021a/lib/python3.9/site-packages/deeptools/plotHeatmap.py:738: MatplotlibDeprecationWarning:\n",
      "\n",
      "The 'alpha' parameter to Colorbar has no effect because it is overridden by the mappable; it is deprecated since 3.3 and will be removed two minor releases later.\n",
      "\n",
      "/data/leuven/software/biomed/wice_icelake_rocky8/2021a/software/deepTools/3.5.0-foss-2021a/lib/python3.9/site-packages/deeptools/plotHeatmap.py:770: MatplotlibDeprecationWarning:\n",
      "\n",
      "savefig() got unexpected keyword argument \"pdd_inches\" which is no longer supported as of 3.3 and will become an error two minor releases later\n",
      "\n"
     ]
    }
   ],
   "source": [
    "#_Neuronal\n",
    "generate_combined_heatmap \\\n",
    "  /lustre1/project/stg_00002/lcb/hydrop_v2_paper/fly/cistopic_LCB_embryo_consensuspeaks/HyDrop_10x_otsu_notdownsampled/consensus_peak_calling/MACS/Neuronal_summits.bed \\\n",
    "  \"HyDrop_v2 10x_v2 sciATAC\" \\\n",
    "  \"/lustre1/project/stg_00002/lcb/hydrop_v2_paper/fly/cistopic_LCB_embryo_consensuspeaks/HyDrop_10x_otsu_notdownsampled/pseudobulk/downsampled/minimal_1000cells/bw_cut_sites/HyDrop_v2___Neuronal.fragments.bw /lustre1/project/stg_00002/lcb/hydrop_v2_paper/fly/cistopic_LCB_embryo_consensuspeaks/HyDrop_10x_otsu_notdownsampled/pseudobulk/downsampled/minimal_1000cells/bw_cut_sites/10x_v2___Neuronal.fragments.bw /lustre1/project/stg_00002/lcb/hydrop_v2_paper/fly/cistopic_LCB_embryo_consensuspeaks/HyDrop_10x_otsu_notdownsampled/pseudobulk/downsampled/minimal_1000cells/bw_cut_sites/sciATAC___Neuronal.fragments.bw\" \\\n",
    "  \"Neuronal\" \"Neuronal_summits_cut_sites\" \"0 0 0\" \"0.1 0.1 0.05\""
   ]
  },
  {
   "cell_type": "code",
   "execution_count": 10,
   "id": "50423097-c135-449e-b5e1-094b69e031fb",
   "metadata": {},
   "outputs": [
    {
     "name": "stdout",
     "output_type": "stream",
     "text": [
      "/data/leuven/software/biomed/wice_icelake_rocky8/2021a/software/deepTools/3.5.0-foss-2021a/lib/python3.9/site-packages/deeptools/plotHeatmap.py:481: MatplotlibDeprecationWarning:\n",
      "\n",
      "You are modifying the state of a globally registered colormap. This has been deprecated since 3.3 and in 3.6, you will not be able to modify a registered colormap in-place. To remove this warning, you can make a copy of the colormap first. cmap = mpl.cm.get_cmap(\"RdYlBu\").copy()\n",
      "\n",
      "/data/leuven/software/biomed/wice_icelake_rocky8/2021a/software/deepTools/3.5.0-foss-2021a/lib/python3.9/site-packages/deeptools/plotHeatmap.py:738: MatplotlibDeprecationWarning:\n",
      "\n",
      "The 'alpha' parameter to Colorbar has no effect because it is overridden by the mappable; it is deprecated since 3.3 and will be removed two minor releases later.\n",
      "\n",
      "/data/leuven/software/biomed/wice_icelake_rocky8/2021a/software/deepTools/3.5.0-foss-2021a/lib/python3.9/site-packages/deeptools/plotHeatmap.py:770: MatplotlibDeprecationWarning:\n",
      "\n",
      "savefig() got unexpected keyword argument \"pdd_inches\" which is no longer supported as of 3.3 and will become an error two minor releases later\n",
      "\n"
     ]
    }
   ],
   "source": [
    "#Somatic_muscles\n",
    "generate_combined_heatmap \\\n",
    "  /lustre1/project/stg_00002/lcb/hydrop_v2_paper/fly/cistopic_LCB_embryo_consensuspeaks/HyDrop_10x_otsu_notdownsampled/consensus_peak_calling/MACS/Somatic_muscles_summits.bed \\\n",
    "  \"HyDrop_v2 10x_v2 sciATAC\" \\\n",
    "  \"/lustre1/project/stg_00002/lcb/hydrop_v2_paper/fly/cistopic_LCB_embryo_consensuspeaks/HyDrop_10x_otsu_notdownsampled/pseudobulk/downsampled/minimal_1000cells/bw_cut_sites/HyDrop_v2___Somatic_muscles.fragments.bw /lustre1/project/stg_00002/lcb/hydrop_v2_paper/fly/cistopic_LCB_embryo_consensuspeaks/HyDrop_10x_otsu_notdownsampled/pseudobulk/downsampled/minimal_1000cells/bw_cut_sites/10x_v2___Somatic_muscles.fragments.bw /lustre1/project/stg_00002/lcb/hydrop_v2_paper/fly/cistopic_LCB_embryo_consensuspeaks/HyDrop_10x_otsu_notdownsampled/pseudobulk/downsampled/minimal_1000cells/bw_cut_sites/sciATAC___Somatic_muscles.fragments.bw\" \\\n",
    "  \"Somatic_muscles\" \"Somatic_muscles_summits_cut_sites\" \"0 0 0\" \"0.1 0.1 0.1\""
   ]
  },
  {
   "cell_type": "code",
   "execution_count": 11,
   "id": "f8c91482-5b5a-4706-8659-5e0ac493ba50",
   "metadata": {},
   "outputs": [
    {
     "name": "stdout",
     "output_type": "stream",
     "text": [
      "/data/leuven/software/biomed/wice_icelake_rocky8/2021a/software/deepTools/3.5.0-foss-2021a/lib/python3.9/site-packages/deeptools/plotHeatmap.py:481: MatplotlibDeprecationWarning:\n",
      "\n",
      "You are modifying the state of a globally registered colormap. This has been deprecated since 3.3 and in 3.6, you will not be able to modify a registered colormap in-place. To remove this warning, you can make a copy of the colormap first. cmap = mpl.cm.get_cmap(\"RdYlBu\").copy()\n",
      "\n",
      "/data/leuven/software/biomed/wice_icelake_rocky8/2021a/software/deepTools/3.5.0-foss-2021a/lib/python3.9/site-packages/deeptools/plotHeatmap.py:738: MatplotlibDeprecationWarning:\n",
      "\n",
      "The 'alpha' parameter to Colorbar has no effect because it is overridden by the mappable; it is deprecated since 3.3 and will be removed two minor releases later.\n",
      "\n",
      "/data/leuven/software/biomed/wice_icelake_rocky8/2021a/software/deepTools/3.5.0-foss-2021a/lib/python3.9/site-packages/deeptools/plotHeatmap.py:770: MatplotlibDeprecationWarning:\n",
      "\n",
      "savefig() got unexpected keyword argument \"pdd_inches\" which is no longer supported as of 3.3 and will become an error two minor releases later\n",
      "\n"
     ]
    }
   ],
   "source": [
    "#Hemocytes\n",
    "generate_combined_heatmap \\\n",
    "  /lustre1/project/stg_00002/lcb/hydrop_v2_paper/fly/cistopic_LCB_embryo_consensuspeaks/HyDrop_10x_otsu_notdownsampled/consensus_peak_calling/MACS/Hemocytes_summits.bed \\\n",
    "  \"HyDrop_v2 10x_v2 sciATAC\" \\\n",
    "  \"/lustre1/project/stg_00002/lcb/hydrop_v2_paper/fly/cistopic_LCB_embryo_consensuspeaks/HyDrop_10x_otsu_notdownsampled/pseudobulk/downsampled/minimal_1000cells/bw_cut_sites/HyDrop_v2___Hemocytes.fragments.bw /lustre1/project/stg_00002/lcb/hydrop_v2_paper/fly/cistopic_LCB_embryo_consensuspeaks/HyDrop_10x_otsu_notdownsampled/pseudobulk/downsampled/minimal_1000cells/bw_cut_sites/10x_v2___Hemocytes.fragments.bw /lustre1/project/stg_00002/lcb/hydrop_v2_paper/fly/cistopic_LCB_embryo_consensuspeaks/HyDrop_10x_otsu_notdownsampled/pseudobulk/downsampled/minimal_1000cells/bw_cut_sites/sciATAC___Hemocytes.fragments.bw\" \\\n",
    "  \"Hemocytes\" \"Hemocytes_summits_cut_sites\" \"0 0 0\" \"0.1 0.1 0.05\""
   ]
  },
  {
   "cell_type": "code",
   "execution_count": 12,
   "id": "d6073be5-2dd5-423f-8161-d2c18eae63e5",
   "metadata": {},
   "outputs": [
    {
     "name": "stdout",
     "output_type": "stream",
     "text": [
      "/data/leuven/software/biomed/wice_icelake_rocky8/2021a/software/deepTools/3.5.0-foss-2021a/lib/python3.9/site-packages/deeptools/plotHeatmap.py:481: MatplotlibDeprecationWarning:\n",
      "\n",
      "You are modifying the state of a globally registered colormap. This has been deprecated since 3.3 and in 3.6, you will not be able to modify a registered colormap in-place. To remove this warning, you can make a copy of the colormap first. cmap = mpl.cm.get_cmap(\"RdYlBu\").copy()\n",
      "\n",
      "/data/leuven/software/biomed/wice_icelake_rocky8/2021a/software/deepTools/3.5.0-foss-2021a/lib/python3.9/site-packages/deeptools/plotHeatmap.py:738: MatplotlibDeprecationWarning:\n",
      "\n",
      "The 'alpha' parameter to Colorbar has no effect because it is overridden by the mappable; it is deprecated since 3.3 and will be removed two minor releases later.\n",
      "\n",
      "/data/leuven/software/biomed/wice_icelake_rocky8/2021a/software/deepTools/3.5.0-foss-2021a/lib/python3.9/site-packages/deeptools/plotHeatmap.py:770: MatplotlibDeprecationWarning:\n",
      "\n",
      "savefig() got unexpected keyword argument \"pdd_inches\" which is no longer supported as of 3.3 and will become an error two minor releases later\n",
      "\n"
     ]
    }
   ],
   "source": [
    "#GLIA\n",
    "generate_combined_heatmap \\\n",
    "  /lustre1/project/stg_00002/lcb/hydrop_v2_paper/fly/cistopic_LCB_embryo_consensuspeaks/HyDrop_10x_otsu_notdownsampled/consensus_peak_calling/MACS_max50bp_frag/Glia_summits.bed \\\n",
    "  \"HyDrop_v2 10x_v2 sciATAC\" \\\n",
    "  \"/lustre1/project/stg_00002/lcb/hydrop_v2_paper/fly/cistopic_LCB_embryo_consensuspeaks/HyDrop_10x_otsu_notdownsampled/pseudobulk/downsampled/minimal_1000cells/bw_cut_sites/HyDrop_v2___Glia.fragments.bw /lustre1/project/stg_00002/lcb/hydrop_v2_paper/fly/cistopic_LCB_embryo_consensuspeaks/HyDrop_10x_otsu_notdownsampled/pseudobulk/downsampled/minimal_1000cells/bw_cut_sites/10x_v2___Glia.fragments.bw /lustre1/project/stg_00002/lcb/hydrop_v2_paper/fly/cistopic_LCB_embryo_consensuspeaks/HyDrop_10x_otsu_notdownsampled/pseudobulk/downsampled/minimal_1000cells/bw_cut_sites/sciATAC___Glia.fragments.bw\" \\\n",
    "  \"Glia\" \"Glia_summits_cut_sites_max50bp_regions\" \"0 0 0\" \"0.1 0.1 0.05\"\n"
   ]
  },
  {
   "cell_type": "code",
   "execution_count": 13,
   "id": "b4abf039-d428-4033-b9ae-6ce663a8f30a",
   "metadata": {},
   "outputs": [
    {
     "name": "stdout",
     "output_type": "stream",
     "text": [
      "/data/leuven/software/biomed/wice_icelake_rocky8/2021a/software/deepTools/3.5.0-foss-2021a/lib/python3.9/site-packages/deeptools/plotHeatmap.py:481: MatplotlibDeprecationWarning:\n",
      "\n",
      "You are modifying the state of a globally registered colormap. This has been deprecated since 3.3 and in 3.6, you will not be able to modify a registered colormap in-place. To remove this warning, you can make a copy of the colormap first. cmap = mpl.cm.get_cmap(\"RdYlBu\").copy()\n",
      "\n",
      "/data/leuven/software/biomed/wice_icelake_rocky8/2021a/software/deepTools/3.5.0-foss-2021a/lib/python3.9/site-packages/deeptools/plotHeatmap.py:738: MatplotlibDeprecationWarning:\n",
      "\n",
      "The 'alpha' parameter to Colorbar has no effect because it is overridden by the mappable; it is deprecated since 3.3 and will be removed two minor releases later.\n",
      "\n",
      "/data/leuven/software/biomed/wice_icelake_rocky8/2021a/software/deepTools/3.5.0-foss-2021a/lib/python3.9/site-packages/deeptools/plotHeatmap.py:770: MatplotlibDeprecationWarning:\n",
      "\n",
      "savefig() got unexpected keyword argument \"pdd_inches\" which is no longer supported as of 3.3 and will become an error two minor releases later\n",
      "\n"
     ]
    }
   ],
   "source": [
    "#_Neuronal\n",
    "generate_combined_heatmap \\\n",
    "  /lustre1/project/stg_00002/lcb/hydrop_v2_paper/fly/cistopic_LCB_embryo_consensuspeaks/HyDrop_10x_otsu_notdownsampled/consensus_peak_calling/MACS_max50bp_frag/Neuronal_summits.bed \\\n",
    "  \"HyDrop_v2 10x_v2 sciATAC\" \\\n",
    "  \"/lustre1/project/stg_00002/lcb/hydrop_v2_paper/fly/cistopic_LCB_embryo_consensuspeaks/HyDrop_10x_otsu_notdownsampled/pseudobulk/downsampled/minimal_1000cells/bw_cut_sites/HyDrop_v2___Neuronal.fragments.bw /lustre1/project/stg_00002/lcb/hydrop_v2_paper/fly/cistopic_LCB_embryo_consensuspeaks/HyDrop_10x_otsu_notdownsampled/pseudobulk/downsampled/minimal_1000cells/bw_cut_sites/10x_v2___Neuronal.fragments.bw /lustre1/project/stg_00002/lcb/hydrop_v2_paper/fly/cistopic_LCB_embryo_consensuspeaks/HyDrop_10x_otsu_notdownsampled/pseudobulk/downsampled/minimal_1000cells/bw_cut_sites/sciATAC___Neuronal.fragments.bw\" \\\n",
    "  \"Neuronal\" \"Neuronal_summits_cut_sites_max50bp_regions\" \"0 0 0\" \"0.1 0.1 0.05\""
   ]
  },
  {
   "cell_type": "code",
   "execution_count": 14,
   "id": "5227e398-a2ae-45c8-831e-2542ef34be53",
   "metadata": {},
   "outputs": [
    {
     "name": "stdout",
     "output_type": "stream",
     "text": [
      "/data/leuven/software/biomed/wice_icelake_rocky8/2021a/software/deepTools/3.5.0-foss-2021a/lib/python3.9/site-packages/deeptools/plotHeatmap.py:481: MatplotlibDeprecationWarning:\n",
      "\n",
      "You are modifying the state of a globally registered colormap. This has been deprecated since 3.3 and in 3.6, you will not be able to modify a registered colormap in-place. To remove this warning, you can make a copy of the colormap first. cmap = mpl.cm.get_cmap(\"RdYlBu\").copy()\n",
      "\n",
      "/data/leuven/software/biomed/wice_icelake_rocky8/2021a/software/deepTools/3.5.0-foss-2021a/lib/python3.9/site-packages/deeptools/plotHeatmap.py:738: MatplotlibDeprecationWarning:\n",
      "\n",
      "The 'alpha' parameter to Colorbar has no effect because it is overridden by the mappable; it is deprecated since 3.3 and will be removed two minor releases later.\n",
      "\n",
      "/data/leuven/software/biomed/wice_icelake_rocky8/2021a/software/deepTools/3.5.0-foss-2021a/lib/python3.9/site-packages/deeptools/plotHeatmap.py:770: MatplotlibDeprecationWarning:\n",
      "\n",
      "savefig() got unexpected keyword argument \"pdd_inches\" which is no longer supported as of 3.3 and will become an error two minor releases later\n",
      "\n"
     ]
    }
   ],
   "source": [
    "#Somatic_muscles\n",
    "generate_combined_heatmap \\\n",
    "  /lustre1/project/stg_00002/lcb/hydrop_v2_paper/fly/cistopic_LCB_embryo_consensuspeaks/HyDrop_10x_otsu_notdownsampled/consensus_peak_calling/MACS_max50bp_frag/Somatic_muscles_summits.bed \\\n",
    "  \"HyDrop_v2 10x_v2 sciATAC\" \\\n",
    "  \"/lustre1/project/stg_00002/lcb/hydrop_v2_paper/fly/cistopic_LCB_embryo_consensuspeaks/HyDrop_10x_otsu_notdownsampled/pseudobulk/downsampled/minimal_1000cells/bw_cut_sites/HyDrop_v2___Somatic_muscles.fragments.bw /lustre1/project/stg_00002/lcb/hydrop_v2_paper/fly/cistopic_LCB_embryo_consensuspeaks/HyDrop_10x_otsu_notdownsampled/pseudobulk/downsampled/minimal_1000cells/bw_cut_sites/10x_v2___Somatic_muscles.fragments.bw /lustre1/project/stg_00002/lcb/hydrop_v2_paper/fly/cistopic_LCB_embryo_consensuspeaks/HyDrop_10x_otsu_notdownsampled/pseudobulk/downsampled/minimal_1000cells/bw_cut_sites/sciATAC___Somatic_muscles.fragments.bw\" \\\n",
    "  \"Somatic_muscles\" \"Somatic_muscles_summits_cut_sites_max50bp_regions\" \"0 0 0\" \"0.1 0.1 0.1\""
   ]
  },
  {
   "cell_type": "code",
   "execution_count": 15,
   "id": "8a2cd75e-d03f-4b1b-8036-f4be2f981b94",
   "metadata": {},
   "outputs": [
    {
     "name": "stdout",
     "output_type": "stream",
     "text": [
      "/data/leuven/software/biomed/wice_icelake_rocky8/2021a/software/deepTools/3.5.0-foss-2021a/lib/python3.9/site-packages/deeptools/plotHeatmap.py:481: MatplotlibDeprecationWarning:\n",
      "\n",
      "You are modifying the state of a globally registered colormap. This has been deprecated since 3.3 and in 3.6, you will not be able to modify a registered colormap in-place. To remove this warning, you can make a copy of the colormap first. cmap = mpl.cm.get_cmap(\"RdYlBu\").copy()\n",
      "\n",
      "/data/leuven/software/biomed/wice_icelake_rocky8/2021a/software/deepTools/3.5.0-foss-2021a/lib/python3.9/site-packages/deeptools/plotHeatmap.py:738: MatplotlibDeprecationWarning:\n",
      "\n",
      "The 'alpha' parameter to Colorbar has no effect because it is overridden by the mappable; it is deprecated since 3.3 and will be removed two minor releases later.\n",
      "\n",
      "/data/leuven/software/biomed/wice_icelake_rocky8/2021a/software/deepTools/3.5.0-foss-2021a/lib/python3.9/site-packages/deeptools/plotHeatmap.py:770: MatplotlibDeprecationWarning:\n",
      "\n",
      "savefig() got unexpected keyword argument \"pdd_inches\" which is no longer supported as of 3.3 and will become an error two minor releases later\n",
      "\n"
     ]
    }
   ],
   "source": [
    "#Hemocytes\n",
    "generate_combined_heatmap \\\n",
    "  /lustre1/project/stg_00002/lcb/hydrop_v2_paper/fly/cistopic_LCB_embryo_consensuspeaks/HyDrop_10x_otsu_notdownsampled/consensus_peak_calling/MACS_max50bp_frag/Hemocytes_summits.bed \\\n",
    "  \"HyDrop_v2 10x_v2 sciATAC\" \\\n",
    "  \"/lustre1/project/stg_00002/lcb/hydrop_v2_paper/fly/cistopic_LCB_embryo_consensuspeaks/HyDrop_10x_otsu_notdownsampled/pseudobulk/downsampled/minimal_1000cells/bw_cut_sites/HyDrop_v2___Hemocytes.fragments.bw /lustre1/project/stg_00002/lcb/hydrop_v2_paper/fly/cistopic_LCB_embryo_consensuspeaks/HyDrop_10x_otsu_notdownsampled/pseudobulk/downsampled/minimal_1000cells/bw_cut_sites/10x_v2___Hemocytes.fragments.bw /lustre1/project/stg_00002/lcb/hydrop_v2_paper/fly/cistopic_LCB_embryo_consensuspeaks/HyDrop_10x_otsu_notdownsampled/pseudobulk/downsampled/minimal_1000cells/bw_cut_sites/sciATAC___Hemocytes.fragments.bw\" \\\n",
    "  \"Hemocytes\" \"Hemocytes_summits_cut_sites_max50bp_regions\" \"0 0 0\" \"0.1 0.1 0.05\""
   ]
  },
  {
   "cell_type": "code",
   "execution_count": null,
   "id": "0c50d8ef-536e-41ec-a730-7d7473efebaf",
   "metadata": {},
   "outputs": [],
   "source": []
  },
  {
   "cell_type": "code",
   "execution_count": 16,
   "id": "823eab5c-f4af-4a33-a4c0-497690881fc2",
   "metadata": {},
   "outputs": [
    {
     "name": "stdout",
     "output_type": "stream",
     "text": [
      "/data/leuven/software/biomed/wice_icelake_rocky8/2021a/software/deepTools/3.5.0-foss-2021a/lib/python3.9/site-packages/deeptools/plotHeatmap.py:481: MatplotlibDeprecationWarning:\n",
      "\n",
      "You are modifying the state of a globally registered colormap. This has been deprecated since 3.3 and in 3.6, you will not be able to modify a registered colormap in-place. To remove this warning, you can make a copy of the colormap first. cmap = mpl.cm.get_cmap(\"RdYlBu\").copy()\n",
      "\n",
      "/data/leuven/software/biomed/wice_icelake_rocky8/2021a/software/deepTools/3.5.0-foss-2021a/lib/python3.9/site-packages/deeptools/plotHeatmap.py:738: MatplotlibDeprecationWarning:\n",
      "\n",
      "The 'alpha' parameter to Colorbar has no effect because it is overridden by the mappable; it is deprecated since 3.3 and will be removed two minor releases later.\n",
      "\n",
      "/data/leuven/software/biomed/wice_icelake_rocky8/2021a/software/deepTools/3.5.0-foss-2021a/lib/python3.9/site-packages/deeptools/plotHeatmap.py:770: MatplotlibDeprecationWarning:\n",
      "\n",
      "savefig() got unexpected keyword argument \"pdd_inches\" which is no longer supported as of 3.3 and will become an error two minor releases later\n",
      "\n"
     ]
    }
   ],
   "source": [
    "#GLIA\n",
    "generate_combined_heatmap \\\n",
    "  /lustre1/project/stg_00002/lcb/hydrop_v2_paper/fly/cistopic_LCB_embryo_consensuspeaks/HyDrop_10x_otsu_notdownsampled/consensus_peak_calling/MACS_morethan50bp_frag/Glia_summits.bed \\\n",
    "  \"HyDrop_v2 10x_v2 sciATAC\" \\\n",
    "  \"/lustre1/project/stg_00002/lcb/hydrop_v2_paper/fly/cistopic_LCB_embryo_consensuspeaks/HyDrop_10x_otsu_notdownsampled/pseudobulk/downsampled/minimal_1000cells/bw_cut_sites/HyDrop_v2___Glia.fragments.bw /lustre1/project/stg_00002/lcb/hydrop_v2_paper/fly/cistopic_LCB_embryo_consensuspeaks/HyDrop_10x_otsu_notdownsampled/pseudobulk/downsampled/minimal_1000cells/bw_cut_sites/10x_v2___Glia.fragments.bw /lustre1/project/stg_00002/lcb/hydrop_v2_paper/fly/cistopic_LCB_embryo_consensuspeaks/HyDrop_10x_otsu_notdownsampled/pseudobulk/downsampled/minimal_1000cells/bw_cut_sites/sciATAC___Glia.fragments.bw\" \\\n",
    "  \"Glia\" \"Glia_summits_cut_sites_morethan50bp_regions\" \"0 0 0\" \"0.1 0.1 0.05\"\n"
   ]
  },
  {
   "cell_type": "code",
   "execution_count": 17,
   "id": "e82a6ce1-bfa0-4d9d-b2bb-1614f58147d5",
   "metadata": {},
   "outputs": [
    {
     "name": "stdout",
     "output_type": "stream",
     "text": [
      "/data/leuven/software/biomed/wice_icelake_rocky8/2021a/software/deepTools/3.5.0-foss-2021a/lib/python3.9/site-packages/deeptools/plotHeatmap.py:481: MatplotlibDeprecationWarning:\n",
      "\n",
      "You are modifying the state of a globally registered colormap. This has been deprecated since 3.3 and in 3.6, you will not be able to modify a registered colormap in-place. To remove this warning, you can make a copy of the colormap first. cmap = mpl.cm.get_cmap(\"RdYlBu\").copy()\n",
      "\n",
      "/data/leuven/software/biomed/wice_icelake_rocky8/2021a/software/deepTools/3.5.0-foss-2021a/lib/python3.9/site-packages/deeptools/plotHeatmap.py:738: MatplotlibDeprecationWarning:\n",
      "\n",
      "The 'alpha' parameter to Colorbar has no effect because it is overridden by the mappable; it is deprecated since 3.3 and will be removed two minor releases later.\n",
      "\n",
      "/data/leuven/software/biomed/wice_icelake_rocky8/2021a/software/deepTools/3.5.0-foss-2021a/lib/python3.9/site-packages/deeptools/plotHeatmap.py:770: MatplotlibDeprecationWarning:\n",
      "\n",
      "savefig() got unexpected keyword argument \"pdd_inches\" which is no longer supported as of 3.3 and will become an error two minor releases later\n",
      "\n"
     ]
    }
   ],
   "source": [
    "#_Neuronal\n",
    "generate_combined_heatmap \\\n",
    "  /lustre1/project/stg_00002/lcb/hydrop_v2_paper/fly/cistopic_LCB_embryo_consensuspeaks/HyDrop_10x_otsu_notdownsampled/consensus_peak_calling/MACS_morethan50bp_frag/Neuronal_summits.bed \\\n",
    "  \"HyDrop_v2 10x_v2 sciATAC\" \\\n",
    "  \"/lustre1/project/stg_00002/lcb/hydrop_v2_paper/fly/cistopic_LCB_embryo_consensuspeaks/HyDrop_10x_otsu_notdownsampled/pseudobulk/downsampled/minimal_1000cells/bw_cut_sites/HyDrop_v2___Neuronal.fragments.bw /lustre1/project/stg_00002/lcb/hydrop_v2_paper/fly/cistopic_LCB_embryo_consensuspeaks/HyDrop_10x_otsu_notdownsampled/pseudobulk/downsampled/minimal_1000cells/bw_cut_sites/10x_v2___Neuronal.fragments.bw /lustre1/project/stg_00002/lcb/hydrop_v2_paper/fly/cistopic_LCB_embryo_consensuspeaks/HyDrop_10x_otsu_notdownsampled/pseudobulk/downsampled/minimal_1000cells/bw_cut_sites/sciATAC___Neuronal.fragments.bw\" \\\n",
    "  \"Neuronal\" \"Neuronal_summits_cut_sites_morethan50bp_regions\" \"0 0 0\" \"0.1 0.1 0.05\""
   ]
  },
  {
   "cell_type": "code",
   "execution_count": 18,
   "id": "7d1ca258-f7e4-428c-ac76-aa4ebb80fe42",
   "metadata": {},
   "outputs": [
    {
     "name": "stdout",
     "output_type": "stream",
     "text": [
      "/data/leuven/software/biomed/wice_icelake_rocky8/2021a/software/deepTools/3.5.0-foss-2021a/lib/python3.9/site-packages/deeptools/plotHeatmap.py:481: MatplotlibDeprecationWarning:\n",
      "\n",
      "You are modifying the state of a globally registered colormap. This has been deprecated since 3.3 and in 3.6, you will not be able to modify a registered colormap in-place. To remove this warning, you can make a copy of the colormap first. cmap = mpl.cm.get_cmap(\"RdYlBu\").copy()\n",
      "\n",
      "/data/leuven/software/biomed/wice_icelake_rocky8/2021a/software/deepTools/3.5.0-foss-2021a/lib/python3.9/site-packages/deeptools/plotHeatmap.py:738: MatplotlibDeprecationWarning:\n",
      "\n",
      "The 'alpha' parameter to Colorbar has no effect because it is overridden by the mappable; it is deprecated since 3.3 and will be removed two minor releases later.\n",
      "\n",
      "/data/leuven/software/biomed/wice_icelake_rocky8/2021a/software/deepTools/3.5.0-foss-2021a/lib/python3.9/site-packages/deeptools/plotHeatmap.py:770: MatplotlibDeprecationWarning:\n",
      "\n",
      "savefig() got unexpected keyword argument \"pdd_inches\" which is no longer supported as of 3.3 and will become an error two minor releases later\n",
      "\n"
     ]
    }
   ],
   "source": [
    "#Somatic_muscles\n",
    "generate_combined_heatmap \\\n",
    "  /lustre1/project/stg_00002/lcb/hydrop_v2_paper/fly/cistopic_LCB_embryo_consensuspeaks/HyDrop_10x_otsu_notdownsampled/consensus_peak_calling/MACS_morethan50bp_frag/Somatic_muscles_summits.bed \\\n",
    "  \"HyDrop_v2 10x_v2 sciATAC\" \\\n",
    "  \"/lustre1/project/stg_00002/lcb/hydrop_v2_paper/fly/cistopic_LCB_embryo_consensuspeaks/HyDrop_10x_otsu_notdownsampled/pseudobulk/downsampled/minimal_1000cells/bw_cut_sites/HyDrop_v2___Somatic_muscles.fragments.bw /lustre1/project/stg_00002/lcb/hydrop_v2_paper/fly/cistopic_LCB_embryo_consensuspeaks/HyDrop_10x_otsu_notdownsampled/pseudobulk/downsampled/minimal_1000cells/bw_cut_sites/10x_v2___Somatic_muscles.fragments.bw /lustre1/project/stg_00002/lcb/hydrop_v2_paper/fly/cistopic_LCB_embryo_consensuspeaks/HyDrop_10x_otsu_notdownsampled/pseudobulk/downsampled/minimal_1000cells/bw_cut_sites/sciATAC___Somatic_muscles.fragments.bw\" \\\n",
    "  \"Somatic_muscles\" \"Somatic_muscles_summits_cut_sites_morethan50bp_regions\" \"0 0 0\" \"0.1 0.1 0.1\""
   ]
  },
  {
   "cell_type": "code",
   "execution_count": 19,
   "id": "db07e58d-4712-471d-adfd-107f1da3b41a",
   "metadata": {},
   "outputs": [
    {
     "name": "stdout",
     "output_type": "stream",
     "text": [
      "/data/leuven/software/biomed/wice_icelake_rocky8/2021a/software/deepTools/3.5.0-foss-2021a/lib/python3.9/site-packages/deeptools/plotHeatmap.py:481: MatplotlibDeprecationWarning:\n",
      "\n",
      "You are modifying the state of a globally registered colormap. This has been deprecated since 3.3 and in 3.6, you will not be able to modify a registered colormap in-place. To remove this warning, you can make a copy of the colormap first. cmap = mpl.cm.get_cmap(\"RdYlBu\").copy()\n",
      "\n",
      "/data/leuven/software/biomed/wice_icelake_rocky8/2021a/software/deepTools/3.5.0-foss-2021a/lib/python3.9/site-packages/deeptools/plotHeatmap.py:738: MatplotlibDeprecationWarning:\n",
      "\n",
      "The 'alpha' parameter to Colorbar has no effect because it is overridden by the mappable; it is deprecated since 3.3 and will be removed two minor releases later.\n",
      "\n",
      "/data/leuven/software/biomed/wice_icelake_rocky8/2021a/software/deepTools/3.5.0-foss-2021a/lib/python3.9/site-packages/deeptools/plotHeatmap.py:770: MatplotlibDeprecationWarning:\n",
      "\n",
      "savefig() got unexpected keyword argument \"pdd_inches\" which is no longer supported as of 3.3 and will become an error two minor releases later\n",
      "\n"
     ]
    }
   ],
   "source": [
    "#Hemocytes\n",
    "generate_combined_heatmap \\\n",
    "  /lustre1/project/stg_00002/lcb/hydrop_v2_paper/fly/cistopic_LCB_embryo_consensuspeaks/HyDrop_10x_otsu_notdownsampled/consensus_peak_calling/MACS_morethan50bp_frag/Hemocytes_summits.bed \\\n",
    "  \"HyDrop_v2 10x_v2 sciATAC\" \\\n",
    "  \"/lustre1/project/stg_00002/lcb/hydrop_v2_paper/fly/cistopic_LCB_embryo_consensuspeaks/HyDrop_10x_otsu_notdownsampled/pseudobulk/downsampled/minimal_1000cells/bw_cut_sites/HyDrop_v2___Hemocytes.fragments.bw /lustre1/project/stg_00002/lcb/hydrop_v2_paper/fly/cistopic_LCB_embryo_consensuspeaks/HyDrop_10x_otsu_notdownsampled/pseudobulk/downsampled/minimal_1000cells/bw_cut_sites/10x_v2___Hemocytes.fragments.bw /lustre1/project/stg_00002/lcb/hydrop_v2_paper/fly/cistopic_LCB_embryo_consensuspeaks/HyDrop_10x_otsu_notdownsampled/pseudobulk/downsampled/minimal_1000cells/bw_cut_sites/sciATAC___Hemocytes.fragments.bw\" \\\n",
    "  \"Hemocytes\" \"Hemocytes_summits_cut_sites_morethan50bp_regions\" \"0 0 0\" \"0.1 0.1 0.05\""
   ]
  },
  {
   "cell_type": "code",
   "execution_count": 28,
   "id": "8a5714f3-1b55-4a0b-af19-c9f129490828",
   "metadata": {},
   "outputs": [],
   "source": [
    "generate_combined_heatmap() {\n",
    "  local bed_file=$1\n",
    "  local sample_labels=$2   # Sample labels combined (space-separated)\n",
    "  local bigwig_files=$3    # BigWig file paths combined (space-separated)\n",
    "  local cell_type=$4\n",
    "  local output_prefix=$5\n",
    "  local z_min_list=$6      # Space-separated list of zMin values (one per sample)\n",
    "  local z_max_list=$7      # Space-separated list of zMax values (one per sample)\n",
    "\n",
    "  # Compute matrix for all samples together\n",
    "  computeMatrix reference-point \\\n",
    "    -R ${bed_file} \\\n",
    "    -S ${bigwig_files} \\\n",
    "    --referencePoint center \\\n",
    "    -b 500 -a 500 \\\n",
    "    -out ${output_prefix}_matrix.gz \\\n",
    "    --missingDataAsZero \n",
    "\n",
    "  # Plot combined heatmap with per-sample zMin and zMax values\n",
    "  plotProfile -m ${output_prefix}_matrix.gz \\\n",
    "    --dpi 300 \\\n",
    "    --plotFileFormat svg \\\n",
    "    --regionsLabel '' \\\n",
    "    -T \"${cell_type}\" \\\n",
    "    -out ${output_prefix}_plot.svg\n",
    "}"
   ]
  },
  {
   "cell_type": "code",
   "execution_count": 29,
   "id": "16af4bc0-4867-47c7-a17d-fb9124d36660",
   "metadata": {},
   "outputs": [
    {
     "name": "stdout",
     "output_type": "stream",
     "text": [
      "No handles with labels found to put in legend.\n"
     ]
    }
   ],
   "source": [
    "#GLIA\n",
    "generate_combined_heatmap \\\n",
    "  /lustre1/project/stg_00002/lcb/hydrop_v2_paper/fly/cistopic_LCB_embryo_consensuspeaks/HyDrop_10x_otsu_notdownsampled/consensus_peak_calling/MACS/Glia_summits.bed \\\n",
    "  \"HyDrop_v2 10x_v2 sciATAC\" \\\n",
    "  \"/lustre1/project/stg_00002/lcb/hydrop_v2_paper/fly/cistopic_LCB_embryo_consensuspeaks/HyDrop_10x_otsu_notdownsampled/pseudobulk/downsampled/minimal_1000cells/bw_cut_sites/HyDrop_v2___Glia.fragments.bw /lustre1/project/stg_00002/lcb/hydrop_v2_paper/fly/cistopic_LCB_embryo_consensuspeaks/HyDrop_10x_otsu_notdownsampled/pseudobulk/downsampled/minimal_1000cells/bw_cut_sites/10x_v2___Glia.fragments.bw /lustre1/project/stg_00002/lcb/hydrop_v2_paper/fly/cistopic_LCB_embryo_consensuspeaks/HyDrop_10x_otsu_notdownsampled/pseudobulk/downsampled/minimal_1000cells/bw_cut_sites/sciATAC___Glia.fragments.bw\" \\\n",
    "  \"Glia\" \"profile_Glia_summits_cut_sites\" \"0 0 0\" \"0.1 0.1 0.05\"\n"
   ]
  },
  {
   "cell_type": "code",
   "execution_count": 27,
   "id": "fe86cf66-ab5b-4f5b-998b-4b984bb46263",
   "metadata": {},
   "outputs": [
    {
     "name": "stdout",
     "output_type": "stream",
     "text": [
      "No handles with labels found to put in legend.\n"
     ]
    }
   ],
   "source": [
    "plotProfile -m profile_Glia_summits_cut_sites_matrix.gz \\\n",
    "    --dpi 300 \\\n",
    "    --plotFileFormat svg \\\n",
    "    --regionsLabel '' \\\n",
    "    -T \"${cell_type}\" \\\n",
    "    -out profile_Glia_summits_cut_sites_plot.svg"
   ]
  },
  {
   "cell_type": "code",
   "execution_count": 30,
   "id": "07d31f40-eaab-46de-a126-c1cfd334ed0b",
   "metadata": {},
   "outputs": [
    {
     "name": "stdout",
     "output_type": "stream",
     "text": [
      "No handles with labels found to put in legend.\n"
     ]
    }
   ],
   "source": [
    "#_Neuronal\n",
    "generate_combined_heatmap \\\n",
    "  /lustre1/project/stg_00002/lcb/hydrop_v2_paper/fly/cistopic_LCB_embryo_consensuspeaks/HyDrop_10x_otsu_notdownsampled/consensus_peak_calling/MACS/Neuronal_summits.bed \\\n",
    "  \"HyDrop_v2 10x_v2 sciATAC\" \\\n",
    "  \"/lustre1/project/stg_00002/lcb/hydrop_v2_paper/fly/cistopic_LCB_embryo_consensuspeaks/HyDrop_10x_otsu_notdownsampled/pseudobulk/downsampled/minimal_1000cells/bw_cut_sites/HyDrop_v2___Neuronal.fragments.bw /lustre1/project/stg_00002/lcb/hydrop_v2_paper/fly/cistopic_LCB_embryo_consensuspeaks/HyDrop_10x_otsu_notdownsampled/pseudobulk/downsampled/minimal_1000cells/bw_cut_sites/10x_v2___Neuronal.fragments.bw /lustre1/project/stg_00002/lcb/hydrop_v2_paper/fly/cistopic_LCB_embryo_consensuspeaks/HyDrop_10x_otsu_notdownsampled/pseudobulk/downsampled/minimal_1000cells/bw_cut_sites/sciATAC___Neuronal.fragments.bw\" \\\n",
    "  \"Neuronal\" \"profile_Neuronal_summits_cut_sites\" \"0 0 0\" \"0.1 0.1 0.05\""
   ]
  },
  {
   "cell_type": "code",
   "execution_count": 31,
   "id": "cc761e8c-a424-4e1c-9d81-483c91823643",
   "metadata": {},
   "outputs": [
    {
     "name": "stdout",
     "output_type": "stream",
     "text": [
      "No handles with labels found to put in legend.\n"
     ]
    }
   ],
   "source": [
    "#Somatic_muscles\n",
    "generate_combined_heatmap \\\n",
    "  /lustre1/project/stg_00002/lcb/hydrop_v2_paper/fly/cistopic_LCB_embryo_consensuspeaks/HyDrop_10x_otsu_notdownsampled/consensus_peak_calling/MACS/Somatic_muscles_summits.bed \\\n",
    "  \"HyDrop_v2 10x_v2 sciATAC\" \\\n",
    "  \"/lustre1/project/stg_00002/lcb/hydrop_v2_paper/fly/cistopic_LCB_embryo_consensuspeaks/HyDrop_10x_otsu_notdownsampled/pseudobulk/downsampled/minimal_1000cells/bw_cut_sites/HyDrop_v2___Somatic_muscles.fragments.bw /lustre1/project/stg_00002/lcb/hydrop_v2_paper/fly/cistopic_LCB_embryo_consensuspeaks/HyDrop_10x_otsu_notdownsampled/pseudobulk/downsampled/minimal_1000cells/bw_cut_sites/10x_v2___Somatic_muscles.fragments.bw /lustre1/project/stg_00002/lcb/hydrop_v2_paper/fly/cistopic_LCB_embryo_consensuspeaks/HyDrop_10x_otsu_notdownsampled/pseudobulk/downsampled/minimal_1000cells/bw_cut_sites/sciATAC___Somatic_muscles.fragments.bw\" \\\n",
    "  \"Somatic_muscles\" \"profile_Somatic_muscles_summits_cut_sites\" \"0 0 0\" \"0.1 0.1 0.1\""
   ]
  },
  {
   "cell_type": "code",
   "execution_count": 32,
   "id": "3686e6b2-c776-4bb9-ac88-2a944e2f11fa",
   "metadata": {},
   "outputs": [
    {
     "name": "stdout",
     "output_type": "stream",
     "text": [
      "No handles with labels found to put in legend.\n"
     ]
    }
   ],
   "source": [
    "#Hemocytes\n",
    "generate_combined_heatmap \\\n",
    "  /lustre1/project/stg_00002/lcb/hydrop_v2_paper/fly/cistopic_LCB_embryo_consensuspeaks/HyDrop_10x_otsu_notdownsampled/consensus_peak_calling/MACS/Hemocytes_summits.bed \\\n",
    "  \"HyDrop_v2 10x_v2 sciATAC\" \\\n",
    "  \"/lustre1/project/stg_00002/lcb/hydrop_v2_paper/fly/cistopic_LCB_embryo_consensuspeaks/HyDrop_10x_otsu_notdownsampled/pseudobulk/downsampled/minimal_1000cells/bw_cut_sites/HyDrop_v2___Hemocytes.fragments.bw /lustre1/project/stg_00002/lcb/hydrop_v2_paper/fly/cistopic_LCB_embryo_consensuspeaks/HyDrop_10x_otsu_notdownsampled/pseudobulk/downsampled/minimal_1000cells/bw_cut_sites/10x_v2___Hemocytes.fragments.bw /lustre1/project/stg_00002/lcb/hydrop_v2_paper/fly/cistopic_LCB_embryo_consensuspeaks/HyDrop_10x_otsu_notdownsampled/pseudobulk/downsampled/minimal_1000cells/bw_cut_sites/sciATAC___Hemocytes.fragments.bw\" \\\n",
    "  \"Hemocytes\" \"profile_Hemocytes_summits_cut_sites\" \"0 0 0\" \"0.1 0.1 0.05\""
   ]
  },
  {
   "cell_type": "code",
   "execution_count": 1,
   "id": "11bb6e3a-8014-4a06-998b-f0cf7f5c8f9c",
   "metadata": {},
   "outputs": [],
   "source": [
    "generate_combined_heatmap() {\n",
    "  local bed_file=$1\n",
    "  local sample_labels=$2   # Sample labels combined (space-separated)\n",
    "  local bigwig_files=$3    # BigWig file paths combined (space-separated)\n",
    "  local cell_type=$4\n",
    "  local output_prefix=$5\n",
    "  local z_min_list=$6      # Space-separated list of zMin values (one per sample)\n",
    "  local z_max_list=$7      # Space-separated list of zMax values (one per sample)\n",
    "\n",
    "  # Compute matrix for all samples together\n",
    "  computeMatrix reference-point \\\n",
    "    -R ${bed_file} \\\n",
    "    -S ${bigwig_files} \\\n",
    "    --referencePoint center \\\n",
    "    -b 50 -a 50 \\\n",
    "    -out ${output_prefix}_matrix.gz \\\n",
    "    --missingDataAsZero \n",
    "\n",
    "  # Plot combined heatmap with per-sample zMin and zMax values\n",
    "  plotProfile -m ${output_prefix}_matrix.gz \\\n",
    "    --dpi 300 \\\n",
    "    --plotFileFormat svg \\\n",
    "    --regionsLabel '' \\\n",
    "    -T \"${cell_type}\" \\\n",
    "    -out ${output_prefix}_plot.svg\n",
    "}"
   ]
  },
  {
   "cell_type": "code",
   "execution_count": 3,
   "id": "4cc69f31-b838-4796-9dd5-45f18e4a3778",
   "metadata": {},
   "outputs": [
    {
     "name": "stdout",
     "output_type": "stream",
     "text": [
      "No handles with labels found to put in legend.\n"
     ]
    }
   ],
   "source": [
    "#GLIA\n",
    "generate_combined_heatmap \\\n",
    "  /lustre1/project/stg_00002/lcb/hydrop_v2_paper/fly/cistopic_LCB_embryo_consensuspeaks/HyDrop_10x_otsu_notdownsampled/consensus_peak_calling/MACS_max50bp_frag/Glia_summits.bed \\\n",
    "  \"HyDrop_v2 10x_v2 sciATAC\" \\\n",
    "  \"/lustre1/project/stg_00002/lcb/hydrop_v2_paper/fly/cistopic_LCB_embryo_consensuspeaks/HyDrop_10x_otsu_notdownsampled/pseudobulk/downsampled/minimal_1000cells/bw_cut_sites/HyDrop_v2___Glia.fragments.bw /lustre1/project/stg_00002/lcb/hydrop_v2_paper/fly/cistopic_LCB_embryo_consensuspeaks/HyDrop_10x_otsu_notdownsampled/pseudobulk/downsampled/minimal_1000cells/bw_cut_sites/10x_v2___Glia.fragments.bw /lustre1/project/stg_00002/lcb/hydrop_v2_paper/fly/cistopic_LCB_embryo_consensuspeaks/HyDrop_10x_otsu_notdownsampled/pseudobulk/downsampled/minimal_1000cells/bw_cut_sites/sciATAC___Glia.fragments.bw\" \\\n",
    "  \"Glia\" \"profile_Glia_summits_cut_sites_max50bp\" \"0 0 0\" \"0.1 0.1 0.05\"\n"
   ]
  },
  {
   "cell_type": "code",
   "execution_count": 4,
   "id": "a270ce77-97db-409d-b15e-866eda053c47",
   "metadata": {},
   "outputs": [
    {
     "name": "stdout",
     "output_type": "stream",
     "text": [
      "No handles with labels found to put in legend.\n"
     ]
    }
   ],
   "source": [
    "#_Neuronal\n",
    "generate_combined_heatmap \\\n",
    "  /lustre1/project/stg_00002/lcb/hydrop_v2_paper/fly/cistopic_LCB_embryo_consensuspeaks/HyDrop_10x_otsu_notdownsampled/consensus_peak_calling/MACS_max50bp_frag/Neuronal_summits.bed \\\n",
    "  \"HyDrop_v2 10x_v2 sciATAC\" \\\n",
    "  \"/lustre1/project/stg_00002/lcb/hydrop_v2_paper/fly/cistopic_LCB_embryo_consensuspeaks/HyDrop_10x_otsu_notdownsampled/pseudobulk/downsampled/minimal_1000cells/bw_cut_sites/HyDrop_v2___Neuronal.fragments.bw /lustre1/project/stg_00002/lcb/hydrop_v2_paper/fly/cistopic_LCB_embryo_consensuspeaks/HyDrop_10x_otsu_notdownsampled/pseudobulk/downsampled/minimal_1000cells/bw_cut_sites/10x_v2___Neuronal.fragments.bw /lustre1/project/stg_00002/lcb/hydrop_v2_paper/fly/cistopic_LCB_embryo_consensuspeaks/HyDrop_10x_otsu_notdownsampled/pseudobulk/downsampled/minimal_1000cells/bw_cut_sites/sciATAC___Neuronal.fragments.bw\" \\\n",
    "  \"Neuronal\" \"profile_Neuronal_summits_cut_sites_max50bp\" \"0 0 0\" \"0.1 0.1 0.05\""
   ]
  },
  {
   "cell_type": "code",
   "execution_count": 5,
   "id": "22c8f07c-65e7-46be-8a3b-eb08580a7dfa",
   "metadata": {},
   "outputs": [
    {
     "name": "stdout",
     "output_type": "stream",
     "text": [
      "No handles with labels found to put in legend.\n"
     ]
    }
   ],
   "source": [
    "#Somatic_muscles\n",
    "generate_combined_heatmap \\\n",
    "  /lustre1/project/stg_00002/lcb/hydrop_v2_paper/fly/cistopic_LCB_embryo_consensuspeaks/HyDrop_10x_otsu_notdownsampled/consensus_peak_calling/MACS_max50bp_frag/Somatic_muscles_summits.bed \\\n",
    "  \"HyDrop_v2 10x_v2 sciATAC\" \\\n",
    "  \"/lustre1/project/stg_00002/lcb/hydrop_v2_paper/fly/cistopic_LCB_embryo_consensuspeaks/HyDrop_10x_otsu_notdownsampled/pseudobulk/downsampled/minimal_1000cells/bw_cut_sites/HyDrop_v2___Somatic_muscles.fragments.bw /lustre1/project/stg_00002/lcb/hydrop_v2_paper/fly/cistopic_LCB_embryo_consensuspeaks/HyDrop_10x_otsu_notdownsampled/pseudobulk/downsampled/minimal_1000cells/bw_cut_sites/10x_v2___Somatic_muscles.fragments.bw /lustre1/project/stg_00002/lcb/hydrop_v2_paper/fly/cistopic_LCB_embryo_consensuspeaks/HyDrop_10x_otsu_notdownsampled/pseudobulk/downsampled/minimal_1000cells/bw_cut_sites/sciATAC___Somatic_muscles.fragments.bw\" \\\n",
    "  \"Somatic_muscles\" \"profile_Somatic_muscles_summits_cut_sites_max50bp\" \"0 0 0\" \"0.1 0.1 0.1\""
   ]
  },
  {
   "cell_type": "code",
   "execution_count": 6,
   "id": "4012c270-bb08-413c-9bf9-132a2eab02e1",
   "metadata": {},
   "outputs": [
    {
     "name": "stdout",
     "output_type": "stream",
     "text": [
      "No handles with labels found to put in legend.\n"
     ]
    }
   ],
   "source": [
    "#Hemocytes\n",
    "generate_combined_heatmap \\\n",
    "  /lustre1/project/stg_00002/lcb/hydrop_v2_paper/fly/cistopic_LCB_embryo_consensuspeaks/HyDrop_10x_otsu_notdownsampled/consensus_peak_calling/MACS_max50bp_frag/Hemocytes_summits.bed \\\n",
    "  \"HyDrop_v2 10x_v2 sciATAC\" \\\n",
    "  \"/lustre1/project/stg_00002/lcb/hydrop_v2_paper/fly/cistopic_LCB_embryo_consensuspeaks/HyDrop_10x_otsu_notdownsampled/pseudobulk/downsampled/minimal_1000cells/bw_cut_sites/HyDrop_v2___Hemocytes.fragments.bw /lustre1/project/stg_00002/lcb/hydrop_v2_paper/fly/cistopic_LCB_embryo_consensuspeaks/HyDrop_10x_otsu_notdownsampled/pseudobulk/downsampled/minimal_1000cells/bw_cut_sites/10x_v2___Hemocytes.fragments.bw /lustre1/project/stg_00002/lcb/hydrop_v2_paper/fly/cistopic_LCB_embryo_consensuspeaks/HyDrop_10x_otsu_notdownsampled/pseudobulk/downsampled/minimal_1000cells/bw_cut_sites/sciATAC___Hemocytes.fragments.bw\" \\\n",
    "  \"Hemocytes\" \"profile_Hemocytes_summits_cut_sites_max50bp\" \"0 0 0\" \"0.1 0.1 0.05\""
   ]
  },
  {
   "cell_type": "markdown",
   "id": "8d889a8f-5d23-4a72-86f8-f63ca82e83e3",
   "metadata": {},
   "source": [
    "# Tn5 bias"
   ]
  },
  {
   "cell_type": "markdown",
   "id": "8846a98c-8fcc-4495-8ba4-1a1bd97b3284",
   "metadata": {},
   "source": [
    "use bw that only contain Tn5 bias, plot this on each summit (where the center is) bed file per cell type. "
   ]
  },
  {
   "cell_type": "code",
   "execution_count": 2,
   "id": "1667eabc-873f-4ac5-aa42-eef8ee247ec4",
   "metadata": {},
   "outputs": [],
   "source": [
    "generate_combined_heatmap() {\n",
    "  local bed_file=$1\n",
    "  local sample_labels=$2   # Sample labels combined (space-separated)\n",
    "  local bigwig_files=$3    # BigWig file paths combined (space-separated)\n",
    "  local cell_type=$4\n",
    "  local output_prefix=$5\n",
    "  local z_min_list=$6      # Space-separated list of zMin values (one per sample)\n",
    "  local z_max_list=$7      # Space-separated list of zMax values (one per sample)\n",
    "\n",
    "  # Compute matrix for all samples together\n",
    "  computeMatrix reference-point \\\n",
    "    -R ${bed_file} \\\n",
    "    -S ${bigwig_files} \\\n",
    "    --referencePoint center \\\n",
    "    -b 500 -a 500 \\\n",
    "    -out ${output_prefix}_matrix.gz \\\n",
    "    --missingDataAsZero\n",
    "\n",
    "  # Plot combined heatmap with per-sample zMin and zMax values\n",
    "  plotHeatmap -m ${output_prefix}_matrix.gz \\\n",
    "    --dpi 300 \\\n",
    "    --whatToShow 'heatmap and colorbar' \\\n",
    "    --plotFileFormat svg \\\n",
    "    --xAxisLabel '' \\\n",
    "    --regionsLabel '' \\\n",
    "    --samplesLabel ${sample_labels} \\\n",
    "    -T \"${cell_type}\" \\\n",
    "    --zMin ${z_min_list} \\\n",
    "    --zMax ${z_max_list} \\\n",
    "    --heatmapHeight 10 --heatmapWidth 5 \\\n",
    "    -out ${output_prefix}_heatmap.svg\n",
    "}"
   ]
  },
  {
   "cell_type": "code",
   "execution_count": 4,
   "id": "cea38742-9320-4312-a81b-31c5869b2f23",
   "metadata": {},
   "outputs": [
    {
     "name": "stdout",
     "output_type": "stream",
     "text": [
      "/data/leuven/software/biomed/wice_icelake_rocky8/2021a/software/deepTools/3.5.0-foss-2021a/lib/python3.9/site-packages/deeptools/plotHeatmap.py:481: MatplotlibDeprecationWarning:\n",
      "\n",
      "You are modifying the state of a globally registered colormap. This has been deprecated since 3.3 and in 3.6, you will not be able to modify a registered colormap in-place. To remove this warning, you can make a copy of the colormap first. cmap = mpl.cm.get_cmap(\"RdYlBu\").copy()\n",
      "\n",
      "/data/leuven/software/biomed/wice_icelake_rocky8/2021a/software/deepTools/3.5.0-foss-2021a/lib/python3.9/site-packages/deeptools/plotHeatmap.py:762: MatplotlibDeprecationWarning:\n",
      "\n",
      "The 'alpha' parameter to Colorbar has no effect because it is overridden by the mappable; it is deprecated since 3.3 and will be removed two minor releases later.\n",
      "\n",
      "/data/leuven/software/biomed/wice_icelake_rocky8/2021a/software/deepTools/3.5.0-foss-2021a/lib/python3.9/site-packages/deeptools/plotHeatmap.py:770: MatplotlibDeprecationWarning:\n",
      "\n",
      "savefig() got unexpected keyword argument \"pdd_inches\" which is no longer supported as of 3.3 and will become an error two minor releases later\n",
      "\n"
     ]
    }
   ],
   "source": [
    "#GLIA\n",
    "generate_combined_heatmap \\\n",
    "  /lustre1/project/stg_00002/lcb/hydrop_v2_paper/fly/cistopic_LCB_embryo_consensuspeaks/HyDrop_10x_otsu_notdownsampled/consensus_peak_calling/MACS_max50bp_frag/Glia_summits.bed \\\n",
    "  \"Tn5_bias\" \\\n",
    "  \"/staging/leuven/stg_00002/lcb/lmahieu/data/PRINT/biases/dm6Tn5Bias.tar.gz.untar/dm6Tn5Bias.bw\" \\\n",
    "  \"Glia\" \"Tn5_bias_Glia_summits_cut_sites\" \"0\" \"10\"\n"
   ]
  },
  {
   "cell_type": "code",
   "execution_count": 5,
   "id": "03eb4759-aa9c-4036-99a5-65d2bb6319eb",
   "metadata": {},
   "outputs": [
    {
     "name": "stdout",
     "output_type": "stream",
     "text": [
      "/data/leuven/software/biomed/wice_icelake_rocky8/2021a/software/deepTools/3.5.0-foss-2021a/lib/python3.9/site-packages/deeptools/plotHeatmap.py:481: MatplotlibDeprecationWarning:\n",
      "\n",
      "You are modifying the state of a globally registered colormap. This has been deprecated since 3.3 and in 3.6, you will not be able to modify a registered colormap in-place. To remove this warning, you can make a copy of the colormap first. cmap = mpl.cm.get_cmap(\"RdYlBu\").copy()\n",
      "\n",
      "/data/leuven/software/biomed/wice_icelake_rocky8/2021a/software/deepTools/3.5.0-foss-2021a/lib/python3.9/site-packages/deeptools/plotHeatmap.py:762: MatplotlibDeprecationWarning:\n",
      "\n",
      "The 'alpha' parameter to Colorbar has no effect because it is overridden by the mappable; it is deprecated since 3.3 and will be removed two minor releases later.\n",
      "\n",
      "/data/leuven/software/biomed/wice_icelake_rocky8/2021a/software/deepTools/3.5.0-foss-2021a/lib/python3.9/site-packages/deeptools/plotHeatmap.py:770: MatplotlibDeprecationWarning:\n",
      "\n",
      "savefig() got unexpected keyword argument \"pdd_inches\" which is no longer supported as of 3.3 and will become an error two minor releases later\n",
      "\n"
     ]
    }
   ],
   "source": [
    "#_Neuronal\n",
    "generate_combined_heatmap \\\n",
    "  /lustre1/project/stg_00002/lcb/hydrop_v2_paper/fly/cistopic_LCB_embryo_consensuspeaks/HyDrop_10x_otsu_notdownsampled/consensus_peak_calling/MACS_max50bp_frag/Neuronal_summits.bed \\\n",
    "  \"Tn5_bias\" \\\n",
    "  \"/staging/leuven/stg_00002/lcb/lmahieu/data/PRINT/biases/dm6Tn5Bias.tar.gz.untar/dm6Tn5Bias.bw\" \\\n",
    "  \"Neuronal\" \"Tn5_bias_Neuronal_summits_cut_sites\" \"0\" \"5\""
   ]
  },
  {
   "cell_type": "code",
   "execution_count": 6,
   "id": "9c1b9a22-830e-439e-8613-1d1a25f798d0",
   "metadata": {},
   "outputs": [
    {
     "name": "stdout",
     "output_type": "stream",
     "text": [
      "/data/leuven/software/biomed/wice_icelake_rocky8/2021a/software/deepTools/3.5.0-foss-2021a/lib/python3.9/site-packages/deeptools/plotHeatmap.py:481: MatplotlibDeprecationWarning:\n",
      "\n",
      "You are modifying the state of a globally registered colormap. This has been deprecated since 3.3 and in 3.6, you will not be able to modify a registered colormap in-place. To remove this warning, you can make a copy of the colormap first. cmap = mpl.cm.get_cmap(\"RdYlBu\").copy()\n",
      "\n",
      "/data/leuven/software/biomed/wice_icelake_rocky8/2021a/software/deepTools/3.5.0-foss-2021a/lib/python3.9/site-packages/deeptools/plotHeatmap.py:762: MatplotlibDeprecationWarning:\n",
      "\n",
      "The 'alpha' parameter to Colorbar has no effect because it is overridden by the mappable; it is deprecated since 3.3 and will be removed two minor releases later.\n",
      "\n",
      "/data/leuven/software/biomed/wice_icelake_rocky8/2021a/software/deepTools/3.5.0-foss-2021a/lib/python3.9/site-packages/deeptools/plotHeatmap.py:770: MatplotlibDeprecationWarning:\n",
      "\n",
      "savefig() got unexpected keyword argument \"pdd_inches\" which is no longer supported as of 3.3 and will become an error two minor releases later\n",
      "\n"
     ]
    }
   ],
   "source": [
    "#Somatic_muscles\n",
    "generate_combined_heatmap \\\n",
    "  /lustre1/project/stg_00002/lcb/hydrop_v2_paper/fly/cistopic_LCB_embryo_consensuspeaks/HyDrop_10x_otsu_notdownsampled/consensus_peak_calling/MACS_max50bp_frag/Somatic_muscles_summits.bed \\\n",
    "  \"Tn5_bias\" \\\n",
    "  \"/staging/leuven/stg_00002/lcb/lmahieu/data/PRINT/biases/dm6Tn5Bias.tar.gz.untar/dm6Tn5Bias.bw\" \\\n",
    "  \"Somatic_muscles\" \"Tn5_bias_Somatic_muscles_summits_cut_sites\" \"0\" \"8\""
   ]
  },
  {
   "cell_type": "code",
   "execution_count": 12,
   "id": "edd9afeb-9378-4f87-8dca-f927e327c099",
   "metadata": {},
   "outputs": [
    {
     "name": "stdout",
     "output_type": "stream",
     "text": [
      "/data/leuven/software/biomed/wice_icelake_rocky8/2021a/software/deepTools/3.5.0-foss-2021a/lib/python3.9/site-packages/deeptools/plotHeatmap.py:481: MatplotlibDeprecationWarning:\n",
      "\n",
      "You are modifying the state of a globally registered colormap. This has been deprecated since 3.3 and in 3.6, you will not be able to modify a registered colormap in-place. To remove this warning, you can make a copy of the colormap first. cmap = mpl.cm.get_cmap(\"RdYlBu\").copy()\n",
      "\n",
      "/data/leuven/software/biomed/wice_icelake_rocky8/2021a/software/deepTools/3.5.0-foss-2021a/lib/python3.9/site-packages/deeptools/plotHeatmap.py:762: MatplotlibDeprecationWarning:\n",
      "\n",
      "The 'alpha' parameter to Colorbar has no effect because it is overridden by the mappable; it is deprecated since 3.3 and will be removed two minor releases later.\n",
      "\n",
      "/data/leuven/software/biomed/wice_icelake_rocky8/2021a/software/deepTools/3.5.0-foss-2021a/lib/python3.9/site-packages/deeptools/plotHeatmap.py:770: MatplotlibDeprecationWarning:\n",
      "\n",
      "savefig() got unexpected keyword argument \"pdd_inches\" which is no longer supported as of 3.3 and will become an error two minor releases later\n",
      "\n"
     ]
    }
   ],
   "source": [
    "#Hemocytes\n",
    "generate_combined_heatmap \\\n",
    "  /lustre1/project/stg_00002/lcb/hydrop_v2_paper/fly/cistopic_LCB_embryo_consensuspeaks/HyDrop_10x_otsu_notdownsampled/consensus_peak_calling/MACS_max50bp_frag/Hemocytes_summits.bed \\\n",
    "  \"Tn5_bias\" \\\n",
    "  \"/staging/leuven/stg_00002/lcb/lmahieu/data/PRINT/biases/dm6Tn5Bias.tar.gz.untar/dm6Tn5Bias.bw\" \\\n",
    "  \"Hemocytes\" \"Tn5_bias_Hemocytes_summits_cut_sites\" \"0\" \"3\""
   ]
  },
  {
   "cell_type": "code",
   "execution_count": 9,
   "id": "73d313d5-ef81-4c12-9a8d-9288500dd294",
   "metadata": {},
   "outputs": [],
   "source": [
    "generate_combined_heatmap() {\n",
    "  local bed_file=$1\n",
    "  local sample_labels=$2   # Sample labels combined (space-separated)\n",
    "  local bigwig_files=$3    # BigWig file paths combined (space-separated)\n",
    "  local cell_type=$4\n",
    "  local output_prefix=$5\n",
    "  local z_min_list=$6      # Space-separated list of zMin values (one per sample)\n",
    "  local z_max_list=$7      # Space-separated list of zMax values (one per sample)\n",
    "\n",
    "  # Compute matrix for all samples together\n",
    "  computeMatrix reference-point \\\n",
    "    -R ${bed_file} \\\n",
    "    -S ${bigwig_files} \\\n",
    "    --referencePoint center \\\n",
    "    -b 500 -a 500 \\\n",
    "    -out ${output_prefix}_matrix.gz \\\n",
    "    --missingDataAsZero\n",
    "\n",
    "  # Plot combined heatmap with per-sample zMin and zMax values\n",
    "  plotHeatmap -m ${output_prefix}_matrix.gz \\\n",
    "    --dpi 300 \\\n",
    "    --whatToShow 'heatmap and colorbar' \\\n",
    "    --plotFileFormat svg \\\n",
    "    --xAxisLabel '' \\\n",
    "    --regionsLabel '' \\\n",
    "    --samplesLabel ${sample_labels} \\\n",
    "    -T \"${cell_type}\" \\\n",
    "    --heatmapHeight 10 --heatmapWidth 5 \\\n",
    "    -out ${output_prefix}_heatmap.svg\n",
    "}"
   ]
  },
  {
   "cell_type": "code",
   "execution_count": 11,
   "id": "046fca19-39c2-4e14-b80e-2806a164709f",
   "metadata": {},
   "outputs": [
    {
     "name": "stdout",
     "output_type": "stream",
     "text": [
      "/data/leuven/software/biomed/wice_icelake_rocky8/2021a/software/deepTools/3.5.0-foss-2021a/lib/python3.9/site-packages/deeptools/plotHeatmap.py:481: MatplotlibDeprecationWarning:\n",
      "\n",
      "You are modifying the state of a globally registered colormap. This has been deprecated since 3.3 and in 3.6, you will not be able to modify a registered colormap in-place. To remove this warning, you can make a copy of the colormap first. cmap = mpl.cm.get_cmap(\"RdYlBu\").copy()\n",
      "\n",
      "/data/leuven/software/biomed/wice_icelake_rocky8/2021a/software/deepTools/3.5.0-foss-2021a/lib/python3.9/site-packages/deeptools/plotHeatmap.py:762: MatplotlibDeprecationWarning:\n",
      "\n",
      "The 'alpha' parameter to Colorbar has no effect because it is overridden by the mappable; it is deprecated since 3.3 and will be removed two minor releases later.\n",
      "\n",
      "/data/leuven/software/biomed/wice_icelake_rocky8/2021a/software/deepTools/3.5.0-foss-2021a/lib/python3.9/site-packages/deeptools/plotHeatmap.py:770: MatplotlibDeprecationWarning:\n",
      "\n",
      "savefig() got unexpected keyword argument \"pdd_inches\" which is no longer supported as of 3.3 and will become an error two minor releases later\n",
      "\n"
     ]
    }
   ],
   "source": [
    "plotHeatmap -m Tn5_bias_Glia_summits_cut_sites_matrix.gz \\\n",
    "    --dpi 300 \\\n",
    "    --whatToShow 'heatmap and colorbar' \\\n",
    "    --plotFileFormat svg \\\n",
    "    --xAxisLabel '' \\\n",
    "    --regionsLabel '' \\\n",
    "    --samplesLabel Tn5_bias \\\n",
    "    -T \"Glia\" \\\n",
    "    --heatmapHeight 10 --heatmapWidth 5 \\\n",
    "    -out Tn5_bias_Glia_summits_cut_sites_v2_heatmap.svg\n"
   ]
  },
  {
   "cell_type": "code",
   "execution_count": 13,
   "id": "0ade6e05-52cf-4833-84e1-ccb77d452966",
   "metadata": {},
   "outputs": [
    {
     "name": "stdout",
     "output_type": "stream",
     "text": [
      "/data/leuven/software/biomed/wice_icelake_rocky8/2021a/software/deepTools/3.5.0-foss-2021a/lib/python3.9/site-packages/deeptools/plotHeatmap.py:481: MatplotlibDeprecationWarning:\n",
      "\n",
      "You are modifying the state of a globally registered colormap. This has been deprecated since 3.3 and in 3.6, you will not be able to modify a registered colormap in-place. To remove this warning, you can make a copy of the colormap first. cmap = mpl.cm.get_cmap(\"RdYlBu\").copy()\n",
      "\n",
      "/data/leuven/software/biomed/wice_icelake_rocky8/2021a/software/deepTools/3.5.0-foss-2021a/lib/python3.9/site-packages/deeptools/plotHeatmap.py:762: MatplotlibDeprecationWarning:\n",
      "\n",
      "The 'alpha' parameter to Colorbar has no effect because it is overridden by the mappable; it is deprecated since 3.3 and will be removed two minor releases later.\n",
      "\n",
      "/data/leuven/software/biomed/wice_icelake_rocky8/2021a/software/deepTools/3.5.0-foss-2021a/lib/python3.9/site-packages/deeptools/plotHeatmap.py:770: MatplotlibDeprecationWarning:\n",
      "\n",
      "savefig() got unexpected keyword argument \"pdd_inches\" which is no longer supported as of 3.3 and will become an error two minor releases later\n",
      "\n"
     ]
    }
   ],
   "source": [
    "plotHeatmap -m Tn5_bias_Hemocytes_summits_cut_sites_matrix.gz \\\n",
    "    --dpi 300 \\\n",
    "    --whatToShow 'heatmap and colorbar' \\\n",
    "    --plotFileFormat svg \\\n",
    "    --xAxisLabel '' \\\n",
    "    --regionsLabel '' \\\n",
    "    --samplesLabel Tn5_bias \\\n",
    "    -T \"Hemocytes\" \\\n",
    "    --heatmapHeight 10 --heatmapWidth 5 \\\n",
    "    -out Tn5_bias_Hemocytes_summits_cut_sites_v2_heatmap.svg\n"
   ]
  },
  {
   "cell_type": "code",
   "execution_count": 14,
   "id": "1da9901f-facf-4d61-8897-1a2c2d7e3294",
   "metadata": {},
   "outputs": [
    {
     "name": "stdout",
     "output_type": "stream",
     "text": [
      "/data/leuven/software/biomed/wice_icelake_rocky8/2021a/software/deepTools/3.5.0-foss-2021a/lib/python3.9/site-packages/deeptools/plotHeatmap.py:481: MatplotlibDeprecationWarning:\n",
      "\n",
      "You are modifying the state of a globally registered colormap. This has been deprecated since 3.3 and in 3.6, you will not be able to modify a registered colormap in-place. To remove this warning, you can make a copy of the colormap first. cmap = mpl.cm.get_cmap(\"RdYlBu\").copy()\n",
      "\n",
      "/data/leuven/software/biomed/wice_icelake_rocky8/2021a/software/deepTools/3.5.0-foss-2021a/lib/python3.9/site-packages/deeptools/plotHeatmap.py:762: MatplotlibDeprecationWarning:\n",
      "\n",
      "The 'alpha' parameter to Colorbar has no effect because it is overridden by the mappable; it is deprecated since 3.3 and will be removed two minor releases later.\n",
      "\n",
      "/data/leuven/software/biomed/wice_icelake_rocky8/2021a/software/deepTools/3.5.0-foss-2021a/lib/python3.9/site-packages/deeptools/plotHeatmap.py:770: MatplotlibDeprecationWarning:\n",
      "\n",
      "savefig() got unexpected keyword argument \"pdd_inches\" which is no longer supported as of 3.3 and will become an error two minor releases later\n",
      "\n"
     ]
    }
   ],
   "source": [
    "plotHeatmap -m Tn5_bias_Somatic_muscles_summits_cut_sites_matrix.gz \\\n",
    "    --dpi 300 \\\n",
    "    --whatToShow 'heatmap and colorbar' \\\n",
    "    --plotFileFormat svg \\\n",
    "    --xAxisLabel '' \\\n",
    "    --regionsLabel '' \\\n",
    "    --samplesLabel Tn5_bias \\\n",
    "    -T \"Somatic_muscles\" \\\n",
    "    --heatmapHeight 10 --heatmapWidth 5 \\\n",
    "    -out Tn5_bias_Somatic_muscles_summits_cut_sites_v2_heatmap.svg\n"
   ]
  },
  {
   "cell_type": "code",
   "execution_count": 15,
   "id": "bb6b8813-f089-48a4-8e7f-c436cac43196",
   "metadata": {},
   "outputs": [
    {
     "name": "stdout",
     "output_type": "stream",
     "text": [
      "/data/leuven/software/biomed/wice_icelake_rocky8/2021a/software/deepTools/3.5.0-foss-2021a/lib/python3.9/site-packages/deeptools/plotHeatmap.py:481: MatplotlibDeprecationWarning:\n",
      "\n",
      "You are modifying the state of a globally registered colormap. This has been deprecated since 3.3 and in 3.6, you will not be able to modify a registered colormap in-place. To remove this warning, you can make a copy of the colormap first. cmap = mpl.cm.get_cmap(\"RdYlBu\").copy()\n",
      "\n",
      "/data/leuven/software/biomed/wice_icelake_rocky8/2021a/software/deepTools/3.5.0-foss-2021a/lib/python3.9/site-packages/deeptools/plotHeatmap.py:762: MatplotlibDeprecationWarning:\n",
      "\n",
      "The 'alpha' parameter to Colorbar has no effect because it is overridden by the mappable; it is deprecated since 3.3 and will be removed two minor releases later.\n",
      "\n",
      "/data/leuven/software/biomed/wice_icelake_rocky8/2021a/software/deepTools/3.5.0-foss-2021a/lib/python3.9/site-packages/deeptools/plotHeatmap.py:770: MatplotlibDeprecationWarning:\n",
      "\n",
      "savefig() got unexpected keyword argument \"pdd_inches\" which is no longer supported as of 3.3 and will become an error two minor releases later\n",
      "\n"
     ]
    }
   ],
   "source": [
    "plotHeatmap -m Tn5_bias_Neuronal_summits_cut_sites_matrix.gz \\\n",
    "    --dpi 300 \\\n",
    "    --whatToShow 'heatmap and colorbar' \\\n",
    "    --plotFileFormat svg \\\n",
    "    --xAxisLabel '' \\\n",
    "    --regionsLabel '' \\\n",
    "    --samplesLabel Tn5_bias \\\n",
    "    -T \"Neuronal\" \\\n",
    "    --heatmapHeight 10 --heatmapWidth 5 \\\n",
    "    -out Tn5_bias_Neuronal_summits_cut_sites_v2_heatmap.svg\n"
   ]
  },
  {
   "cell_type": "markdown",
   "id": "78dd28dd-b7b6-43ce-b649-3bb7c4ec2723",
   "metadata": {},
   "source": [
    "## all fragment length bed file with Tn5 bias bw"
   ]
  },
  {
   "cell_type": "code",
   "execution_count": 16,
   "id": "ffb686a5-61f0-47f2-b3af-f0bcd5dcb992",
   "metadata": {},
   "outputs": [],
   "source": [
    "generate_combined_heatmap() {\n",
    "  local bed_file=$1\n",
    "  local sample_labels=$2   # Sample labels combined (space-separated)\n",
    "  local bigwig_files=$3    # BigWig file paths combined (space-separated)\n",
    "  local cell_type=$4\n",
    "  local output_prefix=$5\n",
    "  local z_min_list=$6      # Space-separated list of zMin values (one per sample)\n",
    "  local z_max_list=$7      # Space-separated list of zMax values (one per sample)\n",
    "\n",
    "  # Compute matrix for all samples together\n",
    "  computeMatrix reference-point \\\n",
    "    -R ${bed_file} \\\n",
    "    -S ${bigwig_files} \\\n",
    "    --referencePoint center \\\n",
    "    -b 500 -a 500 \\\n",
    "    -out ${output_prefix}_matrix.gz \\\n",
    "    --missingDataAsZero\n",
    "\n",
    "  # Plot combined heatmap with per-sample zMin and zMax values\n",
    "  plotHeatmap -m ${output_prefix}_matrix.gz \\\n",
    "    --dpi 300 \\\n",
    "    --whatToShow 'heatmap and colorbar' \\\n",
    "    --plotFileFormat svg \\\n",
    "    --xAxisLabel '' \\\n",
    "    --regionsLabel '' \\\n",
    "    --samplesLabel ${sample_labels} \\\n",
    "    -T \"${cell_type}\" \\\n",
    "    --heatmapHeight 10 --heatmapWidth 5 \\\n",
    "    -out ${output_prefix}_heatmap.svg\n",
    "}"
   ]
  },
  {
   "cell_type": "code",
   "execution_count": 19,
   "id": "09b7943e-cbc8-4ee6-9e73-6346152d84da",
   "metadata": {},
   "outputs": [
    {
     "name": "stdout",
     "output_type": "stream",
     "text": [
      "/data/leuven/software/biomed/wice_icelake_rocky8/2021a/software/deepTools/3.5.0-foss-2021a/lib/python3.9/site-packages/deeptools/plotHeatmap.py:481: MatplotlibDeprecationWarning:\n",
      "\n",
      "You are modifying the state of a globally registered colormap. This has been deprecated since 3.3 and in 3.6, you will not be able to modify a registered colormap in-place. To remove this warning, you can make a copy of the colormap first. cmap = mpl.cm.get_cmap(\"RdYlBu\").copy()\n",
      "\n",
      "/data/leuven/software/biomed/wice_icelake_rocky8/2021a/software/deepTools/3.5.0-foss-2021a/lib/python3.9/site-packages/deeptools/plotHeatmap.py:762: MatplotlibDeprecationWarning:\n",
      "\n",
      "The 'alpha' parameter to Colorbar has no effect because it is overridden by the mappable; it is deprecated since 3.3 and will be removed two minor releases later.\n",
      "\n",
      "/data/leuven/software/biomed/wice_icelake_rocky8/2021a/software/deepTools/3.5.0-foss-2021a/lib/python3.9/site-packages/deeptools/plotHeatmap.py:770: MatplotlibDeprecationWarning:\n",
      "\n",
      "savefig() got unexpected keyword argument \"pdd_inches\" which is no longer supported as of 3.3 and will become an error two minor releases later\n",
      "\n"
     ]
    }
   ],
   "source": [
    "#GLIA\n",
    "generate_combined_heatmap \\\n",
    "  /lustre1/project/stg_00002/lcb/hydrop_v2_paper/fly/cistopic_LCB_embryo_consensuspeaks/HyDrop_10x_otsu_notdownsampled/consensus_peak_calling/MACS/Glia_summits.bed \\\n",
    "  \"Tn5_bias\" \\\n",
    "  \"/staging/leuven/stg_00002/lcb/lmahieu/data/PRINT/biases/dm6Tn5Bias.tar.gz.untar/dm6Tn5Bias.bw\" \\\n",
    "  \"Glia\" \"Tn5_bias_Glia_summits_cut_sites_all_frag\"\n"
   ]
  },
  {
   "cell_type": "code",
   "execution_count": 20,
   "id": "f8e1ce1a-eee6-49f9-acbf-2be7ac5ec9dc",
   "metadata": {},
   "outputs": [
    {
     "name": "stdout",
     "output_type": "stream",
     "text": [
      "/data/leuven/software/biomed/wice_icelake_rocky8/2021a/software/deepTools/3.5.0-foss-2021a/lib/python3.9/site-packages/deeptools/plotHeatmap.py:481: MatplotlibDeprecationWarning:\n",
      "\n",
      "You are modifying the state of a globally registered colormap. This has been deprecated since 3.3 and in 3.6, you will not be able to modify a registered colormap in-place. To remove this warning, you can make a copy of the colormap first. cmap = mpl.cm.get_cmap(\"RdYlBu\").copy()\n",
      "\n",
      "/data/leuven/software/biomed/wice_icelake_rocky8/2021a/software/deepTools/3.5.0-foss-2021a/lib/python3.9/site-packages/deeptools/plotHeatmap.py:762: MatplotlibDeprecationWarning:\n",
      "\n",
      "The 'alpha' parameter to Colorbar has no effect because it is overridden by the mappable; it is deprecated since 3.3 and will be removed two minor releases later.\n",
      "\n",
      "/data/leuven/software/biomed/wice_icelake_rocky8/2021a/software/deepTools/3.5.0-foss-2021a/lib/python3.9/site-packages/deeptools/plotHeatmap.py:770: MatplotlibDeprecationWarning:\n",
      "\n",
      "savefig() got unexpected keyword argument \"pdd_inches\" which is no longer supported as of 3.3 and will become an error two minor releases later\n",
      "\n"
     ]
    }
   ],
   "source": [
    "#_Neuronal\n",
    "generate_combined_heatmap \\\n",
    "  /lustre1/project/stg_00002/lcb/hydrop_v2_paper/fly/cistopic_LCB_embryo_consensuspeaks/HyDrop_10x_otsu_notdownsampled/consensus_peak_calling/MACS/Neuronal_summits.bed \\\n",
    "  \"Tn5_bias\" \\\n",
    "  \"/staging/leuven/stg_00002/lcb/lmahieu/data/PRINT/biases/dm6Tn5Bias.tar.gz.untar/dm6Tn5Bias.bw\" \\\n",
    "  \"Neuronal\" \"Tn5_bias_Neuronal_summits_cut_sites_all_frag\""
   ]
  },
  {
   "cell_type": "code",
   "execution_count": 21,
   "id": "b72ff6b7-0084-452f-ba0c-744e0d269c02",
   "metadata": {},
   "outputs": [
    {
     "name": "stdout",
     "output_type": "stream",
     "text": [
      "/data/leuven/software/biomed/wice_icelake_rocky8/2021a/software/deepTools/3.5.0-foss-2021a/lib/python3.9/site-packages/deeptools/plotHeatmap.py:481: MatplotlibDeprecationWarning:\n",
      "\n",
      "You are modifying the state of a globally registered colormap. This has been deprecated since 3.3 and in 3.6, you will not be able to modify a registered colormap in-place. To remove this warning, you can make a copy of the colormap first. cmap = mpl.cm.get_cmap(\"RdYlBu\").copy()\n",
      "\n",
      "/data/leuven/software/biomed/wice_icelake_rocky8/2021a/software/deepTools/3.5.0-foss-2021a/lib/python3.9/site-packages/deeptools/plotHeatmap.py:762: MatplotlibDeprecationWarning:\n",
      "\n",
      "The 'alpha' parameter to Colorbar has no effect because it is overridden by the mappable; it is deprecated since 3.3 and will be removed two minor releases later.\n",
      "\n",
      "/data/leuven/software/biomed/wice_icelake_rocky8/2021a/software/deepTools/3.5.0-foss-2021a/lib/python3.9/site-packages/deeptools/plotHeatmap.py:770: MatplotlibDeprecationWarning:\n",
      "\n",
      "savefig() got unexpected keyword argument \"pdd_inches\" which is no longer supported as of 3.3 and will become an error two minor releases later\n",
      "\n"
     ]
    }
   ],
   "source": [
    "#Somatic_muscles\n",
    "generate_combined_heatmap \\\n",
    "  /lustre1/project/stg_00002/lcb/hydrop_v2_paper/fly/cistopic_LCB_embryo_consensuspeaks/HyDrop_10x_otsu_notdownsampled/consensus_peak_calling/MACS/Somatic_muscles_summits.bed \\\n",
    "  \"Tn5_bias\" \\\n",
    "  \"/staging/leuven/stg_00002/lcb/lmahieu/data/PRINT/biases/dm6Tn5Bias.tar.gz.untar/dm6Tn5Bias.bw\" \\\n",
    "  \"Somatic_muscles\" \"Tn5_bias_Somatic_muscles_summits_cut_sites_all_frag\""
   ]
  },
  {
   "cell_type": "code",
   "execution_count": 22,
   "id": "be9e4189-b314-49b2-b6de-a5eb6dcb9c3c",
   "metadata": {},
   "outputs": [
    {
     "name": "stdout",
     "output_type": "stream",
     "text": [
      "/data/leuven/software/biomed/wice_icelake_rocky8/2021a/software/deepTools/3.5.0-foss-2021a/lib/python3.9/site-packages/deeptools/plotHeatmap.py:481: MatplotlibDeprecationWarning:\n",
      "\n",
      "You are modifying the state of a globally registered colormap. This has been deprecated since 3.3 and in 3.6, you will not be able to modify a registered colormap in-place. To remove this warning, you can make a copy of the colormap first. cmap = mpl.cm.get_cmap(\"RdYlBu\").copy()\n",
      "\n",
      "/data/leuven/software/biomed/wice_icelake_rocky8/2021a/software/deepTools/3.5.0-foss-2021a/lib/python3.9/site-packages/deeptools/plotHeatmap.py:762: MatplotlibDeprecationWarning:\n",
      "\n",
      "The 'alpha' parameter to Colorbar has no effect because it is overridden by the mappable; it is deprecated since 3.3 and will be removed two minor releases later.\n",
      "\n",
      "/data/leuven/software/biomed/wice_icelake_rocky8/2021a/software/deepTools/3.5.0-foss-2021a/lib/python3.9/site-packages/deeptools/plotHeatmap.py:770: MatplotlibDeprecationWarning:\n",
      "\n",
      "savefig() got unexpected keyword argument \"pdd_inches\" which is no longer supported as of 3.3 and will become an error two minor releases later\n",
      "\n"
     ]
    }
   ],
   "source": [
    "#Hemocytes\n",
    "generate_combined_heatmap \\\n",
    "  /lustre1/project/stg_00002/lcb/hydrop_v2_paper/fly/cistopic_LCB_embryo_consensuspeaks/HyDrop_10x_otsu_notdownsampled/consensus_peak_calling/MACS/Hemocytes_summits.bed \\\n",
    "  \"Tn5_bias\" \\\n",
    "  \"/staging/leuven/stg_00002/lcb/lmahieu/data/PRINT/biases/dm6Tn5Bias.tar.gz.untar/dm6Tn5Bias.bw\" \\\n",
    "  \"Hemocytes\" \"Tn5_bias_Hemocytes_summits_cut_sites_all_frag\""
   ]
  },
  {
   "cell_type": "code",
   "execution_count": null,
   "id": "b2d3955a-7ec1-4bf8-8a74-2ecee51c54c7",
   "metadata": {},
   "outputs": [],
   "source": [
    "#GLIA\n",
    "generate_combined_heatmap \\\n",
    "  /staging/leuven/stg_00002/lcb/lmahieu/data/PRINT/biases/dm6Tn5Bias.tar.gz.untar/dm6Tn5Bias.bedGraph \\\n",
    "  \"HyDrop_v2 10x_v2 sciATAC\" \\\n",
    "  \"/lustre1/project/stg_00002/lcb/hydrop_v2_paper/fly/cistopic_LCB_embryo_consensuspeaks/HyDrop_10x_otsu_notdownsampled/pseudobulk/downsampled/minimal_1000cells/bw_cut_sites/HyDrop_v2___Glia.fragments.bw /lustre1/project/stg_00002/lcb/hydrop_v2_paper/fly/cistopic_LCB_embryo_consensuspeaks/HyDrop_10x_otsu_notdownsampled/pseudobulk/downsampled/minimal_1000cells/bw_cut_sites/10x_v2___Glia.fragments.bw /lustre1/project/stg_00002/lcb/hydrop_v2_paper/fly/cistopic_LCB_embryo_consensuspeaks/HyDrop_10x_otsu_notdownsampled/pseudobulk/downsampled/minimal_1000cells/bw_cut_sites/sciATAC___Glia.fragments.bw\" \\\n",
    "  \"Glia\" \"Glia_Tn5biasbed_cutbws\"\n"
   ]
  },
  {
   "cell_type": "code",
   "execution_count": 24,
   "id": "0276dbcb-e0d9-4479-af1d-49b65bd98393",
   "metadata": {},
   "outputs": [
    {
     "name": "stdout",
     "output_type": "stream",
     "text": [
      "Traceback (most recent call last):\n",
      "  File \"/data/leuven/software/biomed/wice_icelake_rocky8/2021a/software/deepTools/3.5.0-foss-2021a/bin/computeMatrix\", line 14, in <module>\n",
      "    main(args)\n",
      "  File \"/data/leuven/software/biomed/wice_icelake_rocky8/2021a/software/deepTools/3.5.0-foss-2021a/lib/python3.9/site-packages/deeptools/computeMatrix.py\", line 421, in main\n",
      "    hm.computeMatrix(scores_file_list, args.regionsFileName, parameters, blackListFileName=args.blackListFileName, verbose=args.verbose, allArgs=args)\n",
      "  File \"/data/leuven/software/biomed/wice_icelake_rocky8/2021a/software/deepTools/3.5.0-foss-2021a/lib/python3.9/site-packages/deeptools/heatmapper.py\", line 252, in computeMatrix\n",
      "    res, labels = mapReduce.mapReduce([score_file_list, parameters],\n",
      "  File \"/data/leuven/software/biomed/wice_icelake_rocky8/2021a/software/deepTools/3.5.0-foss-2021a/lib/python3.9/site-packages/deeptools/mapReduce.py\", line 146, in mapReduce\n",
      "    res = list(map(func, TASKS))\n",
      "  File \"/data/leuven/software/biomed/wice_icelake_rocky8/2021a/software/deepTools/3.5.0-foss-2021a/lib/python3.9/site-packages/deeptools/heatmapper.py\", line 174, in compute_sub_matrix_wrapper\n",
      "    return heatmapper.compute_sub_matrix_worker(*args)\n",
      "  File \"/data/leuven/software/biomed/wice_icelake_rocky8/2021a/software/deepTools/3.5.0-foss-2021a/lib/python3.9/site-packages/deeptools/heatmapper.py\", line 533, in compute_sub_matrix_worker\n",
      "    cov = heatmapper.coverage_from_big_wig(\n",
      "  File \"/data/leuven/software/biomed/wice_icelake_rocky8/2021a/software/deepTools/3.5.0-foss-2021a/lib/python3.9/site-packages/deeptools/heatmapper.py\", line 719, in coverage_from_big_wig\n",
      "    values_array[startIdx:endIdx] = bigwig.values(chrom, start, end)\n",
      "KeyboardInterrupt\n",
      "\n"
     ]
    }
   ],
   "source": [
    "#_Neuronal\n",
    "generate_combined_heatmap \\\n",
    "  /staging/leuven/stg_00002/lcb/lmahieu/data/PRINT/biases/dm6Tn5Bias.tar.gz.untar/dm6Tn5Bias.bedGraph \\\n",
    "  \"HyDrop_v2 10x_v2 sciATAC\" \\\n",
    "  \"/lustre1/project/stg_00002/lcb/hydrop_v2_paper/fly/cistopic_LCB_embryo_consensuspeaks/HyDrop_10x_otsu_notdownsampled/pseudobulk/downsampled/minimal_1000cells/bw_cut_sites/HyDrop_v2___Neuronal.fragments.bw /lustre1/project/stg_00002/lcb/hydrop_v2_paper/fly/cistopic_LCB_embryo_consensuspeaks/HyDrop_10x_otsu_notdownsampled/pseudobulk/downsampled/minimal_1000cells/bw_cut_sites/10x_v2___Neuronal.fragments.bw /lustre1/project/stg_00002/lcb/hydrop_v2_paper/fly/cistopic_LCB_embryo_consensuspeaks/HyDrop_10x_otsu_notdownsampled/pseudobulk/downsampled/minimal_1000cells/bw_cut_sites/sciATAC___Neuronal.fragments.bw\" \\\n",
    "  \"Neuronal\" \"Neuronal_Tn5biasbed_cutbws\""
   ]
  },
  {
   "cell_type": "code",
   "execution_count": null,
   "id": "1bfaace6-1138-47bd-9254-b8400b203d05",
   "metadata": {},
   "outputs": [],
   "source": [
    "#Somatic_muscles\n",
    "generate_combined_heatmap \\\n",
    "  /staging/leuven/stg_00002/lcb/lmahieu/data/PRINT/biases/dm6Tn5Bias.tar.gz.untar/dm6Tn5Bias.bedGraph \\\n",
    "  \"HyDrop_v2 10x_v2 sciATAC\" \\\n",
    "  \"/lustre1/project/stg_00002/lcb/hydrop_v2_paper/fly/cistopic_LCB_embryo_consensuspeaks/HyDrop_10x_otsu_notdownsampled/pseudobulk/downsampled/minimal_1000cells/bw_cut_sites/HyDrop_v2___Somatic_muscles.fragments.bw /lustre1/project/stg_00002/lcb/hydrop_v2_paper/fly/cistopic_LCB_embryo_consensuspeaks/HyDrop_10x_otsu_notdownsampled/pseudobulk/downsampled/minimal_1000cells/bw_cut_sites/10x_v2___Somatic_muscles.fragments.bw /lustre1/project/stg_00002/lcb/hydrop_v2_paper/fly/cistopic_LCB_embryo_consensuspeaks/HyDrop_10x_otsu_notdownsampled/pseudobulk/downsampled/minimal_1000cells/bw_cut_sites/sciATAC___Somatic_muscles.fragments.bw\" \\\n",
    "  \"Somatic_muscles\" \"Somatic_muscles_Tn5biasbed_cutbws\""
   ]
  },
  {
   "cell_type": "code",
   "execution_count": null,
   "id": "236ea7c0-bd96-46c6-8650-0ac1e8083737",
   "metadata": {},
   "outputs": [],
   "source": [
    "#Hemocytes\n",
    "generate_combined_heatmap \\\n",
    "  /staging/leuven/stg_00002/lcb/lmahieu/data/PRINT/biases/dm6Tn5Bias.tar.gz.untar/dm6Tn5Bias.bedGraph \\\n",
    "  \"HyDrop_v2 10x_v2 sciATAC\" \\\n",
    "  \"/lustre1/project/stg_00002/lcb/hydrop_v2_paper/fly/cistopic_LCB_embryo_consensuspeaks/HyDrop_10x_otsu_notdownsampled/pseudobulk/downsampled/minimal_1000cells/bw_cut_sites/HyDrop_v2___Hemocytes.fragments.bw /lustre1/project/stg_00002/lcb/hydrop_v2_paper/fly/cistopic_LCB_embryo_consensuspeaks/HyDrop_10x_otsu_notdownsampled/pseudobulk/downsampled/minimal_1000cells/bw_cut_sites/10x_v2___Hemocytes.fragments.bw /lustre1/project/stg_00002/lcb/hydrop_v2_paper/fly/cistopic_LCB_embryo_consensuspeaks/HyDrop_10x_otsu_notdownsampled/pseudobulk/downsampled/minimal_1000cells/bw_cut_sites/sciATAC___Hemocytes.fragments.bw\" \\\n",
    "  \"Hemocytes\" \"Hemocytes_Tn5biasbed_cutbws\""
   ]
  },
  {
   "cell_type": "code",
   "execution_count": null,
   "id": "40c30d43-acbc-4edd-bc0f-25dea882afb0",
   "metadata": {},
   "outputs": [],
   "source": []
  }
 ],
 "metadata": {
  "kernelspec": {
   "display_name": "Bash",
   "language": "bash",
   "name": "bash092024"
  },
  "language_info": {
   "codemirror_mode": "shell",
   "file_extension": ".sh",
   "mimetype": "text/x-sh",
   "name": "bash"
  }
 },
 "nbformat": 4,
 "nbformat_minor": 5
}
