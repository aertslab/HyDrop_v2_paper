{
 "cells": [
  {
   "cell_type": "markdown",
   "id": "9b43ed87",
   "metadata": {},
   "source": [
    "# Inspect and preprocess data to anndata objects"
   ]
  },
  {
   "cell_type": "code",
   "execution_count": 1,
   "id": "4f29529f",
   "metadata": {},
   "outputs": [
    {
     "name": "stderr",
     "output_type": "stream",
     "text": [
      "2025-06-28 16:07:55.506241: E external/local_xla/xla/stream_executor/cuda/cuda_fft.cc:467] Unable to register cuFFT factory: Attempting to register factory for plugin cuFFT when one has already been registered\n",
      "WARNING: All log messages before absl::InitializeLog() is called are written to STDERR\n",
      "E0000 00:00:1751119675.526462 3293776 cuda_dnn.cc:8579] Unable to register cuDNN factory: Attempting to register factory for plugin cuDNN when one has already been registered\n",
      "E0000 00:00:1751119675.532737 3293776 cuda_blas.cc:1407] Unable to register cuBLAS factory: Attempting to register factory for plugin cuBLAS when one has already been registered\n",
      "W0000 00:00:1751119675.550487 3293776 computation_placer.cc:177] computation placer already registered. Please check linkage and avoid linking the same target more than once.\n",
      "W0000 00:00:1751119675.550516 3293776 computation_placer.cc:177] computation placer already registered. Please check linkage and avoid linking the same target more than once.\n",
      "W0000 00:00:1751119675.550519 3293776 computation_placer.cc:177] computation placer already registered. Please check linkage and avoid linking the same target more than once.\n",
      "W0000 00:00:1751119675.550521 3293776 computation_placer.cc:177] computation placer already registered. Please check linkage and avoid linking the same target more than once.\n",
      "2025-06-28 16:07:55.557059: I tensorflow/core/platform/cpu_feature_guard.cc:210] This TensorFlow binary is optimized to use available CPU instructions in performance-critical operations.\n",
      "To enable the following instructions: AVX2 FMA, in other operations, rebuild TensorFlow with the appropriate compiler flags.\n",
      "\u001b[32m2025-06-28 16:08:18.821\u001b[0m | \u001b[33m\u001b[1mWARNING \u001b[0m | \u001b[36mcrested.tl\u001b[0m:\u001b[36m<module>\u001b[0m:\u001b[36m34\u001b[0m - \u001b[33m\u001b[1mmodiscolite is not installed, 'crested.tl.modisco' module will not be available.\u001b[0m\n"
     ]
    },
    {
     "name": "stdout",
     "output_type": "stream",
     "text": [
      "1.5.0\n"
     ]
    }
   ],
   "source": [
    "import os\n",
    "import crested\n",
    "from _train_val_split import split_by_chromosome_folds\n",
    "\n",
    "import matplotlib as mpl\n",
    "mpl.rcParams['pdf.fonttype'] = 42\n",
    "\n",
    "print(crested.__version__)"
   ]
  },
  {
   "cell_type": "code",
   "execution_count": null,
   "id": "90bf3431",
   "metadata": {},
   "outputs": [],
   "source": [
    "data_root = \"../../../../../../../data/paper_zips/10x_hydropv2_comparisons_data/\" # set data root to the unzipped folder's data location\n",
    "bigwigs_root = f\"{data_root}/bigwigs/\"\n",
    "experiment = \"plus25cells_allreads\"\n",
    "k_folds = 10\n",
    "genome_file = \"../../../../../../../data/genomes/refdata-cellranger-arc-mm10-2020-A-2.0.0/fasta/genome.fa\"\n",
    "consensus_regions_file = f\"{data_root}/consensus_regions_mouse_cleanup_annot_all_data_fulldepth.bed\""
   ]
  },
  {
   "cell_type": "code",
   "execution_count": 3,
   "id": "4530ddb0",
   "metadata": {},
   "outputs": [
    {
     "name": "stdout",
     "output_type": "stream",
     "text": [
      "2025-06-28T16:09:08.404186+0200 INFO Genome mm10 registered.\n"
     ]
    }
   ],
   "source": [
    "genome = crested.Genome(\n",
    "    genome_file,\n",
    "    name=\"mm10\"\n",
    ")\n",
    "crested.register_genome(genome)"
   ]
  },
  {
   "cell_type": "markdown",
   "id": "aba301e0",
   "metadata": {},
   "source": [
    "## HydropV2"
   ]
  },
  {
   "cell_type": "code",
   "execution_count": null,
   "id": "0082f375",
   "metadata": {},
   "outputs": [],
   "source": [
    "bigwigs_folder = os.path.join(bigwigs_root, \"hydrop_plus25cells_allreads\")"
   ]
  },
  {
   "cell_type": "code",
   "execution_count": 5,
   "id": "180adaa0",
   "metadata": {},
   "outputs": [
    {
     "name": "stdout",
     "output_type": "stream",
     "text": [
      "2025-06-28T16:09:30.399035+0200 INFO Extracting values from 16 bigWig files...\n"
     ]
    },
    {
     "data": {
      "text/plain": [
       "AnnData object with n_obs × n_vars = 16 × 808845\n",
       "    obs: 'file_path'\n",
       "    var: 'chr', 'start', 'end'"
      ]
     },
     "execution_count": 5,
     "metadata": {},
     "output_type": "execute_result"
    }
   ],
   "source": [
    "adata = crested.import_bigwigs(\n",
    "    bigwigs_folder=bigwigs_folder,\n",
    "    regions_file=consensus_regions_file,\n",
    "    target_region_width=1000,  \n",
    "    target=\"mean\",  \n",
    ")\n",
    "adata"
   ]
  },
  {
   "cell_type": "code",
   "execution_count": 6,
   "id": "1f352c69",
   "metadata": {},
   "outputs": [
    {
     "data": {
      "text/plain": [
       "Index(['Astro', 'Endo_VLMC', 'L2_3_IT', 'L5_6_NP', 'L5_ET', 'L5_IT', 'L6_CT',\n",
       "       'L6_IT', 'L6b', 'Lamp5', 'Micro_PVM', 'OPC', 'Oligo', 'Pvalb',\n",
       "       'Sncg_Vip', 'Sst'],\n",
       "      dtype='object')"
      ]
     },
     "execution_count": 6,
     "metadata": {},
     "output_type": "execute_result"
    }
   ],
   "source": [
    "adata.obs_names = adata.obs_names.str.split(\"___\").str[0]\n",
    "adata.obs_names"
   ]
  },
  {
   "cell_type": "code",
   "execution_count": 7,
   "id": "a3c212e1",
   "metadata": {},
   "outputs": [],
   "source": [
    "# add folds columns to adata.var\n",
    "split_by_chromosome_folds(adata, k=k_folds)"
   ]
  },
  {
   "cell_type": "code",
   "execution_count": 8,
   "id": "f6015692",
   "metadata": {},
   "outputs": [
    {
     "data": {
      "text/html": [
       "<div>\n",
       "<style scoped>\n",
       "    .dataframe tbody tr th:only-of-type {\n",
       "        vertical-align: middle;\n",
       "    }\n",
       "\n",
       "    .dataframe tbody tr th {\n",
       "        vertical-align: top;\n",
       "    }\n",
       "\n",
       "    .dataframe thead th {\n",
       "        text-align: right;\n",
       "    }\n",
       "</style>\n",
       "<table border=\"1\" class=\"dataframe\">\n",
       "  <thead>\n",
       "    <tr style=\"text-align: right;\">\n",
       "      <th></th>\n",
       "      <th>chr</th>\n",
       "      <th>start</th>\n",
       "      <th>end</th>\n",
       "      <th>fold_0</th>\n",
       "      <th>fold_1</th>\n",
       "      <th>fold_2</th>\n",
       "      <th>fold_3</th>\n",
       "      <th>fold_4</th>\n",
       "      <th>fold_5</th>\n",
       "      <th>fold_6</th>\n",
       "      <th>fold_7</th>\n",
       "      <th>fold_8</th>\n",
       "      <th>fold_9</th>\n",
       "    </tr>\n",
       "    <tr>\n",
       "      <th>region</th>\n",
       "      <th></th>\n",
       "      <th></th>\n",
       "      <th></th>\n",
       "      <th></th>\n",
       "      <th></th>\n",
       "      <th></th>\n",
       "      <th></th>\n",
       "      <th></th>\n",
       "      <th></th>\n",
       "      <th></th>\n",
       "      <th></th>\n",
       "      <th></th>\n",
       "      <th></th>\n",
       "    </tr>\n",
       "  </thead>\n",
       "  <tbody>\n",
       "    <tr>\n",
       "      <th>chr1:3094286-3094786</th>\n",
       "      <td>chr1</td>\n",
       "      <td>3094286</td>\n",
       "      <td>3094786</td>\n",
       "      <td>val</td>\n",
       "      <td>train</td>\n",
       "      <td>train</td>\n",
       "      <td>train</td>\n",
       "      <td>train</td>\n",
       "      <td>train</td>\n",
       "      <td>train</td>\n",
       "      <td>train</td>\n",
       "      <td>train</td>\n",
       "      <td>train</td>\n",
       "    </tr>\n",
       "    <tr>\n",
       "      <th>chr1:3097001-3097501</th>\n",
       "      <td>chr1</td>\n",
       "      <td>3097001</td>\n",
       "      <td>3097501</td>\n",
       "      <td>val</td>\n",
       "      <td>train</td>\n",
       "      <td>train</td>\n",
       "      <td>train</td>\n",
       "      <td>train</td>\n",
       "      <td>train</td>\n",
       "      <td>train</td>\n",
       "      <td>train</td>\n",
       "      <td>train</td>\n",
       "      <td>train</td>\n",
       "    </tr>\n",
       "    <tr>\n",
       "      <th>chr1:3097804-3098304</th>\n",
       "      <td>chr1</td>\n",
       "      <td>3097804</td>\n",
       "      <td>3098304</td>\n",
       "      <td>val</td>\n",
       "      <td>train</td>\n",
       "      <td>train</td>\n",
       "      <td>train</td>\n",
       "      <td>train</td>\n",
       "      <td>train</td>\n",
       "      <td>train</td>\n",
       "      <td>train</td>\n",
       "      <td>train</td>\n",
       "      <td>train</td>\n",
       "    </tr>\n",
       "    <tr>\n",
       "      <th>chr1:3112437-3112937</th>\n",
       "      <td>chr1</td>\n",
       "      <td>3112437</td>\n",
       "      <td>3112937</td>\n",
       "      <td>val</td>\n",
       "      <td>train</td>\n",
       "      <td>train</td>\n",
       "      <td>train</td>\n",
       "      <td>train</td>\n",
       "      <td>train</td>\n",
       "      <td>train</td>\n",
       "      <td>train</td>\n",
       "      <td>train</td>\n",
       "      <td>train</td>\n",
       "    </tr>\n",
       "    <tr>\n",
       "      <th>chr1:3118739-3119239</th>\n",
       "      <td>chr1</td>\n",
       "      <td>3118739</td>\n",
       "      <td>3119239</td>\n",
       "      <td>val</td>\n",
       "      <td>train</td>\n",
       "      <td>train</td>\n",
       "      <td>train</td>\n",
       "      <td>train</td>\n",
       "      <td>train</td>\n",
       "      <td>train</td>\n",
       "      <td>train</td>\n",
       "      <td>train</td>\n",
       "      <td>train</td>\n",
       "    </tr>\n",
       "    <tr>\n",
       "      <th>...</th>\n",
       "      <td>...</td>\n",
       "      <td>...</td>\n",
       "      <td>...</td>\n",
       "      <td>...</td>\n",
       "      <td>...</td>\n",
       "      <td>...</td>\n",
       "      <td>...</td>\n",
       "      <td>...</td>\n",
       "      <td>...</td>\n",
       "      <td>...</td>\n",
       "      <td>...</td>\n",
       "      <td>...</td>\n",
       "      <td>...</td>\n",
       "    </tr>\n",
       "    <tr>\n",
       "      <th>chrY:1050180-1050680</th>\n",
       "      <td>chrY</td>\n",
       "      <td>1050180</td>\n",
       "      <td>1050680</td>\n",
       "      <td>val</td>\n",
       "      <td>train</td>\n",
       "      <td>train</td>\n",
       "      <td>train</td>\n",
       "      <td>train</td>\n",
       "      <td>train</td>\n",
       "      <td>train</td>\n",
       "      <td>train</td>\n",
       "      <td>train</td>\n",
       "      <td>train</td>\n",
       "    </tr>\n",
       "    <tr>\n",
       "      <th>chrY:872845-873345</th>\n",
       "      <td>chrY</td>\n",
       "      <td>872845</td>\n",
       "      <td>873345</td>\n",
       "      <td>train</td>\n",
       "      <td>val</td>\n",
       "      <td>train</td>\n",
       "      <td>train</td>\n",
       "      <td>train</td>\n",
       "      <td>train</td>\n",
       "      <td>train</td>\n",
       "      <td>train</td>\n",
       "      <td>train</td>\n",
       "      <td>train</td>\n",
       "    </tr>\n",
       "    <tr>\n",
       "      <th>chrY:1245537-1246037</th>\n",
       "      <td>chrY</td>\n",
       "      <td>1245537</td>\n",
       "      <td>1246037</td>\n",
       "      <td>train</td>\n",
       "      <td>train</td>\n",
       "      <td>val</td>\n",
       "      <td>train</td>\n",
       "      <td>train</td>\n",
       "      <td>train</td>\n",
       "      <td>train</td>\n",
       "      <td>train</td>\n",
       "      <td>train</td>\n",
       "      <td>train</td>\n",
       "    </tr>\n",
       "    <tr>\n",
       "      <th>chrY:1010312-1010812</th>\n",
       "      <td>chrY</td>\n",
       "      <td>1010312</td>\n",
       "      <td>1010812</td>\n",
       "      <td>train</td>\n",
       "      <td>train</td>\n",
       "      <td>train</td>\n",
       "      <td>val</td>\n",
       "      <td>train</td>\n",
       "      <td>train</td>\n",
       "      <td>train</td>\n",
       "      <td>train</td>\n",
       "      <td>train</td>\n",
       "      <td>train</td>\n",
       "    </tr>\n",
       "    <tr>\n",
       "      <th>chrY:897284-897784</th>\n",
       "      <td>chrY</td>\n",
       "      <td>897284</td>\n",
       "      <td>897784</td>\n",
       "      <td>train</td>\n",
       "      <td>train</td>\n",
       "      <td>train</td>\n",
       "      <td>train</td>\n",
       "      <td>val</td>\n",
       "      <td>train</td>\n",
       "      <td>train</td>\n",
       "      <td>train</td>\n",
       "      <td>train</td>\n",
       "      <td>train</td>\n",
       "    </tr>\n",
       "  </tbody>\n",
       "</table>\n",
       "<p>808845 rows × 13 columns</p>\n",
       "</div>"
      ],
      "text/plain": [
       "                       chr    start      end fold_0 fold_1 fold_2 fold_3  \\\n",
       "region                                                                     \n",
       "chr1:3094286-3094786  chr1  3094286  3094786    val  train  train  train   \n",
       "chr1:3097001-3097501  chr1  3097001  3097501    val  train  train  train   \n",
       "chr1:3097804-3098304  chr1  3097804  3098304    val  train  train  train   \n",
       "chr1:3112437-3112937  chr1  3112437  3112937    val  train  train  train   \n",
       "chr1:3118739-3119239  chr1  3118739  3119239    val  train  train  train   \n",
       "...                    ...      ...      ...    ...    ...    ...    ...   \n",
       "chrY:1050180-1050680  chrY  1050180  1050680    val  train  train  train   \n",
       "chrY:872845-873345    chrY   872845   873345  train    val  train  train   \n",
       "chrY:1245537-1246037  chrY  1245537  1246037  train  train    val  train   \n",
       "chrY:1010312-1010812  chrY  1010312  1010812  train  train  train    val   \n",
       "chrY:897284-897784    chrY   897284   897784  train  train  train  train   \n",
       "\n",
       "                     fold_4 fold_5 fold_6 fold_7 fold_8 fold_9  \n",
       "region                                                          \n",
       "chr1:3094286-3094786  train  train  train  train  train  train  \n",
       "chr1:3097001-3097501  train  train  train  train  train  train  \n",
       "chr1:3097804-3098304  train  train  train  train  train  train  \n",
       "chr1:3112437-3112937  train  train  train  train  train  train  \n",
       "chr1:3118739-3119239  train  train  train  train  train  train  \n",
       "...                     ...    ...    ...    ...    ...    ...  \n",
       "chrY:1050180-1050680  train  train  train  train  train  train  \n",
       "chrY:872845-873345    train  train  train  train  train  train  \n",
       "chrY:1245537-1246037  train  train  train  train  train  train  \n",
       "chrY:1010312-1010812  train  train  train  train  train  train  \n",
       "chrY:897284-897784      val  train  train  train  train  train  \n",
       "\n",
       "[808845 rows x 13 columns]"
      ]
     },
     "execution_count": 8,
     "metadata": {},
     "output_type": "execute_result"
    }
   ],
   "source": [
    "adata.var"
   ]
  },
  {
   "cell_type": "code",
   "execution_count": 9,
   "id": "d1670366",
   "metadata": {},
   "outputs": [
    {
     "data": {
      "text/plain": [
       "fold_0\n",
       "train    727952\n",
       "val       80893\n",
       "Name: count, dtype: int64"
      ]
     },
     "execution_count": 9,
     "metadata": {},
     "output_type": "execute_result"
    }
   ],
   "source": [
    "adata.var['fold_0'].value_counts()"
   ]
  },
  {
   "cell_type": "code",
   "execution_count": 10,
   "id": "ca72abf3",
   "metadata": {},
   "outputs": [
    {
     "data": {
      "text/plain": [
       "fold_0\n",
       "train    51777\n",
       "val       5753\n",
       "Name: count, dtype: int64"
      ]
     },
     "execution_count": 10,
     "metadata": {},
     "output_type": "execute_result"
    }
   ],
   "source": [
    "adata.var[(adata.var['chr'] == 'chr1')]['fold_0'].value_counts()"
   ]
  },
  {
   "cell_type": "code",
   "execution_count": 11,
   "id": "234366ad",
   "metadata": {},
   "outputs": [
    {
     "name": "stdout",
     "output_type": "stream",
     "text": [
      "2025-06-28T16:11:30.245693+0200 WARNING Region chrM:-362-1752 with coordinates chrM:-362-1752 is out of bounds for chromosome chrM. Removing region.\n",
      "2025-06-28T16:11:30.264708+0200 WARNING Region chrM:14601-16715 with coordinates chrM:14601-16715 is out of bounds for chromosome chrM. Removing region.\n"
     ]
    }
   ],
   "source": [
    "crested.pp.change_regions_width(\n",
    "    adata,\n",
    "    2114,\n",
    ")"
   ]
  },
  {
   "cell_type": "code",
   "execution_count": 12,
   "id": "a4cdac1c",
   "metadata": {},
   "outputs": [
    {
     "name": "stdout",
     "output_type": "stream",
     "text": [
      "2025-06-28T16:11:58.981777+0200 INFO Filtering on top k Gini scores...\n",
      "2025-06-28T16:12:09.886163+0200 INFO Added normalization weights to adata.obsm['weights']...\n"
     ]
    },
    {
     "data": {
      "text/html": [
       "<div>\n",
       "<style scoped>\n",
       "    .dataframe tbody tr th:only-of-type {\n",
       "        vertical-align: middle;\n",
       "    }\n",
       "\n",
       "    .dataframe tbody tr th {\n",
       "        vertical-align: top;\n",
       "    }\n",
       "\n",
       "    .dataframe thead th {\n",
       "        text-align: right;\n",
       "    }\n",
       "</style>\n",
       "<table border=\"1\" class=\"dataframe\">\n",
       "  <thead>\n",
       "    <tr style=\"text-align: right;\">\n",
       "      <th></th>\n",
       "      <th>chr</th>\n",
       "      <th>start</th>\n",
       "      <th>end</th>\n",
       "      <th>fold_0</th>\n",
       "      <th>fold_1</th>\n",
       "      <th>fold_2</th>\n",
       "      <th>fold_3</th>\n",
       "      <th>fold_4</th>\n",
       "      <th>fold_5</th>\n",
       "      <th>fold_6</th>\n",
       "      <th>fold_7</th>\n",
       "      <th>fold_8</th>\n",
       "      <th>fold_9</th>\n",
       "    </tr>\n",
       "    <tr>\n",
       "      <th>region</th>\n",
       "      <th></th>\n",
       "      <th></th>\n",
       "      <th></th>\n",
       "      <th></th>\n",
       "      <th></th>\n",
       "      <th></th>\n",
       "      <th></th>\n",
       "      <th></th>\n",
       "      <th></th>\n",
       "      <th></th>\n",
       "      <th></th>\n",
       "      <th></th>\n",
       "      <th></th>\n",
       "    </tr>\n",
       "  </thead>\n",
       "  <tbody>\n",
       "    <tr>\n",
       "      <th>chr8:11634768-11636882</th>\n",
       "      <td>chr8</td>\n",
       "      <td>11634768</td>\n",
       "      <td>11636882</td>\n",
       "      <td>train</td>\n",
       "      <td>train</td>\n",
       "      <td>train</td>\n",
       "      <td>train</td>\n",
       "      <td>train</td>\n",
       "      <td>train</td>\n",
       "      <td>train</td>\n",
       "      <td>val</td>\n",
       "      <td>train</td>\n",
       "      <td>train</td>\n",
       "    </tr>\n",
       "    <tr>\n",
       "      <th>chr3:122603590-122605704</th>\n",
       "      <td>chr3</td>\n",
       "      <td>122603590</td>\n",
       "      <td>122605704</td>\n",
       "      <td>train</td>\n",
       "      <td>train</td>\n",
       "      <td>val</td>\n",
       "      <td>train</td>\n",
       "      <td>train</td>\n",
       "      <td>train</td>\n",
       "      <td>train</td>\n",
       "      <td>train</td>\n",
       "      <td>train</td>\n",
       "      <td>train</td>\n",
       "    </tr>\n",
       "    <tr>\n",
       "      <th>chr8:12792429-12794543</th>\n",
       "      <td>chr8</td>\n",
       "      <td>12792429</td>\n",
       "      <td>12794543</td>\n",
       "      <td>train</td>\n",
       "      <td>train</td>\n",
       "      <td>train</td>\n",
       "      <td>train</td>\n",
       "      <td>train</td>\n",
       "      <td>train</td>\n",
       "      <td>train</td>\n",
       "      <td>val</td>\n",
       "      <td>train</td>\n",
       "      <td>train</td>\n",
       "    </tr>\n",
       "    <tr>\n",
       "      <th>chr3:122638575-122640689</th>\n",
       "      <td>chr3</td>\n",
       "      <td>122638575</td>\n",
       "      <td>122640689</td>\n",
       "      <td>train</td>\n",
       "      <td>train</td>\n",
       "      <td>val</td>\n",
       "      <td>train</td>\n",
       "      <td>train</td>\n",
       "      <td>train</td>\n",
       "      <td>train</td>\n",
       "      <td>train</td>\n",
       "      <td>train</td>\n",
       "      <td>train</td>\n",
       "    </tr>\n",
       "    <tr>\n",
       "      <th>chr19:24134125-24136239</th>\n",
       "      <td>chr19</td>\n",
       "      <td>24134125</td>\n",
       "      <td>24136239</td>\n",
       "      <td>train</td>\n",
       "      <td>train</td>\n",
       "      <td>train</td>\n",
       "      <td>train</td>\n",
       "      <td>train</td>\n",
       "      <td>val</td>\n",
       "      <td>train</td>\n",
       "      <td>train</td>\n",
       "      <td>train</td>\n",
       "      <td>train</td>\n",
       "    </tr>\n",
       "    <tr>\n",
       "      <th>...</th>\n",
       "      <td>...</td>\n",
       "      <td>...</td>\n",
       "      <td>...</td>\n",
       "      <td>...</td>\n",
       "      <td>...</td>\n",
       "      <td>...</td>\n",
       "      <td>...</td>\n",
       "      <td>...</td>\n",
       "      <td>...</td>\n",
       "      <td>...</td>\n",
       "      <td>...</td>\n",
       "      <td>...</td>\n",
       "      <td>...</td>\n",
       "    </tr>\n",
       "    <tr>\n",
       "      <th>chr8:126584685-126586799</th>\n",
       "      <td>chr8</td>\n",
       "      <td>126584685</td>\n",
       "      <td>126586799</td>\n",
       "      <td>train</td>\n",
       "      <td>train</td>\n",
       "      <td>train</td>\n",
       "      <td>train</td>\n",
       "      <td>train</td>\n",
       "      <td>train</td>\n",
       "      <td>train</td>\n",
       "      <td>val</td>\n",
       "      <td>train</td>\n",
       "      <td>train</td>\n",
       "    </tr>\n",
       "    <tr>\n",
       "      <th>chr5:142897469-142899583</th>\n",
       "      <td>chr5</td>\n",
       "      <td>142897469</td>\n",
       "      <td>142899583</td>\n",
       "      <td>train</td>\n",
       "      <td>train</td>\n",
       "      <td>train</td>\n",
       "      <td>train</td>\n",
       "      <td>train</td>\n",
       "      <td>train</td>\n",
       "      <td>train</td>\n",
       "      <td>train</td>\n",
       "      <td>train</td>\n",
       "      <td>val</td>\n",
       "    </tr>\n",
       "    <tr>\n",
       "      <th>chr8:3492888-3495002</th>\n",
       "      <td>chr8</td>\n",
       "      <td>3492888</td>\n",
       "      <td>3495002</td>\n",
       "      <td>train</td>\n",
       "      <td>train</td>\n",
       "      <td>train</td>\n",
       "      <td>train</td>\n",
       "      <td>train</td>\n",
       "      <td>train</td>\n",
       "      <td>train</td>\n",
       "      <td>val</td>\n",
       "      <td>train</td>\n",
       "      <td>train</td>\n",
       "    </tr>\n",
       "    <tr>\n",
       "      <th>chr19:23174666-23176780</th>\n",
       "      <td>chr19</td>\n",
       "      <td>23174666</td>\n",
       "      <td>23176780</td>\n",
       "      <td>train</td>\n",
       "      <td>train</td>\n",
       "      <td>train</td>\n",
       "      <td>train</td>\n",
       "      <td>train</td>\n",
       "      <td>val</td>\n",
       "      <td>train</td>\n",
       "      <td>train</td>\n",
       "      <td>train</td>\n",
       "      <td>train</td>\n",
       "    </tr>\n",
       "    <tr>\n",
       "      <th>chr8:11010062-11012176</th>\n",
       "      <td>chr8</td>\n",
       "      <td>11010062</td>\n",
       "      <td>11012176</td>\n",
       "      <td>train</td>\n",
       "      <td>train</td>\n",
       "      <td>train</td>\n",
       "      <td>train</td>\n",
       "      <td>train</td>\n",
       "      <td>train</td>\n",
       "      <td>train</td>\n",
       "      <td>val</td>\n",
       "      <td>train</td>\n",
       "      <td>train</td>\n",
       "    </tr>\n",
       "  </tbody>\n",
       "</table>\n",
       "<p>50562 rows × 13 columns</p>\n",
       "</div>"
      ],
      "text/plain": [
       "                            chr      start        end fold_0 fold_1 fold_2  \\\n",
       "region                                                                       \n",
       "chr8:11634768-11636882     chr8   11634768   11636882  train  train  train   \n",
       "chr3:122603590-122605704   chr3  122603590  122605704  train  train    val   \n",
       "chr8:12792429-12794543     chr8   12792429   12794543  train  train  train   \n",
       "chr3:122638575-122640689   chr3  122638575  122640689  train  train    val   \n",
       "chr19:24134125-24136239   chr19   24134125   24136239  train  train  train   \n",
       "...                         ...        ...        ...    ...    ...    ...   \n",
       "chr8:126584685-126586799   chr8  126584685  126586799  train  train  train   \n",
       "chr5:142897469-142899583   chr5  142897469  142899583  train  train  train   \n",
       "chr8:3492888-3495002       chr8    3492888    3495002  train  train  train   \n",
       "chr19:23174666-23176780   chr19   23174666   23176780  train  train  train   \n",
       "chr8:11010062-11012176     chr8   11010062   11012176  train  train  train   \n",
       "\n",
       "                         fold_3 fold_4 fold_5 fold_6 fold_7 fold_8 fold_9  \n",
       "region                                                                     \n",
       "chr8:11634768-11636882    train  train  train  train    val  train  train  \n",
       "chr3:122603590-122605704  train  train  train  train  train  train  train  \n",
       "chr8:12792429-12794543    train  train  train  train    val  train  train  \n",
       "chr3:122638575-122640689  train  train  train  train  train  train  train  \n",
       "chr19:24134125-24136239   train  train    val  train  train  train  train  \n",
       "...                         ...    ...    ...    ...    ...    ...    ...  \n",
       "chr8:126584685-126586799  train  train  train  train    val  train  train  \n",
       "chr5:142897469-142899583  train  train  train  train  train  train    val  \n",
       "chr8:3492888-3495002      train  train  train  train    val  train  train  \n",
       "chr19:23174666-23176780   train  train    val  train  train  train  train  \n",
       "chr8:11010062-11012176    train  train  train  train    val  train  train  \n",
       "\n",
       "[50562 rows x 13 columns]"
      ]
     },
     "execution_count": 12,
     "metadata": {},
     "output_type": "execute_result"
    }
   ],
   "source": [
    "crested.pp.normalize_peaks(\n",
    "    adata, top_k_percent=0.03\n",
    ") "
   ]
  },
  {
   "cell_type": "code",
   "execution_count": 13,
   "id": "dda907a1",
   "metadata": {},
   "outputs": [
    {
     "data": {
      "image/png": "[encoded data removed]",
      "text/plain": [
       "<Figure size 2000x300 with 1 Axes>"
      ]
     },
     "metadata": {},
     "output_type": "display_data"
    }
   ],
   "source": [
    "%matplotlib inline\n",
    "crested.pl.bar.normalization_weights(\n",
    "    adata, title=\"Normalization Weights per Cell Type\", x_label_rotation=90\n",
    ")"
   ]
  },
  {
   "cell_type": "code",
   "execution_count": 14,
   "id": "25a3f9d2",
   "metadata": {},
   "outputs": [],
   "source": [
    "outdir = f\"../data/{experiment}/Hydropv2/\"\n",
    "os.makedirs(outdir, exist_ok=True)\n",
    "adata.write_h5ad(os.path.join(outdir, \"normalized.h5ad\"))"
   ]
  },
  {
   "cell_type": "code",
   "execution_count": 15,
   "id": "31044b63",
   "metadata": {},
   "outputs": [
    {
     "name": "stdout",
     "output_type": "stream",
     "text": [
      "2025-06-28T16:13:13.453345+0200 INFO After specificity filtering, kept 130874 out of 808843 regions.\n"
     ]
    }
   ],
   "source": [
    "crested.pp.filter_regions_on_specificity(adata, gini_std_threshold=1.0)"
   ]
  },
  {
   "cell_type": "code",
   "execution_count": 16,
   "id": "ff353a88",
   "metadata": {},
   "outputs": [],
   "source": [
    "adata.write_h5ad(os.path.join(outdir, \"normalized_specific.h5ad\"))"
   ]
  },
  {
   "cell_type": "code",
   "execution_count": 17,
   "id": "a0e6415e",
   "metadata": {},
   "outputs": [
    {
     "data": {
      "image/png": "[encoded data removed]",
      "text/plain": [
       "<Figure size 800x800 with 2 Axes>"
      ]
     },
     "metadata": {},
     "output_type": "display_data"
    }
   ],
   "source": [
    "crested.pl.heatmap.correlations_self(\n",
    "    adata,\n",
    "    title=\"Self Correlation Heatmap HydropV2\",\n",
    "    x_label_rotation=90,\n",
    "    width=8,\n",
    "    height=8,\n",
    "    vmax=1,\n",
    "    log_transform=False,\n",
    "    vmin=0.0,\n",
    ")"
   ]
  }
 ],
 "metadata": {
  "language_info": {
   "name": "python"
  }
 },
 "nbformat": 4,
 "nbformat_minor": 5
}
