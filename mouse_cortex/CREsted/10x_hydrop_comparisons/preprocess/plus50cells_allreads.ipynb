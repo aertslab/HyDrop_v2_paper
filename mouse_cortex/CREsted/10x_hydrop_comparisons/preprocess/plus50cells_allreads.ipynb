{
 "cells": [
  {
   "cell_type": "markdown",
   "id": "9b43ed87",
   "metadata": {},
   "source": [
    "# Inspect and preprocess data to anndata objects"
   ]
  },
  {
   "cell_type": "code",
   "execution_count": null,
   "id": "4f29529f",
   "metadata": {},
   "outputs": [],
   "source": [
    "import os\n",
    "import crested\n",
    "from _train_val_split import split_by_chromosome_folds\n",
    "\n",
    "import matplotlib as mpl\n",
    "mpl.rcParams['pdf.fonttype'] = 42\n",
    "\n",
    "print(crested.__version__)"
   ]
  },
  {
   "cell_type": "code",
   "execution_count": null,
   "id": "90bf3431",
   "metadata": {},
   "outputs": [],
   "source": [
    "data_root = \"../../../../../../../data/paper_zips/10x_hydropv2_comparisons_data/\" # set data root to the unzipped folder's data location\n",
    "bigwigs_root = f\"{data_root}/bigwigs/\"\n",
    "experiment = \"plus50cells_allreads\"\n",
    "k_folds = 10\n",
    "genome_file = \"../../../../../../../data/genomes/refdata-cellranger-arc-mm10-2020-A-2.0.0/fasta/genome.fa\"\n",
    "consensus_regions_file = f\"{data_root}/consensus_regions_mouse_cleanup_annot_all_data_fulldepth.bed\""
   ]
  },
  {
   "cell_type": "code",
   "execution_count": 3,
   "id": "4530ddb0",
   "metadata": {},
   "outputs": [
    {
     "name": "stdout",
     "output_type": "stream",
     "text": [
      "2025-06-28T16:14:29.939148+0200 INFO Genome mm10 registered.\n"
     ]
    }
   ],
   "source": [
    "genome = crested.Genome(\n",
    "    genome_file,\n",
    "    name=\"mm10\"\n",
    ")\n",
    "crested.register_genome(genome)"
   ]
  },
  {
   "cell_type": "markdown",
   "id": "aba301e0",
   "metadata": {},
   "source": [
    "## HydropV2"
   ]
  },
  {
   "cell_type": "code",
   "execution_count": null,
   "id": "0082f375",
   "metadata": {},
   "outputs": [],
   "source": [
    "bigwigs_folder = os.path.join(bigwigs_root, \"hydrop_plus50cells_allreads\")"
   ]
  },
  {
   "cell_type": "code",
   "execution_count": 5,
   "id": "180adaa0",
   "metadata": {},
   "outputs": [
    {
     "name": "stdout",
     "output_type": "stream",
     "text": [
      "2025-06-28T16:14:50.223961+0200 INFO Extracting values from 16 bigWig files...\n"
     ]
    },
    {
     "data": {
      "text/plain": [
       "AnnData object with n_obs × n_vars = 16 × 808845\n",
       "    obs: 'file_path'\n",
       "    var: 'chr', 'start', 'end'"
      ]
     },
     "execution_count": 5,
     "metadata": {},
     "output_type": "execute_result"
    }
   ],
   "source": [
    "adata = crested.import_bigwigs(\n",
    "    bigwigs_folder=bigwigs_folder,\n",
    "    regions_file=consensus_regions_file,\n",
    "    target_region_width=1000,  \n",
    "    target=\"mean\",  \n",
    ")\n",
    "adata"
   ]
  },
  {
   "cell_type": "code",
   "execution_count": 6,
   "id": "1f352c69",
   "metadata": {},
   "outputs": [
    {
     "data": {
      "text/plain": [
       "Index(['Astro', 'Endo_VLMC', 'L2_3_IT', 'L5_6_NP', 'L5_ET', 'L5_IT', 'L6_CT',\n",
       "       'L6_IT', 'L6b', 'Lamp5', 'Micro_PVM', 'OPC', 'Oligo', 'Pvalb',\n",
       "       'Sncg_Vip', 'Sst'],\n",
       "      dtype='object')"
      ]
     },
     "execution_count": 6,
     "metadata": {},
     "output_type": "execute_result"
    }
   ],
   "source": [
    "adata.obs_names = adata.obs_names.str.split(\"___\").str[0]\n",
    "adata.obs_names"
   ]
  },
  {
   "cell_type": "code",
   "execution_count": 7,
   "id": "a3c212e1",
   "metadata": {},
   "outputs": [],
   "source": [
    "# add folds columns to adata.var\n",
    "split_by_chromosome_folds(adata, k=k_folds)"
   ]
  },
  {
   "cell_type": "code",
   "execution_count": 8,
   "id": "f6015692",
   "metadata": {},
   "outputs": [
    {
     "data": {
      "text/html": [
       "<div>\n",
       "<style scoped>\n",
       "    .dataframe tbody tr th:only-of-type {\n",
       "        vertical-align: middle;\n",
       "    }\n",
       "\n",
       "    .dataframe tbody tr th {\n",
       "        vertical-align: top;\n",
       "    }\n",
       "\n",
       "    .dataframe thead th {\n",
       "        text-align: right;\n",
       "    }\n",
       "</style>\n",
       "<table border=\"1\" class=\"dataframe\">\n",
       "  <thead>\n",
       "    <tr style=\"text-align: right;\">\n",
       "      <th></th>\n",
       "      <th>chr</th>\n",
       "      <th>start</th>\n",
       "      <th>end</th>\n",
       "      <th>fold_0</th>\n",
       "      <th>fold_1</th>\n",
       "      <th>fold_2</th>\n",
       "      <th>fold_3</th>\n",
       "      <th>fold_4</th>\n",
       "      <th>fold_5</th>\n",
       "      <th>fold_6</th>\n",
       "      <th>fold_7</th>\n",
       "      <th>fold_8</th>\n",
       "      <th>fold_9</th>\n",
       "    </tr>\n",
       "    <tr>\n",
       "      <th>region</th>\n",
       "      <th></th>\n",
       "      <th></th>\n",
       "      <th></th>\n",
       "      <th></th>\n",
       "      <th></th>\n",
       "      <th></th>\n",
       "      <th></th>\n",
       "      <th></th>\n",
       "      <th></th>\n",
       "      <th></th>\n",
       "      <th></th>\n",
       "      <th></th>\n",
       "      <th></th>\n",
       "    </tr>\n",
       "  </thead>\n",
       "  <tbody>\n",
       "    <tr>\n",
       "      <th>chr1:3094286-3094786</th>\n",
       "      <td>chr1</td>\n",
       "      <td>3094286</td>\n",
       "      <td>3094786</td>\n",
       "      <td>val</td>\n",
       "      <td>train</td>\n",
       "      <td>train</td>\n",
       "      <td>train</td>\n",
       "      <td>train</td>\n",
       "      <td>train</td>\n",
       "      <td>train</td>\n",
       "      <td>train</td>\n",
       "      <td>train</td>\n",
       "      <td>train</td>\n",
       "    </tr>\n",
       "    <tr>\n",
       "      <th>chr1:3097001-3097501</th>\n",
       "      <td>chr1</td>\n",
       "      <td>3097001</td>\n",
       "      <td>3097501</td>\n",
       "      <td>val</td>\n",
       "      <td>train</td>\n",
       "      <td>train</td>\n",
       "      <td>train</td>\n",
       "      <td>train</td>\n",
       "      <td>train</td>\n",
       "      <td>train</td>\n",
       "      <td>train</td>\n",
       "      <td>train</td>\n",
       "      <td>train</td>\n",
       "    </tr>\n",
       "    <tr>\n",
       "      <th>chr1:3097804-3098304</th>\n",
       "      <td>chr1</td>\n",
       "      <td>3097804</td>\n",
       "      <td>3098304</td>\n",
       "      <td>val</td>\n",
       "      <td>train</td>\n",
       "      <td>train</td>\n",
       "      <td>train</td>\n",
       "      <td>train</td>\n",
       "      <td>train</td>\n",
       "      <td>train</td>\n",
       "      <td>train</td>\n",
       "      <td>train</td>\n",
       "      <td>train</td>\n",
       "    </tr>\n",
       "    <tr>\n",
       "      <th>chr1:3112437-3112937</th>\n",
       "      <td>chr1</td>\n",
       "      <td>3112437</td>\n",
       "      <td>3112937</td>\n",
       "      <td>val</td>\n",
       "      <td>train</td>\n",
       "      <td>train</td>\n",
       "      <td>train</td>\n",
       "      <td>train</td>\n",
       "      <td>train</td>\n",
       "      <td>train</td>\n",
       "      <td>train</td>\n",
       "      <td>train</td>\n",
       "      <td>train</td>\n",
       "    </tr>\n",
       "    <tr>\n",
       "      <th>chr1:3118739-3119239</th>\n",
       "      <td>chr1</td>\n",
       "      <td>3118739</td>\n",
       "      <td>3119239</td>\n",
       "      <td>val</td>\n",
       "      <td>train</td>\n",
       "      <td>train</td>\n",
       "      <td>train</td>\n",
       "      <td>train</td>\n",
       "      <td>train</td>\n",
       "      <td>train</td>\n",
       "      <td>train</td>\n",
       "      <td>train</td>\n",
       "      <td>train</td>\n",
       "    </tr>\n",
       "    <tr>\n",
       "      <th>...</th>\n",
       "      <td>...</td>\n",
       "      <td>...</td>\n",
       "      <td>...</td>\n",
       "      <td>...</td>\n",
       "      <td>...</td>\n",
       "      <td>...</td>\n",
       "      <td>...</td>\n",
       "      <td>...</td>\n",
       "      <td>...</td>\n",
       "      <td>...</td>\n",
       "      <td>...</td>\n",
       "      <td>...</td>\n",
       "      <td>...</td>\n",
       "    </tr>\n",
       "    <tr>\n",
       "      <th>chrY:1050180-1050680</th>\n",
       "      <td>chrY</td>\n",
       "      <td>1050180</td>\n",
       "      <td>1050680</td>\n",
       "      <td>val</td>\n",
       "      <td>train</td>\n",
       "      <td>train</td>\n",
       "      <td>train</td>\n",
       "      <td>train</td>\n",
       "      <td>train</td>\n",
       "      <td>train</td>\n",
       "      <td>train</td>\n",
       "      <td>train</td>\n",
       "      <td>train</td>\n",
       "    </tr>\n",
       "    <tr>\n",
       "      <th>chrY:872845-873345</th>\n",
       "      <td>chrY</td>\n",
       "      <td>872845</td>\n",
       "      <td>873345</td>\n",
       "      <td>train</td>\n",
       "      <td>val</td>\n",
       "      <td>train</td>\n",
       "      <td>train</td>\n",
       "      <td>train</td>\n",
       "      <td>train</td>\n",
       "      <td>train</td>\n",
       "      <td>train</td>\n",
       "      <td>train</td>\n",
       "      <td>train</td>\n",
       "    </tr>\n",
       "    <tr>\n",
       "      <th>chrY:1245537-1246037</th>\n",
       "      <td>chrY</td>\n",
       "      <td>1245537</td>\n",
       "      <td>1246037</td>\n",
       "      <td>train</td>\n",
       "      <td>train</td>\n",
       "      <td>val</td>\n",
       "      <td>train</td>\n",
       "      <td>train</td>\n",
       "      <td>train</td>\n",
       "      <td>train</td>\n",
       "      <td>train</td>\n",
       "      <td>train</td>\n",
       "      <td>train</td>\n",
       "    </tr>\n",
       "    <tr>\n",
       "      <th>chrY:1010312-1010812</th>\n",
       "      <td>chrY</td>\n",
       "      <td>1010312</td>\n",
       "      <td>1010812</td>\n",
       "      <td>train</td>\n",
       "      <td>train</td>\n",
       "      <td>train</td>\n",
       "      <td>val</td>\n",
       "      <td>train</td>\n",
       "      <td>train</td>\n",
       "      <td>train</td>\n",
       "      <td>train</td>\n",
       "      <td>train</td>\n",
       "      <td>train</td>\n",
       "    </tr>\n",
       "    <tr>\n",
       "      <th>chrY:897284-897784</th>\n",
       "      <td>chrY</td>\n",
       "      <td>897284</td>\n",
       "      <td>897784</td>\n",
       "      <td>train</td>\n",
       "      <td>train</td>\n",
       "      <td>train</td>\n",
       "      <td>train</td>\n",
       "      <td>val</td>\n",
       "      <td>train</td>\n",
       "      <td>train</td>\n",
       "      <td>train</td>\n",
       "      <td>train</td>\n",
       "      <td>train</td>\n",
       "    </tr>\n",
       "  </tbody>\n",
       "</table>\n",
       "<p>808845 rows × 13 columns</p>\n",
       "</div>"
      ],
      "text/plain": [
       "                       chr    start      end fold_0 fold_1 fold_2 fold_3  \\\n",
       "region                                                                     \n",
       "chr1:3094286-3094786  chr1  3094286  3094786    val  train  train  train   \n",
       "chr1:3097001-3097501  chr1  3097001  3097501    val  train  train  train   \n",
       "chr1:3097804-3098304  chr1  3097804  3098304    val  train  train  train   \n",
       "chr1:3112437-3112937  chr1  3112437  3112937    val  train  train  train   \n",
       "chr1:3118739-3119239  chr1  3118739  3119239    val  train  train  train   \n",
       "...                    ...      ...      ...    ...    ...    ...    ...   \n",
       "chrY:1050180-1050680  chrY  1050180  1050680    val  train  train  train   \n",
       "chrY:872845-873345    chrY   872845   873345  train    val  train  train   \n",
       "chrY:1245537-1246037  chrY  1245537  1246037  train  train    val  train   \n",
       "chrY:1010312-1010812  chrY  1010312  1010812  train  train  train    val   \n",
       "chrY:897284-897784    chrY   897284   897784  train  train  train  train   \n",
       "\n",
       "                     fold_4 fold_5 fold_6 fold_7 fold_8 fold_9  \n",
       "region                                                          \n",
       "chr1:3094286-3094786  train  train  train  train  train  train  \n",
       "chr1:3097001-3097501  train  train  train  train  train  train  \n",
       "chr1:3097804-3098304  train  train  train  train  train  train  \n",
       "chr1:3112437-3112937  train  train  train  train  train  train  \n",
       "chr1:3118739-3119239  train  train  train  train  train  train  \n",
       "...                     ...    ...    ...    ...    ...    ...  \n",
       "chrY:1050180-1050680  train  train  train  train  train  train  \n",
       "chrY:872845-873345    train  train  train  train  train  train  \n",
       "chrY:1245537-1246037  train  train  train  train  train  train  \n",
       "chrY:1010312-1010812  train  train  train  train  train  train  \n",
       "chrY:897284-897784      val  train  train  train  train  train  \n",
       "\n",
       "[808845 rows x 13 columns]"
      ]
     },
     "execution_count": 8,
     "metadata": {},
     "output_type": "execute_result"
    }
   ],
   "source": [
    "adata.var"
   ]
  },
  {
   "cell_type": "code",
   "execution_count": 9,
   "id": "d1670366",
   "metadata": {},
   "outputs": [
    {
     "data": {
      "text/plain": [
       "fold_0\n",
       "train    727952\n",
       "val       80893\n",
       "Name: count, dtype: int64"
      ]
     },
     "execution_count": 9,
     "metadata": {},
     "output_type": "execute_result"
    }
   ],
   "source": [
    "adata.var['fold_0'].value_counts()"
   ]
  },
  {
   "cell_type": "code",
   "execution_count": 10,
   "id": "ca72abf3",
   "metadata": {},
   "outputs": [
    {
     "data": {
      "text/plain": [
       "fold_0\n",
       "train    51777\n",
       "val       5753\n",
       "Name: count, dtype: int64"
      ]
     },
     "execution_count": 10,
     "metadata": {},
     "output_type": "execute_result"
    }
   ],
   "source": [
    "adata.var[(adata.var['chr'] == 'chr1')]['fold_0'].value_counts()"
   ]
  },
  {
   "cell_type": "code",
   "execution_count": 11,
   "id": "234366ad",
   "metadata": {},
   "outputs": [
    {
     "name": "stdout",
     "output_type": "stream",
     "text": [
      "2025-06-28T16:16:32.206465+0200 WARNING Region chrM:-362-1752 with coordinates chrM:-362-1752 is out of bounds for chromosome chrM. Removing region.\n",
      "2025-06-28T16:16:32.243156+0200 WARNING Region chrM:14601-16715 with coordinates chrM:14601-16715 is out of bounds for chromosome chrM. Removing region.\n"
     ]
    }
   ],
   "source": [
    "crested.pp.change_regions_width(\n",
    "    adata,\n",
    "    2114,\n",
    ")"
   ]
  },
  {
   "cell_type": "code",
   "execution_count": 12,
   "id": "a4cdac1c",
   "metadata": {},
   "outputs": [
    {
     "name": "stdout",
     "output_type": "stream",
     "text": [
      "2025-06-28T16:16:56.207200+0200 INFO Filtering on top k Gini scores...\n",
      "2025-06-28T16:17:07.027717+0200 INFO Added normalization weights to adata.obsm['weights']...\n"
     ]
    },
    {
     "data": {
      "text/html": [
       "<div>\n",
       "<style scoped>\n",
       "    .dataframe tbody tr th:only-of-type {\n",
       "        vertical-align: middle;\n",
       "    }\n",
       "\n",
       "    .dataframe tbody tr th {\n",
       "        vertical-align: top;\n",
       "    }\n",
       "\n",
       "    .dataframe thead th {\n",
       "        text-align: right;\n",
       "    }\n",
       "</style>\n",
       "<table border=\"1\" class=\"dataframe\">\n",
       "  <thead>\n",
       "    <tr style=\"text-align: right;\">\n",
       "      <th></th>\n",
       "      <th>chr</th>\n",
       "      <th>start</th>\n",
       "      <th>end</th>\n",
       "      <th>fold_0</th>\n",
       "      <th>fold_1</th>\n",
       "      <th>fold_2</th>\n",
       "      <th>fold_3</th>\n",
       "      <th>fold_4</th>\n",
       "      <th>fold_5</th>\n",
       "      <th>fold_6</th>\n",
       "      <th>fold_7</th>\n",
       "      <th>fold_8</th>\n",
       "      <th>fold_9</th>\n",
       "    </tr>\n",
       "    <tr>\n",
       "      <th>region</th>\n",
       "      <th></th>\n",
       "      <th></th>\n",
       "      <th></th>\n",
       "      <th></th>\n",
       "      <th></th>\n",
       "      <th></th>\n",
       "      <th></th>\n",
       "      <th></th>\n",
       "      <th></th>\n",
       "      <th></th>\n",
       "      <th></th>\n",
       "      <th></th>\n",
       "      <th></th>\n",
       "    </tr>\n",
       "  </thead>\n",
       "  <tbody>\n",
       "    <tr>\n",
       "      <th>chr8:11634768-11636882</th>\n",
       "      <td>chr8</td>\n",
       "      <td>11634768</td>\n",
       "      <td>11636882</td>\n",
       "      <td>train</td>\n",
       "      <td>train</td>\n",
       "      <td>train</td>\n",
       "      <td>train</td>\n",
       "      <td>train</td>\n",
       "      <td>train</td>\n",
       "      <td>train</td>\n",
       "      <td>val</td>\n",
       "      <td>train</td>\n",
       "      <td>train</td>\n",
       "    </tr>\n",
       "    <tr>\n",
       "      <th>chr5:52474811-52476925</th>\n",
       "      <td>chr5</td>\n",
       "      <td>52474811</td>\n",
       "      <td>52476925</td>\n",
       "      <td>train</td>\n",
       "      <td>train</td>\n",
       "      <td>train</td>\n",
       "      <td>train</td>\n",
       "      <td>train</td>\n",
       "      <td>train</td>\n",
       "      <td>train</td>\n",
       "      <td>train</td>\n",
       "      <td>train</td>\n",
       "      <td>val</td>\n",
       "    </tr>\n",
       "    <tr>\n",
       "      <th>chr3:122638575-122640689</th>\n",
       "      <td>chr3</td>\n",
       "      <td>122638575</td>\n",
       "      <td>122640689</td>\n",
       "      <td>train</td>\n",
       "      <td>train</td>\n",
       "      <td>val</td>\n",
       "      <td>train</td>\n",
       "      <td>train</td>\n",
       "      <td>train</td>\n",
       "      <td>train</td>\n",
       "      <td>train</td>\n",
       "      <td>train</td>\n",
       "      <td>train</td>\n",
       "    </tr>\n",
       "    <tr>\n",
       "      <th>chr8:13629041-13631155</th>\n",
       "      <td>chr8</td>\n",
       "      <td>13629041</td>\n",
       "      <td>13631155</td>\n",
       "      <td>train</td>\n",
       "      <td>train</td>\n",
       "      <td>train</td>\n",
       "      <td>train</td>\n",
       "      <td>train</td>\n",
       "      <td>train</td>\n",
       "      <td>train</td>\n",
       "      <td>val</td>\n",
       "      <td>train</td>\n",
       "      <td>train</td>\n",
       "    </tr>\n",
       "    <tr>\n",
       "      <th>chr19:25333518-25335632</th>\n",
       "      <td>chr19</td>\n",
       "      <td>25333518</td>\n",
       "      <td>25335632</td>\n",
       "      <td>train</td>\n",
       "      <td>train</td>\n",
       "      <td>train</td>\n",
       "      <td>train</td>\n",
       "      <td>train</td>\n",
       "      <td>val</td>\n",
       "      <td>train</td>\n",
       "      <td>train</td>\n",
       "      <td>train</td>\n",
       "      <td>train</td>\n",
       "    </tr>\n",
       "    <tr>\n",
       "      <th>...</th>\n",
       "      <td>...</td>\n",
       "      <td>...</td>\n",
       "      <td>...</td>\n",
       "      <td>...</td>\n",
       "      <td>...</td>\n",
       "      <td>...</td>\n",
       "      <td>...</td>\n",
       "      <td>...</td>\n",
       "      <td>...</td>\n",
       "      <td>...</td>\n",
       "      <td>...</td>\n",
       "      <td>...</td>\n",
       "      <td>...</td>\n",
       "    </tr>\n",
       "    <tr>\n",
       "      <th>chr8:3219471-3221585</th>\n",
       "      <td>chr8</td>\n",
       "      <td>3219471</td>\n",
       "      <td>3221585</td>\n",
       "      <td>train</td>\n",
       "      <td>train</td>\n",
       "      <td>train</td>\n",
       "      <td>train</td>\n",
       "      <td>train</td>\n",
       "      <td>train</td>\n",
       "      <td>train</td>\n",
       "      <td>val</td>\n",
       "      <td>train</td>\n",
       "      <td>train</td>\n",
       "    </tr>\n",
       "    <tr>\n",
       "      <th>chr11:106831264-106833378</th>\n",
       "      <td>chr11</td>\n",
       "      <td>106831264</td>\n",
       "      <td>106833378</td>\n",
       "      <td>train</td>\n",
       "      <td>train</td>\n",
       "      <td>train</td>\n",
       "      <td>train</td>\n",
       "      <td>train</td>\n",
       "      <td>train</td>\n",
       "      <td>val</td>\n",
       "      <td>train</td>\n",
       "      <td>train</td>\n",
       "      <td>train</td>\n",
       "    </tr>\n",
       "    <tr>\n",
       "      <th>chr8:4165702-4167816</th>\n",
       "      <td>chr8</td>\n",
       "      <td>4165702</td>\n",
       "      <td>4167816</td>\n",
       "      <td>train</td>\n",
       "      <td>train</td>\n",
       "      <td>train</td>\n",
       "      <td>train</td>\n",
       "      <td>train</td>\n",
       "      <td>train</td>\n",
       "      <td>train</td>\n",
       "      <td>val</td>\n",
       "      <td>train</td>\n",
       "      <td>train</td>\n",
       "    </tr>\n",
       "    <tr>\n",
       "      <th>chr5:23576364-23578478</th>\n",
       "      <td>chr5</td>\n",
       "      <td>23576364</td>\n",
       "      <td>23578478</td>\n",
       "      <td>train</td>\n",
       "      <td>train</td>\n",
       "      <td>train</td>\n",
       "      <td>train</td>\n",
       "      <td>train</td>\n",
       "      <td>train</td>\n",
       "      <td>train</td>\n",
       "      <td>train</td>\n",
       "      <td>train</td>\n",
       "      <td>val</td>\n",
       "    </tr>\n",
       "    <tr>\n",
       "      <th>chr8:11010062-11012176</th>\n",
       "      <td>chr8</td>\n",
       "      <td>11010062</td>\n",
       "      <td>11012176</td>\n",
       "      <td>train</td>\n",
       "      <td>train</td>\n",
       "      <td>train</td>\n",
       "      <td>train</td>\n",
       "      <td>train</td>\n",
       "      <td>train</td>\n",
       "      <td>train</td>\n",
       "      <td>val</td>\n",
       "      <td>train</td>\n",
       "      <td>train</td>\n",
       "    </tr>\n",
       "  </tbody>\n",
       "</table>\n",
       "<p>52509 rows × 13 columns</p>\n",
       "</div>"
      ],
      "text/plain": [
       "                             chr      start        end fold_0 fold_1 fold_2  \\\n",
       "region                                                                        \n",
       "chr8:11634768-11636882      chr8   11634768   11636882  train  train  train   \n",
       "chr5:52474811-52476925      chr5   52474811   52476925  train  train  train   \n",
       "chr3:122638575-122640689    chr3  122638575  122640689  train  train    val   \n",
       "chr8:13629041-13631155      chr8   13629041   13631155  train  train  train   \n",
       "chr19:25333518-25335632    chr19   25333518   25335632  train  train  train   \n",
       "...                          ...        ...        ...    ...    ...    ...   \n",
       "chr8:3219471-3221585        chr8    3219471    3221585  train  train  train   \n",
       "chr11:106831264-106833378  chr11  106831264  106833378  train  train  train   \n",
       "chr8:4165702-4167816        chr8    4165702    4167816  train  train  train   \n",
       "chr5:23576364-23578478      chr5   23576364   23578478  train  train  train   \n",
       "chr8:11010062-11012176      chr8   11010062   11012176  train  train  train   \n",
       "\n",
       "                          fold_3 fold_4 fold_5 fold_6 fold_7 fold_8 fold_9  \n",
       "region                                                                      \n",
       "chr8:11634768-11636882     train  train  train  train    val  train  train  \n",
       "chr5:52474811-52476925     train  train  train  train  train  train    val  \n",
       "chr3:122638575-122640689   train  train  train  train  train  train  train  \n",
       "chr8:13629041-13631155     train  train  train  train    val  train  train  \n",
       "chr19:25333518-25335632    train  train    val  train  train  train  train  \n",
       "...                          ...    ...    ...    ...    ...    ...    ...  \n",
       "chr8:3219471-3221585       train  train  train  train    val  train  train  \n",
       "chr11:106831264-106833378  train  train  train    val  train  train  train  \n",
       "chr8:4165702-4167816       train  train  train  train    val  train  train  \n",
       "chr5:23576364-23578478     train  train  train  train  train  train    val  \n",
       "chr8:11010062-11012176     train  train  train  train    val  train  train  \n",
       "\n",
       "[52509 rows x 13 columns]"
      ]
     },
     "execution_count": 12,
     "metadata": {},
     "output_type": "execute_result"
    }
   ],
   "source": [
    "crested.pp.normalize_peaks(\n",
    "    adata, top_k_percent=0.03\n",
    ") "
   ]
  },
  {
   "cell_type": "code",
   "execution_count": 13,
   "id": "dda907a1",
   "metadata": {},
   "outputs": [
    {
     "data": {
      "image/png": "[encoded data removed]",
      "text/plain": [
       "<Figure size 2000x300 with 1 Axes>"
      ]
     },
     "metadata": {},
     "output_type": "display_data"
    }
   ],
   "source": [
    "%matplotlib inline\n",
    "crested.pl.bar.normalization_weights(\n",
    "    adata, title=\"Normalization Weights per Cell Type\", x_label_rotation=90\n",
    ")"
   ]
  },
  {
   "cell_type": "code",
   "execution_count": 14,
   "id": "25a3f9d2",
   "metadata": {},
   "outputs": [],
   "source": [
    "outdir = f\"../data/{experiment}/Hydropv2/\"\n",
    "os.makedirs(outdir, exist_ok=True)\n",
    "adata.write_h5ad(os.path.join(outdir, \"normalized.h5ad\"))"
   ]
  },
  {
   "cell_type": "code",
   "execution_count": 15,
   "id": "31044b63",
   "metadata": {},
   "outputs": [
    {
     "name": "stdout",
     "output_type": "stream",
     "text": [
      "2025-06-28T16:17:32.036189+0200 INFO After specificity filtering, kept 131081 out of 808843 regions.\n"
     ]
    }
   ],
   "source": [
    "crested.pp.filter_regions_on_specificity(adata, gini_std_threshold=1.0)"
   ]
  },
  {
   "cell_type": "code",
   "execution_count": 16,
   "id": "ff353a88",
   "metadata": {},
   "outputs": [],
   "source": [
    "adata.write_h5ad(os.path.join(outdir, \"normalized_specific.h5ad\"))"
   ]
  },
  {
   "cell_type": "code",
   "execution_count": 17,
   "id": "a0e6415e",
   "metadata": {},
   "outputs": [
    {
     "data": {
      "image/png": "[encoded data removed]",
      "text/plain": [
       "<Figure size 800x800 with 2 Axes>"
      ]
     },
     "metadata": {},
     "output_type": "display_data"
    }
   ],
   "source": [
    "crested.pl.heatmap.correlations_self(\n",
    "    adata,\n",
    "    title=\"Self Correlation Heatmap HydropV2\",\n",
    "    x_label_rotation=90,\n",
    "    width=8,\n",
    "    height=8,\n",
    "    vmax=1,\n",
    "    log_transform=False,\n",
    "    vmin=0.0,\n",
    ")"
   ]
  }
 ],
 "metadata": {
  "language_info": {
   "name": "python"
  }
 },
 "nbformat": 4,
 "nbformat_minor": 5
}
