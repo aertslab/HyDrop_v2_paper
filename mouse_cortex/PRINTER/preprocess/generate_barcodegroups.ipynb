{
 "cells": [
  {
   "cell_type": "markdown",
   "metadata": {},
   "source": [
    "# Generate BarcodeGroups (barcodes per cell type grouping)"
   ]
  },
  {
   "cell_type": "code",
   "execution_count": 1,
   "metadata": {},
   "outputs": [
    {
     "name": "stderr",
     "output_type": "stream",
     "text": [
      "/lustre1/project/stg_00002/mambaforge/vsc35862/envs/scprinter/lib/python3.10/site-packages/tqdm/auto.py:21: TqdmWarning: IProgress not found. Please update jupyter and ipywidgets. See https://ipywidgets.readthedocs.io/en/stable/user_install.html\n",
      "  from .autonotebook import tqdm as notebook_tqdm\n"
     ]
    }
   ],
   "source": [
    "import os\n",
    "import json\n",
    "import time\n",
    "\n",
    "import anndata\n",
    "import scprinter as scp\n",
    "import pandas as pd"
   ]
  },
  {
   "cell_type": "code",
   "execution_count": 2,
   "metadata": {},
   "outputs": [],
   "source": [
    "zip_folder = \"../../../../../../data/hydrop/mcortex/paper_zips\"\n",
    "celltype_label = \"cleaned_up_annot\"  # annotation column name"
   ]
  },
  {
   "cell_type": "code",
   "execution_count": 3,
   "metadata": {},
   "outputs": [],
   "source": [
    "genome = scp.genome.mm10"
   ]
  },
  {
   "cell_type": "markdown",
   "metadata": {},
   "source": [
    "## Hydrop"
   ]
  },
  {
   "cell_type": "code",
   "execution_count": 4,
   "metadata": {},
   "outputs": [],
   "source": [
    "cistopic_fragments_anndata_path = f\"{zip_folder}/10x_hydropv2_comparisons_data/printer/cistopic_fragments_mouse_hydropv2_anndata.h5ad\"\n",
    "printer_object_path =  f\"{zip_folder}/10x_hydropv2_comparisons_data/printer/printer_mouse_hydropv2.h5ad\"\n",
    "barcodegroups_out_path = f\"{zip_folder}/10x_hydropv2_comparisons_data/printer/barcodegroups_mouse_hydropv2.csv\""
   ]
  },
  {
   "cell_type": "code",
   "execution_count": 5,
   "metadata": {},
   "outputs": [],
   "source": [
    "# load objects\n",
    "printer = scp.load_printer(printer_object_path, genome)\n",
    "cistopic_anndata = anndata.read_h5ad(cistopic_fragments_anndata_path)\n",
    "\n",
    "printer_barcodes = []\n",
    "printer_parts = []\n",
    "\n",
    "for name in printer.obs_names:\n",
    "    if \"part\" in name:\n",
    "        barcode, part = name.rsplit(\"part\", 1)\n",
    "        printer_barcodes.append(barcode)\n",
    "        printer_parts.append(part)\n",
    "    else:\n",
    "        # Handle cases where 'part' is not in name\n",
    "        barcode = name\n",
    "        part = None\n",
    "        printer_barcodes.append(barcode)\n",
    "        printer_parts.append(part)\n",
    "\n",
    "printer_df = pd.DataFrame(\n",
    "    {\n",
    "        \"obs_name\": printer.obs_names,\n",
    "        \"barcode\": printer_barcodes,\n",
    "        \"part\": printer_parts,\n",
    "    }\n",
    ")"
   ]
  },
  {
   "cell_type": "code",
   "execution_count": 7,
   "metadata": {},
   "outputs": [],
   "source": [
    "# Extract barcodes and sample names from `cistopic_anndata.obs.index`\n",
    "cistopic_barcodes = []\n",
    "cistopic_samples = []\n",
    "\n",
    "for idx in cistopic_anndata.obs.index:\n",
    "    parts = idx.split(\"___\")\n",
    "    barcode = parts[0]\n",
    "    sample = parts[-1]  # Assuming sample name is the last part\n",
    "    cistopic_barcodes.append(barcode)\n",
    "    cistopic_samples.append(sample)\n",
    "\n",
    "cistopic_df = pd.DataFrame(\n",
    "    {\n",
    "        \"index\": cistopic_anndata.obs.index,\n",
    "        \"barcode\": cistopic_barcodes,\n",
    "        \"sample\": cistopic_samples,\n",
    "        \"cell_type\": cistopic_anndata.obs[celltype_label].values,\n",
    "    }\n",
    ")"
   ]
  },
  {
   "cell_type": "code",
   "execution_count": 8,
   "metadata": {},
   "outputs": [
    {
     "data": {
      "text/html": [
       "<div>\n",
       "<style scoped>\n",
       "    .dataframe tbody tr th:only-of-type {\n",
       "        vertical-align: middle;\n",
       "    }\n",
       "\n",
       "    .dataframe tbody tr th {\n",
       "        vertical-align: top;\n",
       "    }\n",
       "\n",
       "    .dataframe thead th {\n",
       "        text-align: right;\n",
       "    }\n",
       "</style>\n",
       "<table border=\"1\" class=\"dataframe\">\n",
       "  <thead>\n",
       "    <tr style=\"text-align: right;\">\n",
       "      <th></th>\n",
       "      <th>index</th>\n",
       "      <th>barcode</th>\n",
       "      <th>sample</th>\n",
       "      <th>cell_type</th>\n",
       "    </tr>\n",
       "  </thead>\n",
       "  <tbody>\n",
       "    <tr>\n",
       "      <th>0</th>\n",
       "      <td>CTCGATATCTACCAAGCGAAGGATGAGGAG___HYA__ac683b__20230829_mouse_cortex_1</td>\n",
       "      <td>CTCGATATCTACCAAGCGAAGGATGAGGAG</td>\n",
       "      <td>HYA__ac683b__20230829_mouse_cortex_1</td>\n",
       "      <td>L5_ET</td>\n",
       "    </tr>\n",
       "    <tr>\n",
       "      <th>1</th>\n",
       "      <td>TTATTGGCACCTGTTGAGATGGACGAACGG___HYA__ac683b__20230829_mouse_cortex_1</td>\n",
       "      <td>TTATTGGCACCTGTTGAGATGGACGAACGG</td>\n",
       "      <td>HYA__ac683b__20230829_mouse_cortex_1</td>\n",
       "      <td>L5_IT</td>\n",
       "    </tr>\n",
       "    <tr>\n",
       "      <th>2</th>\n",
       "      <td>TCTGATACACGATAACCACATAGTGGTAAT___HYA__ac683b__20230829_mouse_cortex_1</td>\n",
       "      <td>TCTGATACACGATAACCACATAGTGGTAAT</td>\n",
       "      <td>HYA__ac683b__20230829_mouse_cortex_1</td>\n",
       "      <td>L6_IT</td>\n",
       "    </tr>\n",
       "  </tbody>\n",
       "</table>\n",
       "</div>"
      ],
      "text/plain": [
       "                                                                   index  \\\n",
       "0  CTCGATATCTACCAAGCGAAGGATGAGGAG___HYA__ac683b__20230829_mouse_cortex_1   \n",
       "1  TTATTGGCACCTGTTGAGATGGACGAACGG___HYA__ac683b__20230829_mouse_cortex_1   \n",
       "2  TCTGATACACGATAACCACATAGTGGTAAT___HYA__ac683b__20230829_mouse_cortex_1   \n",
       "\n",
       "                          barcode                                sample  \\\n",
       "0  CTCGATATCTACCAAGCGAAGGATGAGGAG  HYA__ac683b__20230829_mouse_cortex_1   \n",
       "1  TTATTGGCACCTGTTGAGATGGACGAACGG  HYA__ac683b__20230829_mouse_cortex_1   \n",
       "2  TCTGATACACGATAACCACATAGTGGTAAT  HYA__ac683b__20230829_mouse_cortex_1   \n",
       "\n",
       "  cell_type  \n",
       "0     L5_ET  \n",
       "1     L5_IT  \n",
       "2     L6_IT  "
      ]
     },
     "execution_count": 8,
     "metadata": {},
     "output_type": "execute_result"
    }
   ],
   "source": [
    "cistopic_df.head(3)"
   ]
  },
  {
   "cell_type": "code",
   "execution_count": 9,
   "metadata": {},
   "outputs": [],
   "source": [
    "# Group barcodes by part number and by sample name\n",
    "barcodes_by_part = printer_df.groupby(\"part\")[\"barcode\"].apply(set).to_dict()\n",
    "barcodes_by_sample = cistopic_df.groupby(\"sample\")[\"barcode\"].apply(set).to_dict()\n",
    "\n",
    "# Find the best matching sample for each part by computing the overlap of barcodes\n",
    "part_to_sample = {}\n",
    "for part, part_barcodes in barcodes_by_part.items():\n",
    "    max_overlap = 0\n",
    "    best_sample = None\n",
    "    for sample, sample_barcodes in barcodes_by_sample.items():\n",
    "        overlap = len(part_barcodes & sample_barcodes)\n",
    "        if overlap > max_overlap:\n",
    "            max_overlap = overlap\n",
    "            best_sample = sample\n",
    "    if best_sample:\n",
    "        part_to_sample[part] = best_sample\n",
    "    else:\n",
    "        print(f\"No matching sample found for part {part}\")\n",
    "\n",
    "# Map each part to its corresponding sample\n",
    "printer_df[\"sample\"] = printer_df[\"part\"].map(part_to_sample)\n",
    "\n",
    "# Remove entries where sample mapping was not found\n",
    "printer_df = printer_df.dropna(subset=[\"sample\"])"
   ]
  },
  {
   "cell_type": "code",
   "execution_count": 10,
   "metadata": {},
   "outputs": [
    {
     "data": {
      "text/html": [
       "<div>\n",
       "<style scoped>\n",
       "    .dataframe tbody tr th:only-of-type {\n",
       "        vertical-align: middle;\n",
       "    }\n",
       "\n",
       "    .dataframe tbody tr th {\n",
       "        vertical-align: top;\n",
       "    }\n",
       "\n",
       "    .dataframe thead th {\n",
       "        text-align: right;\n",
       "    }\n",
       "</style>\n",
       "<table border=\"1\" class=\"dataframe\">\n",
       "  <thead>\n",
       "    <tr style=\"text-align: right;\">\n",
       "      <th></th>\n",
       "      <th>obs_name</th>\n",
       "      <th>barcode</th>\n",
       "      <th>part</th>\n",
       "      <th>sample</th>\n",
       "    </tr>\n",
       "  </thead>\n",
       "  <tbody>\n",
       "    <tr>\n",
       "      <th>0</th>\n",
       "      <td>AACAACCATCCCACGCTATTCTTCACCTTCpart2</td>\n",
       "      <td>AACAACCATCCCACGCTATTCTTCACCTTC</td>\n",
       "      <td>2</td>\n",
       "      <td>HYA__177788__20240117_Mouse_Cortex-d-ATAC</td>\n",
       "    </tr>\n",
       "    <tr>\n",
       "      <th>1</th>\n",
       "      <td>AAGCAGATAGAAGGTGTGGTATCGACCTTGpart2</td>\n",
       "      <td>AAGCAGATAGAAGGTGTGGTATCGACCTTG</td>\n",
       "      <td>2</td>\n",
       "      <td>HYA__177788__20240117_Mouse_Cortex-d-ATAC</td>\n",
       "    </tr>\n",
       "    <tr>\n",
       "      <th>2</th>\n",
       "      <td>AAGCAGATAGAAGGTGTGGTGAACACTGGApart2</td>\n",
       "      <td>AAGCAGATAGAAGGTGTGGTGAACACTGGA</td>\n",
       "      <td>2</td>\n",
       "      <td>HYA__177788__20240117_Mouse_Cortex-d-ATAC</td>\n",
       "    </tr>\n",
       "  </tbody>\n",
       "</table>\n",
       "</div>"
      ],
      "text/plain": [
       "                              obs_name                         barcode part  \\\n",
       "0  AACAACCATCCCACGCTATTCTTCACCTTCpart2  AACAACCATCCCACGCTATTCTTCACCTTC    2   \n",
       "1  AAGCAGATAGAAGGTGTGGTATCGACCTTGpart2  AAGCAGATAGAAGGTGTGGTATCGACCTTG    2   \n",
       "2  AAGCAGATAGAAGGTGTGGTGAACACTGGApart2  AAGCAGATAGAAGGTGTGGTGAACACTGGA    2   \n",
       "\n",
       "                                      sample  \n",
       "0  HYA__177788__20240117_Mouse_Cortex-d-ATAC  \n",
       "1  HYA__177788__20240117_Mouse_Cortex-d-ATAC  \n",
       "2  HYA__177788__20240117_Mouse_Cortex-d-ATAC  "
      ]
     },
     "execution_count": 10,
     "metadata": {},
     "output_type": "execute_result"
    }
   ],
   "source": [
    "printer_df.head(3)"
   ]
  },
  {
   "cell_type": "code",
   "execution_count": 11,
   "metadata": {},
   "outputs": [
    {
     "data": {
      "text/html": [
       "<div>\n",
       "<style scoped>\n",
       "    .dataframe tbody tr th:only-of-type {\n",
       "        vertical-align: middle;\n",
       "    }\n",
       "\n",
       "    .dataframe tbody tr th {\n",
       "        vertical-align: top;\n",
       "    }\n",
       "\n",
       "    .dataframe thead th {\n",
       "        text-align: right;\n",
       "    }\n",
       "</style>\n",
       "<table border=\"1\" class=\"dataframe\">\n",
       "  <thead>\n",
       "    <tr style=\"text-align: right;\">\n",
       "      <th></th>\n",
       "      <th>obs_name</th>\n",
       "      <th>barcode</th>\n",
       "      <th>part</th>\n",
       "      <th>sample</th>\n",
       "      <th>index</th>\n",
       "      <th>cell_type</th>\n",
       "    </tr>\n",
       "  </thead>\n",
       "  <tbody>\n",
       "    <tr>\n",
       "      <th>0</th>\n",
       "      <td>AACAACCATCCCACGCTATTCTTCACCTTCpart2</td>\n",
       "      <td>AACAACCATCCCACGCTATTCTTCACCTTC</td>\n",
       "      <td>2</td>\n",
       "      <td>HYA__177788__20240117_Mouse_Cortex-d-ATAC</td>\n",
       "      <td>AACAACCATCCCACGCTATTCTTCACCTTC___HYA__177788__20240117_Mouse_Cortex-d-ATAC</td>\n",
       "      <td>Micro_PVM</td>\n",
       "    </tr>\n",
       "    <tr>\n",
       "      <th>1</th>\n",
       "      <td>AAGCAGATAGAAGGTGTGGTATCGACCTTGpart2</td>\n",
       "      <td>AAGCAGATAGAAGGTGTGGTATCGACCTTG</td>\n",
       "      <td>2</td>\n",
       "      <td>HYA__177788__20240117_Mouse_Cortex-d-ATAC</td>\n",
       "      <td>AAGCAGATAGAAGGTGTGGTATCGACCTTG___HYA__177788__20240117_Mouse_Cortex-d-ATAC</td>\n",
       "      <td>OPC</td>\n",
       "    </tr>\n",
       "    <tr>\n",
       "      <th>2</th>\n",
       "      <td>AAGCAGATAGAAGGTGTGGTGAACACTGGApart2</td>\n",
       "      <td>AAGCAGATAGAAGGTGTGGTGAACACTGGA</td>\n",
       "      <td>2</td>\n",
       "      <td>HYA__177788__20240117_Mouse_Cortex-d-ATAC</td>\n",
       "      <td>AAGCAGATAGAAGGTGTGGTGAACACTGGA___HYA__177788__20240117_Mouse_Cortex-d-ATAC</td>\n",
       "      <td>Pvalb</td>\n",
       "    </tr>\n",
       "  </tbody>\n",
       "</table>\n",
       "</div>"
      ],
      "text/plain": [
       "                              obs_name                         barcode part  \\\n",
       "0  AACAACCATCCCACGCTATTCTTCACCTTCpart2  AACAACCATCCCACGCTATTCTTCACCTTC    2   \n",
       "1  AAGCAGATAGAAGGTGTGGTATCGACCTTGpart2  AAGCAGATAGAAGGTGTGGTATCGACCTTG    2   \n",
       "2  AAGCAGATAGAAGGTGTGGTGAACACTGGApart2  AAGCAGATAGAAGGTGTGGTGAACACTGGA    2   \n",
       "\n",
       "                                      sample  \\\n",
       "0  HYA__177788__20240117_Mouse_Cortex-d-ATAC   \n",
       "1  HYA__177788__20240117_Mouse_Cortex-d-ATAC   \n",
       "2  HYA__177788__20240117_Mouse_Cortex-d-ATAC   \n",
       "\n",
       "                                                                        index  \\\n",
       "0  AACAACCATCCCACGCTATTCTTCACCTTC___HYA__177788__20240117_Mouse_Cortex-d-ATAC   \n",
       "1  AAGCAGATAGAAGGTGTGGTATCGACCTTG___HYA__177788__20240117_Mouse_Cortex-d-ATAC   \n",
       "2  AAGCAGATAGAAGGTGTGGTGAACACTGGA___HYA__177788__20240117_Mouse_Cortex-d-ATAC   \n",
       "\n",
       "   cell_type  \n",
       "0  Micro_PVM  \n",
       "1        OPC  \n",
       "2      Pvalb  "
      ]
     },
     "execution_count": 11,
     "metadata": {},
     "output_type": "execute_result"
    }
   ],
   "source": [
    "# Merge the datasets using both `barcode` and `sample`\n",
    "merged_df = pd.merge(printer_df, cistopic_df, on=[\"barcode\", \"sample\"], how=\"inner\")\n",
    "merged_df.head(3)"
   ]
  },
  {
   "cell_type": "code",
   "execution_count": 12,
   "metadata": {},
   "outputs": [],
   "source": [
    "# Generate the final CSV file\n",
    "merged_df[[\"obs_name\", \"cell_type\"]].to_csv(barcodegroups_out_path, sep=\"\\t\", index=False)\n",
    "time.sleep(1)\n",
    "printer.close()"
   ]
  },
  {
   "cell_type": "markdown",
   "metadata": {},
   "source": [
    "## 10x"
   ]
  },
  {
   "cell_type": "code",
   "execution_count": 13,
   "metadata": {},
   "outputs": [],
   "source": [
    "cistopic_fragments_anndata_path = f\"{zip_folder}/10x_hydropv2_comparisons_data/printer/cistopic_fragments_mouse_10x_anndata.h5ad\"\n",
    "printer_object_path =  f\"{zip_folder}/10x_hydropv2_comparisons_data/printer/printer_mouse_10x.h5ad\"\n",
    "barcodegroups_out_path = f\"{zip_folder}/10x_hydropv2_comparisons_data/printer/barcodegroups_mouse_10x.csv\""
   ]
  },
  {
   "cell_type": "code",
   "execution_count": 14,
   "metadata": {},
   "outputs": [],
   "source": [
    "# load objects\n",
    "printer = scp.load_printer(printer_object_path, genome)\n",
    "cistopic_anndata = anndata.read_h5ad(cistopic_fragments_anndata_path)\n",
    "\n",
    "printer_barcodes = []\n",
    "printer_parts = []\n",
    "\n",
    "for name in printer.obs_names:\n",
    "    if \"part\" in name:\n",
    "        barcode, part = name.rsplit(\"part\", 1)\n",
    "        printer_barcodes.append(barcode)\n",
    "        printer_parts.append(part)\n",
    "    else:\n",
    "        # Handle cases where 'part' is not in name\n",
    "        barcode = name\n",
    "        part = None\n",
    "        printer_barcodes.append(barcode)\n",
    "        printer_parts.append(part)\n",
    "\n",
    "printer_df = pd.DataFrame(\n",
    "    {\n",
    "        \"obs_name\": printer.obs_names,\n",
    "        \"barcode\": printer_barcodes,\n",
    "        \"part\": printer_parts,\n",
    "    }\n",
    ")"
   ]
  },
  {
   "cell_type": "code",
   "execution_count": 15,
   "metadata": {},
   "outputs": [],
   "source": [
    "# Extract barcodes and sample names from `cistopic_anndata.obs.index`\n",
    "cistopic_barcodes = []\n",
    "cistopic_samples = []\n",
    "\n",
    "for idx in cistopic_anndata.obs.index:\n",
    "    parts = idx.split(\"___\")\n",
    "    barcode = parts[0]\n",
    "    sample = parts[-1]  # Assuming sample name is the last part\n",
    "    cistopic_barcodes.append(barcode)\n",
    "    cistopic_samples.append(sample)\n",
    "\n",
    "cistopic_df = pd.DataFrame(\n",
    "    {\n",
    "        \"index\": cistopic_anndata.obs.index,\n",
    "        \"barcode\": cistopic_barcodes,\n",
    "        \"sample\": cistopic_samples,\n",
    "        \"cell_type\": cistopic_anndata.obs[celltype_label].values,\n",
    "    }\n",
    ")"
   ]
  },
  {
   "cell_type": "code",
   "execution_count": 16,
   "metadata": {},
   "outputs": [],
   "source": [
    "# Group barcodes by part number and by sample name\n",
    "barcodes_by_part = printer_df.groupby(\"part\")[\"barcode\"].apply(set).to_dict()\n",
    "barcodes_by_sample = cistopic_df.groupby(\"sample\")[\"barcode\"].apply(set).to_dict()\n",
    "\n",
    "# Find the best matching sample for each part by computing the overlap of barcodes\n",
    "part_to_sample = {}\n",
    "for part, part_barcodes in barcodes_by_part.items():\n",
    "    max_overlap = 0\n",
    "    best_sample = None\n",
    "    for sample, sample_barcodes in barcodes_by_sample.items():\n",
    "        overlap = len(part_barcodes & sample_barcodes)\n",
    "        if overlap > max_overlap:\n",
    "            max_overlap = overlap\n",
    "            best_sample = sample\n",
    "    if best_sample:\n",
    "        part_to_sample[part] = best_sample\n",
    "    else:\n",
    "        print(f\"No matching sample found for part {part}\")\n",
    "\n",
    "# Map each part to its corresponding sample\n",
    "printer_df[\"sample\"] = printer_df[\"part\"].map(part_to_sample)\n",
    "\n",
    "# Remove entries where sample mapping was not found\n",
    "printer_df = printer_df.dropna(subset=[\"sample\"])"
   ]
  },
  {
   "cell_type": "code",
   "execution_count": 18,
   "metadata": {},
   "outputs": [],
   "source": [
    "# Merge the datasets using both `barcode` and `sample`\n",
    "merged_df = pd.merge(printer_df, cistopic_df, on=[\"barcode\", \"sample\"], how=\"inner\")\n",
    "\n",
    "# Generate the final CSV file\n",
    "merged_df[[\"obs_name\", \"cell_type\"]].to_csv(barcodegroups_out_path, sep=\"\\t\", index=False)\n",
    "time.sleep(1)\n",
    "printer.close()"
   ]
  }
 ],
 "metadata": {
  "kernelspec": {
   "display_name": "scprinter",
   "language": "python",
   "name": "python3"
  },
  "language_info": {
   "codemirror_mode": {
    "name": "ipython",
    "version": 3
   },
   "file_extension": ".py",
   "mimetype": "text/x-python",
   "name": "python",
   "nbconvert_exporter": "python",
   "pygments_lexer": "ipython3",
   "version": "3.10.15"
  }
 },
 "nbformat": 4,
 "nbformat_minor": 2
}
