{
 "cells": [
  {
   "cell_type": "markdown",
   "metadata": {},
   "source": [
    "# Import fragments into printer object"
   ]
  },
  {
   "cell_type": "code",
   "execution_count": 1,
   "metadata": {},
   "outputs": [
    {
     "name": "stderr",
     "output_type": "stream",
     "text": [
      "/lustre1/project/stg_00002/mambaforge/vsc35862/envs/scprinter/lib/python3.10/site-packages/tqdm/auto.py:21: TqdmWarning: IProgress not found. Please update jupyter and ipywidgets. See https://ipywidgets.readthedocs.io/en/stable/user_install.html\n",
      "  from .autonotebook import tqdm as notebook_tqdm\n"
     ]
    }
   ],
   "source": [
    "import os\n",
    "import json\n",
    "import time\n",
    "\n",
    "import anndata\n",
    "import scprinter as scp"
   ]
  },
  {
   "cell_type": "code",
   "execution_count": 2,
   "metadata": {},
   "outputs": [],
   "source": [
    "zip_folder = \"../../../../../../data/hydrop/mcortex/paper_zips\"\n",
    "cistopic_fragments_hydrop_anndata_path = f\"{zip_folder}/10x_hydropv2_comparisons_data/printer/cistopic_fragments_mouse_hydropv2_anndata.h5ad\" # barcodes and annotations\n",
    "cistopic_fragments_10x_anndata_path = f\"{zip_folder}/10x_hydropv2_comparisons_data/printer/cistopic_fragments_mouse_10x_anndata.h5ad\" # barcodes and annotations\n",
    "celltype_label = \"cleaned_up_annot\"  # annotation column name\n",
    "printer_hydrop_object_output_path = f\"{zip_folder}/10x_hydropv2_comparisons_data/printer/printer_mouse_hydropv2.h5ad\"\n",
    "printer_10x_object_output_path = f\"{zip_folder}/10x_hydropv2_comparisons_data/printer/printer_mouse_10x.h5ad\"\n",
    "fa_file_path = \"../../../../../../../../../res_00001/genomes/10xgenomics/CellRangerARC/refdata-cellranger-arc-mm10-2020-A-2.0.0/fasta/genome.fa\"\n",
    "precomputed_bias_path = \"../../../../../../data/PRINT/biases/mm10Tn5Bias.h5\" # download from scprinter Zenodo or create one with scp.genome.predict_genome_tn5_bias"
   ]
  },
  {
   "cell_type": "code",
   "execution_count": 4,
   "metadata": {},
   "outputs": [],
   "source": [
    "genome = scp.genome.mm10"
   ]
  },
  {
   "cell_type": "markdown",
   "metadata": {},
   "source": [
    "## Hydropv2"
   ]
  },
  {
   "cell_type": "code",
   "execution_count": 5,
   "metadata": {},
   "outputs": [],
   "source": [
    "rel_path = \"../../../../../../..\"\n",
    "fragments_hydrop_dict = {\n",
    " 'HYA__76b206__20240430_Mouse_Cortex-a-ATAC': f'{rel_path}/hydrop_v2_paper/mcortex/cistopic/mcortex_all_otsu_notdownsampled/fragments/HYA__76b206__20240430_Mouse_Cortex-a-ATAC.fragments.tsv.gz',\n",
    " 'HYA__ba8433__20231116_HyATAC_MouseCortex_B2': f'{rel_path}/hydrop_v2_paper/mcortex/cistopic/mcortex_all_otsu_notdownsampled/fragments/HYA__ba8433__20231116_HyATAC_MouseCortex_B2.fragments.tsv.gz',\n",
    " 'HYA__177788__20240117_Mouse_Cortex-d-ATAC': f'{rel_path}/hydrop_v2_paper/mcortex/cistopic/mcortex_all_otsu_notdownsampled/fragments/HYA__177788__20240117_Mouse_Cortex-d-ATAC.fragments.tsv.gz',\n",
    " 'HYA__67df33__20240105_Mouse_Cortex-d-ATAC': f'{rel_path}/hydrop_v2_paper/mcortex/cistopic/mcortex_all_otsu_notdownsampled/fragments/HYA__67df33__20240105_Mouse_Cortex-d-ATAC.fragments.tsv.gz',\n",
    " 'HYA__b606e2__20240117_Mouse_Cortex-a-ATAC': f'{rel_path}/hydrop_v2_paper/mcortex/cistopic/mcortex_all_otsu_notdownsampled/fragments/HYA__b606e2__20240117_Mouse_Cortex-a-ATAC.fragments.tsv.gz',\n",
    " 'HYA__e1bdab__20230829_mouse_cortex_2': f'{rel_path}/hydrop_v2_paper/mcortex/cistopic/mcortex_all_otsu_notdownsampled/fragments/HYA__e1bdab__20230829_mouse_cortex_2.fragments.tsv.gz',\n",
    " 'HYA__955707__20240304_Mouse_Cortex-b2-ATAC': f'{rel_path}/hydrop_v2_paper/mcortex/cistopic/mcortex_all_otsu_notdownsampled/fragments/HYA__955707__20240304_Mouse_Cortex-b2-ATAC.fragments.tsv.gz',\n",
    " 'HYA__a52ea6__20231031_HyDropAtac_MouseCortex_C1': f'{rel_path}/hydrop_v2_paper/mcortex/cistopic/mcortex_all_otsu_notdownsampled/fragments/HYA__a52ea6__20231031_HyDropAtac_MouseCortex_C1.fragments.tsv.gz',\n",
    " 'HYA__7ad445__20231031_HyDropAtac_MouseCortex_A1': f'{rel_path}/hydrop_v2_paper/mcortex/cistopic/mcortex_all_otsu_notdownsampled/fragments/HYA__7ad445__20231031_HyDropAtac_MouseCortex_A1.fragments.tsv.gz',\n",
    " 'HYA__853a40__20240304_Mouse_Cortex-b1-ATAC': f'{rel_path}/hydrop_v2_paper/mcortex/cistopic/mcortex_all_otsu_notdownsampled/fragments/HYA__853a40__20240304_Mouse_Cortex-b1-ATAC.fragments.tsv.gz',\n",
    " 'HYA__fcb55f__20231013_HyDropATAC_MouseCortex_B': f'{rel_path}/hydrop_v2_paper/mcortex/cistopic/mcortex_all_otsu_notdownsampled/fragments/HYA__fcb55f__20231013_HyDropATAC_MouseCortex_B.fragments.tsv.gz',\n",
    " 'HYA__ac683b__20230829_mouse_cortex_1': f'{rel_path}/hydrop_v2_paper/mcortex/cistopic/mcortex_all_otsu_notdownsampled/fragments/HYA__ac683b__20230829_mouse_cortex_1.fragments.tsv.gz',\n",
    " 'HYA__14fb45__20231013_HyDropATAC_MouseCortex_D': f'{rel_path}/hydrop_v2_paper/mcortex/cistopic/mcortex_all_otsu_notdownsampled/fragments/HYA__14fb45__20231013_HyDropATAC_MouseCortex_D.fragments.tsv.gz',\n",
    " 'HYA__30fc7f__20231031_HyDropAtac_MouseCortex_D1': f'{rel_path}/hydrop_v2_paper/mcortex/cistopic/mcortex_all_otsu_notdownsampled/fragments/HYA__30fc7f__20231031_HyDropAtac_MouseCortex_D1.fragments.tsv.gz',\n",
    " 'HYA__3eb2c7__20240221_Mouse_Cortex-b-ATAC': f'{rel_path}/hydrop_v2_paper/mcortex/cistopic/mcortex_all_otsu_notdownsampled/fragments/HYA__3eb2c7__20240221_Mouse_Cortex-b-ATAC.fragments.tsv.gz',\n",
    " 'HYA__831196__20240105_Mouse_Cortex-a-ATAC': f'{rel_path}/hydrop_v2_paper/mcortex/cistopic/mcortex_all_otsu_notdownsampled/fragments/HYA__831196__20240105_Mouse_Cortex-a-ATAC.fragments.tsv.gz',\n",
    " 'HYA__8d1d23__20231116_HyATAC_MouseCortex_C1': f'{rel_path}/hydrop_v2_paper/mcortex/cistopic/mcortex_all_otsu_notdownsampled/fragments/HYA__8d1d23__20231116_HyATAC_MouseCortex_C1.fragments.tsv.gz',\n",
    " 'HYA__cc24b7__20240304_Mouse_Cortex-c-ATAC': f'{rel_path}/hydrop_v2_paper/mcortex/cistopic/mcortex_all_otsu_notdownsampled/fragments/HYA__cc24b7__20240304_Mouse_Cortex-c-ATAC.fragments.tsv.gz',\n",
    " 'HYA__a7a748__20231031_HyDropAtac_MouseCortex_C2': f'{rel_path}/hydrop_v2_paper/mcortex/cistopic/mcortex_all_otsu_notdownsampled/fragments/HYA__a7a748__20231031_HyDropAtac_MouseCortex_C2.fragments.tsv.gz',\n",
    " 'HYA__167ec9__20240304_Mouse_Cortex-a2-ATAC': f'{rel_path}/hydrop_v2_paper/mcortex/cistopic/mcortex_all_otsu_notdownsampled/fragments/HYA__167ec9__20240304_Mouse_Cortex-a2-ATAC.fragments.tsv.gz',\n",
    " 'HYA__247495__20231013_HyDropATAC_MouseCortex_C': f'{rel_path}/hydrop_v2_paper/mcortex/cistopic/mcortex_all_otsu_notdownsampled/fragments/HYA__247495__20231013_HyDropATAC_MouseCortex_C.fragments.tsv.gz',\n",
    " 'HYA__87f862__20240117_Mouse_Cortex-b-ATAC': f'{rel_path}/hydrop_v2_paper/mcortex/cistopic/mcortex_all_otsu_notdownsampled/fragments/HYA__87f862__20240117_Mouse_Cortex-b-ATAC.fragments.tsv.gz',\n",
    " 'HYA__7e2d51__20231031_HyDropAtac_MouseCortex_B1': f'{rel_path}/hydrop_v2_paper/mcortex/cistopic/mcortex_all_otsu_notdownsampled/fragments/HYA__7e2d51__20231031_HyDropAtac_MouseCortex_B1.fragments.tsv.gz',\n",
    " 'HYA__00c24b__20240117_Mouse_Cortex-c-ATAC': f'{rel_path}/hydrop_v2_paper/mcortex/cistopic/mcortex_all_otsu_notdownsampled/fragments/HYA__00c24b__20240117_Mouse_Cortex-c-ATAC.fragments.tsv.gz',\n",
    " 'HYA__fd6250__20240105_Mouse_Cortex-b-ATAC': f'{rel_path}/hydrop_v2_paper/mcortex/cistopic/mcortex_all_otsu_notdownsampled/fragments/HYA__fd6250__20240105_Mouse_Cortex-b-ATAC.fragments.tsv.gz',\n",
    " 'HYA__c0d7e5__20240304_Mouse_Cortex-a1-ATAC': f'{rel_path}/hydrop_v2_paper/mcortex/cistopic/mcortex_all_otsu_notdownsampled/fragments/HYA__c0d7e5__20240304_Mouse_Cortex-a1-ATAC.fragments.tsv.gz',\n",
    " 'HYA__3e5c73__20231031_HyDropAtac_MouseCortex_D2': f'{rel_path}/hydrop_v2_paper/mcortex/cistopic/mcortex_all_otsu_notdownsampled/fragments/HYA__3e5c73__20231031_HyDropAtac_MouseCortex_D2.fragments.tsv.gz',\n",
    " 'HYA__9667aa__20231116_HyATAC_MouseCortex_C2': f'{rel_path}/hydrop_v2_paper/mcortex/cistopic/mcortex_all_otsu_notdownsampled/fragments/HYA__9667aa__20231116_HyATAC_MouseCortex_C2.fragments.tsv.gz',\n",
    " 'HYA__66fdea__20231116_HyATAC_MouseCortex_B1': f'{rel_path}/hydrop_v2_paper/mcortex/cistopic/mcortex_all_otsu_notdownsampled/fragments/HYA__66fdea__20231116_HyATAC_MouseCortex_B1.fragments.tsv.gz',\n",
    " 'HYA__2eb25d__20240430_Mouse_Cortex-b-ATAC': f'{rel_path}/hydrop_v2_paper/mcortex/cistopic/mcortex_all_otsu_notdownsampled/fragments/HYA__2eb25d__20240430_Mouse_Cortex-b-ATAC.fragments.tsv.gz',\n",
    " 'HYA__21de27__20240105_Mouse_Cortex-c-ATAC': f'{rel_path}/hydrop_v2_paper/mcortex/cistopic/mcortex_all_otsu_notdownsampled/fragments/HYA__21de27__20240105_Mouse_Cortex-c-ATAC.fragments.tsv.gz',\n",
    " 'HYA__d4ff32__20231116_HyATAC_MouseCortex_A': f'{rel_path}/hydrop_v2_paper/mcortex/cistopic/mcortex_all_otsu_notdownsampled/fragments/HYA__d4ff32__20231116_HyATAC_MouseCortex_A.fragments.tsv.gz',\n",
    " 'HYA__6b44d3__20240221_Mouse_Cortex-a-ATAC': f'{rel_path}/hydrop_v2_paper/mcortex/cistopic/mcortex_all_otsu_notdownsampled/fragments/HYA__6b44d3__20240221_Mouse_Cortex-a-ATAC.fragments.tsv.gz',\n",
    " 'HYA__7a1cc3__20231013_HyDropATAC_MouseCortex_A': f'{rel_path}/hydrop_v2_paper/mcortex/cistopic/mcortex_all_otsu_notdownsampled/fragments/HYA__7a1cc3__20231013_HyDropATAC_MouseCortex_A.fragments.tsv.gz',\n",
    " 'HYA__0f6aa5__20231031_HyDropAtac_MouseCortex_B2': f'{rel_path}/hydrop_v2_paper/mcortex/cistopic/mcortex_all_otsu_notdownsampled/fragments/HYA__0f6aa5__20231031_HyDropAtac_MouseCortex_B2.fragments.tsv.gz',\n",
    "} # fragment files themselves are on GEO (not Zenodo)\n",
    "\n",
    "for key, value in fragments_hydrop_dict.items():\n",
    "    if not os.path.exists(value):\n",
    "        raise FileNotFoundError(f\"Fragment file {value} does not exist. Please check the path.\")"
   ]
  },
  {
   "cell_type": "code",
   "execution_count": 6,
   "metadata": {},
   "outputs": [
    {
     "name": "stdout",
     "output_type": "stream",
     "text": [
      "No. of cells in cistopic anndata: 67080\n",
      "Unique celltypes in cistopic anndata: ['L5_ET', 'L5_IT', 'L6_IT', 'Sncg_Vip', 'L6_CT', 'Sst', 'Oligo', 'OPC', 'Astro', 'L2_3_IT', 'L6b', 'Pvalb', 'Endo_VLMC', 'Lamp5', 'Micro_PVM', 'L5_6_NP']\n",
      "Total fragments in cistopic anndata: 1635008233\n"
     ]
    }
   ],
   "source": [
    "# Get cell barcodes per sample from cistopic_anndata\n",
    "cistopic_fragments_hydrop_anndata = anndata.read_h5ad(cistopic_fragments_hydrop_anndata_path)\n",
    "print(\n",
    "    f\"No. of cells in cistopic anndata: {cistopic_fragments_hydrop_anndata.shape[0]}\"\n",
    ")\n",
    "print(\n",
    "    f\"Unique celltypes in cistopic anndata: {list(cistopic_fragments_hydrop_anndata.obs[celltype_label].unique())}\"\n",
    ")\n",
    "print(\n",
    "    f\"Total fragments in cistopic anndata: {sum(cistopic_fragments_hydrop_anndata.obs['Total_nr_frag'])}\"\n",
    ")\n",
    "\n",
    "unique_barcodes_list_of_lists = []\n",
    "for sample_name, sample_path in fragments_hydrop_dict.items():\n",
    "    sample_barcodes_list = []\n",
    "    for index in cistopic_fragments_hydrop_anndata.obs.index:\n",
    "        barcode, sample = index.split(\"___\")\n",
    "        if sample == sample_name:\n",
    "            sample_barcodes_list.append(barcode)\n",
    "    unique_barcodes_list_of_lists.append(sample_barcodes_list)\n",
    "\n",
    "assert (\n",
    "    sum([len(fraglist) for fraglist in unique_barcodes_list_of_lists])\n",
    "    == cistopic_fragments_hydrop_anndata.obs.shape[0]\n",
    "), f\"Number of barcodes in cistopic fragments anndata: {cistopic_fragments_hydrop_anndata.obs.shape[0]} does not match the number of barcodes in fragments_dict: {sum([len(fraglist) for fraglist in unique_barcodes_list_of_lists])}\""
   ]
  },
  {
   "cell_type": "code",
   "execution_count": 7,
   "metadata": {},
   "outputs": [
    {
     "name": "stderr",
     "output_type": "stream",
     "text": [
      "100%|██████████| 35/35 [09:22<00:00, 16.08s/it]:19<00:00, 126.25it/s]\n"
     ]
    },
    {
     "name": "stdout",
     "output_type": "stream",
     "text": [
      "start transferring insertions\n"
     ]
    },
    {
     "name": "stderr",
     "output_type": "stream",
     "text": [
      "Downloading file 'mm10Tn5Bias.tar.gz' from 'https://zenodo.org/record/7121027/files/mm10Tn5Bias.tar.gz' to '/data/leuven/358/vsc35862/.cache/scprinter'.\n",
      "100%|█████████████████████████████████████| 9.77G/9.77G [00:00<00:00, 8.43TB/s]\n",
      "Untarring contents of '/data/leuven/358/vsc35862/.cache/scprinter/mm10Tn5Bias.tar.gz' to '/data/leuven/358/vsc35862/.cache/scprinter/mm10Tn5Bias.tar.gz.untar'\n"
     ]
    },
    {
     "name": "stdout",
     "output_type": "stream",
     "text": [
      "creating bias bigwig (runs for new bias h5 file)\n"
     ]
    },
    {
     "name": "stderr",
     "output_type": "stream",
     "text": [
      "Importing fragments: 100%|██████████| 35/35 [56:21<00:00, 96.60s/it] \n",
      "/tmp/ipykernel_624667/1994229525.py:18: DeprecationWarning: `Series._import_from_c` is deprecated. use _import_arrow_from_c; if you are using an extension, please compile it with latest 'pyo3-polars'\n",
      "  xx + f\"{sample}\" for xx, sample in zip(printer.obs_names, printer.obs[\"sample\"])\n"
     ]
    }
   ],
   "source": [
    "# Import fragments into scprinter object\n",
    "fragments_paths = [\n",
    "    fragments_hydrop_dict[sample_name] for sample_name in fragments_hydrop_dict.keys()\n",
    "]\n",
    "printer = scp.pp.import_fragments(\n",
    "    pathToFrags=fragments_paths,\n",
    "    barcodes=unique_barcodes_list_of_lists,\n",
    "    savename=printer_hydrop_object_output_path,\n",
    "    genome=genome,\n",
    "    min_num_fragments=0,\n",
    "    min_tsse=0,\n",
    "    sorted_by_barcode=False,\n",
    "    low_memory=False,\n",
    "    auto_detect_shift=False,\n",
    ")\n",
    "\n",
    "printer.insertion_file.obs_names = [\n",
    "    xx + f\"{sample}\" for xx, sample in zip(printer.obs_names, printer.obs[\"sample\"])\n",
    "]\n",
    "\n",
    "time.sleep(1)\n",
    "printer.close()"
   ]
  },
  {
   "cell_type": "markdown",
   "metadata": {},
   "source": [
    "## 10x"
   ]
  },
  {
   "cell_type": "code",
   "execution_count": 25,
   "metadata": {},
   "outputs": [],
   "source": [
    "rel_path = \"../../../../../../..\"\n",
    "fragments_10x_dict = {\n",
    " 'atac_v1_adult_brain_fresh_5k': f'{rel_path}/hydrop_v2_paper/mcortex/cistopic/mcortex_all_otsu_notdownsampled/fragments/atac_v1_adult_brain_fresh_5k.fragments.tsv.gz',\n",
    " 'HYA__e9082f__20240430_Mouse_Cortex-d-ATAC': f'{rel_path}/hydrop_v2_paper/mcortex/cistopic/mcortex_all_otsu_notdownsampled/fragments/HYA__e9082f__20240430_Mouse_Cortex-d-ATAC.fragments.tsv.gz',\n",
    " '8k_mouse_cortex_ATACv2_nextgem_Chromium_Controller': f'{rel_path}/hydrop_v2_paper/mcortex/cistopic/mcortex_all_otsu_notdownsampled/fragments/8k_mouse_cortex_ATACv2_nextgem_Chromium_Controller.fragments.tsv.gz',\n",
    " '8k_mouse_cortex_ATACv1-1_nextgem_Chromium_X': f'{rel_path}/hydrop_v2_paper/mcortex/cistopic/mcortex_all_otsu_notdownsampled/fragments/8k_mouse_cortex_ATACv1-1_nextgem_Chromium_X.fragments.tsv.gz'\n",
    "\n",
    "} # fragment files themselves are on GEO (not Zenodo)\n",
    "\n",
    "for key, value in fragments_10x_dict.items():\n",
    "    if not os.path.exists(value):\n",
    "        raise FileNotFoundError(f\"Fragment file {value} does not exist. Please check the path.\")"
   ]
  },
  {
   "cell_type": "code",
   "execution_count": 26,
   "metadata": {},
   "outputs": [
    {
     "name": "stdout",
     "output_type": "stream",
     "text": [
      "No. of cells in cistopic anndata: 19478\n",
      "Unique celltypes in cistopic anndata: ['L6_CT', 'L2_3_IT', 'Micro_PVM', 'L5_ET', 'Astro', 'Oligo', 'L5_IT', 'Sncg_Vip', 'Pvalb', 'L6_IT', 'L6b', 'Lamp5', 'Sst', 'OPC', 'L5_6_NP', 'Endo_VLMC']\n",
      "Total fragments in cistopic anndata: 788042726\n"
     ]
    }
   ],
   "source": [
    "# Get cell barcodes per sample from cistopic_anndata\n",
    "cistopic_fragments_10x_anndata = anndata.read_h5ad(cistopic_fragments_10x_anndata_path)\n",
    "print(\n",
    "    f\"No. of cells in cistopic anndata: {cistopic_fragments_10x_anndata.shape[0]}\"\n",
    ")\n",
    "print(\n",
    "    f\"Unique celltypes in cistopic anndata: {list(cistopic_fragments_10x_anndata.obs[celltype_label].unique())}\"\n",
    ")\n",
    "print(\n",
    "    f\"Total fragments in cistopic anndata: {sum(cistopic_fragments_10x_anndata.obs['Total_nr_frag'])}\"\n",
    ")\n",
    "\n",
    "unique_barcodes_list_of_lists = []\n",
    "for sample_name, sample_path in fragments_10x_dict.items():\n",
    "    sample_barcodes_list = []\n",
    "    for index in cistopic_fragments_10x_anndata.obs.index:\n",
    "        barcode, sample = index.split(\"___\")\n",
    "        if sample == sample_name:\n",
    "            sample_barcodes_list.append(barcode)\n",
    "    unique_barcodes_list_of_lists.append(sample_barcodes_list)\n",
    "\n",
    "assert (\n",
    "    sum([len(fraglist) for fraglist in unique_barcodes_list_of_lists])\n",
    "    == cistopic_fragments_10x_anndata.obs.shape[0]\n",
    "), f\"Number of barcodes in cistopic fragments anndata: {cistopic_fragments_10x_anndata.obs.shape[0]} does not match the number of barcodes in fragments_dict: {sum([len(fraglist) for fraglist in unique_barcodes_list_of_lists])}\""
   ]
  },
  {
   "cell_type": "code",
   "execution_count": 27,
   "metadata": {},
   "outputs": [
    {
     "name": "stderr",
     "output_type": "stream",
     "text": [
      "100%|██████████| 4/4 [08:20<00:00, 125.25s/it]00<00:00, 517.22it/s]\n"
     ]
    },
    {
     "name": "stdout",
     "output_type": "stream",
     "text": [
      "start transferring insertions\n"
     ]
    },
    {
     "name": "stderr",
     "output_type": "stream",
     "text": [
      "Importing fragments: 100%|██████████| 4/4 [16:51<00:00, 252.78s/it]\n",
      "/tmp/ipykernel_624667/384804424.py:18: DeprecationWarning: `Series._import_from_c` is deprecated. use _import_arrow_from_c; if you are using an extension, please compile it with latest 'pyo3-polars'\n",
      "  xx + f\"{sample}\" for xx, sample in zip(printer.obs_names, printer.obs[\"sample\"])\n"
     ]
    }
   ],
   "source": [
    "# Import fragments into scprinter object\n",
    "fragments_paths = [\n",
    "    fragments_10x_dict[sample_name] for sample_name in fragments_10x_dict.keys()\n",
    "]\n",
    "printer = scp.pp.import_fragments(\n",
    "    pathToFrags=fragments_paths,\n",
    "    barcodes=unique_barcodes_list_of_lists,\n",
    "    savename=printer_10x_object_output_path,\n",
    "    genome=genome,\n",
    "    min_num_fragments=0,\n",
    "    min_tsse=0,\n",
    "    sorted_by_barcode=False,\n",
    "    low_memory=False,\n",
    "    auto_detect_shift=False,\n",
    ")\n",
    "\n",
    "printer.insertion_file.obs_names = [\n",
    "    xx + f\"{sample}\" for xx, sample in zip(printer.obs_names, printer.obs[\"sample\"])\n",
    "]\n",
    "\n",
    "time.sleep(1)\n",
    "printer.close()"
   ]
  }
 ],
 "metadata": {
  "kernelspec": {
   "display_name": "scprinter",
   "language": "python",
   "name": "python3"
  },
  "language_info": {
   "codemirror_mode": {
    "name": "ipython",
    "version": 3
   },
   "file_extension": ".py",
   "mimetype": "text/x-python",
   "name": "python",
   "nbconvert_exporter": "python",
   "pygments_lexer": "ipython3",
   "version": "3.10.15"
  }
 },
 "nbformat": 4,
 "nbformat_minor": 2
}
