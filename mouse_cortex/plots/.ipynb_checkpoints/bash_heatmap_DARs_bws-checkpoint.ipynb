{
 "cells": [
  {
   "cell_type": "code",
   "execution_count": 1,
   "id": "fc8ef195-daa7-46cd-ac85-a101cb70fc3a",
   "metadata": {},
   "outputs": [
    {
     "name": "stdout",
     "output_type": "stream",
     "text": [
      "\n",
      "The following have been reloaded with a version change:\n",
      "  1) zlib/1.2.11-GCCcore-10.3.0 => zlib/1.2.13\n",
      "\n",
      "\n",
      "The following have been reloaded with a version change:\n",
      "  1) libxml2/2.11.4-GCCcore-12.3.0 => libxml2/2.9.10-GCCcore-10.3.0\n",
      "  2) zlib/1.2.13 => zlib/1.2.11-GCCcore-10.3.0\n",
      "\n"
     ]
    }
   ],
   "source": [
    "ml load BEDTools\n",
    "ml load Kent_tools\n",
    "ml load https://aertslab.github.io/scatac_fragment_tools/"
   ]
  },
  {
   "cell_type": "code",
   "execution_count": 2,
   "id": "ba2b80d3-719b-4654-9a72-842f77ddaf38",
   "metadata": {},
   "outputs": [],
   "source": [
    "generate_combined_heatmap() {\n",
    "  local bed_file=$1\n",
    "  local sample_labels=$2   # Sample labels combined (space-separated)\n",
    "  local bigwig_files=$3    # BigWig file paths combined (space-separated)\n",
    "  local cell_type=$4\n",
    "  local output_prefix=$5\n",
    "  local z_min_list=$6      # Space-separated list of zMin values (one per sample)\n",
    "  local z_max_list=$7      # Space-separated list of zMax values (one per sample)\n",
    "\n",
    "  # Compute matrix for all samples together\n",
    "  computeMatrix reference-point \\\n",
    "    -R ${bed_file} \\\n",
    "    -S ${bigwig_files} \\\n",
    "    --referencePoint center \\\n",
    "    -b 1000 -a 1000 \\\n",
    "    -out ${output_prefix}_matrix.gz \\\n",
    "    --missingDataAsZero\n",
    "\n",
    "  # Plot combined heatmap with per-sample zMin and zMax values\n",
    "  plotHeatmap -m ${output_prefix}_matrix.gz \\\n",
    "    --dpi 300 \\\n",
    "    --whatToShow 'heatmap and colorbar' \\\n",
    "    --plotFileFormat svg \\\n",
    "    --xAxisLabel '' \\\n",
    "    --regionsLabel '' \\\n",
    "    --samplesLabel ${sample_labels} \\\n",
    "    -T \"${cell_type}\" \\\n",
    "    --zMin ${z_min_list} \\\n",
    "    --zMax ${z_max_list} \\\n",
    "    --heatmapHeight 10 --heatmapWidth 5 \\\n",
    "    -out ${output_prefix}_heatmap.svg\n",
    "}"
   ]
  },
  {
   "cell_type": "markdown",
   "id": "69d85405-5619-4c0a-baa2-ef6d33d16832",
   "metadata": {},
   "source": [
    "https://deeptools.readthedocs.io/en/develop/content/tools/computeMatrix.html#computematrix\n",
    "\n",
    "https://deeptools.readthedocs.io/en/develop/content/tools/plotHeatmap.html"
   ]
  },
  {
   "cell_type": "code",
   "execution_count": null,
   "id": "be87e343-9d71-4ca4-9a02-c230a5daf88e",
   "metadata": {},
   "outputs": [],
   "source": [
    "generate_combined_heatmap $bakken2021_path_bed/AST.bed \"Bakken Ma Li\" \\\n",
    "  \"$bakken2021_path_bw/AST.bw $ma2022_path_bw/AST.bw $li2023_path_bw/ASCT.bw\" \\\n",
    "  \"Astrocytes\" \"$human_out_path/AST_combined\" \"0 0 0\" \"3.6 1.7 4.5\""
   ]
  },
  {
   "cell_type": "markdown",
   "id": "ccd7a33f-0201-41be-bd43-3091a0f2b629",
   "metadata": {},
   "source": [
    "give input bed file from HyDrop, then titles, then the paths to bws HyDrop and BICCN, then titles, then outpur prefix (also folder where svg should be saved, then keep positions and size of plot"
   ]
  },
  {
   "cell_type": "code",
   "execution_count": 3,
   "id": "602e7da1-3f28-43b3-ae13-786c2586b894",
   "metadata": {
    "collapsed": true,
    "jupyter": {
     "outputs_hidden": true
    }
   },
   "outputs": [
    {
     "name": "stdout",
     "output_type": "stream",
     "text": [
      "Preloading the following deepBlue files: lustre1/project/stg_00002/lcb/hydrop_v2_paper/mcortex/cistopic/mcortex_HyDrop_otsu_notdownsampled_own_consensuspeaks/pseudobulk_100_topics/dict_BICCN_corrected_08112024/pseudobulk_bw_files_BICCN_only/Micro_PVM.bw\n",
      "Traceback (most recent call last):\n",
      "  File \"/data/leuven/software/biomed/wice_icelake_rocky8/2021a/software/deepTools/3.5.0-foss-2021a/bin/computeMatrix\", line 14, in <module>\n",
      "    main(args)\n",
      "  File \"/data/leuven/software/biomed/wice_icelake_rocky8/2021a/software/deepTools/3.5.0-foss-2021a/lib/python3.9/site-packages/deeptools/computeMatrix.py\", line 412, in main\n",
      "    res = list(map(db.preloadWrapper, deepBlueFiles))\n",
      "  File \"/data/leuven/software/biomed/wice_icelake_rocky8/2021a/software/deepTools/3.5.0-foss-2021a/lib/python3.9/site-packages/deeptools/deepBlue.py\", line 114, in preloadWrapper\n",
      "    res = deepBlue(foo[0], url=args.deepBlueURL, userKey=args.userKey)\n",
      "  File \"/data/leuven/software/biomed/wice_icelake_rocky8/2021a/software/deepTools/3.5.0-foss-2021a/lib/python3.9/site-packages/deeptools/deepBlue.py\", line 138, in __init__\n",
      "    experimentID = self.getEID()\n",
      "  File \"/data/leuven/software/biomed/wice_icelake_rocky8/2021a/software/deepTools/3.5.0-foss-2021a/lib/python3.9/site-packages/deeptools/deepBlue.py\", line 164, in getEID\n",
      "    (status, resps) = self.server.search(self.sample, \"experiments\", self.userKey)\n",
      "  File \"/apps/leuven/icelake/2021a/software/Python/3.9.5-GCCcore-10.3.0/lib/python3.9/xmlrpc/client.py\", line 1116, in __call__\n",
      "    return self.__send(self.__name, args)\n",
      "  File \"/apps/leuven/icelake/2021a/software/Python/3.9.5-GCCcore-10.3.0/lib/python3.9/xmlrpc/client.py\", line 1458, in __request\n",
      "    response = self.__transport.request(\n",
      "  File \"/apps/leuven/icelake/2021a/software/Python/3.9.5-GCCcore-10.3.0/lib/python3.9/xmlrpc/client.py\", line 1160, in request\n",
      "    return self.single_request(host, handler, request_body, verbose)\n",
      "  File \"/apps/leuven/icelake/2021a/software/Python/3.9.5-GCCcore-10.3.0/lib/python3.9/xmlrpc/client.py\", line 1172, in single_request\n",
      "    http_conn = self.send_request(host, handler, request_body, verbose)\n",
      "  File \"/apps/leuven/icelake/2021a/software/Python/3.9.5-GCCcore-10.3.0/lib/python3.9/xmlrpc/client.py\", line 1285, in send_request\n",
      "    self.send_content(connection, request_body)\n",
      "  File \"/apps/leuven/icelake/2021a/software/Python/3.9.5-GCCcore-10.3.0/lib/python3.9/xmlrpc/client.py\", line 1315, in send_content\n",
      "    connection.endheaders(request_body)\n",
      "  File \"/apps/leuven/icelake/2021a/software/Python/3.9.5-GCCcore-10.3.0/lib/python3.9/http/client.py\", line 1248, in endheaders\n",
      "    self._send_output(message_body, encode_chunked=encode_chunked)\n",
      "  File \"/apps/leuven/icelake/2021a/software/Python/3.9.5-GCCcore-10.3.0/lib/python3.9/http/client.py\", line 1008, in _send_output\n",
      "    self.send(msg)\n",
      "  File \"/apps/leuven/icelake/2021a/software/Python/3.9.5-GCCcore-10.3.0/lib/python3.9/http/client.py\", line 948, in send\n",
      "    self.connect()\n",
      "  File \"/apps/leuven/icelake/2021a/software/Python/3.9.5-GCCcore-10.3.0/lib/python3.9/http/client.py\", line 919, in connect\n",
      "    self.sock = self._create_connection(\n",
      "  File \"/apps/leuven/icelake/2021a/software/Python/3.9.5-GCCcore-10.3.0/lib/python3.9/socket.py\", line 843, in create_connection\n",
      "    raise err\n",
      "  File \"/apps/leuven/icelake/2021a/software/Python/3.9.5-GCCcore-10.3.0/lib/python3.9/socket.py\", line 831, in create_connection\n",
      "    sock.connect(sa)\n",
      "ConnectionRefusedError: [Errno 111] Connection refused\n",
      "usage: plotHeatmap [--matrixFile MATRIXFILE] --outFileName OUTFILENAME\n",
      "                   [--outFileSortedRegions FILE] [--outFileNameMatrix FILE]\n",
      "                   [--interpolationMethod STR] [--dpi DPI] [--kmeans KMEANS]\n",
      "                   [--hclust HCLUST] [--silhouette] [--help] [--version]\n",
      "                   [--plotType {lines,fill,se,std}]\n",
      "                   [--sortRegions {descend,ascend,no,keep}]\n",
      "                   [--sortUsing {mean,median,max,min,sum,region_length}]\n",
      "                   [--sortUsingSamples SORTUSINGSAMPLES [SORTUSINGSAMPLES ...]]\n",
      "                   [--linesAtTickMarks]\n",
      "                   [--clusterUsingSamples CLUSTERUSINGSAMPLES [CLUSTERUSINGSAMPLES ...]]\n",
      "                   [--averageTypeSummaryPlot {mean,median,min,max,std,sum}]\n",
      "                   [--missingDataColor MISSINGDATACOLOR]\n",
      "                   [--colorMap COLORMAP [COLORMAP ...]] [--alpha ALPHA]\n",
      "                   [--colorList COLORLIST [COLORLIST ...]]\n",
      "                   [--colorNumber COLORNUMBER] [--zMin ZMIN [ZMIN ...]]\n",
      "                   [--zMax ZMAX [ZMAX ...]] [--heatmapHeight HEATMAPHEIGHT]\n",
      "                   [--heatmapWidth HEATMAPWIDTH]\n",
      "                   [--whatToShow {plot, heatmap and colorbar,plot and heatmap,heatmap only,heatmap and colorbar}]\n",
      "                   [--boxAroundHeatmaps BOXAROUNDHEATMAPS]\n",
      "                   [--xAxisLabel XAXISLABEL] [--startLabel STARTLABEL]\n",
      "                   [--endLabel ENDLABEL] [--refPointLabel REFPOINTLABEL]\n",
      "                   [--labelRotation LABEL_ROTATION]\n",
      "                   [--regionsLabel REGIONSLABEL [REGIONSLABEL ...]]\n",
      "                   [--samplesLabel SAMPLESLABEL [SAMPLESLABEL ...]]\n",
      "                   [--plotTitle PLOTTITLE] [--yAxisLabel YAXISLABEL]\n",
      "                   [--yMin YMIN [YMIN ...]] [--yMax YMAX [YMAX ...]]\n",
      "                   [--legendLocation {best,upper-right,upper-left,upper-center,lower-left,lower-right,lower-center,center,center-left,center-right,none}]\n",
      "                   [--perGroup] [--plotFileFormat] [--verbose]\n",
      "plotHeatmap: error: argument --matrixFile/-m: can't open '_matrix.gz': [Errno 2] No such file or directory: '_matrix.gz'\n"
     ]
    },
    {
     "ename": "",
     "evalue": "2",
     "output_type": "error",
     "traceback": []
    }
   ],
   "source": [
    "generate_combined_heatmap /lustre1/project/stg_00002/lcb/hydrop_v2_paper/mcortex/cistopic/mcortex_all_otsu_notdownsampled_own_consensuspeaks/DARs/tech_cell_types_BICCN/bed_celltype_HyDrop_v2/Micro_PVM.bed \"HyDrop_v2 BICCN\" \\\n",
    "  \"lustre1/project/stg_00002/lcb/hydrop_v2_paper/mcortex/cistopic/mcortex_HyDrop_otsu_notdownsampled_own_consensuspeaks/pseudobulk_100_topics/dict_BICCN_corrected_08112024/pseudobulk_bw_files_BICCN_only/Micro_PVM.bw /staging/leuven/stg_00002/lcb/hydrop_v2_paper/mcortex/CREsted/BICCN/bw/Micro_PVM.bw\" \\\n",
    "  \"Micro_PVM\" \"$Micro_PVM_combined\" \"0 0\" \"3.6 4.5\""
   ]
  },
  {
   "cell_type": "markdown",
   "id": "d7eb53c9-0413-4bc7-8ca8-1f45c09645a9",
   "metadata": {},
   "source": [
    "# HyDrop vs BICCN - not downsampled"
   ]
  },
  {
   "cell_type": "code",
   "execution_count": 11,
   "id": "3ee6fc60-f0c6-48c9-a5f1-dbe4f33f5b27",
   "metadata": {
    "collapsed": true,
    "jupyter": {
     "outputs_hidden": true
    },
    "scrolled": true
   },
   "outputs": [
    {
     "name": "stdout",
     "output_type": "stream",
     "text": [
      "\n",
      "The following chromosome names did not match between the bigwig files\n",
      "chromosome\tlength\n",
      "     JH584292.1\t     14945\n",
      " chrUn_GL456370\t     26764\n",
      "     GL456216.1\t     66673\n",
      "chrX_GL456233_random\t    336933\n",
      "chrY_JH584302_random\t    155838\n",
      "chr1_GL456221_random\t    206961\n",
      "     GL456219.1\t    175968\n",
      " chrUn_GL456393\t     55711\n",
      "     GL456221.1\t    206961\n",
      "chr4_GL456216_random\t     66673\n",
      "     JH584297.1\t    205776\n",
      " chrUn_GL456381\t     25871\n",
      "     JH584296.1\t    199368\n",
      "chr4_GL456350_random\t    227966\n",
      "chr1_GL456210_random\t    169725\n",
      "chrY_JH584301_random\t    259875\n",
      "chr7_GL456219_random\t    175968\n",
      " chrUn_GL456360\t     31704\n",
      " chrUn_GL456378\t     31602\n",
      " chrUn_GL456367\t     42057\n",
      "chr4_JH584293_random\t    207968\n",
      " chrUn_GL456359\t     22974\n",
      "chr5_JH584298_random\t    184189\n",
      " chrUn_GL456379\t     72385\n",
      "chr4_JH584292_random\t     14945\n",
      "chr5_GL456354_random\t    195993\n",
      " chrUn_JH584304\t    114452\n",
      "chr1_GL456212_random\t    153618\n",
      "chr5_JH584297_random\t    205776\n",
      "chr5_JH584299_random\t    953012\n",
      "     JH584304.1\t    114452\n",
      "     GL456233.1\t    336933\n",
      " chrUn_GL456239\t     40056\n",
      "chr1_GL456213_random\t     39340\n",
      " chrUn_GL456366\t     47073\n",
      "     GL456212.1\t    153618\n",
      "     GL456211.1\t    241735\n",
      "chrY_JH584303_random\t    158099\n",
      " chrUn_GL456396\t     21240\n",
      " chrUn_GL456382\t     23158\n",
      "     GL456210.1\t    169725\n",
      " chrUn_GL456392\t     23629\n",
      " chrUn_GL456383\t     38659\n",
      " chrUn_GL456368\t     20208\n",
      "chrY_JH584300_random\t    182347\n",
      "     JH584295.1\t      1976\n",
      " chrUn_GL456372\t     28664\n",
      " chrUn_GL456394\t     24323\n",
      "chr4_JH584294_random\t    191905\n",
      " chrUn_GL456385\t     35240\n",
      "     GL456354.1\t    195993\n",
      "chr1_GL456211_random\t    241735\n",
      "           chrM\t     16299\n",
      "chr4_JH584295_random\t      1976\n",
      " chrUn_GL456389\t     28772\n",
      "     JH584299.1\t    953012\n",
      "chr5_JH584296_random\t    199368\n",
      " chrUn_GL456390\t     24668\n",
      " chrUn_GL456387\t     24685\n",
      "/data/leuven/software/biomed/wice_icelake_rocky8/2021a/software/deepTools/3.5.0-foss-2021a/lib/python3.9/site-packages/deeptools/plotHeatmap.py:481: MatplotlibDeprecationWarning:\n",
      "\n",
      "You are modifying the state of a globally registered colormap. This has been deprecated since 3.3 and in 3.6, you will not be able to modify a registered colormap in-place. To remove this warning, you can make a copy of the colormap first. cmap = mpl.cm.get_cmap(\"RdYlBu\").copy()\n",
      "\n",
      "/data/leuven/software/biomed/wice_icelake_rocky8/2021a/software/deepTools/3.5.0-foss-2021a/lib/python3.9/site-packages/deeptools/plotHeatmap.py:738: MatplotlibDeprecationWarning:\n",
      "\n",
      "The 'alpha' parameter to Colorbar has no effect because it is overridden by the mappable; it is deprecated since 3.3 and will be removed two minor releases later.\n",
      "\n",
      "/data/leuven/software/biomed/wice_icelake_rocky8/2021a/software/deepTools/3.5.0-foss-2021a/lib/python3.9/site-packages/deeptools/plotHeatmap.py:770: MatplotlibDeprecationWarning:\n",
      "\n",
      "savefig() got unexpected keyword argument \"pdd_inches\" which is no longer supported as of 3.3 and will become an error two minor releases later\n",
      "\n"
     ]
    }
   ],
   "source": [
    "#all dars in bed mcortex all dars\n",
    "generate_combined_heatmap \\\n",
    "  /lustre1/project/stg_00002/lcb/hydrop_v2_paper/mcortex/cistopic/mcortex_all_otsu_notdownsampled_own_consensuspeaks/DARs/dict_BICCN_corrected_08112024/all_dars_bed/Micro_PVM.bed \\\n",
    "  \"HyDrop_v2 BICCN\" \\\n",
    "  \"/lustre1/project/stg_00002/lcb/hydrop_v2_paper/mcortex/cistopic/mcortex_HyDrop_otsu_notdownsampled_own_consensuspeaks/pseudobulk_100_topics/dict_BICCN_corrected_08112024/pseudobulk_bw_files_BICCN_only/Micro_PVM.bw /staging/leuven/stg_00002/lcb/hydrop_v2_paper/mcortex/CREsted/BICCN/bw/Micro_PVM.bw\" \\\n",
    "  \"Micro_PVM\" \"Micro_PVM__all_DARs_combined\" \"0 0\" \"3 5\"\n"
   ]
  },
  {
   "cell_type": "code",
   "execution_count": 14,
   "id": "b877cfe5-cee9-4b5b-a55e-dc031dfce6f9",
   "metadata": {
    "collapsed": true,
    "jupyter": {
     "outputs_hidden": true
    }
   },
   "outputs": [
    {
     "name": "stdout",
     "output_type": "stream",
     "text": [
      "\n",
      "The following chromosome names did not match between the bigwig files\n",
      "chromosome\tlength\n",
      "chr4_JH584295_random\t      1976\n",
      " chrUn_GL456387\t     24685\n",
      "     JH584304.1\t    114452\n",
      " chrUn_GL456370\t     26764\n",
      "     GL456350.1\t    227966\n",
      " chrUn_GL456393\t     55711\n",
      "     GL456221.1\t    206961\n",
      " chrUn_GL456390\t     24668\n",
      "chr4_JH584294_random\t    191905\n",
      " chrUn_GL456368\t     20208\n",
      " chrUn_GL456385\t     35240\n",
      "chr1_GL456212_random\t    153618\n",
      "chrY_JH584300_random\t    182347\n",
      " chrUn_GL456379\t     72385\n",
      "     JH584299.1\t    953012\n",
      "chr1_GL456213_random\t     39340\n",
      "chr5_GL456354_random\t    195993\n",
      " chrUn_GL456394\t     24323\n",
      " chrUn_GL456392\t     23629\n",
      "     GL456212.1\t    153618\n",
      "chr5_JH584298_random\t    184189\n",
      "chr1_GL456221_random\t    206961\n",
      "chr4_JH584292_random\t     14945\n",
      " chrUn_GL456366\t     47073\n",
      " chrUn_GL456239\t     40056\n",
      "     JH584292.1\t     14945\n",
      "     GL456233.1\t    336933\n",
      "     JH584295.1\t      1976\n",
      "chr5_JH584296_random\t    199368\n",
      "chr5_JH584297_random\t    205776\n",
      "chr5_JH584299_random\t    953012\n",
      "chrY_JH584302_random\t    155838\n",
      "     GL456210.1\t    169725\n",
      "chr1_GL456211_random\t    241735\n",
      " chrUn_GL456360\t     31704\n",
      " chrUn_GL456382\t     23158\n",
      "     GL456216.1\t     66673\n",
      "     GL456354.1\t    195993\n",
      "chr4_GL456350_random\t    227966\n",
      "chrY_JH584303_random\t    158099\n",
      " chrUn_GL456367\t     42057\n",
      "chrY_JH584301_random\t    259875\n",
      "chr1_GL456210_random\t    169725\n",
      "chr4_GL456216_random\t     66673\n",
      " chrUn_GL456359\t     22974\n",
      " chrUn_GL456383\t     38659\n",
      " chrUn_JH584304\t    114452\n",
      "chr7_GL456219_random\t    175968\n",
      "     GL456211.1\t    241735\n",
      " chrUn_GL456396\t     21240\n",
      "chrX_GL456233_random\t    336933\n",
      "chr4_JH584293_random\t    207968\n",
      "           chrM\t     16299\n",
      "     JH584296.1\t    199368\n",
      " chrUn_GL456389\t     28772\n",
      " chrUn_GL456378\t     31602\n",
      " chrUn_GL456372\t     28664\n",
      " chrUn_GL456381\t     25871\n",
      "     JH584297.1\t    205776\n",
      "Skipping chrM:445-945, due to being absent in the computeMatrix output.\n",
      "Skipping chrM:1016-1516, due to being absent in the computeMatrix output.\n",
      "Skipping chrM:1771-2271, due to being absent in the computeMatrix output.\n",
      "Skipping chrM:2878-3378, due to being absent in the computeMatrix output.\n",
      "Skipping chrM:3831-4331, due to being absent in the computeMatrix output.\n",
      "Skipping chrM:4446-4946, due to being absent in the computeMatrix output.\n",
      "Skipping chrM:5584-6084, due to being absent in the computeMatrix output.\n",
      "Skipping chrM:6113-6613, due to being absent in the computeMatrix output.\n",
      "Skipping chrM:11459-11959, due to being absent in the computeMatrix output.\n",
      "Skipping chrM:13516-14016, due to being absent in the computeMatrix output.\n",
      "Skipping chrM:14875-15375, due to being absent in the computeMatrix output.\n",
      "Skipping chrM:15392-15892, due to being absent in the computeMatrix output.\n",
      "/data/leuven/software/biomed/wice_icelake_rocky8/2021a/software/deepTools/3.5.0-foss-2021a/lib/python3.9/site-packages/deeptools/plotHeatmap.py:481: MatplotlibDeprecationWarning:\n",
      "\n",
      "You are modifying the state of a globally registered colormap. This has been deprecated since 3.3 and in 3.6, you will not be able to modify a registered colormap in-place. To remove this warning, you can make a copy of the colormap first. cmap = mpl.cm.get_cmap(\"RdYlBu\").copy()\n",
      "\n",
      "/data/leuven/software/biomed/wice_icelake_rocky8/2021a/software/deepTools/3.5.0-foss-2021a/lib/python3.9/site-packages/deeptools/plotHeatmap.py:738: MatplotlibDeprecationWarning:\n",
      "\n",
      "The 'alpha' parameter to Colorbar has no effect because it is overridden by the mappable; it is deprecated since 3.3 and will be removed two minor releases later.\n",
      "\n",
      "/data/leuven/software/biomed/wice_icelake_rocky8/2021a/software/deepTools/3.5.0-foss-2021a/lib/python3.9/site-packages/deeptools/plotHeatmap.py:770: MatplotlibDeprecationWarning:\n",
      "\n",
      "savefig() got unexpected keyword argument \"pdd_inches\" which is no longer supported as of 3.3 and will become an error two minor releases later\n",
      "\n"
     ]
    }
   ],
   "source": [
    "generate_combined_heatmap \\\n",
    "  /lustre1/project/stg_00002/lcb/hydrop_v2_paper/mcortex/cistopic/mcortex_all_otsu_notdownsampled_own_consensuspeaks/DARs/dict_BICCN_corrected_08112024/all_dars_bed/Astro.bed \\\n",
    "  \"HyDrop_v2 BICCN\" \\\n",
    "  \"/lustre1/project/stg_00002/lcb/hydrop_v2_paper/mcortex/cistopic/mcortex_HyDrop_otsu_notdownsampled_own_consensuspeaks/pseudobulk_100_topics/dict_BICCN_corrected_08112024/pseudobulk_bw_files_BICCN_only/Astro.bw /staging/leuven/stg_00002/lcb/hydrop_v2_paper/mcortex/CREsted/BICCN/bw/Astro.bw\" \\\n",
    "  \"Astro\" \"Astro_combined__all_DARs_combined\" \"0 0\" \"3 3\"\n"
   ]
  },
  {
   "cell_type": "code",
   "execution_count": null,
   "id": "596e78d0-3a9b-42a2-89d5-57e72f3d9aa8",
   "metadata": {},
   "outputs": [],
   "source": []
  },
  {
   "cell_type": "markdown",
   "id": "140c1548-2c44-44cb-bb0a-25633997f708",
   "metadata": {},
   "source": [
    "## HyDrop vs all and BICCN"
   ]
  },
  {
   "cell_type": "code",
   "execution_count": 13,
   "id": "492fe1d3-12cd-416e-9a45-170d7aebd6fa",
   "metadata": {
    "collapsed": true,
    "jupyter": {
     "outputs_hidden": true
    }
   },
   "outputs": [
    {
     "name": "stdout",
     "output_type": "stream",
     "text": [
      "\n",
      "The following chromosome names did not match between the bigwig files\n",
      "chromosome\tlength\n",
      " chrUn_GL456383\t     38659\n",
      " chrUn_GL456368\t     20208\n",
      "chrY_JH584300_random\t    182347\n",
      "     JH584304.1\t    114452\n",
      "     JH584296.1\t    199368\n",
      "chr5_JH584297_random\t    205776\n",
      "chr4_JH584294_random\t    191905\n",
      "chr5_JH584299_random\t    953012\n",
      "     GL456221.1\t    206961\n",
      " chrUn_GL456387\t     24685\n",
      " chrUn_GL456360\t     31704\n",
      "chrY_JH584302_random\t    155838\n",
      "     GL456233.1\t    336933\n",
      "     GL456211.1\t    241735\n",
      "     JH584292.1\t     14945\n",
      "chr4_JH584295_random\t      1976\n",
      " chrUn_GL456379\t     72385\n",
      " chrUn_GL456367\t     42057\n",
      " chrUn_GL456370\t     26764\n",
      " chrUn_GL456390\t     24668\n",
      "chr1_GL456221_random\t    206961\n",
      "     JH584297.1\t    205776\n",
      "chr7_GL456219_random\t    175968\n",
      " chrUn_GL456385\t     35240\n",
      "chr1_GL456213_random\t     39340\n",
      "chr4_JH584292_random\t     14945\n",
      "chr1_GL456210_random\t    169725\n",
      " chrUn_GL456392\t     23629\n",
      " chrUn_GL456394\t     24323\n",
      "     GL456216.1\t     66673\n",
      " chrUn_GL456381\t     25871\n",
      "chrY_JH584301_random\t    259875\n",
      " chrUn_GL456396\t     21240\n",
      "     GL456354.1\t    195993\n",
      "chr5_JH584298_random\t    184189\n",
      " chrUn_GL456389\t     28772\n",
      " chrUn_GL456372\t     28664\n",
      "     JH584295.1\t      1976\n",
      "chr4_JH584293_random\t    207968\n",
      "     GL456210.1\t    169725\n",
      "chr5_JH584296_random\t    199368\n",
      " chrUn_GL456382\t     23158\n",
      " chrUn_GL456378\t     31602\n",
      " chrUn_JH584304\t    114452\n",
      "chrX_GL456233_random\t    336933\n",
      "chr1_GL456212_random\t    153618\n",
      " chrUn_GL456393\t     55711\n",
      "chr4_GL456350_random\t    227966\n",
      " chrUn_GL456366\t     47073\n",
      "chr4_GL456216_random\t     66673\n",
      "     JH584299.1\t    953012\n",
      "chr1_GL456211_random\t    241735\n",
      "chrY_JH584303_random\t    158099\n",
      " chrUn_GL456239\t     40056\n",
      "           chrM\t     16299\n",
      "chr5_GL456354_random\t    195993\n",
      " chrUn_GL456359\t     22974\n",
      "     GL456212.1\t    153618\n",
      "     GL456219.1\t    175968\n",
      "/data/leuven/software/biomed/wice_icelake_rocky8/2021a/software/deepTools/3.5.0-foss-2021a/lib/python3.9/site-packages/deeptools/plotHeatmap.py:481: MatplotlibDeprecationWarning:\n",
      "\n",
      "You are modifying the state of a globally registered colormap. This has been deprecated since 3.3 and in 3.6, you will not be able to modify a registered colormap in-place. To remove this warning, you can make a copy of the colormap first. cmap = mpl.cm.get_cmap(\"RdYlBu\").copy()\n",
      "\n",
      "/data/leuven/software/biomed/wice_icelake_rocky8/2021a/software/deepTools/3.5.0-foss-2021a/lib/python3.9/site-packages/deeptools/plotHeatmap.py:738: MatplotlibDeprecationWarning:\n",
      "\n",
      "The 'alpha' parameter to Colorbar has no effect because it is overridden by the mappable; it is deprecated since 3.3 and will be removed two minor releases later.\n",
      "\n",
      "/data/leuven/software/biomed/wice_icelake_rocky8/2021a/software/deepTools/3.5.0-foss-2021a/lib/python3.9/site-packages/deeptools/plotHeatmap.py:770: MatplotlibDeprecationWarning:\n",
      "\n",
      "savefig() got unexpected keyword argument \"pdd_inches\" which is no longer supported as of 3.3 and will become an error two minor releases later\n",
      "\n"
     ]
    }
   ],
   "source": [
    "generate_combined_heatmap \\\n",
    "  /lustre1/project/stg_00002/lcb/hydrop_v2_paper/mcortex/cistopic/mcortex_all_otsu_notdownsampled_own_consensuspeaks/DARs/dict_BICCN_corrected_08112024/all_dars_bed/Micro_PVM.bed \\\n",
    "  \"HyDrop_v2 HyDrop_v1 10x_v2 10x_v1 BICCN\" \\\n",
    "  \"/lustre1/project/stg_00002/lcb/hydrop_v2_paper/mcortex/cistopic/mcortex_all_otsu_notdownsampled_own_consensuspeaks/pseudobulk/tech_simplexdict_BICCN_corrected_08112024/pseudobulk_bw_files/HyDrop_v2___Micro_PVM.bw /lustre1/project/stg_00002/lcb/hydrop_v2_paper/mcortex/cistopic/mcortex_all_otsu_notdownsampled_own_consensuspeaks/pseudobulk/tech_simplexdict_BICCN_corrected_08112024/pseudobulk_bw_files/HyDrop_v1___Micro_PVM.bw /lustre1/project/stg_00002/lcb/hydrop_v2_paper/mcortex/cistopic/mcortex_all_otsu_notdownsampled_own_consensuspeaks/pseudobulk/tech_simplexdict_BICCN_corrected_08112024/pseudobulk_bw_files/10x_v2___Micro_PVM.bw /lustre1/project/stg_00002/lcb/hydrop_v2_paper/mcortex/cistopic/mcortex_all_otsu_notdownsampled_own_consensuspeaks/pseudobulk/tech_simplexdict_BICCN_corrected_08112024/pseudobulk_bw_files/10x_v1___Micro_PVM.bw /staging/leuven/stg_00002/lcb/hydrop_v2_paper/mcortex/CREsted/BICCN/bw/Micro_PVM.bw\" \\\n",
    "  \"Micro_PVM\" \"Micro_PVM_all_combined_all_dars\" \"0 0 0 0 0\" \"3 3 3 3 3\"\n"
   ]
  },
  {
   "cell_type": "code",
   "execution_count": 16,
   "id": "f5718f3b-9c85-4dcb-8cf0-5fc2de97b5e5",
   "metadata": {
    "collapsed": true,
    "jupyter": {
     "outputs_hidden": true
    }
   },
   "outputs": [
    {
     "name": "stdout",
     "output_type": "stream",
     "text": [
      "\n",
      "The following chromosome names did not match between the bigwig files\n",
      "chromosome\tlength\n",
      "chr7_GL456219_random\t    175968\n",
      "chr1_GL456212_random\t    153618\n",
      "     JH584297.1\t    205776\n",
      " chrUn_GL456378\t     31602\n",
      " chrUn_GL456359\t     22974\n",
      "chr4_JH584292_random\t     14945\n",
      " chrUn_GL456393\t     55711\n",
      " chrUn_GL456392\t     23629\n",
      "     GL456211.1\t    241735\n",
      "chrX_GL456233_random\t    336933\n",
      "     GL456216.1\t     66673\n",
      " chrUn_GL456360\t     31704\n",
      " chrUn_GL456396\t     21240\n",
      "           chrM\t     16299\n",
      "chr4_JH584293_random\t    207968\n",
      "     GL456210.1\t    169725\n",
      " chrUn_GL456382\t     23158\n",
      "     JH584299.1\t    953012\n",
      " chrUn_GL456383\t     38659\n",
      " chrUn_GL456381\t     25871\n",
      "chr4_GL456216_random\t     66673\n",
      "     GL456219.1\t    175968\n",
      "chr5_JH584297_random\t    205776\n",
      " chrUn_GL456387\t     24685\n",
      "     JH584295.1\t      1976\n",
      "chr4_GL456350_random\t    227966\n",
      "chrY_JH584303_random\t    158099\n",
      " chrUn_GL456372\t     28664\n",
      "chr1_GL456211_random\t    241735\n",
      " chrUn_JH584304\t    114452\n",
      "chr4_JH584295_random\t      1976\n",
      "chrY_JH584301_random\t    259875\n",
      "     GL456354.1\t    195993\n",
      "     JH584292.1\t     14945\n",
      "chr5_GL456354_random\t    195993\n",
      " chrUn_GL456385\t     35240\n",
      "     JH584296.1\t    199368\n",
      "     GL456212.1\t    153618\n",
      "chr4_JH584294_random\t    191905\n",
      "     JH584304.1\t    114452\n",
      " chrUn_GL456390\t     24668\n",
      "     GL456233.1\t    336933\n",
      " chrUn_GL456370\t     26764\n",
      "chr1_GL456213_random\t     39340\n",
      " chrUn_GL456367\t     42057\n",
      "chrY_JH584302_random\t    155838\n",
      "chr5_JH584299_random\t    953012\n",
      " chrUn_GL456394\t     24323\n",
      " chrUn_GL456239\t     40056\n",
      "chr1_GL456210_random\t    169725\n",
      " chrUn_GL456389\t     28772\n",
      "     GL456221.1\t    206961\n",
      " chrUn_GL456368\t     20208\n",
      "chr5_JH584298_random\t    184189\n",
      "chrY_JH584300_random\t    182347\n",
      "chr1_GL456221_random\t    206961\n",
      " chrUn_GL456366\t     47073\n",
      " chrUn_GL456379\t     72385\n",
      "chr5_JH584296_random\t    199368\n",
      "/data/leuven/software/biomed/wice_icelake_rocky8/2021a/software/deepTools/3.5.0-foss-2021a/lib/python3.9/site-packages/deeptools/plotHeatmap.py:481: MatplotlibDeprecationWarning:\n",
      "\n",
      "You are modifying the state of a globally registered colormap. This has been deprecated since 3.3 and in 3.6, you will not be able to modify a registered colormap in-place. To remove this warning, you can make a copy of the colormap first. cmap = mpl.cm.get_cmap(\"RdYlBu\").copy()\n",
      "\n",
      "/data/leuven/software/biomed/wice_icelake_rocky8/2021a/software/deepTools/3.5.0-foss-2021a/lib/python3.9/site-packages/deeptools/plotHeatmap.py:738: MatplotlibDeprecationWarning:\n",
      "\n",
      "The 'alpha' parameter to Colorbar has no effect because it is overridden by the mappable; it is deprecated since 3.3 and will be removed two minor releases later.\n",
      "\n",
      "/data/leuven/software/biomed/wice_icelake_rocky8/2021a/software/deepTools/3.5.0-foss-2021a/lib/python3.9/site-packages/deeptools/plotHeatmap.py:770: MatplotlibDeprecationWarning:\n",
      "\n",
      "savefig() got unexpected keyword argument \"pdd_inches\" which is no longer supported as of 3.3 and will become an error two minor releases later\n",
      "\n"
     ]
    }
   ],
   "source": [
    "generate_combined_heatmap \\\n",
    "  /lustre1/project/stg_00002/lcb/hydrop_v2_paper/mcortex/cistopic/mcortex_all_otsu_notdownsampled_own_consensuspeaks/DARs/dict_BICCN_corrected_08112024/top_regions_max1_5Log2FC_bed/Micro_PVM.bed \\\n",
    "  \"HyDrop_v2 HyDrop_v1 10x_v2 10x_v1 BICCN\" \\\n",
    "  \"/lustre1/project/stg_00002/lcb/hydrop_v2_paper/mcortex/cistopic/mcortex_all_otsu_notdownsampled_own_consensuspeaks/pseudobulk/tech_simplexdict_BICCN_corrected_08112024/pseudobulk_bw_files/HyDrop_v2___Micro_PVM.bw /lustre1/project/stg_00002/lcb/hydrop_v2_paper/mcortex/cistopic/mcortex_all_otsu_notdownsampled_own_consensuspeaks/pseudobulk/tech_simplexdict_BICCN_corrected_08112024/pseudobulk_bw_files/HyDrop_v1___Micro_PVM.bw /lustre1/project/stg_00002/lcb/hydrop_v2_paper/mcortex/cistopic/mcortex_all_otsu_notdownsampled_own_consensuspeaks/pseudobulk/tech_simplexdict_BICCN_corrected_08112024/pseudobulk_bw_files/10x_v2___Micro_PVM.bw /lustre1/project/stg_00002/lcb/hydrop_v2_paper/mcortex/cistopic/mcortex_all_otsu_notdownsampled_own_consensuspeaks/pseudobulk/tech_simplexdict_BICCN_corrected_08112024/pseudobulk_bw_files/10x_v1___Micro_PVM.bw /staging/leuven/stg_00002/lcb/hydrop_v2_paper/mcortex/CREsted/BICCN/bw/Micro_PVM.bw\" \\\n",
    "  \"Micro_PVM\" \"Micro_PVM_all_combined_max1_5Log2FC_bed_DARs\" \"0 0 0 0 0\" \"3 3 3 3 3\"\n"
   ]
  },
  {
   "cell_type": "code",
   "execution_count": 15,
   "id": "677a33a7-abbe-4245-b565-d93fae35e9b4",
   "metadata": {
    "collapsed": true,
    "jupyter": {
     "outputs_hidden": true
    }
   },
   "outputs": [
    {
     "name": "stdout",
     "output_type": "stream",
     "text": [
      "\n",
      "The following chromosome names did not match between the bigwig files\n",
      "chromosome\tlength\n",
      "     GL456350.1\t    227966\n",
      "chr5_GL456354_random\t    195993\n",
      "     GL456210.1\t    169725\n",
      "chr5_JH584296_random\t    199368\n",
      " chrUn_GL456385\t     35240\n",
      " chrUn_GL456392\t     23629\n",
      " chrUn_GL456378\t     31602\n",
      " chrUn_GL456394\t     24323\n",
      " chrUn_GL456396\t     21240\n",
      "chr5_JH584297_random\t    205776\n",
      "chr4_GL456216_random\t     66673\n",
      "     GL456233.1\t    336933\n",
      "chr1_GL456211_random\t    241735\n",
      "chr7_GL456219_random\t    175968\n",
      "     JH584292.1\t     14945\n",
      "           chrM\t     16299\n",
      "chr4_JH584294_random\t    191905\n",
      "     GL456354.1\t    195993\n",
      "chr5_JH584298_random\t    184189\n",
      "     JH584295.1\t      1976\n",
      "chr4_GL456350_random\t    227966\n",
      "     GL456212.1\t    153618\n",
      "     GL456221.1\t    206961\n",
      "chr4_JH584293_random\t    207968\n",
      "chr1_GL456213_random\t     39340\n",
      " chrUn_GL456370\t     26764\n",
      "     GL456211.1\t    241735\n",
      "chr1_GL456221_random\t    206961\n",
      " chrUn_GL456366\t     47073\n",
      " chrUn_GL456239\t     40056\n",
      "chrY_JH584302_random\t    155838\n",
      "     JH584299.1\t    953012\n",
      "chrY_JH584301_random\t    259875\n",
      " chrUn_GL456379\t     72385\n",
      "chrY_JH584303_random\t    158099\n",
      " chrUn_GL456360\t     31704\n",
      " chrUn_GL456368\t     20208\n",
      "chr5_JH584299_random\t    953012\n",
      " chrUn_GL456387\t     24685\n",
      " chrUn_GL456383\t     38659\n",
      "     JH584296.1\t    199368\n",
      "     JH584297.1\t    205776\n",
      " chrUn_JH584304\t    114452\n",
      " chrUn_GL456390\t     24668\n",
      "chr1_GL456212_random\t    153618\n",
      "     JH584304.1\t    114452\n",
      "chrX_GL456233_random\t    336933\n",
      " chrUn_GL456359\t     22974\n",
      " chrUn_GL456372\t     28664\n",
      " chrUn_GL456389\t     28772\n",
      " chrUn_GL456381\t     25871\n",
      " chrUn_GL456382\t     23158\n",
      " chrUn_GL456367\t     42057\n",
      "chr4_JH584292_random\t     14945\n",
      "chr1_GL456210_random\t    169725\n",
      "chrY_JH584300_random\t    182347\n",
      "chr4_JH584295_random\t      1976\n",
      "     GL456216.1\t     66673\n",
      " chrUn_GL456393\t     55711\n",
      "Skipping chrM:445-945, due to being absent in the computeMatrix output.\n",
      "Skipping chrM:1016-1516, due to being absent in the computeMatrix output.\n",
      "Skipping chrM:1771-2271, due to being absent in the computeMatrix output.\n",
      "Skipping chrM:2878-3378, due to being absent in the computeMatrix output.\n",
      "Skipping chrM:3831-4331, due to being absent in the computeMatrix output.\n",
      "Skipping chrM:4446-4946, due to being absent in the computeMatrix output.\n",
      "Skipping chrM:5584-6084, due to being absent in the computeMatrix output.\n",
      "Skipping chrM:6113-6613, due to being absent in the computeMatrix output.\n",
      "Skipping chrM:11459-11959, due to being absent in the computeMatrix output.\n",
      "Skipping chrM:13516-14016, due to being absent in the computeMatrix output.\n",
      "Skipping chrM:14875-15375, due to being absent in the computeMatrix output.\n",
      "Skipping chrM:15392-15892, due to being absent in the computeMatrix output.\n",
      "/data/leuven/software/biomed/wice_icelake_rocky8/2021a/software/deepTools/3.5.0-foss-2021a/lib/python3.9/site-packages/deeptools/plotHeatmap.py:481: MatplotlibDeprecationWarning:\n",
      "\n",
      "You are modifying the state of a globally registered colormap. This has been deprecated since 3.3 and in 3.6, you will not be able to modify a registered colormap in-place. To remove this warning, you can make a copy of the colormap first. cmap = mpl.cm.get_cmap(\"RdYlBu\").copy()\n",
      "\n",
      "/data/leuven/software/biomed/wice_icelake_rocky8/2021a/software/deepTools/3.5.0-foss-2021a/lib/python3.9/site-packages/deeptools/plotHeatmap.py:738: MatplotlibDeprecationWarning:\n",
      "\n",
      "The 'alpha' parameter to Colorbar has no effect because it is overridden by the mappable; it is deprecated since 3.3 and will be removed two minor releases later.\n",
      "\n",
      "/data/leuven/software/biomed/wice_icelake_rocky8/2021a/software/deepTools/3.5.0-foss-2021a/lib/python3.9/site-packages/deeptools/plotHeatmap.py:770: MatplotlibDeprecationWarning:\n",
      "\n",
      "savefig() got unexpected keyword argument \"pdd_inches\" which is no longer supported as of 3.3 and will become an error two minor releases later\n",
      "\n"
     ]
    }
   ],
   "source": [
    "generate_combined_heatmap \\\n",
    "  /lustre1/project/stg_00002/lcb/hydrop_v2_paper/mcortex/cistopic/mcortex_all_otsu_notdownsampled_own_consensuspeaks/DARs/dict_BICCN_corrected_08112024/all_dars_bed/Astro.bed \\\n",
    "  \"HyDrop_v2 HyDrop_v1 10x_v2 10x_v1 BICCN\" \\\n",
    "  \"/lustre1/project/stg_00002/lcb/hydrop_v2_paper/mcortex/cistopic/mcortex_all_otsu_notdownsampled_own_consensuspeaks/pseudobulk/tech_simplexdict_BICCN_corrected_08112024/pseudobulk_bw_files/HyDrop_v2___Astro.bw /lustre1/project/stg_00002/lcb/hydrop_v2_paper/mcortex/cistopic/mcortex_all_otsu_notdownsampled_own_consensuspeaks/pseudobulk/tech_simplexdict_BICCN_corrected_08112024/pseudobulk_bw_files/HyDrop_v1___Astro.bw /lustre1/project/stg_00002/lcb/hydrop_v2_paper/mcortex/cistopic/mcortex_all_otsu_notdownsampled_own_consensuspeaks/pseudobulk/tech_simplexdict_BICCN_corrected_08112024/pseudobulk_bw_files/10x_v2___Astro.bw /lustre1/project/stg_00002/lcb/hydrop_v2_paper/mcortex/cistopic/mcortex_all_otsu_notdownsampled_own_consensuspeaks/pseudobulk/tech_simplexdict_BICCN_corrected_08112024/pseudobulk_bw_files/10x_v1___Astro.bw /staging/leuven/stg_00002/lcb/hydrop_v2_paper/mcortex/CREsted/BICCN/bw/Astro.bw\" \\\n",
    "  \"Astro\" \"Astro_all_combined_all_dars\" \"0 0 0 0 0\" \"3 3 3 3 3\"\n"
   ]
  },
  {
   "cell_type": "code",
   "execution_count": 17,
   "id": "8d0f2cae-60af-4462-81a8-1c43405b23cc",
   "metadata": {
    "collapsed": true,
    "jupyter": {
     "outputs_hidden": true
    },
    "scrolled": true
   },
   "outputs": [
    {
     "name": "stdout",
     "output_type": "stream",
     "text": [
      "\n",
      "The following chromosome names did not match between the bigwig files\n",
      "chromosome\tlength\n",
      "     JH584292.1\t     14945\n",
      "chr4_JH584292_random\t     14945\n",
      " chrUn_GL456368\t     20208\n",
      " chrUn_GL456392\t     23629\n",
      " chrUn_GL456239\t     40056\n",
      "     JH584304.1\t    114452\n",
      " chrUn_JH584304\t    114452\n",
      "chrY_JH584302_random\t    155838\n",
      "chrY_JH584301_random\t    259875\n",
      " chrUn_GL456387\t     24685\n",
      "chr5_JH584299_random\t    953012\n",
      "chr5_JH584296_random\t    199368\n",
      "     JH584297.1\t    205776\n",
      " chrUn_GL456385\t     35240\n",
      "chr5_GL456354_random\t    195993\n",
      "chr1_GL456221_random\t    206961\n",
      "     JH584296.1\t    199368\n",
      "     GL456233.1\t    336933\n",
      "     GL456211.1\t    241735\n",
      "chr1_GL456212_random\t    153618\n",
      "     GL456350.1\t    227966\n",
      " chrUn_GL456359\t     22974\n",
      "chr4_GL456216_random\t     66673\n",
      " chrUn_GL456381\t     25871\n",
      " chrUn_GL456394\t     24323\n",
      " chrUn_GL456378\t     31602\n",
      "     GL456212.1\t    153618\n",
      "     GL456210.1\t    169725\n",
      "chr1_GL456211_random\t    241735\n",
      "     GL456216.1\t     66673\n",
      " chrUn_GL456367\t     42057\n",
      "     JH584299.1\t    953012\n",
      "chr4_JH584295_random\t      1976\n",
      "chr4_GL456350_random\t    227966\n",
      "chr7_GL456219_random\t    175968\n",
      "chrX_GL456233_random\t    336933\n",
      "chr5_JH584298_random\t    184189\n",
      " chrUn_GL456396\t     21240\n",
      "chrY_JH584300_random\t    182347\n",
      " chrUn_GL456372\t     28664\n",
      "     GL456221.1\t    206961\n",
      " chrUn_GL456393\t     55711\n",
      " chrUn_GL456389\t     28772\n",
      "           chrM\t     16299\n",
      " chrUn_GL456379\t     72385\n",
      " chrUn_GL456383\t     38659\n",
      "chr4_JH584294_random\t    191905\n",
      " chrUn_GL456360\t     31704\n",
      " chrUn_GL456382\t     23158\n",
      "chr5_JH584297_random\t    205776\n",
      "     GL456354.1\t    195993\n",
      " chrUn_GL456390\t     24668\n",
      " chrUn_GL456370\t     26764\n",
      "chr1_GL456213_random\t     39340\n",
      "chr4_JH584293_random\t    207968\n",
      "chr1_GL456210_random\t    169725\n",
      "     JH584295.1\t      1976\n",
      "chrY_JH584303_random\t    158099\n",
      " chrUn_GL456366\t     47073\n",
      "/data/leuven/software/biomed/wice_icelake_rocky8/2021a/software/deepTools/3.5.0-foss-2021a/lib/python3.9/site-packages/deeptools/plotHeatmap.py:481: MatplotlibDeprecationWarning:\n",
      "\n",
      "You are modifying the state of a globally registered colormap. This has been deprecated since 3.3 and in 3.6, you will not be able to modify a registered colormap in-place. To remove this warning, you can make a copy of the colormap first. cmap = mpl.cm.get_cmap(\"RdYlBu\").copy()\n",
      "\n",
      "/data/leuven/software/biomed/wice_icelake_rocky8/2021a/software/deepTools/3.5.0-foss-2021a/lib/python3.9/site-packages/deeptools/plotHeatmap.py:738: MatplotlibDeprecationWarning:\n",
      "\n",
      "The 'alpha' parameter to Colorbar has no effect because it is overridden by the mappable; it is deprecated since 3.3 and will be removed two minor releases later.\n",
      "\n",
      "/data/leuven/software/biomed/wice_icelake_rocky8/2021a/software/deepTools/3.5.0-foss-2021a/lib/python3.9/site-packages/deeptools/plotHeatmap.py:770: MatplotlibDeprecationWarning:\n",
      "\n",
      "savefig() got unexpected keyword argument \"pdd_inches\" which is no longer supported as of 3.3 and will become an error two minor releases later\n",
      "\n"
     ]
    }
   ],
   "source": [
    "generate_combined_heatmap \\\n",
    "  /lustre1/project/stg_00002/lcb/hydrop_v2_paper/mcortex/cistopic/mcortex_all_otsu_notdownsampled_own_consensuspeaks/DARs/dict_BICCN_corrected_08112024/top_regions_max1_5Log2FC_bed/Astro.bed \\\n",
    "  \"HyDrop_v2 HyDrop_v1 10x_v2 10x_v1 BICCN\" \\\n",
    "  \"/lustre1/project/stg_00002/lcb/hydrop_v2_paper/mcortex/cistopic/mcortex_all_otsu_notdownsampled_own_consensuspeaks/pseudobulk/tech_simplexdict_BICCN_corrected_08112024/pseudobulk_bw_files/HyDrop_v2___Astro.bw /lustre1/project/stg_00002/lcb/hydrop_v2_paper/mcortex/cistopic/mcortex_all_otsu_notdownsampled_own_consensuspeaks/pseudobulk/tech_simplexdict_BICCN_corrected_08112024/pseudobulk_bw_files/HyDrop_v1___Astro.bw /lustre1/project/stg_00002/lcb/hydrop_v2_paper/mcortex/cistopic/mcortex_all_otsu_notdownsampled_own_consensuspeaks/pseudobulk/tech_simplexdict_BICCN_corrected_08112024/pseudobulk_bw_files/10x_v2___Astro.bw /lustre1/project/stg_00002/lcb/hydrop_v2_paper/mcortex/cistopic/mcortex_all_otsu_notdownsampled_own_consensuspeaks/pseudobulk/tech_simplexdict_BICCN_corrected_08112024/pseudobulk_bw_files/10x_v1___Astro.bw /staging/leuven/stg_00002/lcb/hydrop_v2_paper/mcortex/CREsted/BICCN/bw/Astro.bw\" \\\n",
    "  \"Astro\" \"Astro_all_combined_max1_5Log2FC_DARs\" \"0 0 0 0 0\" \"3 3 3 3 3\""
   ]
  },
  {
   "cell_type": "code",
   "execution_count": 9,
   "id": "95a07277-4fa3-4068-8153-28b0c041d941",
   "metadata": {
    "collapsed": true,
    "jupyter": {
     "outputs_hidden": true
    },
    "scrolled": true
   },
   "outputs": [
    {
     "name": "stdout",
     "output_type": "stream",
     "text": [
      "\n",
      "The following chromosome names did not match between the bigwig files\n",
      "chromosome\tlength\n",
      " chrUn_GL456381\t     25871\n",
      " chrUn_GL456370\t     26764\n",
      "     JH584293.1\t    207968\n",
      "chr1_GL456212_random\t    153618\n",
      "chr4_JH584292_random\t     14945\n",
      "chr5_JH584299_random\t    953012\n",
      "chrY_JH584300_random\t    182347\n",
      "chr4_JH584295_random\t      1976\n",
      "     JH584297.1\t    205776\n",
      " chrUn_GL456359\t     22974\n",
      "chr1_GL456210_random\t    169725\n",
      " chrUn_GL456382\t     23158\n",
      "     GL456211.1\t    241735\n",
      " chrUn_GL456378\t     31602\n",
      "     GL456221.1\t    206961\n",
      "chr1_GL456221_random\t    206961\n",
      " chrUn_GL456368\t     20208\n",
      "     GL456216.1\t     66673\n",
      "           chrM\t     16299\n",
      "chr5_GL456354_random\t    195993\n",
      "     JH584296.1\t    199368\n",
      "chr5_JH584297_random\t    205776\n",
      " chrUn_GL456367\t     42057\n",
      "chrY_JH584301_random\t    259875\n",
      " chrUn_GL456366\t     47073\n",
      " chrUn_GL456383\t     38659\n",
      " chrUn_GL456385\t     35240\n",
      "     JH584304.1\t    114452\n",
      "     GL456233.1\t    336933\n",
      " chrUn_JH584304\t    114452\n",
      " chrUn_GL456393\t     55711\n",
      "     GL456219.1\t    175968\n",
      "chr1_GL456211_random\t    241735\n",
      "chr1_GL456213_random\t     39340\n",
      "chr7_GL456219_random\t    175968\n",
      "     JH584295.1\t      1976\n",
      "chr4_GL456216_random\t     66673\n",
      "     GL456350.1\t    227966\n",
      " chrUn_GL456390\t     24668\n",
      " chrUn_GL456394\t     24323\n",
      "     JH584294.1\t    191905\n",
      "chrY_JH584302_random\t    155838\n",
      " chrUn_GL456387\t     24685\n",
      " chrUn_GL456389\t     28772\n",
      "     GL456210.1\t    169725\n",
      "chr4_JH584294_random\t    191905\n",
      " chrUn_GL456360\t     31704\n",
      "     GL456354.1\t    195993\n",
      "chrY_JH584303_random\t    158099\n",
      " chrUn_GL456379\t     72385\n",
      "chr5_JH584298_random\t    184189\n",
      " chrUn_GL456239\t     40056\n",
      "     JH584299.1\t    953012\n",
      "chr5_JH584296_random\t    199368\n",
      "     JH584292.1\t     14945\n",
      "chr4_GL456350_random\t    227966\n",
      "     GL456212.1\t    153618\n",
      "chrX_GL456233_random\t    336933\n",
      " chrUn_GL456372\t     28664\n",
      " chrUn_GL456396\t     21240\n",
      " chrUn_GL456392\t     23629\n",
      "chr4_JH584293_random\t    207968\n",
      "/data/leuven/software/biomed/wice_icelake_rocky8/2021a/software/deepTools/3.5.0-foss-2021a/lib/python3.9/site-packages/deeptools/plotHeatmap.py:481: MatplotlibDeprecationWarning:\n",
      "\n",
      "You are modifying the state of a globally registered colormap. This has been deprecated since 3.3 and in 3.6, you will not be able to modify a registered colormap in-place. To remove this warning, you can make a copy of the colormap first. cmap = mpl.cm.get_cmap(\"RdYlBu\").copy()\n",
      "\n",
      "/data/leuven/software/biomed/wice_icelake_rocky8/2021a/software/deepTools/3.5.0-foss-2021a/lib/python3.9/site-packages/deeptools/plotHeatmap.py:738: MatplotlibDeprecationWarning:\n",
      "\n",
      "The 'alpha' parameter to Colorbar has no effect because it is overridden by the mappable; it is deprecated since 3.3 and will be removed two minor releases later.\n",
      "\n",
      "/data/leuven/software/biomed/wice_icelake_rocky8/2021a/software/deepTools/3.5.0-foss-2021a/lib/python3.9/site-packages/deeptools/plotHeatmap.py:770: MatplotlibDeprecationWarning:\n",
      "\n",
      "savefig() got unexpected keyword argument \"pdd_inches\" which is no longer supported as of 3.3 and will become an error two minor releases later\n",
      "\n"
     ]
    }
   ],
   "source": [
    "generate_combined_heatmap \\\n",
    "  /lustre1/project/stg_00002/lcb/hydrop_v2_paper/mcortex/cistopic/mcortex_all_otsu_notdownsampled_own_consensuspeaks/DARs/dict_BICCN_corrected_08112024/top_regions_max1_5Log2FC_bed/L2_3_IT.bed \\\n",
    "  \"HyDrop_v2 HyDrop_v1 10x_v2 10x_v1 BICCN\" \\\n",
    "  \"/lustre1/project/stg_00002/lcb/hydrop_v2_paper/mcortex/cistopic/mcortex_all_otsu_notdownsampled_own_consensuspeaks/pseudobulk/tech_simplexdict_BICCN_corrected_08112024/pseudobulk_bw_files/HyDrop_v2___L2_3_IT.bw /lustre1/project/stg_00002/lcb/hydrop_v2_paper/mcortex/cistopic/mcortex_all_otsu_notdownsampled_own_consensuspeaks/pseudobulk/tech_simplexdict_BICCN_corrected_08112024/pseudobulk_bw_files/HyDrop_v1___L2_3_IT.bw /lustre1/project/stg_00002/lcb/hydrop_v2_paper/mcortex/cistopic/mcortex_all_otsu_notdownsampled_own_consensuspeaks/pseudobulk/tech_simplexdict_BICCN_corrected_08112024/pseudobulk_bw_files/10x_v2___L2_3_IT.bw /lustre1/project/stg_00002/lcb/hydrop_v2_paper/mcortex/cistopic/mcortex_all_otsu_notdownsampled_own_consensuspeaks/pseudobulk/tech_simplexdict_BICCN_corrected_08112024/pseudobulk_bw_files/10x_v1___L2_3_IT.bw /staging/leuven/stg_00002/lcb/hydrop_v2_paper/mcortex/CREsted/BICCN/bw/L2_3IT.bw\" \\\n",
    "  \"L2_3_IT\" \"max1_5logFC_DARs_carrotplot/L2_3_IT_all_combined_max1_5Log2FC_DARs\" \"0 0 0 0 0\" \"2 2 2 2 2\""
   ]
  },
  {
   "cell_type": "code",
   "execution_count": 4,
   "id": "2505b79b-11d5-4acc-aae8-2bfb754a06d6",
   "metadata": {
    "collapsed": true,
    "jupyter": {
     "outputs_hidden": true
    }
   },
   "outputs": [
    {
     "name": "stdout",
     "output_type": "stream",
     "text": [
      "\n",
      "The following chromosome names did not match between the bigwig files\n",
      "chromosome\tlength\n",
      " chrUn_GL456392\t     23629\n",
      "chrY_JH584302_random\t    155838\n",
      " chrUn_GL456390\t     24668\n",
      " chrUn_GL456366\t     47073\n",
      " chrUn_GL456239\t     40056\n",
      "chr4_JH584294_random\t    191905\n",
      " chrUn_GL456359\t     22974\n",
      "chr4_JH584295_random\t      1976\n",
      "chr1_GL456210_random\t    169725\n",
      "chr1_GL456212_random\t    153618\n",
      "     GL456233.1\t    336933\n",
      "chrX_GL456233_random\t    336933\n",
      " chrUn_GL456378\t     31602\n",
      "     GL456216.1\t     66673\n",
      " chrUn_GL456360\t     31704\n",
      " chrUn_GL456387\t     24685\n",
      "chr5_JH584296_random\t    199368\n",
      " chrUn_GL456382\t     23158\n",
      " chrUn_GL456370\t     26764\n",
      " chrUn_GL456372\t     28664\n",
      "chr4_GL456216_random\t     66673\n",
      "chr4_JH584292_random\t     14945\n",
      "           chrM\t     16299\n",
      " chrUn_JH584304\t    114452\n",
      "chr5_JH584298_random\t    184189\n",
      "     JH584295.1\t      1976\n",
      "chrY_JH584301_random\t    259875\n",
      "     GL456221.1\t    206961\n",
      "     JH584296.1\t    199368\n",
      "chr5_JH584297_random\t    205776\n",
      "     GL456211.1\t    241735\n",
      "     GL456350.1\t    227966\n",
      "     JH584304.1\t    114452\n",
      " chrUn_GL456394\t     24323\n",
      "chr5_JH584299_random\t    953012\n",
      " chrUn_GL456389\t     28772\n",
      "     JH584303.1\t    158099\n",
      "chr1_GL456221_random\t    206961\n",
      "     GL456210.1\t    169725\n",
      "chr7_GL456219_random\t    175968\n",
      "     GL456212.1\t    153618\n",
      " chrUn_GL456368\t     20208\n",
      "     GL456354.1\t    195993\n",
      "chrY_JH584303_random\t    158099\n",
      "chrY_JH584300_random\t    182347\n",
      "     JH584292.1\t     14945\n",
      "     JH584297.1\t    205776\n",
      "chr1_GL456211_random\t    241735\n",
      "chr4_JH584293_random\t    207968\n",
      " chrUn_GL456393\t     55711\n",
      " chrUn_GL456367\t     42057\n",
      "chr5_GL456354_random\t    195993\n",
      "chr4_GL456350_random\t    227966\n",
      " chrUn_GL456385\t     35240\n",
      " chrUn_GL456379\t     72385\n",
      "     JH584299.1\t    953012\n",
      " chrUn_GL456383\t     38659\n",
      "chr1_GL456213_random\t     39340\n",
      " chrUn_GL456396\t     21240\n",
      " chrUn_GL456381\t     25871\n",
      "/data/leuven/software/biomed/wice_icelake_rocky8/2021a/software/deepTools/3.5.0-foss-2021a/lib/python3.9/site-packages/deeptools/plotHeatmap.py:481: MatplotlibDeprecationWarning:\n",
      "\n",
      "You are modifying the state of a globally registered colormap. This has been deprecated since 3.3 and in 3.6, you will not be able to modify a registered colormap in-place. To remove this warning, you can make a copy of the colormap first. cmap = mpl.cm.get_cmap(\"RdYlBu\").copy()\n",
      "\n",
      "/data/leuven/software/biomed/wice_icelake_rocky8/2021a/software/deepTools/3.5.0-foss-2021a/lib/python3.9/site-packages/deeptools/plotHeatmap.py:738: MatplotlibDeprecationWarning:\n",
      "\n",
      "The 'alpha' parameter to Colorbar has no effect because it is overridden by the mappable; it is deprecated since 3.3 and will be removed two minor releases later.\n",
      "\n",
      "/data/leuven/software/biomed/wice_icelake_rocky8/2021a/software/deepTools/3.5.0-foss-2021a/lib/python3.9/site-packages/deeptools/plotHeatmap.py:770: MatplotlibDeprecationWarning:\n",
      "\n",
      "savefig() got unexpected keyword argument \"pdd_inches\" which is no longer supported as of 3.3 and will become an error two minor releases later\n",
      "\n"
     ]
    }
   ],
   "source": [
    "generate_combined_heatmap \\\n",
    "  /lustre1/project/stg_00002/lcb/hydrop_v2_paper/mcortex/cistopic/mcortex_all_otsu_notdownsampled_own_consensuspeaks/DARs/dict_BICCN_corrected_08112024/top_regions_max1_5Log2FC_bed/Oligo.bed \\\n",
    "  \"HyDrop_v2 HyDrop_v1 10x_v2 10x_v1 BICCN\" \\\n",
    "  \"/lustre1/project/stg_00002/lcb/hydrop_v2_paper/mcortex/cistopic/mcortex_all_otsu_notdownsampled_own_consensuspeaks/pseudobulk/tech_simplexdict_BICCN_corrected_08112024/pseudobulk_bw_files/HyDrop_v2___Oligo.bw /lustre1/project/stg_00002/lcb/hydrop_v2_paper/mcortex/cistopic/mcortex_all_otsu_notdownsampled_own_consensuspeaks/pseudobulk/tech_simplexdict_BICCN_corrected_08112024/pseudobulk_bw_files/HyDrop_v1___Oligo.bw /lustre1/project/stg_00002/lcb/hydrop_v2_paper/mcortex/cistopic/mcortex_all_otsu_notdownsampled_own_consensuspeaks/pseudobulk/tech_simplexdict_BICCN_corrected_08112024/pseudobulk_bw_files/10x_v2___Oligo.bw /lustre1/project/stg_00002/lcb/hydrop_v2_paper/mcortex/cistopic/mcortex_all_otsu_notdownsampled_own_consensuspeaks/pseudobulk/tech_simplexdict_BICCN_corrected_08112024/pseudobulk_bw_files/10x_v1___Oligo.bw /staging/leuven/stg_00002/lcb/hydrop_v2_paper/mcortex/CREsted/BICCN/bw/Oligo.bw\" \\\n",
    "  \"Oligo\" \"max1_5logFC_DARs_carrotplot/Oligo_all_combined_max1_5Log2FC_DARs\" \"0 0 0 0 0\" \"3 3 3 3 3\""
   ]
  },
  {
   "cell_type": "code",
   "execution_count": 7,
   "id": "487c952f-4e90-4486-a578-ca46ba663293",
   "metadata": {
    "collapsed": true,
    "jupyter": {
     "outputs_hidden": true
    }
   },
   "outputs": [
    {
     "name": "stdout",
     "output_type": "stream",
     "text": [
      "\n",
      "The following chromosome names did not match between the bigwig files\n",
      "chromosome\tlength\n",
      "           chrM\t     16299\n",
      "chrY_JH584303_random\t    158099\n",
      "     JH584299.1\t    953012\n",
      "chr5_GL456354_random\t    195993\n",
      " chrUn_GL456359\t     22974\n",
      "     GL456210.1\t    169725\n",
      " chrUn_GL456379\t     72385\n",
      "chrY_JH584300_random\t    182347\n",
      "chr5_JH584298_random\t    184189\n",
      "chrY_JH584301_random\t    259875\n",
      " chrUn_GL456367\t     42057\n",
      "chr4_JH584295_random\t      1976\n",
      "chr4_GL456216_random\t     66673\n",
      "chr1_GL456221_random\t    206961\n",
      "chrX_GL456233_random\t    336933\n",
      " chrUn_GL456360\t     31704\n",
      "chr4_JH584294_random\t    191905\n",
      "chr1_GL456213_random\t     39340\n",
      " chrUn_GL456381\t     25871\n",
      "     GL456221.1\t    206961\n",
      " chrUn_GL456382\t     23158\n",
      "     JH584296.1\t    199368\n",
      "     GL456212.1\t    153618\n",
      "chrY_JH584302_random\t    155838\n",
      " chrUn_GL456378\t     31602\n",
      "chr1_GL456210_random\t    169725\n",
      "     JH584295.1\t      1976\n",
      "     GL456211.1\t    241735\n",
      " chrUn_GL456368\t     20208\n",
      " chrUn_GL456370\t     26764\n",
      "chr7_GL456219_random\t    175968\n",
      " chrUn_GL456239\t     40056\n",
      " chrUn_GL456394\t     24323\n",
      "chr5_JH584297_random\t    205776\n",
      "chr4_GL456350_random\t    227966\n",
      "     JH584297.1\t    205776\n",
      "     JH584292.1\t     14945\n",
      "chr1_GL456211_random\t    241735\n",
      " chrUn_GL456387\t     24685\n",
      "chr1_GL456212_random\t    153618\n",
      "     GL456219.1\t    175968\n",
      "     JH584304.1\t    114452\n",
      " chrUn_GL456383\t     38659\n",
      " chrUn_GL456390\t     24668\n",
      "     JH584294.1\t    191905\n",
      " chrUn_GL456396\t     21240\n",
      "chr4_JH584292_random\t     14945\n",
      " chrUn_GL456366\t     47073\n",
      "chr4_JH584293_random\t    207968\n",
      " chrUn_GL456385\t     35240\n",
      "chr5_JH584296_random\t    199368\n",
      "     GL456354.1\t    195993\n",
      " chrUn_GL456392\t     23629\n",
      " chrUn_JH584304\t    114452\n",
      "chr5_JH584299_random\t    953012\n",
      "     GL456350.1\t    227966\n",
      " chrUn_GL456393\t     55711\n",
      " chrUn_GL456372\t     28664\n",
      "     GL456233.1\t    336933\n",
      "     GL456216.1\t     66673\n",
      " chrUn_GL456389\t     28772\n",
      "/data/leuven/software/biomed/wice_icelake_rocky8/2021a/software/deepTools/3.5.0-foss-2021a/lib/python3.9/site-packages/deeptools/plotHeatmap.py:481: MatplotlibDeprecationWarning:\n",
      "\n",
      "You are modifying the state of a globally registered colormap. This has been deprecated since 3.3 and in 3.6, you will not be able to modify a registered colormap in-place. To remove this warning, you can make a copy of the colormap first. cmap = mpl.cm.get_cmap(\"RdYlBu\").copy()\n",
      "\n",
      "/data/leuven/software/biomed/wice_icelake_rocky8/2021a/software/deepTools/3.5.0-foss-2021a/lib/python3.9/site-packages/deeptools/plotHeatmap.py:738: MatplotlibDeprecationWarning:\n",
      "\n",
      "The 'alpha' parameter to Colorbar has no effect because it is overridden by the mappable; it is deprecated since 3.3 and will be removed two minor releases later.\n",
      "\n",
      "/data/leuven/software/biomed/wice_icelake_rocky8/2021a/software/deepTools/3.5.0-foss-2021a/lib/python3.9/site-packages/deeptools/plotHeatmap.py:770: MatplotlibDeprecationWarning:\n",
      "\n",
      "savefig() got unexpected keyword argument \"pdd_inches\" which is no longer supported as of 3.3 and will become an error two minor releases later\n",
      "\n"
     ]
    }
   ],
   "source": [
    "generate_combined_heatmap \\\n",
    "  /lustre1/project/stg_00002/lcb/hydrop_v2_paper/mcortex/cistopic/mcortex_all_otsu_notdownsampled_own_consensuspeaks/DARs/dict_BICCN_corrected_08112024/top_regions_max1_5Log2FC_bed/Pvalb.bed \\\n",
    "  \"HyDrop_v2 HyDrop_v1 10x_v2 10x_v1 BICCN\" \\\n",
    "  \"/lustre1/project/stg_00002/lcb/hydrop_v2_paper/mcortex/cistopic/mcortex_all_otsu_notdownsampled_own_consensuspeaks/pseudobulk/tech_simplexdict_BICCN_corrected_08112024/pseudobulk_bw_files/HyDrop_v2___Pvalb.bw /lustre1/project/stg_00002/lcb/hydrop_v2_paper/mcortex/cistopic/mcortex_all_otsu_notdownsampled_own_consensuspeaks/pseudobulk/tech_simplexdict_BICCN_corrected_08112024/pseudobulk_bw_files/HyDrop_v1___Pvalb.bw /lustre1/project/stg_00002/lcb/hydrop_v2_paper/mcortex/cistopic/mcortex_all_otsu_notdownsampled_own_consensuspeaks/pseudobulk/tech_simplexdict_BICCN_corrected_08112024/pseudobulk_bw_files/10x_v2___Pvalb.bw /lustre1/project/stg_00002/lcb/hydrop_v2_paper/mcortex/cistopic/mcortex_all_otsu_notdownsampled_own_consensuspeaks/pseudobulk/tech_simplexdict_BICCN_corrected_08112024/pseudobulk_bw_files/10x_v1___Pvalb.bw /staging/leuven/stg_00002/lcb/hydrop_v2_paper/mcortex/CREsted/BICCN/bw/Pvalb.bw\" \\\n",
    "  \"Pvalb\" \"max1_5logFC_DARs_carrotplot/Pvalb_all_combined_max1_5Log2FC_DARs\" \"0 0 0 0 0\" \"1.5 1.5 1.5 1.5 1.5\""
   ]
  },
  {
   "cell_type": "code",
   "execution_count": 3,
   "id": "60143f0e-4674-41ca-baaa-603e81abef75",
   "metadata": {},
   "outputs": [
    {
     "name": "stdout",
     "output_type": "stream",
     "text": [
      "\n",
      "The following chromosome names did not match between the bigwig files\n",
      "chromosome\tlength\n",
      " chrUn_GL456387\t     24685\n",
      "chr7_GL456219_random\t    175968\n",
      "     GL456350.1\t    227966\n",
      "     JH584304.1\t    114452\n",
      " chrUn_GL456370\t     26764\n",
      " chrUn_GL456392\t     23629\n",
      " chrUn_GL456239\t     40056\n",
      "     JH584296.1\t    199368\n",
      "     GL456212.1\t    153618\n",
      "     GL456216.1\t     66673\n",
      " chrUn_GL456378\t     31602\n",
      " chrUn_GL456368\t     20208\n",
      " chrUn_GL456385\t     35240\n",
      " chrUn_GL456390\t     24668\n",
      "     GL456221.1\t    206961\n",
      "chrY_JH584302_random\t    155838\n",
      "chr4_JH584293_random\t    207968\n",
      "chr5_GL456354_random\t    195993\n",
      "chr4_JH584292_random\t     14945\n",
      "     JH584293.1\t    207968\n",
      "     JH584299.1\t    953012\n",
      " chrUn_GL456383\t     38659\n",
      "chrY_JH584301_random\t    259875\n",
      "chr5_JH584298_random\t    184189\n",
      " chrUn_GL456382\t     23158\n",
      "     JH584294.1\t    191905\n",
      "     GL456211.1\t    241735\n",
      " chrUn_JH584304\t    114452\n",
      "chr4_JH584294_random\t    191905\n",
      "     JH584292.1\t     14945\n",
      "chr5_JH584297_random\t    205776\n",
      "chr4_JH584295_random\t      1976\n",
      "chrY_JH584303_random\t    158099\n",
      " chrUn_GL456394\t     24323\n",
      "     GL456354.1\t    195993\n",
      "     GL456233.1\t    336933\n",
      " chrUn_GL456360\t     31704\n",
      "chrY_JH584300_random\t    182347\n",
      "chr5_JH584296_random\t    199368\n",
      " chrUn_GL456381\t     25871\n",
      "chr1_GL456212_random\t    153618\n",
      "     GL456210.1\t    169725\n",
      " chrUn_GL456372\t     28664\n",
      " chrUn_GL456379\t     72385\n",
      "     JH584297.1\t    205776\n",
      "chr5_JH584299_random\t    953012\n",
      " chrUn_GL456393\t     55711\n",
      " chrUn_GL456367\t     42057\n",
      " chrUn_GL456389\t     28772\n",
      "chr1_GL456210_random\t    169725\n",
      "chr1_GL456221_random\t    206961\n",
      "chrX_GL456233_random\t    336933\n",
      "     JH584295.1\t      1976\n",
      "chr4_GL456350_random\t    227966\n",
      " chrUn_GL456396\t     21240\n",
      "chr1_GL456213_random\t     39340\n",
      "chr1_GL456211_random\t    241735\n",
      " chrUn_GL456366\t     47073\n",
      " chrUn_GL456359\t     22974\n",
      "           chrM\t     16299\n",
      "chr4_GL456216_random\t     66673\n",
      "/data/leuven/software/biomed/wice_icelake_rocky8/2021a/software/deepTools/3.5.0-foss-2021a/lib/python3.9/site-packages/deeptools/plotHeatmap.py:481: MatplotlibDeprecationWarning:\n",
      "\n",
      "You are modifying the state of a globally registered colormap. This has been deprecated since 3.3 and in 3.6, you will not be able to modify a registered colormap in-place. To remove this warning, you can make a copy of the colormap first. cmap = mpl.cm.get_cmap(\"RdYlBu\").copy()\n",
      "\n",
      "/data/leuven/software/biomed/wice_icelake_rocky8/2021a/software/deepTools/3.5.0-foss-2021a/lib/python3.9/site-packages/deeptools/plotHeatmap.py:738: MatplotlibDeprecationWarning:\n",
      "\n",
      "The 'alpha' parameter to Colorbar has no effect because it is overridden by the mappable; it is deprecated since 3.3 and will be removed two minor releases later.\n",
      "\n",
      "/data/leuven/software/biomed/wice_icelake_rocky8/2021a/software/deepTools/3.5.0-foss-2021a/lib/python3.9/site-packages/deeptools/plotHeatmap.py:770: MatplotlibDeprecationWarning:\n",
      "\n",
      "savefig() got unexpected keyword argument \"pdd_inches\" which is no longer supported as of 3.3 and will become an error two minor releases later\n",
      "\n"
     ]
    }
   ],
   "source": [
    "generate_combined_heatmap \\\n",
    "  /lustre1/project/stg_00002/lcb/hydrop_v2_paper/mcortex/cistopic/mcortex_all_otsu_notdownsampled_own_consensuspeaks/DARs/dict_BICCN_corrected_08112024/top_regions_max1_5Log2FC_bed/L6_CT.bed \\\n",
    "  \"HyDrop_v2 HyDrop_v1 10x_v2 10x_v1 BICCN\" \\\n",
    "  \"/lustre1/project/stg_00002/lcb/hydrop_v2_paper/mcortex/cistopic/mcortex_all_otsu_notdownsampled_own_consensuspeaks/pseudobulk/tech_simplexdict_BICCN_corrected_08112024/pseudobulk_bw_files/HyDrop_v2___L6_CT.bw /lustre1/project/stg_00002/lcb/hydrop_v2_paper/mcortex/cistopic/mcortex_all_otsu_notdownsampled_own_consensuspeaks/pseudobulk/tech_simplexdict_BICCN_corrected_08112024/pseudobulk_bw_files/HyDrop_v1___L6_CT.bw /lustre1/project/stg_00002/lcb/hydrop_v2_paper/mcortex/cistopic/mcortex_all_otsu_notdownsampled_own_consensuspeaks/pseudobulk/tech_simplexdict_BICCN_corrected_08112024/pseudobulk_bw_files/10x_v2___L6_CT.bw /lustre1/project/stg_00002/lcb/hydrop_v2_paper/mcortex/cistopic/mcortex_all_otsu_notdownsampled_own_consensuspeaks/pseudobulk/tech_simplexdict_BICCN_corrected_08112024/pseudobulk_bw_files/10x_v1___L6_CT.bw /staging/leuven/stg_00002/lcb/hydrop_v2_paper/mcortex/CREsted/BICCN/bw/L6CT.bw\" \\\n",
    "  \"L6_CT\" \"max1_5logFC_DARs_carrotplot/L6_CT_all_combined_max1_5Log2FC_DARs\" \"0 0 0 0 0\" \"2 2 2 2 2\""
   ]
  },
  {
   "cell_type": "markdown",
   "id": "b478ccd3-6df8-4515-a957-181416636185",
   "metadata": {},
   "source": [
    "# HyDrop 10x bw downsampled to same amount of cells"
   ]
  },
  {
   "cell_type": "code",
   "execution_count": 3,
   "id": "1f064efd-ae7d-4ce1-97cd-b5b2dbd75679",
   "metadata": {},
   "outputs": [],
   "source": [
    "generate_combined_heatmap() {\n",
    "  local bed_file=$1\n",
    "  local sample_labels=$2   # Sample labels combined (space-separated)\n",
    "  local bigwig_files=$3    # BigWig file paths combined (space-separated)\n",
    "  local cell_type=$4\n",
    "  local output_prefix=$5\n",
    "  local z_min_list=$6      # Space-separated list of zMin values (one per sample)\n",
    "  local z_max_list=$7      # Space-separated list of zMax values (one per sample)\n",
    "\n",
    "  # Compute matrix for all samples together\n",
    "  computeMatrix reference-point \\\n",
    "    -R ${bed_file} \\\n",
    "    -S ${bigwig_files} \\\n",
    "    --referencePoint center \\\n",
    "    -b 1000 -a 1000 \\\n",
    "    -out ${output_prefix}_matrix.gz \\\n",
    "    --missingDataAsZero\n",
    "\n",
    "  # Plot combined heatmap with per-sample zMin and zMax values\n",
    "  plotHeatmap -m ${output_prefix}_matrix.gz \\\n",
    "    --dpi 300 \\\n",
    "    --whatToShow 'heatmap and colorbar' \\\n",
    "    --plotFileFormat svg \\\n",
    "    --xAxisLabel '' \\\n",
    "    --regionsLabel '' \\\n",
    "    --samplesLabel ${sample_labels} \\\n",
    "    -T \"${cell_type}\" \\\n",
    "    --zMin ${z_min_list} \\\n",
    "    --zMax ${z_max_list} \\\n",
    "    --heatmapHeight 10 --heatmapWidth 5 \\\n",
    "    -out ${output_prefix}_heatmap.svg\n",
    "}"
   ]
  },
  {
   "cell_type": "code",
   "execution_count": 5,
   "id": "d7efccb6-2fe8-44d3-9428-8c40d3ba7e0f",
   "metadata": {},
   "outputs": [
    {
     "name": "stdout",
     "output_type": "stream",
     "text": [
      "/data/leuven/software/biomed/wice_icelake_rocky8/2021a/software/deepTools/3.5.0-foss-2021a/lib/python3.9/site-packages/deeptools/plotHeatmap.py:481: MatplotlibDeprecationWarning:\n",
      "\n",
      "You are modifying the state of a globally registered colormap. This has been deprecated since 3.3 and in 3.6, you will not be able to modify a registered colormap in-place. To remove this warning, you can make a copy of the colormap first. cmap = mpl.cm.get_cmap(\"RdYlBu\").copy()\n",
      "\n",
      "/data/leuven/software/biomed/wice_icelake_rocky8/2021a/software/deepTools/3.5.0-foss-2021a/lib/python3.9/site-packages/deeptools/plotHeatmap.py:738: MatplotlibDeprecationWarning:\n",
      "\n",
      "The 'alpha' parameter to Colorbar has no effect because it is overridden by the mappable; it is deprecated since 3.3 and will be removed two minor releases later.\n",
      "\n",
      "/data/leuven/software/biomed/wice_icelake_rocky8/2021a/software/deepTools/3.5.0-foss-2021a/lib/python3.9/site-packages/deeptools/plotHeatmap.py:770: MatplotlibDeprecationWarning:\n",
      "\n",
      "savefig() got unexpected keyword argument \"pdd_inches\" which is no longer supported as of 3.3 and will become an error two minor releases later\n",
      "\n"
     ]
    }
   ],
   "source": [
    "generate_combined_heatmap \\\n",
    "  /lustre1/project/stg_00002/lcb/hydrop_v2_paper/mcortex/cistopic/mcortex_all_otsu_notdownsampled_own_consensuspeaks/DARs/dict_BICCN_corrected_08112024/top_regions_max1_5Log2FC_bed/Micro_PVM.bed \\\n",
    "  \"HyDrop_v2 HyDrop_v1 10x_v2 10x_v1\" \\\n",
    "  \"/lustre1/project/stg_00002/lcb/hydrop_v2_paper/mcortex/cistopic/mcortex_all_otsu_notdownsampled_own_consensuspeaks/pseudobulk/tech_cell_type_downsampled/minimal_100cells/bw/HyDrop_v2___Micro_PVM.fragments.bw /lustre1/project/stg_00002/lcb/hydrop_v2_paper/mcortex/cistopic/mcortex_all_otsu_notdownsampled_own_consensuspeaks/pseudobulk/tech_cell_type_downsampled/minimal_100cells/bw/HyDrop_v1___Micro_PVM.fragments.bw /lustre1/project/stg_00002/lcb/hydrop_v2_paper/mcortex/cistopic/mcortex_all_otsu_notdownsampled_own_consensuspeaks/pseudobulk/tech_cell_type_downsampled/minimal_100cells/bw/10x_v2___Micro_PVM.fragments.bw /lustre1/project/stg_00002/lcb/hydrop_v2_paper/mcortex/cistopic/mcortex_all_otsu_notdownsampled_own_consensuspeaks/pseudobulk/tech_cell_type_downsampled/minimal_100cells/bw/10x_v1___Micro_PVM.fragments.bw\" \\\n",
    "  \"Micro_PVM\" \"Micro_PVM_509cells_all_combined_max1_5Log2FC_bed_DARs\" \"0 0 0 0\" \"3 3 3 3\"\n"
   ]
  },
  {
   "cell_type": "code",
   "execution_count": 6,
   "id": "ea024e90-8896-452c-a66a-cf321e96aef3",
   "metadata": {},
   "outputs": [
    {
     "name": "stdout",
     "output_type": "stream",
     "text": [
      "/data/leuven/software/biomed/wice_icelake_rocky8/2021a/software/deepTools/3.5.0-foss-2021a/lib/python3.9/site-packages/deeptools/plotHeatmap.py:481: MatplotlibDeprecationWarning:\n",
      "\n",
      "You are modifying the state of a globally registered colormap. This has been deprecated since 3.3 and in 3.6, you will not be able to modify a registered colormap in-place. To remove this warning, you can make a copy of the colormap first. cmap = mpl.cm.get_cmap(\"RdYlBu\").copy()\n",
      "\n",
      "/data/leuven/software/biomed/wice_icelake_rocky8/2021a/software/deepTools/3.5.0-foss-2021a/lib/python3.9/site-packages/deeptools/plotHeatmap.py:738: MatplotlibDeprecationWarning:\n",
      "\n",
      "The 'alpha' parameter to Colorbar has no effect because it is overridden by the mappable; it is deprecated since 3.3 and will be removed two minor releases later.\n",
      "\n",
      "/data/leuven/software/biomed/wice_icelake_rocky8/2021a/software/deepTools/3.5.0-foss-2021a/lib/python3.9/site-packages/deeptools/plotHeatmap.py:770: MatplotlibDeprecationWarning:\n",
      "\n",
      "savefig() got unexpected keyword argument \"pdd_inches\" which is no longer supported as of 3.3 and will become an error two minor releases later\n",
      "\n"
     ]
    }
   ],
   "source": [
    "generate_combined_heatmap \\\n",
    "  /lustre1/project/stg_00002/lcb/hydrop_v2_paper/mcortex/cistopic/mcortex_all_otsu_notdownsampled_own_consensuspeaks/DARs/dict_BICCN_corrected_08112024/top_regions_max1_5Log2FC_bed/Oligo.bed \\\n",
    "  \"HyDrop_v2 HyDrop_v1 10x_v2 10x_v1\" \\\n",
    "  \"/lustre1/project/stg_00002/lcb/hydrop_v2_paper/mcortex/cistopic/mcortex_all_otsu_notdownsampled_own_consensuspeaks/pseudobulk/tech_cell_type_downsampled/minimal_100cells/bw/HyDrop_v2___Oligo.fragments.bw /lustre1/project/stg_00002/lcb/hydrop_v2_paper/mcortex/cistopic/mcortex_all_otsu_notdownsampled_own_consensuspeaks/pseudobulk/tech_cell_type_downsampled/minimal_100cells/bw/HyDrop_v1___Oligo.fragments.bw /lustre1/project/stg_00002/lcb/hydrop_v2_paper/mcortex/cistopic/mcortex_all_otsu_notdownsampled_own_consensuspeaks/pseudobulk/tech_cell_type_downsampled/minimal_100cells/bw/10x_v2___Oligo.fragments.bw /lustre1/project/stg_00002/lcb/hydrop_v2_paper/mcortex/cistopic/mcortex_all_otsu_notdownsampled_own_consensuspeaks/pseudobulk/tech_cell_type_downsampled/minimal_100cells/bw/10x_v1___Oligo.fragments.bw\" \\\n",
    "  \"Oligo\" \"Oligo_985cells_all_combined_max1_5Log2FC_bed_DARs\" \"0 0 0 0\" \"3 3 3 3\"\n"
   ]
  },
  {
   "cell_type": "code",
   "execution_count": 13,
   "id": "83a00b9a-0f49-4232-a0bb-127be376b652",
   "metadata": {},
   "outputs": [
    {
     "name": "stdout",
     "output_type": "stream",
     "text": [
      "/data/leuven/software/biomed/wice_icelake_rocky8/2021a/software/deepTools/3.5.0-foss-2021a/lib/python3.9/site-packages/deeptools/plotHeatmap.py:481: MatplotlibDeprecationWarning:\n",
      "\n",
      "You are modifying the state of a globally registered colormap. This has been deprecated since 3.3 and in 3.6, you will not be able to modify a registered colormap in-place. To remove this warning, you can make a copy of the colormap first. cmap = mpl.cm.get_cmap(\"RdYlBu\").copy()\n",
      "\n",
      "/data/leuven/software/biomed/wice_icelake_rocky8/2021a/software/deepTools/3.5.0-foss-2021a/lib/python3.9/site-packages/deeptools/plotHeatmap.py:738: MatplotlibDeprecationWarning:\n",
      "\n",
      "The 'alpha' parameter to Colorbar has no effect because it is overridden by the mappable; it is deprecated since 3.3 and will be removed two minor releases later.\n",
      "\n",
      "/data/leuven/software/biomed/wice_icelake_rocky8/2021a/software/deepTools/3.5.0-foss-2021a/lib/python3.9/site-packages/deeptools/plotHeatmap.py:770: MatplotlibDeprecationWarning:\n",
      "\n",
      "savefig() got unexpected keyword argument \"pdd_inches\" which is no longer supported as of 3.3 and will become an error two minor releases later\n",
      "\n"
     ]
    }
   ],
   "source": [
    "generate_combined_heatmap \\\n",
    "  /lustre1/project/stg_00002/lcb/hydrop_v2_paper/mcortex/cistopic/mcortex_all_otsu_notdownsampled_own_consensuspeaks/DARs/dict_BICCN_corrected_08112024/top_regions_max1_5Log2FC_bed/L2_3_IT.bed \\\n",
    "  \"HyDrop_v2 HyDrop_v1 10x_v2 10x_v1\" \\\n",
    "  \"/lustre1/project/stg_00002/lcb/hydrop_v2_paper/mcortex/cistopic/mcortex_all_otsu_notdownsampled_own_consensuspeaks/pseudobulk/tech_cell_type_downsampled/minimal_100cells/bw/HyDrop_v2___L2_3_IT.fragments.bw /lustre1/project/stg_00002/lcb/hydrop_v2_paper/mcortex/cistopic/mcortex_all_otsu_notdownsampled_own_consensuspeaks/pseudobulk/tech_cell_type_downsampled/minimal_100cells/bw/HyDrop_v1___L2_3_IT.fragments.bw /lustre1/project/stg_00002/lcb/hydrop_v2_paper/mcortex/cistopic/mcortex_all_otsu_notdownsampled_own_consensuspeaks/pseudobulk/tech_cell_type_downsampled/minimal_100cells/bw/10x_v2___L2_3_IT.fragments.bw /lustre1/project/stg_00002/lcb/hydrop_v2_paper/mcortex/cistopic/mcortex_all_otsu_notdownsampled_own_consensuspeaks/pseudobulk/tech_cell_type_downsampled/minimal_100cells/bw/10x_v1___L2_3_IT.fragments.bw\" \\\n",
    "  \"L2_3_IT\" \"L2_3_IT_469cells_all_combined_max1_5Log2FC_bed_DARs\" \"0 0 0 0\" \"2 2 2 2\"\n"
   ]
  },
  {
   "cell_type": "markdown",
   "id": "a10146ce-ac81-4dce-a833-f791a9368e17",
   "metadata": {},
   "source": [
    "# HyDrop 10x bw downsampled to same amount of cells - cut sites"
   ]
  },
  {
   "cell_type": "code",
   "execution_count": 3,
   "id": "eb74d6fa-721c-4ddd-b577-575db44b8b3a",
   "metadata": {},
   "outputs": [],
   "source": [
    "generate_combined_heatmap() {\n",
    "  local bed_file=$1\n",
    "  local sample_labels=$2   # Sample labels combined (space-separated)\n",
    "  local bigwig_files=$3    # BigWig file paths combined (space-separated)\n",
    "  local cell_type=$4\n",
    "  local output_prefix=$5\n",
    "  local z_min_list=$6      # Space-separated list of zMin values (one per sample)\n",
    "  local z_max_list=$7      # Space-separated list of zMax values (one per sample)\n",
    "\n",
    "  # Compute matrix for all samples together\n",
    "  computeMatrix reference-point \\\n",
    "    -R ${bed_file} \\\n",
    "    -S ${bigwig_files} \\\n",
    "    --referencePoint center \\\n",
    "    -b 1000 -a 1000 \\\n",
    "    -out ${output_prefix}_matrix.gz \\\n",
    "    --missingDataAsZero\n",
    "\n",
    "  # Plot combined heatmap with per-sample zMin and zMax values\n",
    "  plotHeatmap -m ${output_prefix}_matrix.gz \\\n",
    "    --dpi 300 \\\n",
    "    --whatToShow 'heatmap and colorbar' \\\n",
    "    --plotFileFormat svg \\\n",
    "    --xAxisLabel '' \\\n",
    "    --regionsLabel '' \\\n",
    "    --samplesLabel ${sample_labels} \\\n",
    "    -T \"${cell_type}\" \\\n",
    "    --zMin ${z_min_list} \\\n",
    "    --zMax ${z_max_list} \\\n",
    "    --heatmapHeight 10 --heatmapWidth 5 \\\n",
    "    -out ${output_prefix}_heatmap.svg\n",
    "}"
   ]
  },
  {
   "cell_type": "code",
   "execution_count": 14,
   "id": "6e7fdd81-5dec-4498-a78c-765fa99f525b",
   "metadata": {},
   "outputs": [
    {
     "name": "stdout",
     "output_type": "stream",
     "text": [
      "/data/leuven/software/biomed/wice_icelake_rocky8/2021a/software/deepTools/3.5.0-foss-2021a/lib/python3.9/site-packages/deeptools/plotHeatmap.py:481: MatplotlibDeprecationWarning:\n",
      "\n",
      "You are modifying the state of a globally registered colormap. This has been deprecated since 3.3 and in 3.6, you will not be able to modify a registered colormap in-place. To remove this warning, you can make a copy of the colormap first. cmap = mpl.cm.get_cmap(\"RdYlBu\").copy()\n",
      "\n",
      "/data/leuven/software/biomed/wice_icelake_rocky8/2021a/software/deepTools/3.5.0-foss-2021a/lib/python3.9/site-packages/deeptools/plotHeatmap.py:738: MatplotlibDeprecationWarning:\n",
      "\n",
      "The 'alpha' parameter to Colorbar has no effect because it is overridden by the mappable; it is deprecated since 3.3 and will be removed two minor releases later.\n",
      "\n",
      "/data/leuven/software/biomed/wice_icelake_rocky8/2021a/software/deepTools/3.5.0-foss-2021a/lib/python3.9/site-packages/deeptools/plotHeatmap.py:770: MatplotlibDeprecationWarning:\n",
      "\n",
      "savefig() got unexpected keyword argument \"pdd_inches\" which is no longer supported as of 3.3 and will become an error two minor releases later\n",
      "\n"
     ]
    }
   ],
   "source": [
    "generate_combined_heatmap \\\n",
    "  /lustre1/project/stg_00002/lcb/hydrop_v2_paper/mcortex/cistopic/mcortex_all_otsu_notdownsampled_own_consensuspeaks/DARs/dict_BICCN_corrected_08112024/top_regions_max1_5Log2FC_bed/Micro_PVM.bed \\\n",
    "  \"HyDrop_v2 HyDrop_v1 10x_v2 10x_v1\" \\\n",
    "  \"/lustre1/project/stg_00002/lcb/hydrop_v2_paper/mcortex/cistopic/mcortex_all_otsu_notdownsampled_own_consensuspeaks/pseudobulk/tech_cell_type_downsampled/minimal_100cells/bw_cut_sites/HyDrop_v2___Micro_PVM.fragments.bw /lustre1/project/stg_00002/lcb/hydrop_v2_paper/mcortex/cistopic/mcortex_all_otsu_notdownsampled_own_consensuspeaks/pseudobulk/tech_cell_type_downsampled/minimal_100cells/bw_cut_sites/HyDrop_v1___Micro_PVM.fragments.bw /lustre1/project/stg_00002/lcb/hydrop_v2_paper/mcortex/cistopic/mcortex_all_otsu_notdownsampled_own_consensuspeaks/pseudobulk/tech_cell_type_downsampled/minimal_100cells/bw_cut_sites/10x_v2___Micro_PVM.fragments.bw /lustre1/project/stg_00002/lcb/hydrop_v2_paper/mcortex/cistopic/mcortex_all_otsu_notdownsampled_own_consensuspeaks/pseudobulk/tech_cell_type_downsampled/minimal_100cells/bw_cut_sites/10x_v1___Micro_PVM.fragments.bw\" \\\n",
    "  \"Micro_PVM\" \"Micro_PVM_cut_sites_509cells_all_combined_max1_5Log2FC_bed_DARs\" \"0 0 0 0\" \"0.1 0.1 0.1 0.1\"\n"
   ]
  },
  {
   "cell_type": "code",
   "execution_count": 15,
   "id": "8f8ca301-bdcb-43c5-8134-43429f6df98b",
   "metadata": {},
   "outputs": [
    {
     "name": "stdout",
     "output_type": "stream",
     "text": [
      "/data/leuven/software/biomed/wice_icelake_rocky8/2021a/software/deepTools/3.5.0-foss-2021a/lib/python3.9/site-packages/deeptools/plotHeatmap.py:481: MatplotlibDeprecationWarning:\n",
      "\n",
      "You are modifying the state of a globally registered colormap. This has been deprecated since 3.3 and in 3.6, you will not be able to modify a registered colormap in-place. To remove this warning, you can make a copy of the colormap first. cmap = mpl.cm.get_cmap(\"RdYlBu\").copy()\n",
      "\n",
      "/data/leuven/software/biomed/wice_icelake_rocky8/2021a/software/deepTools/3.5.0-foss-2021a/lib/python3.9/site-packages/deeptools/plotHeatmap.py:738: MatplotlibDeprecationWarning:\n",
      "\n",
      "The 'alpha' parameter to Colorbar has no effect because it is overridden by the mappable; it is deprecated since 3.3 and will be removed two minor releases later.\n",
      "\n",
      "/data/leuven/software/biomed/wice_icelake_rocky8/2021a/software/deepTools/3.5.0-foss-2021a/lib/python3.9/site-packages/deeptools/plotHeatmap.py:770: MatplotlibDeprecationWarning:\n",
      "\n",
      "savefig() got unexpected keyword argument \"pdd_inches\" which is no longer supported as of 3.3 and will become an error two minor releases later\n",
      "\n"
     ]
    }
   ],
   "source": [
    "generate_combined_heatmap \\\n",
    "  /lustre1/project/stg_00002/lcb/hydrop_v2_paper/mcortex/cistopic/mcortex_all_otsu_notdownsampled_own_consensuspeaks/DARs/dict_BICCN_corrected_08112024/top_regions_max1_5Log2FC_bed/Oligo.bed \\\n",
    "  \"HyDrop_v2 HyDrop_v1 10x_v2 10x_v1\" \\\n",
    "  \"/lustre1/project/stg_00002/lcb/hydrop_v2_paper/mcortex/cistopic/mcortex_all_otsu_notdownsampled_own_consensuspeaks/pseudobulk/tech_cell_type_downsampled/minimal_100cells/bw_cut_sites/HyDrop_v2___Oligo.fragments.bw /lustre1/project/stg_00002/lcb/hydrop_v2_paper/mcortex/cistopic/mcortex_all_otsu_notdownsampled_own_consensuspeaks/pseudobulk/tech_cell_type_downsampled/minimal_100cells/bw_cut_sites/HyDrop_v1___Oligo.fragments.bw /lustre1/project/stg_00002/lcb/hydrop_v2_paper/mcortex/cistopic/mcortex_all_otsu_notdownsampled_own_consensuspeaks/pseudobulk/tech_cell_type_downsampled/minimal_100cells/bw_cut_sites/10x_v2___Oligo.fragments.bw /lustre1/project/stg_00002/lcb/hydrop_v2_paper/mcortex/cistopic/mcortex_all_otsu_notdownsampled_own_consensuspeaks/pseudobulk/tech_cell_type_downsampled/minimal_100cells/bw_cut_sites/10x_v1___Oligo.fragments.bw\" \\\n",
    "  \"Oligo\" \"Oligo_cut_sites_985cells_all_combined_max1_5Log2FC_bed_DARs\" \"0 0 0 0\" \"0.1 0.1 0.1 0.1\"\n"
   ]
  },
  {
   "cell_type": "code",
   "execution_count": 18,
   "id": "29ae257d-bd18-41b2-99d5-29b828928d56",
   "metadata": {},
   "outputs": [
    {
     "name": "stdout",
     "output_type": "stream",
     "text": [
      "/data/leuven/software/biomed/wice_icelake_rocky8/2021a/software/deepTools/3.5.0-foss-2021a/lib/python3.9/site-packages/deeptools/plotHeatmap.py:481: MatplotlibDeprecationWarning:\n",
      "\n",
      "You are modifying the state of a globally registered colormap. This has been deprecated since 3.3 and in 3.6, you will not be able to modify a registered colormap in-place. To remove this warning, you can make a copy of the colormap first. cmap = mpl.cm.get_cmap(\"RdYlBu\").copy()\n",
      "\n",
      "/data/leuven/software/biomed/wice_icelake_rocky8/2021a/software/deepTools/3.5.0-foss-2021a/lib/python3.9/site-packages/deeptools/plotHeatmap.py:738: MatplotlibDeprecationWarning:\n",
      "\n",
      "The 'alpha' parameter to Colorbar has no effect because it is overridden by the mappable; it is deprecated since 3.3 and will be removed two minor releases later.\n",
      "\n",
      "/data/leuven/software/biomed/wice_icelake_rocky8/2021a/software/deepTools/3.5.0-foss-2021a/lib/python3.9/site-packages/deeptools/plotHeatmap.py:770: MatplotlibDeprecationWarning:\n",
      "\n",
      "savefig() got unexpected keyword argument \"pdd_inches\" which is no longer supported as of 3.3 and will become an error two minor releases later\n",
      "\n"
     ]
    }
   ],
   "source": [
    "generate_combined_heatmap \\\n",
    "  /lustre1/project/stg_00002/lcb/hydrop_v2_paper/mcortex/cistopic/mcortex_all_otsu_notdownsampled_own_consensuspeaks/DARs/dict_BICCN_corrected_08112024/top_regions_max1_5Log2FC_bed/L2_3_IT.bed \\\n",
    "  \"HyDrop_v2 HyDrop_v1 10x_v2 10x_v1\" \\\n",
    "  \"/lustre1/project/stg_00002/lcb/hydrop_v2_paper/mcortex/cistopic/mcortex_all_otsu_notdownsampled_own_consensuspeaks/pseudobulk/tech_cell_type_downsampled/minimal_100cells/bw_cut_sites/HyDrop_v2___L2_3_IT.fragments.bw /lustre1/project/stg_00002/lcb/hydrop_v2_paper/mcortex/cistopic/mcortex_all_otsu_notdownsampled_own_consensuspeaks/pseudobulk/tech_cell_type_downsampled/minimal_100cells/bw_cut_sites/HyDrop_v1___L2_3_IT.fragments.bw /lustre1/project/stg_00002/lcb/hydrop_v2_paper/mcortex/cistopic/mcortex_all_otsu_notdownsampled_own_consensuspeaks/pseudobulk/tech_cell_type_downsampled/minimal_100cells/bw_cut_sites/10x_v2___L2_3_IT.fragments.bw /lustre1/project/stg_00002/lcb/hydrop_v2_paper/mcortex/cistopic/mcortex_all_otsu_notdownsampled_own_consensuspeaks/pseudobulk/tech_cell_type_downsampled/minimal_100cells/bw_cut_sites/10x_v1___L2_3_IT.fragments.bw\" \\\n",
    "  \"L2_3_IT\" \"L2_3_IT_cut_sites_469cells_all_combined_max1_5Log2FC_bed_DARs\" \"0 0 0 0\" \"0.03 0.03 0.03 0.03\"\n"
   ]
  },
  {
   "cell_type": "markdown",
   "id": "21b304ba-8510-4ead-aae4-62f3bc60de0a",
   "metadata": {},
   "source": [
    "# narrow peaks as background on cut sites"
   ]
  },
  {
   "cell_type": "code",
   "execution_count": 20,
   "id": "415d3c57-2ece-4fc3-99f3-931fa7076615",
   "metadata": {},
   "outputs": [],
   "source": [
    "generate_combined_heatmap() {\n",
    "  local bed_file=$1\n",
    "  local sample_labels=$2   # Sample labels combined (space-separated)\n",
    "  local bigwig_files=$3    # BigWig file paths combined (space-separated)\n",
    "  local cell_type=$4\n",
    "  local output_prefix=$5\n",
    "  local z_min_list=$6      # Space-separated list of zMin values (one per sample)\n",
    "  local z_max_list=$7      # Space-separated list of zMax values (one per sample)\n",
    "\n",
    "  # Compute matrix for all samples together\n",
    "  computeMatrix reference-point \\\n",
    "    -R ${bed_file} \\\n",
    "    -S ${bigwig_files} \\\n",
    "    --referencePoint center \\\n",
    "    -b 500 -a 500 \\\n",
    "    -out ${output_prefix}_matrix.gz \\\n",
    "    --missingDataAsZero\n",
    "\n",
    "  # Plot combined heatmap with per-sample zMin and zMax values\n",
    "  plotHeatmap -m ${output_prefix}_matrix.gz \\\n",
    "    --dpi 300 \\\n",
    "    --whatToShow 'heatmap and colorbar' \\\n",
    "    --plotFileFormat svg \\\n",
    "    --xAxisLabel '' \\\n",
    "    --regionsLabel '' \\\n",
    "    --samplesLabel ${sample_labels} \\\n",
    "    -T \"${cell_type}\" \\\n",
    "    --zMin ${z_min_list} \\\n",
    "    --zMax ${z_max_list} \\\n",
    "    --heatmapHeight 10 --heatmapWidth 5 \\\n",
    "    -out ${output_prefix}_heatmap.svg\n",
    "}"
   ]
  },
  {
   "cell_type": "code",
   "execution_count": 21,
   "id": "49de4fd5-24b5-4354-aad5-c59d3cd10349",
   "metadata": {},
   "outputs": [
    {
     "name": "stdout",
     "output_type": "stream",
     "text": [
      "/data/leuven/software/biomed/wice_icelake_rocky8/2021a/software/deepTools/3.5.0-foss-2021a/lib/python3.9/site-packages/deeptools/plotHeatmap.py:481: MatplotlibDeprecationWarning:\n",
      "\n",
      "You are modifying the state of a globally registered colormap. This has been deprecated since 3.3 and in 3.6, you will not be able to modify a registered colormap in-place. To remove this warning, you can make a copy of the colormap first. cmap = mpl.cm.get_cmap(\"RdYlBu\").copy()\n",
      "\n",
      "/data/leuven/software/biomed/wice_icelake_rocky8/2021a/software/deepTools/3.5.0-foss-2021a/lib/python3.9/site-packages/deeptools/plotHeatmap.py:738: MatplotlibDeprecationWarning:\n",
      "\n",
      "The 'alpha' parameter to Colorbar has no effect because it is overridden by the mappable; it is deprecated since 3.3 and will be removed two minor releases later.\n",
      "\n",
      "/data/leuven/software/biomed/wice_icelake_rocky8/2021a/software/deepTools/3.5.0-foss-2021a/lib/python3.9/site-packages/deeptools/plotHeatmap.py:770: MatplotlibDeprecationWarning:\n",
      "\n",
      "savefig() got unexpected keyword argument \"pdd_inches\" which is no longer supported as of 3.3 and will become an error two minor releases later\n",
      "\n"
     ]
    }
   ],
   "source": [
    "generate_combined_heatmap \\\n",
    "  /lustre1/project/stg_00002/lcb/hydrop_v2_paper/mcortex/cistopic/mcortex_all_otsu_notdownsampled_own_consensuspeaks/consensus_peak_calling/MACS/Micro_PVM_summits.bed \\\n",
    "  \"HyDrop_v2 HyDrop_v1 10x_v2 10x_v1\" \\\n",
    "  \"/lustre1/project/stg_00002/lcb/hydrop_v2_paper/mcortex/cistopic/mcortex_all_otsu_notdownsampled_own_consensuspeaks/pseudobulk/tech_cell_type_downsampled/minimal_100cells/bw_cut_sites/HyDrop_v2___Micro_PVM.fragments.bw /lustre1/project/stg_00002/lcb/hydrop_v2_paper/mcortex/cistopic/mcortex_all_otsu_notdownsampled_own_consensuspeaks/pseudobulk/tech_cell_type_downsampled/minimal_100cells/bw_cut_sites/HyDrop_v1___Micro_PVM.fragments.bw /lustre1/project/stg_00002/lcb/hydrop_v2_paper/mcortex/cistopic/mcortex_all_otsu_notdownsampled_own_consensuspeaks/pseudobulk/tech_cell_type_downsampled/minimal_100cells/bw_cut_sites/10x_v2___Micro_PVM.fragments.bw /lustre1/project/stg_00002/lcb/hydrop_v2_paper/mcortex/cistopic/mcortex_all_otsu_notdownsampled_own_consensuspeaks/pseudobulk/tech_cell_type_downsampled/minimal_100cells/bw_cut_sites/10x_v1___Micro_PVM.fragments.bw\" \\\n",
    "  \"Micro_PVM\" \"Micro_PVM_cut_sites_509cells_all_combined_summits\" \"0 0 0 0\" \"0.1 0.1 0.1 0.1\"\n"
   ]
  },
  {
   "cell_type": "code",
   "execution_count": 23,
   "id": "2a2c5b65-6b7e-4ee7-a56a-15868f917bda",
   "metadata": {},
   "outputs": [
    {
     "name": "stdout",
     "output_type": "stream",
     "text": [
      "/data/leuven/software/biomed/wice_icelake_rocky8/2021a/software/deepTools/3.5.0-foss-2021a/lib/python3.9/site-packages/deeptools/plotHeatmap.py:481: MatplotlibDeprecationWarning:\n",
      "\n",
      "You are modifying the state of a globally registered colormap. This has been deprecated since 3.3 and in 3.6, you will not be able to modify a registered colormap in-place. To remove this warning, you can make a copy of the colormap first. cmap = mpl.cm.get_cmap(\"RdYlBu\").copy()\n",
      "\n",
      "/data/leuven/software/biomed/wice_icelake_rocky8/2021a/software/deepTools/3.5.0-foss-2021a/lib/python3.9/site-packages/deeptools/plotHeatmap.py:738: MatplotlibDeprecationWarning:\n",
      "\n",
      "The 'alpha' parameter to Colorbar has no effect because it is overridden by the mappable; it is deprecated since 3.3 and will be removed two minor releases later.\n",
      "\n",
      "/data/leuven/software/biomed/wice_icelake_rocky8/2021a/software/deepTools/3.5.0-foss-2021a/lib/python3.9/site-packages/deeptools/plotHeatmap.py:770: MatplotlibDeprecationWarning:\n",
      "\n",
      "savefig() got unexpected keyword argument \"pdd_inches\" which is no longer supported as of 3.3 and will become an error two minor releases later\n",
      "\n"
     ]
    }
   ],
   "source": [
    "generate_combined_heatmap \\\n",
    "  /lustre1/project/stg_00002/lcb/hydrop_v2_paper/mcortex/cistopic/mcortex_all_otsu_notdownsampled_own_consensuspeaks/consensus_peak_calling/MACS/Oligo_summits.bed \\\n",
    "  \"HyDrop_v2 HyDrop_v1 10x_v2 10x_v1\" \\\n",
    "  \"/lustre1/project/stg_00002/lcb/hydrop_v2_paper/mcortex/cistopic/mcortex_all_otsu_notdownsampled_own_consensuspeaks/pseudobulk/tech_cell_type_downsampled/minimal_100cells/bw_cut_sites/HyDrop_v2___Oligo.fragments.bw /lustre1/project/stg_00002/lcb/hydrop_v2_paper/mcortex/cistopic/mcortex_all_otsu_notdownsampled_own_consensuspeaks/pseudobulk/tech_cell_type_downsampled/minimal_100cells/bw_cut_sites/HyDrop_v1___Oligo.fragments.bw /lustre1/project/stg_00002/lcb/hydrop_v2_paper/mcortex/cistopic/mcortex_all_otsu_notdownsampled_own_consensuspeaks/pseudobulk/tech_cell_type_downsampled/minimal_100cells/bw_cut_sites/10x_v2___Oligo.fragments.bw /lustre1/project/stg_00002/lcb/hydrop_v2_paper/mcortex/cistopic/mcortex_all_otsu_notdownsampled_own_consensuspeaks/pseudobulk/tech_cell_type_downsampled/minimal_100cells/bw_cut_sites/10x_v1___Oligo.fragments.bw\" \\\n",
    "  \"Oligo\" \"Oligo_cut_sites_985cells_all_combined_summits\" \"0 0 0 0\" \"0.1 0.1 0.1 0.1\"\n"
   ]
  },
  {
   "cell_type": "code",
   "execution_count": 24,
   "id": "57cb43a9-d4a1-4ced-b382-4a8dfe5108ff",
   "metadata": {},
   "outputs": [
    {
     "name": "stdout",
     "output_type": "stream",
     "text": [
      "/data/leuven/software/biomed/wice_icelake_rocky8/2021a/software/deepTools/3.5.0-foss-2021a/lib/python3.9/site-packages/deeptools/plotHeatmap.py:481: MatplotlibDeprecationWarning:\n",
      "\n",
      "You are modifying the state of a globally registered colormap. This has been deprecated since 3.3 and in 3.6, you will not be able to modify a registered colormap in-place. To remove this warning, you can make a copy of the colormap first. cmap = mpl.cm.get_cmap(\"RdYlBu\").copy()\n",
      "\n",
      "/data/leuven/software/biomed/wice_icelake_rocky8/2021a/software/deepTools/3.5.0-foss-2021a/lib/python3.9/site-packages/deeptools/plotHeatmap.py:738: MatplotlibDeprecationWarning:\n",
      "\n",
      "The 'alpha' parameter to Colorbar has no effect because it is overridden by the mappable; it is deprecated since 3.3 and will be removed two minor releases later.\n",
      "\n",
      "/data/leuven/software/biomed/wice_icelake_rocky8/2021a/software/deepTools/3.5.0-foss-2021a/lib/python3.9/site-packages/deeptools/plotHeatmap.py:770: MatplotlibDeprecationWarning:\n",
      "\n",
      "savefig() got unexpected keyword argument \"pdd_inches\" which is no longer supported as of 3.3 and will become an error two minor releases later\n",
      "\n"
     ]
    }
   ],
   "source": [
    "generate_combined_heatmap \\\n",
    "  /lustre1/project/stg_00002/lcb/hydrop_v2_paper/mcortex/cistopic/mcortex_all_otsu_notdownsampled_own_consensuspeaks/consensus_peak_calling/MACS/L2_3_IT_summits.bed \\\n",
    "  \"HyDrop_v2 HyDrop_v1 10x_v2 10x_v1\" \\\n",
    "  \"/lustre1/project/stg_00002/lcb/hydrop_v2_paper/mcortex/cistopic/mcortex_all_otsu_notdownsampled_own_consensuspeaks/pseudobulk/tech_cell_type_downsampled/minimal_100cells/bw_cut_sites/HyDrop_v2___L2_3_IT.fragments.bw /lustre1/project/stg_00002/lcb/hydrop_v2_paper/mcortex/cistopic/mcortex_all_otsu_notdownsampled_own_consensuspeaks/pseudobulk/tech_cell_type_downsampled/minimal_100cells/bw_cut_sites/HyDrop_v1___L2_3_IT.fragments.bw /lustre1/project/stg_00002/lcb/hydrop_v2_paper/mcortex/cistopic/mcortex_all_otsu_notdownsampled_own_consensuspeaks/pseudobulk/tech_cell_type_downsampled/minimal_100cells/bw_cut_sites/10x_v2___L2_3_IT.fragments.bw /lustre1/project/stg_00002/lcb/hydrop_v2_paper/mcortex/cistopic/mcortex_all_otsu_notdownsampled_own_consensuspeaks/pseudobulk/tech_cell_type_downsampled/minimal_100cells/bw_cut_sites/10x_v1___L2_3_IT.fragments.bw\" \\\n",
    "  \"L2_3_IT\" \"L2_3_IT_cut_sites_469cells_all_combined_summits\" \"0 0 0 0\" \"0.03 0.03 0.03 0.03\"\n"
   ]
  },
  {
   "cell_type": "code",
   "execution_count": 4,
   "id": "15b8a0dc-d06a-4ab8-aff9-ff2071f24a37",
   "metadata": {},
   "outputs": [],
   "source": [
    "generate_combined_heatmap() {\n",
    "  local bed_file=$1\n",
    "  local sample_labels=$2   # Sample labels combined (space-separated)\n",
    "  local bigwig_files=$3    # BigWig file paths combined (space-separated)\n",
    "  local cell_type=$4\n",
    "  local output_prefix=$5\n",
    "  local z_min_list=$6      # Space-separated list of zMin values (one per sample)\n",
    "  local z_max_list=$7      # Space-separated list of zMax values (one per sample)\n",
    "\n",
    "  # Compute matrix for all samples together\n",
    "  computeMatrix reference-point \\\n",
    "    -R ${bed_file} \\\n",
    "    -S ${bigwig_files} \\\n",
    "    --referencePoint center \\\n",
    "    -b 50 -a 50 \\\n",
    "    -out ${output_prefix}_matrix.gz \\\n",
    "    --missingDataAsZero \n",
    "\n",
    "  # Plot combined heatmap with per-sample zMin and zMax values\n",
    "  plotProfile -m ${output_prefix}_matrix.gz \\\n",
    "    --dpi 300 \\\n",
    "    --plotFileFormat svg \\\n",
    "    --regionsLabel '' \\\n",
    "    -T \"${cell_type}\" \\\n",
    "    -out ${output_prefix}_plot.svg\n",
    "}"
   ]
  },
  {
   "cell_type": "code",
   "execution_count": 5,
   "id": "31d3b524-70af-4613-b772-e092306880ee",
   "metadata": {},
   "outputs": [
    {
     "name": "stdout",
     "output_type": "stream",
     "text": [
      "No handles with labels found to put in legend.\n"
     ]
    }
   ],
   "source": [
    "generate_combined_heatmap \\\n",
    "  /lustre1/project/stg_00002/lcb/hydrop_v2_paper/mcortex/cistopic/mcortex_all_otsu_notdownsampled_own_consensuspeaks/consensus_peak_calling/MACS_max50bp_frag/Micro_PVM_summits.bed \\\n",
    "  \"HyDrop_v2 HyDrop_v1 10x_v2 10x_v1\" \\\n",
    "  \"/lustre1/project/stg_00002/lcb/hydrop_v2_paper/mcortex/cistopic/mcortex_all_otsu_notdownsampled_own_consensuspeaks/pseudobulk/tech_cell_type_downsampled/minimal_100cells/bw_cut_sites/HyDrop_v2___Micro_PVM.fragments.bw /lustre1/project/stg_00002/lcb/hydrop_v2_paper/mcortex/cistopic/mcortex_all_otsu_notdownsampled_own_consensuspeaks/pseudobulk/tech_cell_type_downsampled/minimal_100cells/bw_cut_sites/HyDrop_v1___Micro_PVM.fragments.bw /lustre1/project/stg_00002/lcb/hydrop_v2_paper/mcortex/cistopic/mcortex_all_otsu_notdownsampled_own_consensuspeaks/pseudobulk/tech_cell_type_downsampled/minimal_100cells/bw_cut_sites/10x_v2___Micro_PVM.fragments.bw /lustre1/project/stg_00002/lcb/hydrop_v2_paper/mcortex/cistopic/mcortex_all_otsu_notdownsampled_own_consensuspeaks/pseudobulk/tech_cell_type_downsampled/minimal_100cells/bw_cut_sites/10x_v1___Micro_PVM.fragments.bw\" \\\n",
    "  \"Micro_PVM\" \"Profile_Micro_PVM_cut_sites_509cells_all_combined_summits_max50bp_regions\" \"0 0 0 0\" \"0.1 0.1 0.1 0.1\"\n"
   ]
  },
  {
   "cell_type": "code",
   "execution_count": 6,
   "id": "ba80dab1-9d92-41e2-81c1-8cf0685cc09f",
   "metadata": {},
   "outputs": [
    {
     "name": "stdout",
     "output_type": "stream",
     "text": [
      "No handles with labels found to put in legend.\n"
     ]
    }
   ],
   "source": [
    "generate_combined_heatmap \\\n",
    "  /lustre1/project/stg_00002/lcb/hydrop_v2_paper/mcortex/cistopic/mcortex_all_otsu_notdownsampled_own_consensuspeaks/consensus_peak_calling/MACS_max50bp_frag/Oligo_summits.bed \\\n",
    "  \"HyDrop_v2 HyDrop_v1 10x_v2 10x_v1\" \\\n",
    "  \"/lustre1/project/stg_00002/lcb/hydrop_v2_paper/mcortex/cistopic/mcortex_all_otsu_notdownsampled_own_consensuspeaks/pseudobulk/tech_cell_type_downsampled/minimal_100cells/bw_cut_sites/HyDrop_v2___Oligo.fragments.bw /lustre1/project/stg_00002/lcb/hydrop_v2_paper/mcortex/cistopic/mcortex_all_otsu_notdownsampled_own_consensuspeaks/pseudobulk/tech_cell_type_downsampled/minimal_100cells/bw_cut_sites/HyDrop_v1___Oligo.fragments.bw /lustre1/project/stg_00002/lcb/hydrop_v2_paper/mcortex/cistopic/mcortex_all_otsu_notdownsampled_own_consensuspeaks/pseudobulk/tech_cell_type_downsampled/minimal_100cells/bw_cut_sites/10x_v2___Oligo.fragments.bw /lustre1/project/stg_00002/lcb/hydrop_v2_paper/mcortex/cistopic/mcortex_all_otsu_notdownsampled_own_consensuspeaks/pseudobulk/tech_cell_type_downsampled/minimal_100cells/bw_cut_sites/10x_v1___Oligo.fragments.bw\" \\\n",
    "  \"Oligo\" \"Profile_Oligo_cut_sites_985cells_all_combined_summits_max50bp_regions\" \"0 0 0 0\" \"0.1 0.1 0.1 0.1\"\n"
   ]
  },
  {
   "cell_type": "code",
   "execution_count": 7,
   "id": "95a7379b-1c49-4f34-a200-978254624325",
   "metadata": {},
   "outputs": [
    {
     "name": "stdout",
     "output_type": "stream",
     "text": [
      "No handles with labels found to put in legend.\n"
     ]
    }
   ],
   "source": [
    "generate_combined_heatmap \\\n",
    "  /lustre1/project/stg_00002/lcb/hydrop_v2_paper/mcortex/cistopic/mcortex_all_otsu_notdownsampled_own_consensuspeaks/consensus_peak_calling/MACS_max50bp_frag/L2_3_IT_summits.bed \\\n",
    "  \"HyDrop_v2 HyDrop_v1 10x_v2 10x_v1\" \\\n",
    "  \"/lustre1/project/stg_00002/lcb/hydrop_v2_paper/mcortex/cistopic/mcortex_all_otsu_notdownsampled_own_consensuspeaks/pseudobulk/tech_cell_type_downsampled/minimal_100cells/bw_cut_sites/HyDrop_v2___L2_3_IT.fragments.bw /lustre1/project/stg_00002/lcb/hydrop_v2_paper/mcortex/cistopic/mcortex_all_otsu_notdownsampled_own_consensuspeaks/pseudobulk/tech_cell_type_downsampled/minimal_100cells/bw_cut_sites/HyDrop_v1___L2_3_IT.fragments.bw /lustre1/project/stg_00002/lcb/hydrop_v2_paper/mcortex/cistopic/mcortex_all_otsu_notdownsampled_own_consensuspeaks/pseudobulk/tech_cell_type_downsampled/minimal_100cells/bw_cut_sites/10x_v2___L2_3_IT.fragments.bw /lustre1/project/stg_00002/lcb/hydrop_v2_paper/mcortex/cistopic/mcortex_all_otsu_notdownsampled_own_consensuspeaks/pseudobulk/tech_cell_type_downsampled/minimal_100cells/bw_cut_sites/10x_v1___L2_3_IT.fragments.bw\" \\\n",
    "  \"L2_3_IT\" \"Profile_L2_3_IT_cut_sites_469cells_all_combined_summits_max50bp_regions\" \"0 0 0 0\" \"0.03 0.03 0.03 0.03\"\n"
   ]
  },
  {
   "cell_type": "markdown",
   "id": "5eff740c-43d0-47cb-aa89-7ed903cb799a",
   "metadata": {},
   "source": [
    "### in colors"
   ]
  },
  {
   "cell_type": "code",
   "execution_count": 11,
   "id": "15be776f-c982-4e93-b546-e8021fb61f72",
   "metadata": {},
   "outputs": [],
   "source": [
    "plotProfile -m Profile_L2_3_IT_cut_sites_469cells_all_combined_summits_max50bp_regions_matrix.gz \\\n",
    "    --dpi 300 \\\n",
    "    --plotFileFormat svg \\\n",
    "    --regionsLabel '' \\\n",
    "    -T \"${cell_type}\" \\\n",
    "    --perGroup \\\n",
    "    --plotType=fill \\\n",
    "    --colors red yellow blue green \\\n",
    "    -out Profile_combined_L2_3_IT_cut_sites_469cells_all_combined_summits_max50bp_regions_matrix.svg"
   ]
  },
  {
   "cell_type": "code",
   "execution_count": 14,
   "id": "5bd9bec1-8a6c-4ca6-b634-ce1334108d25",
   "metadata": {},
   "outputs": [],
   "source": [
    "generate_combined_heatmap() {\n",
    "  local bed_file=$1\n",
    "  local sample_labels=$2   # Sample labels combined (space-separated)\n",
    "  local bigwig_files=$3    # BigWig file paths combined (space-separated)\n",
    "  local cell_type=$4\n",
    "  local output_prefix=$5\n",
    "  local z_min_list=$6      # Space-separated list of zMin values (one per sample)\n",
    "  local z_max_list=$7      # Space-separated list of zMax values (one per sample)\n",
    "\n",
    "  # Compute matrix for all samples together\n",
    "  computeMatrix reference-point \\\n",
    "    -R ${bed_file} \\\n",
    "    -S ${bigwig_files} \\\n",
    "    --referencePoint center \\\n",
    "    -b 500 -a 500 \\\n",
    "    -out ${output_prefix}_matrix.gz \\\n",
    "    --missingDataAsZero\n",
    "\n",
    "  # Plot combined heatmap with per-sample zMin and zMax values\n",
    "  plotHeatmap -m ${output_prefix}_matrix.gz \\\n",
    "    --dpi 300 \\\n",
    "    --whatToShow 'heatmap and colorbar' \\\n",
    "    --plotFileFormat svg \\\n",
    "    --xAxisLabel '' \\\n",
    "    --regionsLabel '' \\\n",
    "    --samplesLabel ${sample_labels} \\\n",
    "    -T \"${cell_type}\" \\\n",
    "    --zMin ${z_min_list} \\\n",
    "    --zMax ${z_max_list} \\\n",
    "    --heatmapHeight 10 --heatmapWidth 5 \\\n",
    "    -out ${output_prefix}_heatmap.svg\n",
    "}"
   ]
  },
  {
   "cell_type": "code",
   "execution_count": 13,
   "id": "63c4dde3-00d3-4e05-a14b-91c9438d95f3",
   "metadata": {},
   "outputs": [
    {
     "name": "stdout",
     "output_type": "stream",
     "text": [
      "No handles with labels found to put in legend.\n"
     ]
    }
   ],
   "source": [
    "generate_combined_heatmap \\\n",
    "  /user/leuven/350/vsc35050/hdickm/overlap.bed \\\n",
    "  \"K562\" \\\n",
    "  \"/staging/leuven/stg_00002/lcb/nkemp/software/chrombpnet_LCB/chrombpnet/data/downloads/K562_unstranded.bw\" \\\n",
    "  \"K562\" \"K562_oberlab_bed\" \"0\" \"0.1\"\n"
   ]
  },
  {
   "cell_type": "code",
   "execution_count": null,
   "id": "ade30314-48ee-4002-96c8-c387e6098696",
   "metadata": {},
   "outputs": [],
   "source": [
    "generate_combined_heatmap() {\n",
    "  local bed_file=$1\n",
    "  local sample_labels=$2   # Sample labels combined (space-separated)\n",
    "  local bigwig_files=$3    # BigWig file paths combined (space-separated)\n",
    "  local cell_type=$4\n",
    "  local output_prefix=$5\n",
    "  local z_min_list=$6      # Space-separated list of zMin values (one per sample)\n",
    "  local z_max_list=$7      # Space-separated list of zMax values (one per sample)\n",
    "\n",
    "  # Compute matrix for all samples together\n",
    "  computeMatrix reference-point \\\n",
    "    -R ${bed_file} \\\n",
    "    -S ${bigwig_files} \\\n",
    "    --referencePoint center \\\n",
    "    -b 1000 -a 1000 \\\n",
    "    -out ${output_prefix}_matrix.gz \\\n",
    "    --missingDataAsZero\n",
    "\n",
    "  # Plot combined heatmap with per-sample zMin and zMax values\n",
    "  plotHeatmap -m ${output_prefix}_matrix.gz \\\n",
    "    --dpi 300 \\\n",
    "    --whatToShow 'heatmap and colorbar' \\\n",
    "    --plotFileFormat svg \\\n",
    "    --xAxisLabel '' \\\n",
    "    --regionsLabel '' \\\n",
    "    --samplesLabel ${sample_labels} \\\n",
    "    -T \"${cell_type}\" \\\n",
    "    --zMin ${z_min_list} \\\n",
    "    --zMax ${z_max_list} \\\n",
    "    --heatmapHeight 10 --heatmapWidth 5 \\\n",
    "    -out ${output_prefix}_heatmap.svg\n",
    "}"
   ]
  },
  {
   "cell_type": "code",
   "execution_count": 20,
   "id": "3841beee-5994-443c-b203-ab337dcf908a",
   "metadata": {},
   "outputs": [
    {
     "name": "stdout",
     "output_type": "stream",
     "text": [
      "/data/leuven/software/biomed/wice_icelake_rocky8/2021a/software/deepTools/3.5.0-foss-2021a/lib/python3.9/site-packages/deeptools/plotHeatmap.py:481: MatplotlibDeprecationWarning:\n",
      "\n",
      "You are modifying the state of a globally registered colormap. This has been deprecated since 3.3 and in 3.6, you will not be able to modify a registered colormap in-place. To remove this warning, you can make a copy of the colormap first. cmap = mpl.cm.get_cmap(\"RdYlBu\").copy()\n",
      "\n",
      "/data/leuven/software/biomed/wice_icelake_rocky8/2021a/software/deepTools/3.5.0-foss-2021a/lib/python3.9/site-packages/deeptools/plotHeatmap.py:762: MatplotlibDeprecationWarning:\n",
      "\n",
      "The 'alpha' parameter to Colorbar has no effect because it is overridden by the mappable; it is deprecated since 3.3 and will be removed two minor releases later.\n",
      "\n",
      "/data/leuven/software/biomed/wice_icelake_rocky8/2021a/software/deepTools/3.5.0-foss-2021a/lib/python3.9/site-packages/deeptools/plotHeatmap.py:770: MatplotlibDeprecationWarning:\n",
      "\n",
      "savefig() got unexpected keyword argument \"pdd_inches\" which is no longer supported as of 3.3 and will become an error two minor releases later\n",
      "\n"
     ]
    }
   ],
   "source": [
    "generate_combined_heatmap \\\n",
    "  /user/leuven/350/vsc35050/hdickm/overlap.bed \\\n",
    "  \"K562\" \\\n",
    "  \"/staging/leuven/stg_00002/lcb/nkemp/software/chrombpnet_LCB/chrombpnet/data/downloads/K562_unstranded.bw\" \\\n",
    "  \"K562\" \"K562_heat_map_overlab_2kb_bed\" \"0\" \"0.1\""
   ]
  },
  {
   "cell_type": "code",
   "execution_count": 24,
   "id": "fda8e64c-c73a-4122-a066-1ad140bba930",
   "metadata": {},
   "outputs": [
    {
     "name": "stdout",
     "output_type": "stream",
     "text": [
      "/data/leuven/software/biomed/wice_icelake_rocky8/2021a/software/deepTools/3.5.0-foss-2021a/lib/python3.9/site-packages/deeptools/plotHeatmap.py:481: MatplotlibDeprecationWarning:\n",
      "\n",
      "You are modifying the state of a globally registered colormap. This has been deprecated since 3.3 and in 3.6, you will not be able to modify a registered colormap in-place. To remove this warning, you can make a copy of the colormap first. cmap = mpl.cm.get_cmap(\"RdYlBu\").copy()\n",
      "\n",
      "/data/leuven/software/biomed/wice_icelake_rocky8/2021a/software/deepTools/3.5.0-foss-2021a/lib/python3.9/site-packages/deeptools/plotHeatmap.py:762: MatplotlibDeprecationWarning:\n",
      "\n",
      "The 'alpha' parameter to Colorbar has no effect because it is overridden by the mappable; it is deprecated since 3.3 and will be removed two minor releases later.\n",
      "\n",
      "/data/leuven/software/biomed/wice_icelake_rocky8/2021a/software/deepTools/3.5.0-foss-2021a/lib/python3.9/site-packages/deeptools/plotHeatmap.py:770: MatplotlibDeprecationWarning:\n",
      "\n",
      "savefig() got unexpected keyword argument \"pdd_inches\" which is no longer supported as of 3.3 and will become an error two minor releases later\n",
      "\n"
     ]
    }
   ],
   "source": [
    "plotHeatmap -m K562_heat_map_overlab_2kb_bed_matrix.gz \\\n",
    "    --dpi 300 \\\n",
    "    --whatToShow 'heatmap and colorbar' \\\n",
    "    --plotFileFormat svg \\\n",
    "    --xAxisLabel '' \\\n",
    "    --regionsLabel '' \\\n",
    "    --samplesLabel K562 \\\n",
    "    -T \"${cell_type}\" \\\n",
    "    --zMin 0 \\\n",
    "    --zMax 2 \\\n",
    "    --heatmapHeight 10 --heatmapWidth 5 \\\n",
    "    -out K562_heat_map_overlab_bed_heatmap.svg"
   ]
  },
  {
   "cell_type": "code",
   "execution_count": null,
   "id": "606e7ccd-a739-4818-acb6-37626930023e",
   "metadata": {},
   "outputs": [],
   "source": [
    "generate_combined_heatmap() {\n",
    "  local bed_file=$1\n",
    "  local sample_labels=$2   # Sample labels combined (space-separated)\n",
    "  local bigwig_files=$3    # BigWig file paths combined (space-separated)\n",
    "  local cell_type=$4\n",
    "  local output_prefix=$5\n",
    "  local z_min_list=$6      # Space-separated list of zMin values (one per sample)\n",
    "  local z_max_list=$7      # Space-separated list of zMax values (one per sample)\n",
    "\n",
    "  # Compute matrix for all samples together\n",
    "  computeMatrix reference-point \\\n",
    "    -R ${bed_file} \\\n",
    "    -S ${bigwig_files} \\\n",
    "    --referencePoint center \\\n",
    "    -b 500 -a 500 \\\n",
    "    -out ${output_prefix}_matrix.gz \\\n",
    "    --missingDataAsZero\n",
    "\n",
    "  # Plot combined heatmap with per-sample zMin and zMax values\n",
    "  plotHeatmap -m ${output_prefix}_matrix.gz \\\n",
    "    --dpi 300 \\\n",
    "    --whatToShow 'heatmap and colorbar' \\\n",
    "    --plotFileFormat svg \\\n",
    "    --xAxisLabel '' \\\n",
    "    --regionsLabel '' \\\n",
    "    --samplesLabel ${sample_labels} \\\n",
    "    -T \"${cell_type}\" \\\n",
    "    --heatmapHeight 10 --heatmapWidth 5 \\\n",
    "    -out ${output_prefix}_heatmap.svg\n",
    "}"
   ]
  },
  {
   "cell_type": "code",
   "execution_count": null,
   "id": "73ef3c37-5ba1-47c8-8752-54c6b766848c",
   "metadata": {},
   "outputs": [],
   "source": [
    "generate_combined_heatmap \\\n",
    "  /lustre1/project/stg_00002/lcb/hydrop_v2_paper/mcortex/cistopic/mcortex_all_otsu_notdownsampled_own_consensuspeaks/consensus_peak_calling/MACS_max50bp_frag/Micro_PVM_summits.bed \\\n",
    "  \"C. elegans\" \\\n",
    "  \"/staging/leuven/stg_00002/lcb/lcb_projects/celegans/data_waterston/wholeworm_bw_files/whole_worm_refinement_lda.topic51.subtract.bw\" \\\n",
    "  \"gut\" \"c_elegans_gut_heat_map\"\n"
   ]
  },
  {
   "cell_type": "code",
   "execution_count": null,
   "id": "13277a41-a005-427e-bdc6-8cae328e1fee",
   "metadata": {},
   "outputs": [],
   "source": []
  },
  {
   "cell_type": "markdown",
   "id": "9d17e118-7e51-4a62-b06d-671b465d48f6",
   "metadata": {},
   "source": [
    "# Tn5 bias mouse"
   ]
  },
  {
   "cell_type": "code",
   "execution_count": null,
   "id": "be723341-860f-40ad-b1d5-a3a324fe4f58",
   "metadata": {},
   "outputs": [],
   "source": []
  },
  {
   "cell_type": "code",
   "execution_count": 2,
   "id": "c1071665-edc5-44eb-8fec-4c5b166f9a5d",
   "metadata": {},
   "outputs": [],
   "source": [
    "generate_combined_heatmap() {\n",
    "  local bed_file=$1\n",
    "  local sample_labels=$2   # Sample labels combined (space-separated)\n",
    "  local bigwig_files=$3    # BigWig file paths combined (space-separated)\n",
    "  local cell_type=$4\n",
    "  local output_prefix=$5\n",
    "\n",
    "  # Compute matrix for all samples together\n",
    "  computeMatrix reference-point \\\n",
    "    -R ${bed_file} \\\n",
    "    -S ${bigwig_files} \\\n",
    "    --referencePoint center \\\n",
    "    -b 500 -a 500 \\\n",
    "    -out ${output_prefix}_matrix.gz\n",
    "\n",
    "  # Plot combined heatmap with per-sample zMin and zMax values\n",
    "  plotHeatmap -m ${output_prefix}_matrix.gz \\\n",
    "    --dpi 300 \\\n",
    "    --whatToShow 'heatmap and colorbar' \\\n",
    "    --plotFileFormat svg \\\n",
    "    --xAxisLabel '' \\\n",
    "    --regionsLabel '' \\\n",
    "    --samplesLabel ${sample_labels} \\\n",
    "    -T \"${cell_type}\" \\\n",
    "    --heatmapHeight 10 --heatmapWidth 5 \\\n",
    "    --missingDataColor 0 \\\n",
    "    -out ${output_prefix}_heatmap.svg\n",
    "}"
   ]
  },
  {
   "cell_type": "code",
   "execution_count": 24,
   "id": "41b30e0a-879e-43c7-9682-d32dc89641d6",
   "metadata": {
    "collapsed": true,
    "jupyter": {
     "outputs_hidden": true
    }
   },
   "outputs": [
    {
     "name": "stdout",
     "output_type": "stream",
     "text": [
      "Skipping chrM:16262-16263, due to being absent in the computeMatrix output.\n",
      "Traceback (most recent call last):\n",
      "  File \"/data/leuven/software/biomed/wice_icelake_rocky8/2021a/software/deepTools/3.5.0-foss-2021a/bin/plotHeatmap\", line 12, in <module>\n",
      "    main(args)\n",
      "  File \"/data/leuven/software/biomed/wice_icelake_rocky8/2021a/software/deepTools/3.5.0-foss-2021a/lib/python3.9/site-packages/deeptools/plotHeatmap.py\", line 840, in main\n",
      "    hm.matrix.set_sample_labels(args.samplesLabel)\n",
      "  File \"/data/leuven/software/biomed/wice_icelake_rocky8/2021a/software/deepTools/3.5.0-foss-2021a/lib/python3.9/site-packages/deeptools/heatmapper.py\", line 1164, in set_sample_labels\n",
      "    raise ValueError(\"length new labels != length original labels\")\n",
      "ValueError: length new labels != length original labels\n"
     ]
    },
    {
     "ename": "",
     "evalue": "1",
     "output_type": "error",
     "traceback": []
    }
   ],
   "source": [
    "generate_combined_heatmap \\\n",
    "  /lustre1/project/stg_00002/lcb/hydrop_v2_paper/mcortex/cistopic/mcortex_all_otsu_notdownsampled_own_consensuspeaks/consensus_peak_calling/MACS_max50bp_frag/Micro_PVM_summits.bed \\\n",
    "  \"Tn5_bias\" \\\n",
    "  \"/staging/leuven/stg_00002/lcb/lmahieu/data/PRINT/cache/mm10Tn5Bias.tar.gz.untar/mm10Tn5Bias.bw\" \\\n",
    "  \"Micro_PVM\" \"Tn5_bias_bw_Micro_PVM_bed_509cells_max50bp_regions\"\n"
   ]
  },
  {
   "cell_type": "code",
   "execution_count": 25,
   "id": "514d963a-fb72-4b26-b3c1-18478f53f692",
   "metadata": {},
   "outputs": [
    {
     "name": "stdout",
     "output_type": "stream",
     "text": [
      "Skipping chrM:16262-16263, due to being absent in the computeMatrix output.\n",
      "/data/leuven/software/biomed/wice_icelake_rocky8/2021a/software/deepTools/3.5.0-foss-2021a/lib/python3.9/site-packages/deeptools/plotHeatmap.py:481: MatplotlibDeprecationWarning:\n",
      "\n",
      "You are modifying the state of a globally registered colormap. This has been deprecated since 3.3 and in 3.6, you will not be able to modify a registered colormap in-place. To remove this warning, you can make a copy of the colormap first. cmap = mpl.cm.get_cmap(\"RdYlBu\").copy()\n",
      "\n",
      "/data/leuven/software/biomed/wice_icelake_rocky8/2021a/software/deepTools/3.5.0-foss-2021a/lib/python3.9/site-packages/deeptools/plotHeatmap.py:762: MatplotlibDeprecationWarning:\n",
      "\n",
      "The 'alpha' parameter to Colorbar has no effect because it is overridden by the mappable; it is deprecated since 3.3 and will be removed two minor releases later.\n",
      "\n",
      "/data/leuven/software/biomed/wice_icelake_rocky8/2021a/software/deepTools/3.5.0-foss-2021a/lib/python3.9/site-packages/deeptools/plotHeatmap.py:770: MatplotlibDeprecationWarning:\n",
      "\n",
      "savefig() got unexpected keyword argument \"pdd_inches\" which is no longer supported as of 3.3 and will become an error two minor releases later\n",
      "\n"
     ]
    }
   ],
   "source": [
    "generate_combined_heatmap \\\n",
    "  /lustre1/project/stg_00002/lcb/hydrop_v2_paper/mcortex/cistopic/mcortex_all_otsu_notdownsampled_own_consensuspeaks/consensus_peak_calling/MACS_max50bp_frag/Oligo_summits.bed \\\n",
    "  \"Tn5_bias\" \\\n",
    "  \"/staging/leuven/stg_00002/lcb/lmahieu/data/PRINT/cache/mm10Tn5Bias.tar.gz.untar/mm10Tn5Bias.bw\" \\\n",
    "  \"Oligo\" \"Tn5_bias_bw_Oligo_bed_985cells_max50bp_regions\"\n"
   ]
  },
  {
   "cell_type": "code",
   "execution_count": 26,
   "id": "4fbd4175-568f-4394-9940-30864b2a6ba4",
   "metadata": {},
   "outputs": [
    {
     "name": "stdout",
     "output_type": "stream",
     "text": [
      "Skipping chrM:16263-16264, due to being absent in the computeMatrix output.\n",
      "/data/leuven/software/biomed/wice_icelake_rocky8/2021a/software/deepTools/3.5.0-foss-2021a/lib/python3.9/site-packages/deeptools/plotHeatmap.py:481: MatplotlibDeprecationWarning:\n",
      "\n",
      "You are modifying the state of a globally registered colormap. This has been deprecated since 3.3 and in 3.6, you will not be able to modify a registered colormap in-place. To remove this warning, you can make a copy of the colormap first. cmap = mpl.cm.get_cmap(\"RdYlBu\").copy()\n",
      "\n",
      "/data/leuven/software/biomed/wice_icelake_rocky8/2021a/software/deepTools/3.5.0-foss-2021a/lib/python3.9/site-packages/deeptools/plotHeatmap.py:762: MatplotlibDeprecationWarning:\n",
      "\n",
      "The 'alpha' parameter to Colorbar has no effect because it is overridden by the mappable; it is deprecated since 3.3 and will be removed two minor releases later.\n",
      "\n",
      "/data/leuven/software/biomed/wice_icelake_rocky8/2021a/software/deepTools/3.5.0-foss-2021a/lib/python3.9/site-packages/deeptools/plotHeatmap.py:770: MatplotlibDeprecationWarning:\n",
      "\n",
      "savefig() got unexpected keyword argument \"pdd_inches\" which is no longer supported as of 3.3 and will become an error two minor releases later\n",
      "\n"
     ]
    }
   ],
   "source": [
    "generate_combined_heatmap \\\n",
    "  /lustre1/project/stg_00002/lcb/hydrop_v2_paper/mcortex/cistopic/mcortex_all_otsu_notdownsampled_own_consensuspeaks/consensus_peak_calling/MACS_max50bp_frag/L2_3_IT_summits.bed \\\n",
    "  \"Tn5_bias\" \\\n",
    "  \"/staging/leuven/stg_00002/lcb/lmahieu/data/PRINT/cache/mm10Tn5Bias.tar.gz.untar/mm10Tn5Bias.bw\" \\\n",
    "  \"L2_3_IT\" \"Tn5_bias_bw_L2_3_IT_bed_469cells_max50bp_regions\"\n"
   ]
  },
  {
   "cell_type": "markdown",
   "id": "feaa9095-cba2-4363-8eb1-3a55ab48975e",
   "metadata": {},
   "source": [
    "## all fragments bed Tn5 bias bw"
   ]
  },
  {
   "cell_type": "code",
   "execution_count": 27,
   "id": "fed16498-d6ca-4c87-977d-502504a2646b",
   "metadata": {},
   "outputs": [
    {
     "name": "stdout",
     "output_type": "stream",
     "text": [
      "/data/leuven/software/biomed/wice_icelake_rocky8/2021a/software/deepTools/3.5.0-foss-2021a/lib/python3.9/site-packages/deeptools/plotHeatmap.py:481: MatplotlibDeprecationWarning:\n",
      "\n",
      "You are modifying the state of a globally registered colormap. This has been deprecated since 3.3 and in 3.6, you will not be able to modify a registered colormap in-place. To remove this warning, you can make a copy of the colormap first. cmap = mpl.cm.get_cmap(\"RdYlBu\").copy()\n",
      "\n",
      "/data/leuven/software/biomed/wice_icelake_rocky8/2021a/software/deepTools/3.5.0-foss-2021a/lib/python3.9/site-packages/deeptools/plotHeatmap.py:762: MatplotlibDeprecationWarning:\n",
      "\n",
      "The 'alpha' parameter to Colorbar has no effect because it is overridden by the mappable; it is deprecated since 3.3 and will be removed two minor releases later.\n",
      "\n",
      "/data/leuven/software/biomed/wice_icelake_rocky8/2021a/software/deepTools/3.5.0-foss-2021a/lib/python3.9/site-packages/deeptools/plotHeatmap.py:770: MatplotlibDeprecationWarning:\n",
      "\n",
      "savefig() got unexpected keyword argument \"pdd_inches\" which is no longer supported as of 3.3 and will become an error two minor releases later\n",
      "\n"
     ]
    }
   ],
   "source": [
    "generate_combined_heatmap \\\n",
    "  /lustre1/project/stg_00002/lcb/hydrop_v2_paper/mcortex/cistopic/mcortex_all_otsu_notdownsampled_own_consensuspeaks/consensus_peak_calling/MACS/Micro_PVM_summits.bed \\\n",
    "  \"Tn5_bias\" \\\n",
    "  \"/staging/leuven/stg_00002/lcb/lmahieu/data/PRINT/cache/mm10Tn5Bias.tar.gz.untar/mm10Tn5Bias.bw\" \\\n",
    "  \"Micro_PVM\" \"Tn5_bias_bw_Micro_PVM_bed_509cells_all_regions\"\n"
   ]
  },
  {
   "cell_type": "code",
   "execution_count": 28,
   "id": "2d40bb72-7874-4ddc-baf8-02a0ef100d68",
   "metadata": {},
   "outputs": [
    {
     "name": "stdout",
     "output_type": "stream",
     "text": [
      "/data/leuven/software/biomed/wice_icelake_rocky8/2021a/software/deepTools/3.5.0-foss-2021a/lib/python3.9/site-packages/deeptools/plotHeatmap.py:481: MatplotlibDeprecationWarning:\n",
      "\n",
      "You are modifying the state of a globally registered colormap. This has been deprecated since 3.3 and in 3.6, you will not be able to modify a registered colormap in-place. To remove this warning, you can make a copy of the colormap first. cmap = mpl.cm.get_cmap(\"RdYlBu\").copy()\n",
      "\n",
      "/data/leuven/software/biomed/wice_icelake_rocky8/2021a/software/deepTools/3.5.0-foss-2021a/lib/python3.9/site-packages/deeptools/plotHeatmap.py:762: MatplotlibDeprecationWarning:\n",
      "\n",
      "The 'alpha' parameter to Colorbar has no effect because it is overridden by the mappable; it is deprecated since 3.3 and will be removed two minor releases later.\n",
      "\n",
      "/data/leuven/software/biomed/wice_icelake_rocky8/2021a/software/deepTools/3.5.0-foss-2021a/lib/python3.9/site-packages/deeptools/plotHeatmap.py:770: MatplotlibDeprecationWarning:\n",
      "\n",
      "savefig() got unexpected keyword argument \"pdd_inches\" which is no longer supported as of 3.3 and will become an error two minor releases later\n",
      "\n"
     ]
    }
   ],
   "source": [
    "generate_combined_heatmap \\\n",
    "  /lustre1/project/stg_00002/lcb/hydrop_v2_paper/mcortex/cistopic/mcortex_all_otsu_notdownsampled_own_consensuspeaks/consensus_peak_calling/MACS/Oligo_summits.bed \\\n",
    "  \"Tn5_bias\" \\\n",
    "  \"/staging/leuven/stg_00002/lcb/lmahieu/data/PRINT/cache/mm10Tn5Bias.tar.gz.untar/mm10Tn5Bias.bw\" \\\n",
    "  \"Oligo\" \"Tn5_bias_bw_Oligo_bed_985cells_all_regions\"\n"
   ]
  },
  {
   "cell_type": "code",
   "execution_count": 29,
   "id": "6eed4eea-098e-4015-8e2c-5655bae0bdc6",
   "metadata": {},
   "outputs": [
    {
     "name": "stdout",
     "output_type": "stream",
     "text": [
      "/data/leuven/software/biomed/wice_icelake_rocky8/2021a/software/deepTools/3.5.0-foss-2021a/lib/python3.9/site-packages/deeptools/plotHeatmap.py:481: MatplotlibDeprecationWarning:\n",
      "\n",
      "You are modifying the state of a globally registered colormap. This has been deprecated since 3.3 and in 3.6, you will not be able to modify a registered colormap in-place. To remove this warning, you can make a copy of the colormap first. cmap = mpl.cm.get_cmap(\"RdYlBu\").copy()\n",
      "\n",
      "/data/leuven/software/biomed/wice_icelake_rocky8/2021a/software/deepTools/3.5.0-foss-2021a/lib/python3.9/site-packages/deeptools/plotHeatmap.py:762: MatplotlibDeprecationWarning:\n",
      "\n",
      "The 'alpha' parameter to Colorbar has no effect because it is overridden by the mappable; it is deprecated since 3.3 and will be removed two minor releases later.\n",
      "\n",
      "/data/leuven/software/biomed/wice_icelake_rocky8/2021a/software/deepTools/3.5.0-foss-2021a/lib/python3.9/site-packages/deeptools/plotHeatmap.py:770: MatplotlibDeprecationWarning:\n",
      "\n",
      "savefig() got unexpected keyword argument \"pdd_inches\" which is no longer supported as of 3.3 and will become an error two minor releases later\n",
      "\n"
     ]
    }
   ],
   "source": [
    "generate_combined_heatmap \\\n",
    "  /lustre1/project/stg_00002/lcb/hydrop_v2_paper/mcortex/cistopic/mcortex_all_otsu_notdownsampled_own_consensuspeaks/consensus_peak_calling/MACS/L2_3_IT_summits.bed \\\n",
    "  \"Tn5_bias\" \\\n",
    "  \"/staging/leuven/stg_00002/lcb/lmahieu/data/PRINT/cache/mm10Tn5Bias.tar.gz.untar/mm10Tn5Bias.bw\" \\\n",
    "  \"L2_3_IT\" \"Tn5_bias_bw_L2_3_IT_bed_469cells_all_regions\"\n"
   ]
  },
  {
   "cell_type": "markdown",
   "id": "f3ad656a-6c31-468f-b333-bd2c42142b53",
   "metadata": {},
   "source": [
    "## Tn5 bias bed with bw cutsites per cell type"
   ]
  },
  {
   "cell_type": "code",
   "execution_count": null,
   "id": "611fa327-87ff-4be6-b755-1d135133bb78",
   "metadata": {},
   "outputs": [],
   "source": [
    "generate_combined_heatmap \\\n",
    "  /staging/leuven/stg_00002/lcb/lmahieu/data/PRINT/cache/mm10Tn5Bias.tar.gz.untar/mm10Tn5Bias.bedGraph \\\n",
    "  \"HyDrop_v2 HyDrop_v1 10x_v2 10x_v1\" \\\n",
    "  \"/lustre1/project/stg_00002/lcb/hydrop_v2_paper/mcortex/cistopic/mcortex_all_otsu_notdownsampled_own_consensuspeaks/pseudobulk/tech_cell_type_downsampled/minimal_100cells/bw_cut_sites/HyDrop_v2___Micro_PVM.fragments.bw /lustre1/project/stg_00002/lcb/hydrop_v2_paper/mcortex/cistopic/mcortex_all_otsu_notdownsampled_own_consensuspeaks/pseudobulk/tech_cell_type_downsampled/minimal_100cells/bw_cut_sites/HyDrop_v1___Micro_PVM.fragments.bw /lustre1/project/stg_00002/lcb/hydrop_v2_paper/mcortex/cistopic/mcortex_all_otsu_notdownsampled_own_consensuspeaks/pseudobulk/tech_cell_type_downsampled/minimal_100cells/bw_cut_sites/10x_v2___Micro_PVM.fragments.bw /lustre1/project/stg_00002/lcb/hydrop_v2_paper/mcortex/cistopic/mcortex_all_otsu_notdownsampled_own_consensuspeaks/pseudobulk/tech_cell_type_downsampled/minimal_100cells/bw_cut_sites/10x_v1___Micro_PVM.fragments.bw\" \\\n",
    "  \"Micro_PVM_Tn5 bias\" \"Micro_PVM_cut_sites_509cells_Tn5bias_bed\"\n"
   ]
  },
  {
   "cell_type": "code",
   "execution_count": 31,
   "id": "9b2248ab-f408-408b-baa5-b3dd8c1a856d",
   "metadata": {},
   "outputs": [
    {
     "name": "stdout",
     "output_type": "stream",
     "text": [
      "Traceback (most recent call last):\n",
      "  File \"/data/leuven/software/biomed/wice_icelake_rocky8/2021a/software/deepTools/3.5.0-foss-2021a/bin/computeMatrix\", line 14, in <module>\n",
      "    main(args)\n",
      "  File \"/data/leuven/software/biomed/wice_icelake_rocky8/2021a/software/deepTools/3.5.0-foss-2021a/lib/python3.9/site-packages/deeptools/computeMatrix.py\", line 421, in main\n",
      "    hm.computeMatrix(scores_file_list, args.regionsFileName, parameters, blackListFileName=args.blackListFileName, verbose=args.verbose, allArgs=args)\n",
      "  File \"/data/leuven/software/biomed/wice_icelake_rocky8/2021a/software/deepTools/3.5.0-foss-2021a/lib/python3.9/site-packages/deeptools/heatmapper.py\", line 252, in computeMatrix\n",
      "    res, labels = mapReduce.mapReduce([score_file_list, parameters],\n",
      "  File \"/data/leuven/software/biomed/wice_icelake_rocky8/2021a/software/deepTools/3.5.0-foss-2021a/lib/python3.9/site-packages/deeptools/mapReduce.py\", line 85, in mapReduce\n",
      "    bed_interval_tree = GTF(bedFile, defaultGroup=defaultGroup, transcriptID=transcriptID, exonID=exonID, transcript_id_designator=transcript_id_designator, keepExons=keepExons)\n",
      "  File \"/data/leuven/software/biomed/wice_icelake_rocky8/2021a/software/deepTools/3.5.0-foss-2021a/lib/python3.9/site-packages/deeptoolsintervals/parse.py\", line 595, in __init__\n",
      "    self.parseBED(fp, line, 3, labelColumn)\n",
      "  File \"/data/leuven/software/biomed/wice_icelake_rocky8/2021a/software/deepTools/3.5.0-foss-2021a/lib/python3.9/site-packages/deeptoolsintervals/parse.py\", line 362, in parseBED\n",
      "    self.parseBEDcore(line, ncols)\n",
      "  File \"/data/leuven/software/biomed/wice_icelake_rocky8/2021a/software/deepTools/3.5.0-foss-2021a/lib/python3.9/site-packages/deeptoolsintervals/parse.py\", line 244, in parseBEDcore\n",
      "    self.tree.addEntry(self.mungeChromosome(cols[0]), int(cols[1]), int(cols[2]), name, strand, self.labelIdx, score)\n",
      "KeyboardInterrupt\n",
      "\n"
     ]
    }
   ],
   "source": [
    "generate_combined_heatmap \\\n",
    "  /staging/leuven/stg_00002/lcb/lmahieu/data/PRINT/cache/mm10Tn5Bias.tar.gz.untar/mm10Tn5Bias.bedGraph \\\n",
    "  \"HyDrop_v2 HyDrop_v1 10x_v2 10x_v1\" \\\n",
    "  \"/lustre1/project/stg_00002/lcb/hydrop_v2_paper/mcortex/cistopic/mcortex_all_otsu_notdownsampled_own_consensuspeaks/pseudobulk/tech_cell_type_downsampled/minimal_100cells/bw_cut_sites/HyDrop_v2___Oligo.fragments.bw /lustre1/project/stg_00002/lcb/hydrop_v2_paper/mcortex/cistopic/mcortex_all_otsu_notdownsampled_own_consensuspeaks/pseudobulk/tech_cell_type_downsampled/minimal_100cells/bw_cut_sites/HyDrop_v1___Oligo.fragments.bw /lustre1/project/stg_00002/lcb/hydrop_v2_paper/mcortex/cistopic/mcortex_all_otsu_notdownsampled_own_consensuspeaks/pseudobulk/tech_cell_type_downsampled/minimal_100cells/bw_cut_sites/10x_v2___Oligo.fragments.bw /lustre1/project/stg_00002/lcb/hydrop_v2_paper/mcortex/cistopic/mcortex_all_otsu_notdownsampled_own_consensuspeaks/pseudobulk/tech_cell_type_downsampled/minimal_100cells/bw_cut_sites/10x_v1___Oligo.fragments.bw\" \\\n",
    "  \"Oligo_Tn5 bias\" \"Oligo_cut_sites_985cells_Tn5bias_bed\"\n"
   ]
  },
  {
   "cell_type": "code",
   "execution_count": null,
   "id": "5ee2a218-f7a4-42c2-bd26-3973bf44f0f7",
   "metadata": {},
   "outputs": [],
   "source": [
    "generate_combined_heatmap \\\n",
    "  /staging/leuven/stg_00002/lcb/lmahieu/data/PRINT/cache/mm10Tn5Bias.tar.gz.untar/mm10Tn5Bias.bedGraph \\\n",
    "  \"HyDrop_v2 HyDrop_v1 10x_v2 10x_v1\" \\\n",
    "  \"/lustre1/project/stg_00002/lcb/hydrop_v2_paper/mcortex/cistopic/mcortex_all_otsu_notdownsampled_own_consensuspeaks/pseudobulk/tech_cell_type_downsampled/minimal_100cells/bw_cut_sites/HyDrop_v2___L2_3_IT.fragments.bw /lustre1/project/stg_00002/lcb/hydrop_v2_paper/mcortex/cistopic/mcortex_all_otsu_notdownsampled_own_consensuspeaks/pseudobulk/tech_cell_type_downsampled/minimal_100cells/bw_cut_sites/HyDrop_v1___L2_3_IT.fragments.bw /lustre1/project/stg_00002/lcb/hydrop_v2_paper/mcortex/cistopic/mcortex_all_otsu_notdownsampled_own_consensuspeaks/pseudobulk/tech_cell_type_downsampled/minimal_100cells/bw_cut_sites/10x_v2___L2_3_IT.fragments.bw /lustre1/project/stg_00002/lcb/hydrop_v2_paper/mcortex/cistopic/mcortex_all_otsu_notdownsampled_own_consensuspeaks/pseudobulk/tech_cell_type_downsampled/minimal_100cells/bw_cut_sites/10x_v1___L2_3_IT.fragments.bw\" \\\n",
    "  \"L2_3_IT_Tn5 bias\" \"L2_3_IT_cut_sites_469cells_Tn5bias_bed\"\n"
   ]
  },
  {
   "cell_type": "code",
   "execution_count": null,
   "id": "1d906a30-6b8f-4324-80e6-b3df9ac6be22",
   "metadata": {},
   "outputs": [],
   "source": []
  },
  {
   "cell_type": "code",
   "execution_count": null,
   "id": "efebfe58-be89-4054-90b6-0999d4577aa4",
   "metadata": {},
   "outputs": [],
   "source": []
  }
 ],
 "metadata": {
  "kernelspec": {
   "display_name": "Bash",
   "language": "bash",
   "name": "bash092024"
  },
  "language_info": {
   "codemirror_mode": "shell",
   "file_extension": ".sh",
   "mimetype": "text/x-sh",
   "name": "bash"
  }
 },
 "nbformat": 4,
 "nbformat_minor": 5
}
