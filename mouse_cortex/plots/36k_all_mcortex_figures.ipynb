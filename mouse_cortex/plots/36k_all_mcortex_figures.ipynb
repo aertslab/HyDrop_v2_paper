{
 "cells": [
  {
   "cell_type": "markdown",
   "id": "144a29a0-9923-4da6-80c4-e149c8713e51",
   "metadata": {},
   "source": [
    "# 36k downsampled: figures paper from HyDrop (1 & 2) and 10x (1 & 2) object together"
   ]
  },
  {
   "cell_type": "code",
   "execution_count": 1,
   "id": "0e120112-996e-4532-af5d-e7e58bdba0af",
   "metadata": {},
   "outputs": [],
   "source": [
    "from pycisTopic.clust_vis import (\n",
    "    find_clusters,\n",
    "    run_umap,\n",
    "    run_tsne,\n",
    "    plot_metadata,\n",
    "    plot_topic,\n",
    "    cell_topic_heatmap\n",
    ")\n",
    "import numpy as np\n",
    "import matplotlib.pyplot as plt\n",
    "import random\n",
    "from matplotlib.patches import Patch\n",
    "import h5py\n",
    "import pandas as pd\n",
    "import seaborn as sns\n",
    "import matplotlib.pyplot as plt\n",
    "import os"
   ]
  },
  {
   "cell_type": "code",
   "execution_count": 53,
   "id": "95e55613-a507-4b67-8931-bc956919b39c",
   "metadata": {},
   "outputs": [],
   "source": [
    "import matplotlib as mpl\n",
    "mpl.rcParams['pdf.fonttype'] = 42"
   ]
  },
  {
   "cell_type": "markdown",
   "id": "7db449c9-08c9-4454-95c7-cd39b1c08d59",
   "metadata": {},
   "source": [
    "## 36k downsampled"
   ]
  },
  {
   "cell_type": "code",
   "execution_count": 2,
   "id": "2da31cc2-f30c-43b0-8db5-0fa2236da480",
   "metadata": {},
   "outputs": [],
   "source": [
    "import pickle\n",
    "infile = open('/lustre1/project/stg_00002/lcb/hydrop_v2_paper/revision/mcortex/cistopic_36kRPC/cistopic_objs/cistopic_obj_36kRPC_otsu_mouse_cortex_filtered_09062025_110topics.pkl', 'rb')\n",
    "cistopic_obj = pickle.load(infile)\n",
    "infile.close()"
   ]
  },
  {
   "cell_type": "code",
   "execution_count": 3,
   "id": "90cf4904-7aa7-4c9d-b942-7b4bb1cc29d2",
   "metadata": {},
   "outputs": [
    {
     "name": "stdout",
     "output_type": "stream",
     "text": [
      "CistopicObject from project cisTopic_merge with n_cells × n_regions = 82597 × 1086693\n"
     ]
    }
   ],
   "source": [
    "print(cistopic_obj)"
   ]
  },
  {
   "cell_type": "code",
   "execution_count": 4,
   "id": "b03a7ca7-66c4-42a8-a907-f2415cba830c",
   "metadata": {},
   "outputs": [
    {
     "data": {
      "text/plain": [
       "Index(['tech_simplexZu_paper_lift_over_simple', 'Total_nr_frag_in_regions',\n",
       "       'region_label', 'Dupl_rate', 'FRIP', 'beads', 'tech_simple', 'barcode',\n",
       "       'cisTopic_log_nr_acc', 'Predicted_doublets_fragments',\n",
       "       'pycisTopic_leiden_10_0.6', 'cisTopic_log_nr_frag',\n",
       "       'Zu_paper_lift_over', 'refined_annot', 'sample_prep', 'sample_state',\n",
       "       'Log_unique_nr_frag', 'refined_annot_simple', 'Unique_nr_frag',\n",
       "       'Log_total_nr_frag', 'cisTopic_nr_acc', 'Total_nr_frag', 'tech',\n",
       "       'pycisTopic_leiden_10_1.2', 'Dupl_nr_frag', 'Unique_nr_frag_in_regions',\n",
       "       'TSS_enrichment', 'dict_BICCN_corrected_08112024',\n",
       "       'Doublet_scores_fragments', 'cisTopic_nr_frag', 'sample_id',\n",
       "       'pycisTopic_leiden_10_2', 'Zu_paper_lift_over_simple',\n",
       "       'pycisTopic_leiden_10_2.5', 'cleaned_up_annot'],\n",
       "      dtype='object')"
      ]
     },
     "execution_count": 4,
     "metadata": {},
     "output_type": "execute_result"
    }
   ],
   "source": [
    "cistopic_obj.cell_data.columns"
   ]
  },
  {
   "cell_type": "code",
   "execution_count": 30,
   "id": "e9959864-95e5-44a6-bb7a-456880979666",
   "metadata": {},
   "outputs": [],
   "source": [
    "# include in paper based on excel table selected by Koen\n",
    "beads = {'HYA__ac683b__20230829_mouse_cortex_1':'HyDrop_v2_A',\n",
    "    'HYA__e1bdab__20230829_mouse_cortex_2':'HyDrop_v2_A',\n",
    "'HYA__7a1cc3__20231013_HyDropATAC_MouseCortex_A':'HyDrop_v2_B',\n",
    "'HYA__247495__20231013_HyDropATAC_MouseCortex_C':'HyDrop_v2_B',\n",
    "'HYA__7ad445__20231031_HyDropAtac_MouseCortex_A1':'HyDrop_v2_C',\n",
    "'HYA__7e2d51__20231031_HyDropAtac_MouseCortex_B1':'HyDrop_v2_D',\n",
    "'HYA__0f6aa5__20231031_HyDropAtac_MouseCortex_B2':'HyDrop_v2_D',\n",
    "'HYA__a52ea6__20231031_HyDropAtac_MouseCortex_C1':'HyDrop_v2_B',\n",
    "'HYA__a7a748__20231031_HyDropAtac_MouseCortex_C2':'HyDrop_v2_B',\n",
    "'HYA__30fc7f__20231031_HyDropAtac_MouseCortex_D1':'HyDrop_v2_B',\n",
    "'HYA__3e5c73__20231031_HyDropAtac_MouseCortex_D2':'HyDrop_v2_B',\n",
    "    'HYA__d4ff32__20231116_HyATAC_MouseCortex_A':'HyDrop_v2_C',\n",
    "'HYA__66fdea__20231116_HyATAC_MouseCortex_B1':'HyDrop_v2_D',\n",
    "'HYA__ba8433__20231116_HyATAC_MouseCortex_B2':'HyDrop_v2_D',\n",
    "'HYA__8d1d23__20231116_HyATAC_MouseCortex_C1':'HyDrop_v2_C',\n",
    "'HYA__9667aa__20231116_HyATAC_MouseCortex_C2':'HyDrop_v2_C',\n",
    "'HYA__831196__20240105_Mouse_Cortex-a-ATAC':'HyDrop_v2_E',\n",
    "'HYA__fd6250__20240105_Mouse_Cortex-b-ATAC':'HyDrop_v2_E',\n",
    "'HYA__21de27__20240105_Mouse_Cortex-c-ATAC':'HyDrop_v2_E',\n",
    "'HYA__67df33__20240105_Mouse_Cortex-d-ATAC':'HyDrop_v2_E',\n",
    "'HYA__b606e2__20240117_Mouse_Cortex-a-ATAC':'HyDrop_v2_C',\n",
    "'HYA__87f862__20240117_Mouse_Cortex-b-ATAC':'HyDrop_v2_C',\n",
    "'HYA__00c24b__20240117_Mouse_Cortex-c-ATAC':'HyDrop_v2_C',\n",
    "'HYA__177788__20240117_Mouse_Cortex-d-ATAC':'HyDrop_v2_C',\n",
    "'HYA__6b44d3__20240221_Mouse_Cortex-a-ATAC':'HyDrop_v2_F',\n",
    "'HYA__3eb2c7__20240221_Mouse_Cortex-b-ATAC':'HyDrop_v2_F',\n",
    "'HYA__c0d7e5__20240304_Mouse_Cortex-a1-ATAC':'HyDrop_v2_F',\n",
    "'HYA__167ec9__20240304_Mouse_Cortex-a2-ATAC':'HyDrop_v2_F',\n",
    "'HYA__853a40__20240304_Mouse_Cortex-b1-ATAC':'HyDrop_v2_F',\n",
    "'HYA__955707__20240304_Mouse_Cortex-b2-ATAC':'HyDrop_v2_F',\n",
    "'HYA__cc24b7__20240304_Mouse_Cortex-c-ATAC':'HyDrop_v2_F',\n",
    "    'HYA__76b206__20240430_Mouse_Cortex-a-ATAC':'HyDrop_v2_I',\n",
    "'HYA__2eb25d__20240430_Mouse_Cortex-b-ATAC':'HyDrop_v2_F',\n",
    "'HYA__e9082f__20240430_Mouse_Cortex-d-ATAC':'10x_v2',\n",
    "    'atac_v1_adult_brain_fresh_5k':'10x_v1', # https://www.10xgenomics.com/datasets/fresh-cortex-from-adult-mouse-brain-p-50-1-standard-1-1-0\n",
    "    '8k_mouse_cortex_ATACv1-1_nextgem_Chromium_X':'10x_v1', #v1.1 #https://www.10xgenomics.com/datasets/8k-adult-mouse-cortex-cells-atac-v1-1-chromium-x-1-1-standard\n",
    "    '8k_mouse_cortex_ATACv2_nextgem_Chromium_Controller':'10x_v2', #https://www.10xgenomics.com/datasets/8k-adult-mouse-cortex-cells-atac-v2-chromium-controller-2-standard\n",
    "            \"HYA__combined__20210323_cortex_phu_dv_etssb_1-1\": \"HyDrop_v1\",\n",
    "    \"HYA__combined__20210323_cortex_phu_dv_etssb_1-2\": \"HyDrop_v1\",\n",
    "    \"HYA__combined__20210323_cortex_phu_dv_etssb_1-3\": \"HyDrop_v1\",\n",
    "    \"HYA__combined__20210323_cortex_phu_dv_etssb_1-4\": \"HyDrop_v1\",\n",
    "    \"HYA__combined__20210323_cortex_phu_dv_etssb_1-5\": \"HyDrop_v1\",\n",
    " 'HYA__fcb55f__20231013_HyDropATAC_MouseCortex_B':'HyDrop_v2_B',\n",
    " 'HYA__14fb45__20231013_HyDropATAC_MouseCortex_D':'HyDrop_v2_B', \n",
    "        'atac_v1_E18_brain_flash_5k': '10x_v1', # https://www.10xgenomics.com/datasets/flash-frozen-cortex-hippocampus-and-ventricular-zone-from-embryonic-mouse-brain-e-18-1-standard-1-1-0\n",
    "        'e18_mouse_brain_fresh_5k': '10x_v1',\n",
    "        }"
   ]
  },
  {
   "cell_type": "code",
   "execution_count": 31,
   "id": "79c7eb93-fd98-44ed-bf08-9a2a6516675a",
   "metadata": {},
   "outputs": [],
   "source": [
    "for number, new_value in beads.items():\n",
    "    cistopic_obj.cell_data.loc[\n",
    "        cistopic_obj.cell_data[\"sample_id\"] == number, \"beads\"] = new_value"
   ]
  },
  {
   "cell_type": "code",
   "execution_count": 7,
   "id": "b0620d2c-2d01-4555-88c0-ff6624732ce1",
   "metadata": {},
   "outputs": [
    {
     "name": "stdout",
     "output_type": "stream",
     "text": [
      "Unique sample IDs with missing 'beads' values:\n"
     ]
    }
   ],
   "source": [
    "import pandas as pd\n",
    "\n",
    "# Filter the DataFrame for rows where 'beads' is NaN\n",
    "samples_without_beads = cistopic_obj.cell_data[cistopic_obj.cell_data['beads'].isna()]\n",
    "\n",
    "# Get the unique 'sample_id' values for these samples\n",
    "unique_sample_ids = samples_without_beads['sample_id'].unique()\n",
    "\n",
    "# Print the unique sample IDs\n",
    "print(\"Unique sample IDs with missing 'beads' values:\")\n",
    "for sample_id in unique_sample_ids:\n",
    "    print(sample_id)\n"
   ]
  },
  {
   "cell_type": "code",
   "execution_count": 11,
   "id": "f3ed89aa-f897-4ec0-bbac-746292cb3446",
   "metadata": {},
   "outputs": [],
   "source": [
    "# include in paper based on excel table selected by Koen\n",
    "sample_state = {'HYA__ac683b__20230829_mouse_cortex_1':'frozen',\n",
    "    'HYA__e1bdab__20230829_mouse_cortex_2':'frozen',\n",
    "'HYA__7a1cc3__20231013_HyDropATAC_MouseCortex_A':'frozen',\n",
    "'HYA__247495__20231013_HyDropATAC_MouseCortex_C':'frozen',\n",
    "'HYA__7ad445__20231031_HyDropAtac_MouseCortex_A1':'frozen',\n",
    "'HYA__7e2d51__20231031_HyDropAtac_MouseCortex_B1':'frozen',\n",
    "'HYA__0f6aa5__20231031_HyDropAtac_MouseCortex_B2':'frozen',\n",
    "'HYA__a52ea6__20231031_HyDropAtac_MouseCortex_C1':'frozen',\n",
    "'HYA__a7a748__20231031_HyDropAtac_MouseCortex_C2':'frozen',\n",
    "'HYA__30fc7f__20231031_HyDropAtac_MouseCortex_D1':'frozen',\n",
    "'HYA__3e5c73__20231031_HyDropAtac_MouseCortex_D2':'frozen',\n",
    "    'HYA__d4ff32__20231116_HyATAC_MouseCortex_A':'frozen',\n",
    "'HYA__66fdea__20231116_HyATAC_MouseCortex_B1':'frozen',\n",
    "'HYA__ba8433__20231116_HyATAC_MouseCortex_B2':'frozen',\n",
    "'HYA__8d1d23__20231116_HyATAC_MouseCortex_C1':'frozen',\n",
    "'HYA__9667aa__20231116_HyATAC_MouseCortex_C2':'frozen',\n",
    "'HYA__831196__20240105_Mouse_Cortex-a-ATAC':'frozen',\n",
    "'HYA__fd6250__20240105_Mouse_Cortex-b-ATAC':'frozen',\n",
    "'HYA__21de27__20240105_Mouse_Cortex-c-ATAC':'frozen',\n",
    "'HYA__67df33__20240105_Mouse_Cortex-d-ATAC':'frozen',\n",
    "'HYA__b606e2__20240117_Mouse_Cortex-a-ATAC':'frozen',\n",
    "'HYA__87f862__20240117_Mouse_Cortex-b-ATAC':'frozen',\n",
    "'HYA__00c24b__20240117_Mouse_Cortex-c-ATAC':'frozen',\n",
    "'HYA__177788__20240117_Mouse_Cortex-d-ATAC':'frozen',\n",
    "'HYA__6b44d3__20240221_Mouse_Cortex-a-ATAC':'frozen',\n",
    "'HYA__3eb2c7__20240221_Mouse_Cortex-b-ATAC':'frozen',\n",
    "'HYA__c0d7e5__20240304_Mouse_Cortex-a1-ATAC':'frozen',\n",
    "'HYA__167ec9__20240304_Mouse_Cortex-a2-ATAC':'frozen',\n",
    "'HYA__853a40__20240304_Mouse_Cortex-b1-ATAC':'frozen',\n",
    "'HYA__955707__20240304_Mouse_Cortex-b2-ATAC':'frozen',\n",
    "'HYA__cc24b7__20240304_Mouse_Cortex-c-ATAC':'frozen',\n",
    "    'HYA__76b206__20240430_Mouse_Cortex-a-ATAC':'frozen',\n",
    "'HYA__2eb25d__20240430_Mouse_Cortex-b-ATAC':'frozen',\n",
    "'HYA__e9082f__20240430_Mouse_Cortex-d-ATAC':'frozen',\n",
    "    'atac_v1_adult_brain_fresh_5k':'fresh', # https://www.10xgenomics.com/datasets/fresh-cortex-from-adult-mouse-brain-p-50-1-standard-1-1-0\n",
    "    '8k_mouse_cortex_ATACv1-1_nextgem_Chromium_X':'fresh', #v1.1 #https://www.10xgenomics.com/datasets/8k-adult-mouse-cortex-cells-atac-v1-1-chromium-x-1-1-standard\n",
    "    '8k_mouse_cortex_ATACv2_nextgem_Chromium_Controller':'fresh', #https://www.10xgenomics.com/datasets/8k-adult-mouse-cortex-cells-atac-v2-chromium-controller-2-standard\n",
    "            \"HYA__combined__20210323_cortex_phu_dv_etssb_1-1\": \"frozen\",\n",
    "    \"HYA__combined__20210323_cortex_phu_dv_etssb_1-2\": \"frozen\",\n",
    "    \"HYA__combined__20210323_cortex_phu_dv_etssb_1-3\": \"frozen\",\n",
    "    \"HYA__combined__20210323_cortex_phu_dv_etssb_1-4\": \"frozen\",\n",
    "    \"HYA__combined__20210323_cortex_phu_dv_etssb_1-5\": \"frozen\",\n",
    " 'HYA__fcb55f__20231013_HyDropATAC_MouseCortex_B':'frozen',\n",
    " 'HYA__14fb45__20231013_HyDropATAC_MouseCortex_D':'frozen', \n",
    "        'atac_v1_E18_brain_flash_5k': 'frozen', # https://www.10xgenomics.com/datasets/flash-frozen-cortex-hippocampus-and-ventricular-zone-from-embryonic-mouse-brain-e-18-1-standard-1-1-0\n",
    "        'e18_mouse_brain_fresh_5k': 'fresh'\n",
    "               }"
   ]
  },
  {
   "cell_type": "code",
   "execution_count": 12,
   "id": "8797153b-cd2e-4d52-8cd9-d95f6dcdcc14",
   "metadata": {},
   "outputs": [],
   "source": [
    "for number, new_value in sample_state.items():\n",
    "    cistopic_obj.cell_data.loc[        cistopic_obj.cell_data[\"sample_id\"] == number, \"sample_state\"] = new_value"
   ]
  },
  {
   "cell_type": "code",
   "execution_count": 10,
   "id": "65aee17d-eb59-448d-a5e0-379c436dd2f2",
   "metadata": {},
   "outputs": [],
   "source": [
    "# include in paper based on excel table selected by Koen\n",
    "tech = {'HYA__ac683b__20230829_mouse_cortex_1':'HyDrop_v2',\n",
    "    'HYA__e1bdab__20230829_mouse_cortex_2':'HyDrop_v2',\n",
    "'HYA__7a1cc3__20231013_HyDropATAC_MouseCortex_A':'HyDrop_v2',\n",
    "'HYA__247495__20231013_HyDropATAC_MouseCortex_C':'HyDrop_v2',\n",
    "'HYA__7ad445__20231031_HyDropAtac_MouseCortex_A1':'HyDrop_v2',\n",
    "'HYA__7e2d51__20231031_HyDropAtac_MouseCortex_B1':'HyDrop_v2',\n",
    "'HYA__0f6aa5__20231031_HyDropAtac_MouseCortex_B2':'HyDrop_v2',\n",
    "'HYA__a52ea6__20231031_HyDropAtac_MouseCortex_C1':'HyDrop_v2',\n",
    "'HYA__a7a748__20231031_HyDropAtac_MouseCortex_C2':'HyDrop_v2',\n",
    "'HYA__30fc7f__20231031_HyDropAtac_MouseCortex_D1':'HyDrop_v2',\n",
    "'HYA__3e5c73__20231031_HyDropAtac_MouseCortex_D2':'HyDrop_v2',\n",
    "    'HYA__d4ff32__20231116_HyATAC_MouseCortex_A':'HyDrop_v2',\n",
    "'HYA__66fdea__20231116_HyATAC_MouseCortex_B1':'HyDrop_v2',\n",
    "'HYA__ba8433__20231116_HyATAC_MouseCortex_B2':'HyDrop_v2',\n",
    "'HYA__8d1d23__20231116_HyATAC_MouseCortex_C1':'HyDrop_v2',\n",
    "'HYA__9667aa__20231116_HyATAC_MouseCortex_C2':'HyDrop_v2',\n",
    "'HYA__831196__20240105_Mouse_Cortex-a-ATAC':'HyDrop_v2',\n",
    "'HYA__fd6250__20240105_Mouse_Cortex-b-ATAC':'HyDrop_v2',\n",
    "'HYA__21de27__20240105_Mouse_Cortex-c-ATAC':'HyDrop_v2',\n",
    "'HYA__67df33__20240105_Mouse_Cortex-d-ATAC':'HyDrop_v2',\n",
    "'HYA__b606e2__20240117_Mouse_Cortex-a-ATAC':'HyDrop_v2',\n",
    "'HYA__87f862__20240117_Mouse_Cortex-b-ATAC':'HyDrop_v2',\n",
    "'HYA__00c24b__20240117_Mouse_Cortex-c-ATAC':'HyDrop_v2',\n",
    "'HYA__177788__20240117_Mouse_Cortex-d-ATAC':'HyDrop_v2',\n",
    "'HYA__6b44d3__20240221_Mouse_Cortex-a-ATAC':'HyDrop_v2',\n",
    "'HYA__3eb2c7__20240221_Mouse_Cortex-b-ATAC':'HyDrop_v2',\n",
    "'HYA__c0d7e5__20240304_Mouse_Cortex-a1-ATAC':'HyDrop_v2',\n",
    "'HYA__167ec9__20240304_Mouse_Cortex-a2-ATAC':'HyDrop_v2',\n",
    "'HYA__853a40__20240304_Mouse_Cortex-b1-ATAC':'HyDrop_v2',\n",
    "'HYA__955707__20240304_Mouse_Cortex-b2-ATAC':'HyDrop_v2',\n",
    "'HYA__cc24b7__20240304_Mouse_Cortex-c-ATAC':'HyDrop_v2',\n",
    "    'HYA__76b206__20240430_Mouse_Cortex-a-ATAC':'HyDrop_v2',\n",
    "'HYA__2eb25d__20240430_Mouse_Cortex-b-ATAC':'HyDrop_v2',\n",
    "'HYA__e9082f__20240430_Mouse_Cortex-d-ATAC':'10x_v2',\n",
    "    'atac_v1_adult_brain_fresh_5k':'10x_v1', # https://www.10xgenomics.com/datasets/fresh-cortex-from-adult-mouse-brain-p-50-1-standard-1-1-0\n",
    "       '8k_mouse_cortex_ATACv1-1_nextgem_Chromium_X':'10x_v1.1_Chromium_X', #https://www.10xgenomics.com/datasets/8k-adult-mouse-cortex-cells-atac-v1-1-chromium-x-1-1-standard\n",
    "    '8k_mouse_cortex_ATACv2_nextgem_Chromium_Controller':'10x_v2_Chromium_Controler', #https://www.10xgenomics.com/datasets/8k-adult-mouse-cortex-cells-atac-v2-chromium-controller-2-standard\n",
    "            \"HYA__combined__20210323_cortex_phu_dv_etssb_1-1\": \"HyDrop_v1\",\n",
    "    \"HYA__combined__20210323_cortex_phu_dv_etssb_1-2\": \"HyDrop_v1\",\n",
    "    \"HYA__combined__20210323_cortex_phu_dv_etssb_1-3\": \"HyDrop_v1\",\n",
    "    \"HYA__combined__20210323_cortex_phu_dv_etssb_1-4\": \"HyDrop_v1\",\n",
    "    \"HYA__combined__20210323_cortex_phu_dv_etssb_1-5\": \"HyDrop_v1\",\n",
    " 'HYA__fcb55f__20231013_HyDropATAC_MouseCortex_B':'HyDrop_v2',\n",
    " 'HYA__14fb45__20231013_HyDropATAC_MouseCortex_D':'HyDrop_v2',\n",
    "        'atac_v1_E18_brain_flash_5k':'10x_v1',\n",
    "        'e18_mouse_brain_fresh_5k': '10x_multiome_v1'\n",
    "       }"
   ]
  },
  {
   "cell_type": "code",
   "execution_count": 11,
   "id": "02ea4893-c3ae-45c2-ac6e-7e1265e48cb2",
   "metadata": {},
   "outputs": [],
   "source": [
    "for number, new_value in tech.items():\n",
    "    cistopic_obj.cell_data.loc[\n",
    "        cistopic_obj.cell_data[\"sample_id\"] == number, \"tech\"] = new_value"
   ]
  },
  {
   "cell_type": "code",
   "execution_count": 13,
   "id": "637bc614-2188-4c95-8797-541c47925533",
   "metadata": {},
   "outputs": [],
   "source": [
    "# include in paper based on excel table selected by Koen\n",
    "tech_simple = {'HYA__ac683b__20230829_mouse_cortex_1':'HyDrop_v2',\n",
    "    'HYA__e1bdab__20230829_mouse_cortex_2':'HyDrop_v2',\n",
    "'HYA__7a1cc3__20231013_HyDropATAC_MouseCortex_A':'HyDrop_v2',\n",
    "'HYA__247495__20231013_HyDropATAC_MouseCortex_C':'HyDrop_v2',\n",
    "'HYA__7ad445__20231031_HyDropAtac_MouseCortex_A1':'HyDrop_v2',\n",
    "'HYA__7e2d51__20231031_HyDropAtac_MouseCortex_B1':'HyDrop_v2',\n",
    "'HYA__0f6aa5__20231031_HyDropAtac_MouseCortex_B2':'HyDrop_v2',\n",
    "'HYA__a52ea6__20231031_HyDropAtac_MouseCortex_C1':'HyDrop_v2',\n",
    "'HYA__a7a748__20231031_HyDropAtac_MouseCortex_C2':'HyDrop_v2',\n",
    "'HYA__30fc7f__20231031_HyDropAtac_MouseCortex_D1':'HyDrop_v2',\n",
    "'HYA__3e5c73__20231031_HyDropAtac_MouseCortex_D2':'HyDrop_v2',\n",
    "    'HYA__d4ff32__20231116_HyATAC_MouseCortex_A':'HyDrop_v2',\n",
    "'HYA__66fdea__20231116_HyATAC_MouseCortex_B1':'HyDrop_v2',\n",
    "'HYA__ba8433__20231116_HyATAC_MouseCortex_B2':'HyDrop_v2',\n",
    "'HYA__8d1d23__20231116_HyATAC_MouseCortex_C1':'HyDrop_v2',\n",
    "'HYA__9667aa__20231116_HyATAC_MouseCortex_C2':'HyDrop_v2',\n",
    "'HYA__831196__20240105_Mouse_Cortex-a-ATAC':'HyDrop_v2',\n",
    "'HYA__fd6250__20240105_Mouse_Cortex-b-ATAC':'HyDrop_v2',\n",
    "'HYA__21de27__20240105_Mouse_Cortex-c-ATAC':'HyDrop_v2',\n",
    "'HYA__67df33__20240105_Mouse_Cortex-d-ATAC':'HyDrop_v2',\n",
    "'HYA__b606e2__20240117_Mouse_Cortex-a-ATAC':'HyDrop_v2',\n",
    "'HYA__87f862__20240117_Mouse_Cortex-b-ATAC':'HyDrop_v2',\n",
    "'HYA__00c24b__20240117_Mouse_Cortex-c-ATAC':'HyDrop_v2',\n",
    "'HYA__177788__20240117_Mouse_Cortex-d-ATAC':'HyDrop_v2',\n",
    "'HYA__6b44d3__20240221_Mouse_Cortex-a-ATAC':'HyDrop_v2',\n",
    "'HYA__3eb2c7__20240221_Mouse_Cortex-b-ATAC':'HyDrop_v2',\n",
    "'HYA__c0d7e5__20240304_Mouse_Cortex-a1-ATAC':'HyDrop_v2',\n",
    "'HYA__167ec9__20240304_Mouse_Cortex-a2-ATAC':'HyDrop_v2',\n",
    "'HYA__853a40__20240304_Mouse_Cortex-b1-ATAC':'HyDrop_v2',\n",
    "'HYA__955707__20240304_Mouse_Cortex-b2-ATAC':'HyDrop_v2',\n",
    "'HYA__cc24b7__20240304_Mouse_Cortex-c-ATAC':'HyDrop_v2',\n",
    "    'HYA__76b206__20240430_Mouse_Cortex-a-ATAC':'HyDrop_v2',\n",
    "'HYA__2eb25d__20240430_Mouse_Cortex-b-ATAC':'HyDrop_v2',\n",
    "'HYA__e9082f__20240430_Mouse_Cortex-d-ATAC':'10x_v2',\n",
    "    'atac_v1_adult_brain_fresh_5k':'10x_v1', # https://www.10xgenomics.com/datasets/fresh-cortex-from-adult-mouse-brain-p-50-1-standard-1-1-0\n",
    "       '8k_mouse_cortex_ATACv1-1_nextgem_Chromium_X':'10x_v1', #https://www.10xgenomics.com/datasets/8k-adult-mouse-cortex-cells-atac-v1-1-chromium-x-1-1-standard\n",
    "    '8k_mouse_cortex_ATACv2_nextgem_Chromium_Controller':'10x_v2', #https://www.10xgenomics.com/datasets/8k-adult-mouse-cortex-cells-atac-v2-chromium-controller-2-standard\n",
    "            \"HYA__combined__20210323_cortex_phu_dv_etssb_1-1\": \"HyDrop_v1\",\n",
    "    \"HYA__combined__20210323_cortex_phu_dv_etssb_1-2\": \"HyDrop_v1\",\n",
    "    \"HYA__combined__20210323_cortex_phu_dv_etssb_1-3\": \"HyDrop_v1\",\n",
    "    \"HYA__combined__20210323_cortex_phu_dv_etssb_1-4\": \"HyDrop_v1\",\n",
    "    \"HYA__combined__20210323_cortex_phu_dv_etssb_1-5\": \"HyDrop_v1\",\n",
    " 'HYA__fcb55f__20231013_HyDropATAC_MouseCortex_B':'HyDrop_v2',\n",
    " 'HYA__14fb45__20231013_HyDropATAC_MouseCortex_D':'HyDrop_v2',\n",
    "        'atac_v1_E18_brain_flash_5k':'10x_v1',\n",
    "        'e18_mouse_brain_fresh_5k': '10x_multiome_v1'\n",
    "       }"
   ]
  },
  {
   "cell_type": "code",
   "execution_count": 14,
   "id": "83681e89-cf05-4e98-81e6-ee25658f26a6",
   "metadata": {},
   "outputs": [],
   "source": [
    "for number, new_value in tech_simple.items():\n",
    "    cistopic_obj.cell_data.loc[\n",
    "        cistopic_obj.cell_data[\"sample_id\"] == number, \"tech_simple\"] = new_value"
   ]
  },
  {
   "cell_type": "code",
   "execution_count": 21,
   "id": "98ffdf46-e622-4c93-a05d-f737b81b6c0a",
   "metadata": {},
   "outputs": [
    {
     "name": "stdout",
     "output_type": "stream",
     "text": [
      "Unique sample IDs with missing 'tech' values:\n"
     ]
    }
   ],
   "source": [
    "import pandas as pd\n",
    "\n",
    "# Filter the DataFrame for rows where 'beads' is NaN\n",
    "samples_without_beads = cistopic_obj.cell_data[cistopic_obj.cell_data['tech'].isna()]\n",
    "\n",
    "# Get the unique 'sample_id' values for these samples\n",
    "unique_sample_ids = samples_without_beads['sample_id'].unique()\n",
    "\n",
    "# Print the unique sample IDs\n",
    "print(\"Unique sample IDs with missing 'tech' values:\")\n",
    "for sample_id in unique_sample_ids:\n",
    "    print(sample_id)\n"
   ]
  },
  {
   "cell_type": "code",
   "execution_count": 12,
   "id": "18bd6724-62dc-45e4-a6ea-633fffa637c3",
   "metadata": {
    "tags": []
   },
   "outputs": [
    {
     "name": "stdout",
     "output_type": "stream",
     "text": [
      "{'HYA__2eb25d__20240430_Mouse_Cortex-b-ATAC': 8496, 'HYA__76b206__20240430_Mouse_Cortex-a-ATAC': 7225, 'HYA__e9082f__20240430_Mouse_Cortex-d-ATAC': 7195, '8k_mouse_cortex_ATACv2_nextgem_Chromium_Controller': 6972, '8k_mouse_cortex_ATACv1-1_nextgem_Chromium_X': 6776, 'HYA__6b44d3__20240221_Mouse_Cortex-a-ATAC': 6521, 'HYA__cc24b7__20240304_Mouse_Cortex-c-ATAC': 5419, 'HYA__e1bdab__20230829_mouse_cortex_2': 5031, 'HYA__21de27__20240105_Mouse_Cortex-c-ATAC': 4546, 'HYA__a52ea6__20231031_HyDropAtac_MouseCortex_C1': 4356, 'e18_mouse_brain_fresh_5k': 4238, 'HYA__ac683b__20230829_mouse_cortex_1': 3789, 'atac_v1_adult_brain_fresh_5k': 3717, 'HYA__c0d7e5__20240304_Mouse_Cortex-a1-ATAC': 3695, 'HYA__853a40__20240304_Mouse_Cortex-b1-ATAC': 3598, 'HYA__67df33__20240105_Mouse_Cortex-d-ATAC': 3538, 'HYA__0f6aa5__20231031_HyDropAtac_MouseCortex_B2': 3537, 'HYA__3e5c73__20231031_HyDropAtac_MouseCortex_D2': 3531, 'HYA__3eb2c7__20240221_Mouse_Cortex-b-ATAC': 3436, 'atac_v1_E18_brain_flash_5k': 3422, 'HYA__fcb55f__20231013_HyDropATAC_MouseCortex_B': 3184, 'HYA__30fc7f__20231031_HyDropAtac_MouseCortex_D1': 2983, 'HYA__a7a748__20231031_HyDropAtac_MouseCortex_C2': 2917, 'HYA__8d1d23__20231116_HyATAC_MouseCortex_C1': 2860, 'HYA__9667aa__20231116_HyATAC_MouseCortex_C2': 2670, 'HYA__247495__20231013_HyDropATAC_MouseCortex_C': 2475, 'HYA__7e2d51__20231031_HyDropAtac_MouseCortex_B1': 2468, 'HYA__d4ff32__20231116_HyATAC_MouseCortex_A': 2405, 'HYA__831196__20240105_Mouse_Cortex-a-ATAC': 2403, 'HYA__ba8433__20231116_HyATAC_MouseCortex_B2': 2154, 'HYA__66fdea__20231116_HyATAC_MouseCortex_B1': 1843, 'HYA__14fb45__20231013_HyDropATAC_MouseCortex_D': 1820, 'HYA__combined__20210323_cortex_phu_dv_etssb_1-2': 1637, 'HYA__combined__20210323_cortex_phu_dv_etssb_1-3': 1565, 'HYA__combined__20210323_cortex_phu_dv_etssb_1-4': 1511, 'HYA__combined__20210323_cortex_phu_dv_etssb_1-5': 1509, 'HYA__87f862__20240117_Mouse_Cortex-b-ATAC': 1413, 'HYA__combined__20210323_cortex_phu_dv_etssb_1-1': 1319, 'HYA__7ad445__20231031_HyDropAtac_MouseCortex_A1': 1219, 'HYA__00c24b__20240117_Mouse_Cortex-c-ATAC': 974}\n"
     ]
    }
   ],
   "source": [
    "sample_counts = cistopic_obj.cell_data['sample_id'].value_counts().to_dict()\n",
    "print(sample_counts)"
   ]
  },
  {
   "cell_type": "code",
   "execution_count": 17,
   "id": "bc17490d-5f68-4317-bbfa-edaad89f5ed0",
   "metadata": {},
   "outputs": [],
   "source": [
    "# include in paper based on excel table selected by Koen\n",
    "sample_prep_2 = {'HYA__ac683b__20230829_mouse_cortex_1':'HyDro_v2_20230829',\n",
    "    'HYA__e1bdab__20230829_mouse_cortex_2':'HyDro_v2_20230829',\n",
    "'HYA__7a1cc3__20231013_HyDropATAC_MouseCortex_A':'HyDro_v2_20231013',\n",
    "'HYA__247495__20231013_HyDropATAC_MouseCortex_C':'HyDro_v2_20231013',\n",
    "'HYA__7ad445__20231031_HyDropAtac_MouseCortex_A1':'HyDro_v2_20231031',\n",
    "'HYA__7e2d51__20231031_HyDropAtac_MouseCortex_B1':'HyDro_v2_20231031',\n",
    "'HYA__0f6aa5__20231031_HyDropAtac_MouseCortex_B2':'HyDro_v2_20231031',\n",
    "'HYA__a52ea6__20231031_HyDropAtac_MouseCortex_C1':'HyDro_v2_20231031',\n",
    "'HYA__a7a748__20231031_HyDropAtac_MouseCortex_C2':'HyDro_v2_20231031',\n",
    "'HYA__30fc7f__20231031_HyDropAtac_MouseCortex_D1':'HyDro_v2_20231031',\n",
    "'HYA__3e5c73__20231031_HyDropAtac_MouseCortex_D2':'HyDro_v2_20231031',\n",
    "    'HYA__d4ff32__20231116_HyATAC_MouseCortex_A':'HyDro_v2_20231116',\n",
    "'HYA__66fdea__20231116_HyATAC_MouseCortex_B1':'HyDro_v2_20231116',\n",
    "'HYA__ba8433__20231116_HyATAC_MouseCortex_B2':'HyDro_v2_20231116',\n",
    "'HYA__8d1d23__20231116_HyATAC_MouseCortex_C1':'HyDro_v2_20231116',\n",
    "'HYA__9667aa__20231116_HyATAC_MouseCortex_C2':'HyDro_v2_20231116',\n",
    "'HYA__831196__20240105_Mouse_Cortex-a-ATAC':'HyDro_v2_20240105',\n",
    "'HYA__fd6250__20240105_Mouse_Cortex-b-ATAC':'HyDro_v2_20240105',\n",
    "'HYA__21de27__20240105_Mouse_Cortex-c-ATAC':'HyDro_v2_20240105',\n",
    "'HYA__67df33__20240105_Mouse_Cortex-d-ATAC':'HyDro_v2_20240105',\n",
    "'HYA__b606e2__20240117_Mouse_Cortex-a-ATAC':'HyDro_v2_20240117',\n",
    "'HYA__87f862__20240117_Mouse_Cortex-b-ATAC':'HyDro_v2_20240117',\n",
    "'HYA__00c24b__20240117_Mouse_Cortex-c-ATAC':'HyDro_v2_20240117',\n",
    "'HYA__177788__20240117_Mouse_Cortex-d-ATAC':'HyDro_v2_20240117',\n",
    "'HYA__6b44d3__20240221_Mouse_Cortex-a-ATAC':'HyDro_v2_20240221',\n",
    "'HYA__3eb2c7__20240221_Mouse_Cortex-b-ATAC':'HyDro_v2_20240221',\n",
    "'HYA__c0d7e5__20240304_Mouse_Cortex-a1-ATAC':'HyDro_v2_20240221',\n",
    "'HYA__167ec9__20240304_Mouse_Cortex-a2-ATAC':'HyDro_v2_20240221',\n",
    "'HYA__853a40__20240304_Mouse_Cortex-b1-ATAC':'HyDro_v2_20240221',\n",
    "'HYA__955707__20240304_Mouse_Cortex-b2-ATAC':'HyDro_v2_20240221',\n",
    "'HYA__cc24b7__20240304_Mouse_Cortex-c-ATAC':'HyDro_v2_20240221',\n",
    "    'HYA__76b206__20240430_Mouse_Cortex-a-ATAC':'HyDro_v2_20240430',\n",
    "'HYA__2eb25d__20240430_Mouse_Cortex-b-ATAC':'HyDro_v2_20240430',\n",
    "'HYA__e9082f__20240430_Mouse_Cortex-d-ATAC':'10x_Chromium_20240430',\n",
    "    'atac_v1_adult_brain_fresh_5k':'adult_fresh_10x_v1', # https://www.10xgenomics.com/datasets/fresh-cortex-from-adult-mouse-brain-p-50-1-standard-1-1-0\n",
    "       '8k_mouse_cortex_ATACv1-1_nextgem_Chromium_X':'adult_fresh_10x_v1.1_Chromium_X', #https://www.10xgenomics.com/datasets/8k-adult-mouse-cortex-cells-atac-v1-1-chromium-x-1-1-standard\n",
    "    '8k_mouse_cortex_ATACv2_nextgem_Chromium_Controller':'adult_fresh_10x_v2_Chromium_Controler', #https://www.10xgenomics.com/datasets/8k-adult-mouse-cortex-cells-atac-v2-chromium-controller-2-standard\n",
    "            \"HYA__combined__20210323_cortex_phu_dv_etssb_1-1\": \"HyDrop_v1\",\n",
    "    \"HYA__combined__20210323_cortex_phu_dv_etssb_1-2\": \"HyDrop_v1\",\n",
    "    \"HYA__combined__20210323_cortex_phu_dv_etssb_1-3\": \"HyDrop_v1\",\n",
    "    \"HYA__combined__20210323_cortex_phu_dv_etssb_1-4\": \"HyDrop_v1\",\n",
    "    \"HYA__combined__20210323_cortex_phu_dv_etssb_1-5\": \"HyDrop_v1\",\n",
    "'HYA__fcb55f__20231013_HyDropATAC_MouseCortex_B':'20231013_exclude',\n",
    " 'HYA__14fb45__20231013_HyDropATAC_MouseCortex_D':'20231013_exclude',\n",
    "                 'atac_v1_E18_brain_flash_5k':'E18_frozen_10x_v1',\n",
    "                 'e18_mouse_brain_fresh_5k': 'E18_fresh_10x_v1_multiome'\n",
    "       }"
   ]
  },
  {
   "cell_type": "code",
   "execution_count": 18,
   "id": "2653ba84-e600-4826-a33e-d96cf4ab2f83",
   "metadata": {},
   "outputs": [],
   "source": [
    "for number, new_value in sample_prep_2.items():\n",
    "    cistopic_obj.cell_data.loc[\n",
    "        cistopic_obj.cell_data[\"sample_id\"] == number, \"sample_prep\"] = new_value"
   ]
  },
  {
   "cell_type": "code",
   "execution_count": 23,
   "id": "7ab434d0-17fe-4470-a89c-0c45515e479f",
   "metadata": {},
   "outputs": [],
   "source": [
    "with open('/lustre1/project/stg_00002/lcb/hydrop_v2_paper/mcortex/cistopic/mcortex_all_otsu_36k/cistopic_objs/cistopic_obj_otsu_mouse_cortex_36k_all_16082024_noDBL.pkl', 'wb') as f:\n",
    "  pickle.dump(cistopic_obj, f)"
   ]
  },
  {
   "cell_type": "markdown",
   "id": "d129655e-3174-4a28-a79b-595cc4138926",
   "metadata": {},
   "source": [
    "# QC"
   ]
  },
  {
   "cell_type": "markdown",
   "id": "beb486fe-aab1-47b7-920b-857e793d3adf",
   "metadata": {},
   "source": [
    "## count"
   ]
  },
  {
   "cell_type": "code",
   "execution_count": 5,
   "id": "491e9da4-3269-46f9-b96a-5c643ea673ff",
   "metadata": {},
   "outputs": [
    {
     "data": {
      "text/plain": [
       "Index(['tech_simplexZu_paper_lift_over_simple', 'Total_nr_frag_in_regions',\n",
       "       'region_label', 'Dupl_rate', 'FRIP', 'beads', 'tech_simple', 'barcode',\n",
       "       'cisTopic_log_nr_acc', 'Predicted_doublets_fragments',\n",
       "       'pycisTopic_leiden_10_0.6', 'cisTopic_log_nr_frag',\n",
       "       'Zu_paper_lift_over', 'refined_annot', 'sample_prep', 'sample_state',\n",
       "       'Log_unique_nr_frag', 'refined_annot_simple', 'Unique_nr_frag',\n",
       "       'Log_total_nr_frag', 'cisTopic_nr_acc', 'Total_nr_frag', 'tech',\n",
       "       'pycisTopic_leiden_10_1.2', 'Dupl_nr_frag', 'Unique_nr_frag_in_regions',\n",
       "       'TSS_enrichment', 'dict_BICCN_corrected_08112024',\n",
       "       'Doublet_scores_fragments', 'cisTopic_nr_frag', 'sample_id',\n",
       "       'pycisTopic_leiden_10_2', 'Zu_paper_lift_over_simple',\n",
       "       'pycisTopic_leiden_10_2.5', 'cleaned_up_annot'],\n",
       "      dtype='object')"
      ]
     },
     "execution_count": 5,
     "metadata": {},
     "output_type": "execute_result"
    }
   ],
   "source": [
    "cistopic_obj.cell_data.columns"
   ]
  },
  {
   "cell_type": "code",
   "execution_count": 22,
   "id": "70b11fc7-f719-466e-9c44-65c36c8ff2f6",
   "metadata": {},
   "outputs": [
    {
     "name": "stdout",
     "output_type": "stream",
     "text": [
      "Mean Unique_nr_frag for each technique:\n",
      "tech_simple\n",
      "10x_v1       17486.727217\n",
      "10x_v2       16604.899742\n",
      "HyDrop_v1     5527.580751\n",
      "HyDrop_v2    10150.865327\n",
      "Name: Unique_nr_frag, dtype: float64\n",
      "Percentage increase from HyDrop_v1 to HyDrop_v2: 83.64%\n"
     ]
    }
   ],
   "source": [
    "import pandas as pd\n",
    "\n",
    "# Extract the cell data DataFrame from your cisTopic object\n",
    "cell_data = cistopic_obj.cell_data\n",
    "\n",
    "# Group by the 'tech' column and calculate the mean of 'Unique_nr_frag' for each technique\n",
    "mean_fragments = cell_data.groupby('tech_simple')['Unique_nr_frag'].mean()\n",
    "\n",
    "print(\"Mean Unique_nr_frag for each technique:\")\n",
    "print(mean_fragments)\n",
    "\n",
    "# Assuming the techniques are labeled 'HyDrop_v1' and 'HyDrop_v2'\n",
    "hydrop_v1 = mean_fragments.get('HyDrop_v1')\n",
    "hydrop_v2 = mean_fragments.get('HyDrop_v2')\n",
    "\n",
    "if hydrop_v1 is not None and hydrop_v2 is not None:\n",
    "    percent_increase = ((hydrop_v2 - hydrop_v1) / hydrop_v1) * 100\n",
    "    print(f\"Percentage increase from HyDrop_v1 to HyDrop_v2: {percent_increase:.2f}%\")\n",
    "else:\n",
    "    print(\"One or both technique labels ('HyDrop_v1' and 'HyDrop_v2') were not found in the data!\")\n"
   ]
  },
  {
   "cell_type": "code",
   "execution_count": 23,
   "id": "9d2afd3b-2297-4ddd-ad21-61354c61fb12",
   "metadata": {},
   "outputs": [
    {
     "name": "stdout",
     "output_type": "stream",
     "text": [
      "Mean Log_unique_nr_frag for each technique:\n",
      "tech_simple\n",
      "10x_v1       4.143930\n",
      "10x_v2       4.150897\n",
      "HyDrop_v1    3.528408\n",
      "HyDrop_v2    3.850827\n",
      "Name: Log_unique_nr_frag, dtype: float64\n",
      "Percentage increase from HyDrop_v1 to HyDrop_v2: 9.14%\n"
     ]
    }
   ],
   "source": [
    "import pandas as pd\n",
    "\n",
    "# Extract the cell data DataFrame from your cisTopic object\n",
    "cell_data = cistopic_obj.cell_data\n",
    "\n",
    "# Group by the 'tech' column and calculate the mean of 'Unique_nr_frag' for each technique\n",
    "mean_fragments = cell_data.groupby('tech_simple')['Log_unique_nr_frag'].mean()\n",
    "\n",
    "print(\"Mean Log_unique_nr_frag for each technique:\")\n",
    "print(mean_fragments)\n",
    "\n",
    "# Assuming the techniques are labeled 'HyDrop_v1' and 'HyDrop_v2'\n",
    "hydrop_v1 = mean_fragments.get('HyDrop_v1')\n",
    "hydrop_v2 = mean_fragments.get('HyDrop_v2')\n",
    "\n",
    "if hydrop_v1 is not None and hydrop_v2 is not None:\n",
    "    percent_increase = ((hydrop_v2 - hydrop_v1) / hydrop_v1) * 100\n",
    "    print(f\"Percentage increase from HyDrop_v1 to HyDrop_v2: {percent_increase:.2f}%\")\n",
    "else:\n",
    "    print(\"One or both technique labels ('HyDrop_v1' and 'HyDrop_v2') were not found in the data!\")\n"
   ]
  },
  {
   "cell_type": "code",
   "execution_count": 24,
   "id": "b0c133c6-6264-4ca7-aa4c-3ed64ce7ee37",
   "metadata": {},
   "outputs": [
    {
     "name": "stdout",
     "output_type": "stream",
     "text": [
      "Mean Unique_nr_frag for HyDrop_v2: 10150.87\n",
      "Mean Unique_nr_frag for 10x_v2: 16604.90\n",
      "HyDrop_v2 reaches 61.13% of 10x_v2's Unique_nr_frag on average.\n"
     ]
    }
   ],
   "source": [
    "import pandas as pd\n",
    "\n",
    "# Extract the cell data DataFrame from your cisTopic object\n",
    "cell_data = cistopic_obj.cell_data\n",
    "\n",
    "# Group by technique and compute the mean of 'Unique_nr_frag'\n",
    "mean_fragments = cell_data.groupby('tech_simple')['Unique_nr_frag'].mean()\n",
    "\n",
    "# Retrieve the mean values for HyDrop_v2 and 10x_v2\n",
    "hydrop_v2_mean = mean_fragments.get('HyDrop_v2')\n",
    "tenx_v2_mean = mean_fragments.get('10x_v2')\n",
    "\n",
    "if hydrop_v2_mean is not None and tenx_v2_mean is not None:\n",
    "    # Calculate the percentage that HyDrop_v2 reaches of 10x_v2 using the means\n",
    "    percent_of_10x = (hydrop_v2_mean / tenx_v2_mean) * 100\n",
    "    \n",
    "    # Print the results\n",
    "    print(f\"Mean Unique_nr_frag for HyDrop_v2: {hydrop_v2_mean:.2f}\")\n",
    "    print(f\"Mean Unique_nr_frag for 10x_v2: {tenx_v2_mean:.2f}\")\n",
    "    print(f\"HyDrop_v2 reaches {percent_of_10x:.2f}% of 10x_v2's Unique_nr_frag on average.\")\n",
    "else:\n",
    "    print(\"One or both technique labels ('HyDrop_v2' and '10x_v2') were not found in the data!\")\n"
   ]
  },
  {
   "cell_type": "code",
   "execution_count": 25,
   "id": "f0334b37-aa7a-458e-b040-736a1b096f12",
   "metadata": {},
   "outputs": [
    {
     "name": "stdout",
     "output_type": "stream",
     "text": [
      "Median Unique_nr_frag for HyDrop_v2: 7047.00\n",
      "Median Unique_nr_frag for 10x_v2: 15569.00\n",
      "HyDrop_v2 reaches 45.26% of 10x_v2's Unique_nr_frag on average.\n"
     ]
    }
   ],
   "source": [
    "import pandas as pd\n",
    "\n",
    "# Extract the cell data DataFrame from your cisTopic object\n",
    "cell_data = cistopic_obj.cell_data\n",
    "\n",
    "# Group by technique and compute the median of 'Unique_nr_frag'\n",
    "median_fragments = cell_data.groupby('tech_simple')['Unique_nr_frag'].median()\n",
    "\n",
    "# Retrieve the median values for HyDrop_v2 and 10x_v2\n",
    "hydrop_v2_median = median_fragments.get('HyDrop_v2')\n",
    "tenx_v2_median = median_fragments.get('10x_v2')\n",
    "\n",
    "if hydrop_v2_median is not None and tenx_v2_median is not None:\n",
    "    # Calculate the percentage that HyDrop_v2 reaches of 10x_v2 using the medians\n",
    "    percent_of_10x = (hydrop_v2_median / tenx_v2_median) * 100\n",
    "    \n",
    "    # Print the results\n",
    "    print(f\"Median Unique_nr_frag for HyDrop_v2: {hydrop_v2_median:.2f}\")\n",
    "    print(f\"Median Unique_nr_frag for 10x_v2: {tenx_v2_median:.2f}\")\n",
    "    print(f\"HyDrop_v2 reaches {percent_of_10x:.2f}% of 10x_v2's Unique_nr_frag on average.\")\n",
    "else:\n",
    "    print(\"One or both technique labels ('HyDrop_v2' and '10x_v2') were not found in the data!\")\n"
   ]
  },
  {
   "cell_type": "code",
   "execution_count": 10,
   "id": "0c0407ad-0879-4571-94c9-b6e8e65c1fc6",
   "metadata": {},
   "outputs": [
    {
     "name": "stdout",
     "output_type": "stream",
     "text": [
      "Mean Unique_nr_frag for HyDrop_v2: 3.85\n",
      "Mean Unique_nr_frag for 10x_v2: 4.11\n",
      "HyDrop_v2 reaches 93.80% of 10x_v2's Log_unique_nr_frag on average.\n"
     ]
    }
   ],
   "source": [
    "import pandas as pd\n",
    "\n",
    "# Extract the cell data DataFrame from your cisTopic object\n",
    "cell_data = cistopic_obj.cell_data\n",
    "\n",
    "# Group by technique and compute the mean of 'Unique_nr_frag'\n",
    "mean_fragments = cell_data.groupby('tech')['Log_unique_nr_frag'].mean()\n",
    "\n",
    "# Retrieve the mean values for HyDrop_v2 and 10x_v2\n",
    "hydrop_v2_mean = mean_fragments.get('HyDrop_v2')\n",
    "tenx_v2_mean = mean_fragments.get('10x_v2')\n",
    "\n",
    "if hydrop_v2_mean is not None and tenx_v2_mean is not None:\n",
    "    # Calculate the percentage that HyDrop_v2 reaches of 10x_v2 using the means\n",
    "    percent_of_10x = (hydrop_v2_mean / tenx_v2_mean) * 100\n",
    "    \n",
    "    # Print the results\n",
    "    print(f\"Mean Unique_nr_frag for HyDrop_v2: {hydrop_v2_mean:.2f}\")\n",
    "    print(f\"Mean Unique_nr_frag for 10x_v2: {tenx_v2_mean:.2f}\")\n",
    "    print(f\"HyDrop_v2 reaches {percent_of_10x:.2f}% of 10x_v2's Log_unique_nr_frag on average.\")\n",
    "else:\n",
    "    print(\"One or both technique labels ('HyDrop_v2' and '10x_v2') were not found in the data!\")\n"
   ]
  },
  {
   "cell_type": "code",
   "execution_count": 26,
   "id": "a33c8662-5980-4f79-85e9-c3051494b03c",
   "metadata": {},
   "outputs": [
    {
     "name": "stdout",
     "output_type": "stream",
     "text": [
      "Mean Log_unique_nr_frag for HyDrop_v2: 3.85 (SD: 0.37)\n",
      "Mean Log_unique_nr_frag for 10x_v2: 4.15 (SD: 0.26)\n",
      "HyDrop_v2 reaches 92.77% of 10x_v2's Log_unique_nr_frag on average.\n"
     ]
    }
   ],
   "source": [
    "import pandas as pd\n",
    "\n",
    "# Extract the cell data DataFrame from your cisTopic object\n",
    "cell_data = cistopic_obj.cell_data\n",
    "\n",
    "# Group by technique and compute the mean and SD of 'Log_unique_nr_frag'\n",
    "mean_fragments = cell_data.groupby('tech_simple')['Log_unique_nr_frag'].mean()\n",
    "sd_fragments = cell_data.groupby('tech_simple')['Log_unique_nr_frag'].std()\n",
    "\n",
    "# Retrieve the values for HyDrop_v2 and 10x_v2\n",
    "hydrop_v2_mean = mean_fragments.get('HyDrop_v2')\n",
    "tenx_v2_mean = mean_fragments.get('10x_v2')\n",
    "hydrop_v2_sd = sd_fragments.get('HyDrop_v2')\n",
    "tenx_v2_sd = sd_fragments.get('10x_v2')\n",
    "\n",
    "if hydrop_v2_mean is not None and tenx_v2_mean is not None:\n",
    "    # Calculate the percentage that HyDrop_v2 reaches of 10x_v2 using the means\n",
    "    percent_of_10x = (hydrop_v2_mean / tenx_v2_mean) * 100\n",
    "    \n",
    "    # Print the results\n",
    "    print(f\"Mean Log_unique_nr_frag for HyDrop_v2: {hydrop_v2_mean:.2f} (SD: {hydrop_v2_sd:.2f})\")\n",
    "    print(f\"Mean Log_unique_nr_frag for 10x_v2: {tenx_v2_mean:.2f} (SD: {tenx_v2_sd:.2f})\")\n",
    "    print(f\"HyDrop_v2 reaches {percent_of_10x:.2f}% of 10x_v2's Log_unique_nr_frag on average.\")\n",
    "else:\n",
    "    print(\"One or both technique labels ('HyDrop_v2' and '10x_v2') were not found in the data!\")\n"
   ]
  },
  {
   "cell_type": "code",
   "execution_count": 12,
   "id": "ad5e303c-7585-4673-8f45-8ceb5a578b9d",
   "metadata": {},
   "outputs": [
    {
     "name": "stdout",
     "output_type": "stream",
     "text": [
      "Mean FRIP for HyDrop_v2: 3.85 (SD: 0.37)\n",
      "Mean FRIP for 10x_v2: 4.15 (SD: 0.26)\n",
      "HyDrop_v2 reaches 92.77% of 10x_v2's Log_unique_nr_frag on average.\n"
     ]
    }
   ],
   "source": [
    "import pandas as pd\n",
    "\n",
    "# Extract the cell data DataFrame from your cisTopic object\n",
    "cell_data = cistopic_obj.cell_data\n",
    "\n",
    "# Filter the data for each technique based on the 'beads' column (case-insensitive)\n",
    "hydrop_v2_data = cell_data[cell_data['beads'].str.contains(\"HyDrop_v2\", case=False, na=False)]\n",
    "tenx_v2_data = cell_data[cell_data['beads'].str.contains(\"10x_v2\", case=False, na=False)]\n",
    "\n",
    "# Calculate overall mean and standard deviation for the FRIP metric for each group\n",
    "hydrop_v2_mean = hydrop_v2_data['Log_unique_nr_frag'].mean()\n",
    "hydrop_v2_sd = hydrop_v2_data['Log_unique_nr_frag'].std()\n",
    "\n",
    "tenx_v2_mean = tenx_v2_data['Log_unique_nr_frag'].mean()\n",
    "tenx_v2_sd = tenx_v2_data['Log_unique_nr_frag'].std()\n",
    "\n",
    "if hydrop_v2_mean is not None and tenx_v2_mean is not None:\n",
    "    # Calculate the percentage that HyDrop_v2 reaches of 10x_v2 using the means\n",
    "    percent_of_10x = (hydrop_v2_mean / tenx_v2_mean) * 100\n",
    "    \n",
    "    # Print the results\n",
    "    print(f\"Mean FRIP for HyDrop_v2: {hydrop_v2_mean:.2f} (SD: {hydrop_v2_sd:.2f})\")\n",
    "    print(f\"Mean FRIP for 10x_v2: {tenx_v2_mean:.2f} (SD: {tenx_v2_sd:.2f})\")\n",
    "    print(f\"HyDrop_v2 reaches {percent_of_10x:.2f}% of 10x_v2's Log_unique_nr_frag on average.\")\n",
    "else:\n",
    "    print(\"One or both technique groups ('HyDrop_v2' and '10x_v2') were not found in the data!\")\n"
   ]
  },
  {
   "cell_type": "code",
   "execution_count": 27,
   "id": "7e9fa26d-8849-40bf-be79-d000e539ca64",
   "metadata": {},
   "outputs": [
    {
     "name": "stdout",
     "output_type": "stream",
     "text": [
      "Mean Log_unique_nr_frag for HyDrop_v2: 0.51 (SD: 0.09)\n",
      "Mean Log_unique_nr_frag for 10x_v2: 0.53 (SD: 0.09)\n",
      "HyDrop_v2 reaches 97.01% of 10x_v2's FRIP on average.\n"
     ]
    }
   ],
   "source": [
    "import pandas as pd\n",
    "\n",
    "# Extract the cell data DataFrame from your cisTopic object\n",
    "cell_data = cistopic_obj.cell_data\n",
    "\n",
    "# Group by technique and compute the mean and SD of 'Log_unique_nr_frag'\n",
    "mean_fragments = cell_data.groupby('tech_simple')['FRIP'].mean()\n",
    "sd_fragments = cell_data.groupby('tech_simple')['FRIP'].std()\n",
    "\n",
    "# Retrieve the values for HyDrop_v2 and 10x_v2\n",
    "hydrop_v2_mean = mean_fragments.get('HyDrop_v2')\n",
    "tenx_v2_mean = mean_fragments.get('10x_v2')\n",
    "hydrop_v2_sd = sd_fragments.get('HyDrop_v2')\n",
    "tenx_v2_sd = sd_fragments.get('10x_v2')\n",
    "\n",
    "if hydrop_v2_mean is not None and tenx_v2_mean is not None:\n",
    "    # Calculate the percentage that HyDrop_v2 reaches of 10x_v2 using the means\n",
    "    percent_of_10x = (hydrop_v2_mean / tenx_v2_mean) * 100\n",
    "    \n",
    "    # Print the results\n",
    "    print(f\"Mean Log_unique_nr_frag for HyDrop_v2: {hydrop_v2_mean:.2f} (SD: {hydrop_v2_sd:.2f})\")\n",
    "    print(f\"Mean Log_unique_nr_frag for 10x_v2: {tenx_v2_mean:.2f} (SD: {tenx_v2_sd:.2f})\")\n",
    "    print(f\"HyDrop_v2 reaches {percent_of_10x:.2f}% of 10x_v2's FRIP on average.\")\n",
    "else:\n",
    "    print(\"One or both technique labels ('HyDrop_v2' and '10x_v2') were not found in the data!\")\n"
   ]
  },
  {
   "cell_type": "code",
   "execution_count": 14,
   "id": "123dcfc7-9735-4bec-8640-8c86aa94777a",
   "metadata": {},
   "outputs": [
    {
     "name": "stdout",
     "output_type": "stream",
     "text": [
      "Mean FRIP for HyDrop_v2: 0.51 (SD: 0.09)\n",
      "Mean FRIP for 10x_v2: 0.53 (SD: 0.09)\n",
      "HyDrop_v2 reaches 97.01% of 10x_v2's FRIP on average.\n"
     ]
    }
   ],
   "source": [
    "import pandas as pd\n",
    "\n",
    "# Extract the cell data DataFrame from your cisTopic object\n",
    "cell_data = cistopic_obj.cell_data\n",
    "\n",
    "# Filter the data for each technique based on the 'beads' column (case-insensitive)\n",
    "hydrop_v2_data = cell_data[cell_data['beads'].str.contains(\"HyDrop_v2\", case=False, na=False)]\n",
    "tenx_v2_data = cell_data[cell_data['beads'].str.contains(\"10x_v2\", case=False, na=False)]\n",
    "\n",
    "# Calculate overall mean and standard deviation for the FRIP metric for each group\n",
    "hydrop_v2_mean = hydrop_v2_data['FRIP'].mean()\n",
    "hydrop_v2_sd = hydrop_v2_data['FRIP'].std()\n",
    "\n",
    "tenx_v2_mean = tenx_v2_data['FRIP'].mean()\n",
    "tenx_v2_sd = tenx_v2_data['FRIP'].std()\n",
    "\n",
    "if hydrop_v2_mean is not None and tenx_v2_mean is not None:\n",
    "    # Calculate the percentage that HyDrop_v2 reaches of 10x_v2 using the means\n",
    "    percent_of_10x = (hydrop_v2_mean / tenx_v2_mean) * 100\n",
    "    \n",
    "    # Print the results\n",
    "    print(f\"Mean FRIP for HyDrop_v2: {hydrop_v2_mean:.2f} (SD: {hydrop_v2_sd:.2f})\")\n",
    "    print(f\"Mean FRIP for 10x_v2: {tenx_v2_mean:.2f} (SD: {tenx_v2_sd:.2f})\")\n",
    "    print(f\"HyDrop_v2 reaches {percent_of_10x:.2f}% of 10x_v2's FRIP on average.\")\n",
    "else:\n",
    "    print(\"One or both technique groups ('HyDrop_v2' and '10x_v2') were not found in the data!\")\n"
   ]
  },
  {
   "cell_type": "code",
   "execution_count": 6,
   "id": "d3ebbc88-3010-4574-b938-8558136d0e55",
   "metadata": {},
   "outputs": [
    {
     "name": "stdout",
     "output_type": "stream",
     "text": [
      "Mean FRIP for HyDrop_v1: 0.43 (SD: 0.10)\n",
      "Mean FRIP for 10x_v2: 0.53 (SD: 0.09)\n",
      "HyDrop_v2 reaches 81.82% of 10x_v2's FRIP on average.\n"
     ]
    }
   ],
   "source": [
    "import pandas as pd\n",
    "\n",
    "# Extract the cell data DataFrame from your cisTopic object\n",
    "cell_data = cistopic_obj.cell_data\n",
    "\n",
    "# Filter the data for each technique based on the 'beads' column (case-insensitive)\n",
    "hydrop_v1_data = cell_data[cell_data['beads'].str.contains(\"HyDrop_v1\", case=False, na=False)]\n",
    "tenx_v2_data = cell_data[cell_data['beads'].str.contains(\"10x_v2\", case=False, na=False)]\n",
    "\n",
    "# Calculate overall mean and standard deviation for the FRIP metric for each group\n",
    "hydrop_v1_mean = hydrop_v1_data['FRIP'].mean()\n",
    "hydrop_v1_sd = hydrop_v1_data['FRIP'].std()\n",
    "\n",
    "tenx_v2_mean = tenx_v2_data['FRIP'].mean()\n",
    "tenx_v2_sd = tenx_v2_data['FRIP'].std()\n",
    "\n",
    "if hydrop_v1_mean is not None and tenx_v2_mean is not None:\n",
    "    # Calculate the percentage that HyDrop_v2 reaches of 10x_v2 using the means\n",
    "    percent_of_10x = (hydrop_v1_mean / tenx_v2_mean) * 100\n",
    "    \n",
    "    # Print the results\n",
    "    print(f\"Mean FRIP for HyDrop_v1: {hydrop_v1_mean:.2f} (SD: {hydrop_v1_sd:.2f})\")\n",
    "    print(f\"Mean FRIP for 10x_v2: {tenx_v2_mean:.2f} (SD: {tenx_v2_sd:.2f})\")\n",
    "    print(f\"HyDrop_v2 reaches {percent_of_10x:.2f}% of 10x_v2's FRIP on average.\")\n",
    "else:\n",
    "    print(\"One or both technique groups ('HyDrop_v2' and '10x_v2') were not found in the data!\")\n"
   ]
  },
  {
   "cell_type": "code",
   "execution_count": 15,
   "id": "b920c03b-3d94-44ad-85be-8c0641f7c03b",
   "metadata": {},
   "outputs": [
    {
     "name": "stdout",
     "output_type": "stream",
     "text": [
      "Mean FRIP for HyDrop_v1: 0.43 (SD: 0.10)\n",
      "Mean FRIP for 10x_v1: 0.58 (SD: 0.11)\n",
      "HyDrop_v2 reaches 74.38% of 10x_v1's FRIP on average.\n"
     ]
    }
   ],
   "source": [
    "import pandas as pd\n",
    "\n",
    "# Extract the cell data DataFrame from your cisTopic object\n",
    "cell_data = cistopic_obj.cell_data\n",
    "\n",
    "# Filter the data for each technique based on the 'beads' column (case-insensitive)\n",
    "hydrop_v1_data = cell_data[cell_data['beads'].str.contains(\"HyDrop_v1\", case=False, na=False)]\n",
    "tenx_v1_data = cell_data[cell_data['beads'].str.contains(\"10x_v1\", case=False, na=False)]\n",
    "\n",
    "# Calculate overall mean and standard deviation for the FRIP metric for each group\n",
    "hydrop_v1_mean = hydrop_v1_data['FRIP'].mean()\n",
    "hydrop_v1_sd = hydrop_v1_data['FRIP'].std()\n",
    "\n",
    "tenx_v1_mean = tenx_v1_data['FRIP'].mean()\n",
    "tenx_v1_sd = tenx_v1_data['FRIP'].std()\n",
    "\n",
    "if hydrop_v1_mean is not None and tenx_v2_mean is not None:\n",
    "    # Calculate the percentage that HyDrop_v2 reaches of 10x_v2 using the means\n",
    "    percent_of_10x = (hydrop_v1_mean / tenx_v1_mean) * 100\n",
    "    \n",
    "    # Print the results\n",
    "    print(f\"Mean FRIP for HyDrop_v1: {hydrop_v1_mean:.2f} (SD: {hydrop_v1_sd:.2f})\")\n",
    "    print(f\"Mean FRIP for 10x_v1: {tenx_v1_mean:.2f} (SD: {tenx_v1_sd:.2f})\")\n",
    "    print(f\"HyDrop_v2 reaches {percent_of_10x:.2f}% of 10x_v1's FRIP on average.\")\n",
    "else:\n",
    "    print(\"One or both technique groups ('HyDrop_v2' and '10x_v1') were not found in the data!\")\n"
   ]
  },
  {
   "cell_type": "code",
   "execution_count": 7,
   "id": "16056083-0802-44f3-a1bf-eb254e00ede9",
   "metadata": {},
   "outputs": [
    {
     "data": {
      "text/plain": [
       "Index(['tech_simplexZu_paper_lift_over_simple', 'Total_nr_frag_in_regions',\n",
       "       'region_label', 'Dupl_rate', 'FRIP', 'beads', 'tech_simple', 'barcode',\n",
       "       'cisTopic_log_nr_acc', 'Predicted_doublets_fragments',\n",
       "       'pycisTopic_leiden_10_0.6', 'cisTopic_log_nr_frag',\n",
       "       'Zu_paper_lift_over', 'refined_annot', 'sample_prep', 'sample_state',\n",
       "       'Log_unique_nr_frag', 'refined_annot_simple', 'Unique_nr_frag',\n",
       "       'Log_total_nr_frag', 'cisTopic_nr_acc', 'Total_nr_frag', 'tech',\n",
       "       'pycisTopic_leiden_10_1.2', 'Dupl_nr_frag', 'Unique_nr_frag_in_regions',\n",
       "       'TSS_enrichment', 'dict_BICCN_corrected_08112024',\n",
       "       'Doublet_scores_fragments', 'cisTopic_nr_frag', 'sample_id',\n",
       "       'pycisTopic_leiden_10_2', 'Zu_paper_lift_over_simple',\n",
       "       'pycisTopic_leiden_10_2.5', 'cleaned_up_annot'],\n",
       "      dtype='object')"
      ]
     },
     "execution_count": 7,
     "metadata": {},
     "output_type": "execute_result"
    }
   ],
   "source": [
    "cistopic_obj.cell_data.columns"
   ]
  },
  {
   "cell_type": "code",
   "execution_count": 8,
   "id": "2fd6ca4e-79c3-4168-89ad-42a26a061093",
   "metadata": {},
   "outputs": [
    {
     "name": "stdout",
     "output_type": "stream",
     "text": [
      "Mean TSS_enrichment for HyDrop_v2: 11.71 (SD: 5.30)\n",
      "Mean TSS_enrichment for 10x_v2: 18.69 (SD: 7.66)\n",
      "HyDrop_v2 reaches 62.65% of 10x_v2's TSS_enrichment on average.\n"
     ]
    }
   ],
   "source": [
    "import pandas as pd\n",
    "\n",
    "# Extract the cell data DataFrame from your cisTopic object\n",
    "cell_data = cistopic_obj.cell_data\n",
    "\n",
    "# Filter the data for each technique based on the 'beads' column (case-insensitive)\n",
    "hydrop_v2_data = cell_data[cell_data['beads'].str.contains(\"HyDrop_v2\", case=False, na=False)]\n",
    "tenx_v2_data = cell_data[cell_data['beads'].str.contains(\"10x_v2\", case=False, na=False)]\n",
    "\n",
    "# Calculate overall mean and standard deviation for the FRIP metric for each group\n",
    "hydrop_v2_mean = hydrop_v2_data['TSS_enrichment'].mean()\n",
    "hydrop_v2_sd = hydrop_v2_data['TSS_enrichment'].std()\n",
    "\n",
    "tenx_v2_mean = tenx_v2_data['TSS_enrichment'].mean()\n",
    "tenx_v2_sd = tenx_v2_data['TSS_enrichment'].std()\n",
    "\n",
    "if hydrop_v2_mean is not None and tenx_v2_mean is not None:\n",
    "    # Calculate the percentage that HyDrop_v2 reaches of 10x_v2 using the means\n",
    "    percent_of_10x = (hydrop_v2_mean / tenx_v2_mean) * 100\n",
    "    \n",
    "    # Print the results\n",
    "    print(f\"Mean TSS_enrichment for HyDrop_v2: {hydrop_v2_mean:.2f} (SD: {hydrop_v2_sd:.2f})\")\n",
    "    print(f\"Mean TSS_enrichment for 10x_v2: {tenx_v2_mean:.2f} (SD: {tenx_v2_sd:.2f})\")\n",
    "    print(f\"HyDrop_v2 reaches {percent_of_10x:.2f}% of 10x_v2's TSS_enrichment on average.\")\n",
    "else:\n",
    "    print(\"One or both technique groups ('HyDrop_v2' and '10x_v2') were not found in the data!\")\n"
   ]
  },
  {
   "cell_type": "code",
   "execution_count": 11,
   "id": "6da61280-f444-4bce-9b32-76e09e12b55d",
   "metadata": {},
   "outputs": [
    {
     "name": "stdout",
     "output_type": "stream",
     "text": [
      "Mean TSS_enrichment for HyDrop_v1: 13.73 (SD: 5.33)\n",
      "Mean TSS_enrichment for 10x_v2: 18.69 (SD: 7.66)\n",
      "HyDrop_v1 reaches 73.46% of 10x_v2's TSS_enrichment on average.\n"
     ]
    }
   ],
   "source": [
    "import pandas as pd\n",
    "\n",
    "# Extract the cell data DataFrame from your cisTopic object\n",
    "cell_data = cistopic_obj.cell_data\n",
    "\n",
    "# Filter the data for each technique based on the 'beads' column (case-insensitive)\n",
    "hydrop_v1_data = cell_data[cell_data['beads'].str.contains(\"HyDrop_v1\", case=False, na=False)]\n",
    "tenx_v2_data = cell_data[cell_data['beads'].str.contains(\"10x_v2\", case=False, na=False)]\n",
    "\n",
    "# Calculate overall mean and standard deviation for the FRIP metric for each group\n",
    "hydrop_v1_mean = hydrop_v1_data['TSS_enrichment'].mean()\n",
    "hydrop_v1_sd = hydrop_v1_data['TSS_enrichment'].std()\n",
    "\n",
    "tenx_v2_mean = tenx_v2_data['TSS_enrichment'].mean()\n",
    "tenx_v2_sd = tenx_v2_data['TSS_enrichment'].std()\n",
    "\n",
    "if hydrop_v1_mean is not None and tenx_v2_mean is not None:\n",
    "    # Calculate the percentage that HyDrop_v2 reaches of 10x_v2 using the means\n",
    "    percent_of_10x = (hydrop_v1_mean / tenx_v2_mean) * 100\n",
    "    \n",
    "    # Print the results\n",
    "    print(f\"Mean TSS_enrichment for HyDrop_v1: {hydrop_v1_mean:.2f} (SD: {hydrop_v1_sd:.2f})\")\n",
    "    print(f\"Mean TSS_enrichment for 10x_v2: {tenx_v2_mean:.2f} (SD: {tenx_v2_sd:.2f})\")\n",
    "    print(f\"HyDrop_v1 reaches {percent_of_10x:.2f}% of 10x_v2's TSS_enrichment on average.\")\n",
    "else:\n",
    "    print(\"One or both technique groups ('HyDrop_v1' and '10x_v2') were not found in the data!\")\n"
   ]
  },
  {
   "cell_type": "code",
   "execution_count": 13,
   "id": "208267bf-3792-45d5-9fbe-3efdbc0e5190",
   "metadata": {},
   "outputs": [
    {
     "name": "stdout",
     "output_type": "stream",
     "text": [
      "Mean TSS_enrichment for HyDrop_v1: 13.73 (SD: 5.33)\n",
      "Mean TSS_enrichment for 10x_v1: 19.43 (SD: 8.27)\n",
      "HyDrop_v2 reaches 70.67% of 10x_v1's TSS_enrichment on average.\n"
     ]
    }
   ],
   "source": [
    "import pandas as pd\n",
    "\n",
    "# Extract the cell data DataFrame from your cisTopic object\n",
    "cell_data = cistopic_obj.cell_data\n",
    "\n",
    "# Filter the data for each technique based on the 'beads' column (case-insensitive)\n",
    "hydrop_v1_data = cell_data[cell_data['beads'].str.contains(\"HyDrop_v1\", case=False, na=False)]\n",
    "tenx_v1_data = cell_data[cell_data['beads'].str.contains(\"10x_v1\", case=False, na=False)]\n",
    "\n",
    "# Calculate overall mean and standard deviation for the FRIP metric for each group\n",
    "hydrop_v1_mean = hydrop_v1_data['TSS_enrichment'].mean()\n",
    "hydrop_v1_sd = hydrop_v1_data['TSS_enrichment'].std()\n",
    "\n",
    "tenx_v1_mean = tenx_v1_data['TSS_enrichment'].mean()\n",
    "tenx_v1_sd = tenx_v1_data['TSS_enrichment'].std()\n",
    "\n",
    "if hydrop_v1_mean is not None and tenx_v1_mean is not None:\n",
    "    # Calculate the percentage that HyDrop_v2 reaches of 10x_v2 using the means\n",
    "    percent_of_10x = (hydrop_v1_mean / tenx_v1_mean) * 100\n",
    "    \n",
    "    # Print the results\n",
    "    print(f\"Mean TSS_enrichment for HyDrop_v1: {hydrop_v1_mean:.2f} (SD: {hydrop_v1_sd:.2f})\")\n",
    "    print(f\"Mean TSS_enrichment for 10x_v1: {tenx_v1_mean:.2f} (SD: {tenx_v1_sd:.2f})\")\n",
    "    print(f\"HyDrop_v2 reaches {percent_of_10x:.2f}% of 10x_v1's TSS_enrichment on average.\")\n",
    "else:\n",
    "    print(\"One or both technique groups ('HyDrop_v1' and '10x_v1') were not found in the data!\")\n"
   ]
  },
  {
   "cell_type": "code",
   "execution_count": 16,
   "id": "7978cece-c677-476f-a02a-150db3d935cf",
   "metadata": {},
   "outputs": [
    {
     "name": "stdout",
     "output_type": "stream",
     "text": [
      "{'HyDro_v2_20231031': 14346, 'HyDro_v2_20240221': 11784, 'HyDro_v2_20231116': 10655, 'adult_fresh_10x_v2_Chromium_Controler': 6447, 'adult_fresh_10x_v1.1_Chromium_X': 6283, 'HyDro_v2_20240430': 5910, 'HyDrop_v1': 5777, 'HyDro_v2_20240105': 5429, 'adult_fresh_10x_v1': 3439, '20231013_exclude': 3368, 'HyDro_v2_20230829': 3279, '10x_Chromium_20240430': 3238, 'HyDro_v2_20231013': 1696, 'HyDro_v2_20240117': 946}\n"
     ]
    }
   ],
   "source": [
    "sample_counts = cistopic_obj.cell_data['sample_prep'].value_counts().to_dict()\n",
    "print(sample_counts)"
   ]
  },
  {
   "cell_type": "code",
   "execution_count": 29,
   "id": "d9a95fb9-8d08-4705-9d0f-8bfa99138586",
   "metadata": {},
   "outputs": [
    {
     "name": "stdout",
     "output_type": "stream",
     "text": [
      "{'HyDrop_v2': 57413, '10x_v1': 9722, '10x_v2': 9685, 'HyDrop_v1': 5777}\n"
     ]
    }
   ],
   "source": [
    "sample_counts = cistopic_obj.cell_data['tech_simple'].value_counts().to_dict()\n",
    "print(sample_counts)"
   ]
  },
  {
   "cell_type": "code",
   "execution_count": 30,
   "id": "a569b3a4-7e55-4397-ba71-fec7b6eb68ea",
   "metadata": {},
   "outputs": [
    {
     "name": "stdout",
     "output_type": "stream",
     "text": [
      "Mean number of cells per experiment per tech:\n",
      "tech_simple\n",
      "10x_v1       4861.000000\n",
      "10x_v2       4842.500000\n",
      "HyDrop_v1    5777.000000\n",
      "HyDrop_v2    6379.222222\n",
      "dtype: float64\n"
     ]
    }
   ],
   "source": [
    "cell_data = cistopic_obj.cell_data  # Accessing the DataFrame\n",
    "cells_per_sample_and_tech = cell_data.groupby(['sample_prep', 'tech_simple']).size()\n",
    "mean_cells_per_experiment_per_tech = cells_per_sample_and_tech.groupby(level='tech_simple').mean()\n",
    "print(\"Mean number of cells per experiment per tech:\")\n",
    "print(mean_cells_per_experiment_per_tech)"
   ]
  },
  {
   "cell_type": "code",
   "execution_count": 32,
   "id": "9808c6d4-2b26-489b-8bc5-09972d7faf96",
   "metadata": {},
   "outputs": [
    {
     "name": "stdout",
     "output_type": "stream",
     "text": [
      "Mean number of cells per experiment per sample_state:\n",
      "sample_state\n",
      "fresh     5389.666667\n",
      "frozen    6038.909091\n",
      "dtype: float64\n"
     ]
    }
   ],
   "source": [
    "cell_data = cistopic_obj.cell_data  # Accessing the DataFrame\n",
    "cells_per_sample_and_tech = cell_data.groupby(['sample_prep', 'sample_state']).size()\n",
    "mean_cells_per_experiment_per_tech = cells_per_sample_and_tech.groupby(level='sample_state').mean()\n",
    "print(\"Mean number of cells per experiment per sample_state:\")\n",
    "print(mean_cells_per_experiment_per_tech)\n"
   ]
  },
  {
   "cell_type": "markdown",
   "id": "aa80e91e-91ad-4d6f-b556-4dcc37138e7e",
   "metadata": {},
   "source": [
    "## visualization"
   ]
  },
  {
   "cell_type": "code",
   "execution_count": 17,
   "id": "32142770-a0e3-4815-9a52-9403927e30fe",
   "metadata": {},
   "outputs": [
    {
     "data": {
      "text/plain": [
       "Index(['Unique_nr_frag_in_regions', 'Doublet_scores_fragments',\n",
       "       'kde__log_Unique_nr_frag_in_regions__Dupl_rate', 'FRIP',\n",
       "       'cisTopic_log_nr_acc', 'Dupl_nr_frag', 'Log_unique_nr_frag',\n",
       "       'TSS_enrichment', 'Predicted_doublets_fragments', 'Log_total_nr_frag',\n",
       "       'Unique_nr_frag', 'kde__log_Unique_nr_frag_in_regions__TSS_enrichment',\n",
       "       'barcode', 'cisTopic_nr_frag', 'cisTopic_nr_acc',\n",
       "       'cisTopic_log_nr_frag', 'kde__log_Unique_nr_frag_in_regions__FRIP',\n",
       "       'pycisTopic_leiden_10_1.2', 'pycisTopic_leiden_10_2',\n",
       "       'pycisTopic_leiden_10_0.6', 'sample_id', 'Total_nr_frag_in_regions',\n",
       "       'pycisTopic_leiden_10_2.5', 'Dupl_rate', 'Total_nr_frag',\n",
       "       'preliminary_mouse_annot_23072024', 'refined_annot',\n",
       "       'refined_annot_simple', 'beads', 'tech', 'sample_prep',\n",
       "       'Zu_paper_lift_over', 'tech_simple', 'Zu_paper_lift_over_simple',\n",
       "       'techxZu_paper_lift_over_simple', 'sample_mean_TSS_x',\n",
       "       'sample_mean_TSS_y', 'sample_state', 'sample_mean_TSS_x',\n",
       "       'sample_mean_TSS_y', 'sample_mean_TSS'],\n",
       "      dtype='object')"
      ]
     },
     "execution_count": 17,
     "metadata": {},
     "output_type": "execute_result"
    }
   ],
   "source": [
    "cistopic_obj.cell_data.columns"
   ]
  },
  {
   "cell_type": "code",
   "execution_count": 48,
   "id": "2a24b06c-d8eb-4c13-bf4f-9d4aa5dfa203",
   "metadata": {},
   "outputs": [
    {
     "name": "stderr",
     "output_type": "stream",
     "text": [
      "/tmp/ipykernel_1017248/826780904.py:29: FutureWarning: \n",
      "\n",
      "Passing `palette` without assigning `hue` is deprecated and will be removed in v0.14.0. Assign the `x` variable to `hue` and set `legend=False` for the same effect.\n",
      "\n",
      "  ax = sns.violinplot(x='beads', y='FRIP', data=cistopic_obj.cell_data,\n"
     ]
    },
    {
     "data": {
      "image/png": "[encoded data removed]",
      "text/plain": [
       "<Figure size 800x500 with 1 Axes>"
      ]
     },
     "metadata": {},
     "output_type": "display_data"
    }
   ],
   "source": [
    "import seaborn as sns\n",
    "import matplotlib.pyplot as plt\n",
    "import numpy as np\n",
    "import pandas as pd\n",
    "\n",
    "# Define the colors for each bead type.\n",
    "bead_palette = {\n",
    "    'HyDrop_v2_A': '#0072B2',\n",
    "    'HyDrop_v2_B': '#E69F00',\n",
    "    'HyDrop_v2_C': '#009E73', \n",
    "    'HyDrop_v2_D': '#F0E442',\n",
    "    'HyDrop_v2_E': '#56B4E9',\n",
    "    'HyDrop_v2_F': '#CC79A7', \n",
    "    'HyDrop_v2_I': '#D55E00',\n",
    "    \"10x_v2\": \"#0072B2\",\n",
    "    \"10x_v1\": \"#000000\",\n",
    "    \"HyDrop_v1\": \"#F50F51\",\n",
    "    # \"10x_multiome_v1\": \"#84BC3D\",\n",
    "}\n",
    "\n",
    "# Ensure the order of beads is given by the keys of bead_palette.\n",
    "sample_order = list(bead_palette.keys())\n",
    "\n",
    "# Merge sample_means into the cell_data DataFrame (if needed).\n",
    "cistopic_obj.cell_data = cistopic_obj.cell_data.merge(sample_means, on='sample_id', how='left')\n",
    "\n",
    "# Create the violin plot with the specified order, custom colors, and linewidth for the violins.\n",
    "plt.figure(figsize=(8, 5))\n",
    "ax = sns.violinplot(x='beads', y='FRIP', data=cistopic_obj.cell_data,\n",
    "                    inner=None, order=sample_order, palette=bead_palette,\n",
    "                    linewidth=0.5)\n",
    "\n",
    "# Calculate the median FRIP for each bead group.\n",
    "medians = cistopic_obj.cell_data.groupby('beads')['FRIP'].median()\n",
    "\n",
    "# Overlay a white dot with a black edge (with linewidth 0.5) for each median.\n",
    "for i, bead in enumerate(sample_order):\n",
    "    median_val = medians[bead]\n",
    "    plt.scatter(i, median_val, color='white', edgecolor='black', s=100, zorder=10, linewidths=0.5)\n",
    "\n",
    "# Set axes labels and tick parameters.\n",
    "plt.xlabel('Beads', fontsize=18)\n",
    "plt.ylabel('FRIP', fontsize=18)\n",
    "plt.xticks(rotation=60, fontsize=12)\n",
    "plt.yticks(fontsize=12)\n",
    "\n",
    "# Set the border (spine) linewidth to 0.5.\n",
    "for spine in ax.spines.values():\n",
    "    spine.set_linewidth(0.5)\n",
    "\n",
    "plt.tight_layout()\n",
    "plt.savefig(\"FRIP_tech_bead_color_mean.pdf\", dpi=500, bbox_inches=\"tight\")\n",
    "plt.show()\n"
   ]
  },
  {
   "cell_type": "code",
   "execution_count": 51,
   "id": "b7a10d66-7b0f-4380-948d-37a69aabbeed",
   "metadata": {},
   "outputs": [
    {
     "name": "stderr",
     "output_type": "stream",
     "text": [
      "/tmp/ipykernel_1017248/4007233128.py:29: FutureWarning: \n",
      "\n",
      "Passing `palette` without assigning `hue` is deprecated and will be removed in v0.14.0. Assign the `x` variable to `hue` and set `legend=False` for the same effect.\n",
      "\n",
      "  ax = sns.violinplot(x='beads', y='Log_unique_nr_frag', data=cistopic_obj.cell_data,\n"
     ]
    },
    {
     "data": {
      "image/png": "[encoded data removed]",
      "text/plain": [
       "<Figure size 800x500 with 1 Axes>"
      ]
     },
     "metadata": {},
     "output_type": "display_data"
    }
   ],
   "source": [
    "import seaborn as sns\n",
    "import matplotlib.pyplot as plt\n",
    "import numpy as np\n",
    "import pandas as pd\n",
    "\n",
    "# Define the colors for each bead type.\n",
    "bead_palette = {\n",
    "    'HyDrop_v2_A': '#0072B2',\n",
    "    'HyDrop_v2_B': '#E69F00',\n",
    "    'HyDrop_v2_C': '#009E73', \n",
    "    'HyDrop_v2_D': '#F0E442',\n",
    "    'HyDrop_v2_E': '#56B4E9',\n",
    "    'HyDrop_v2_F': '#CC79A7', \n",
    "    'HyDrop_v2_I': '#D55E00',\n",
    "    \"10x_v2\": \"#0072B2\",\n",
    "    \"10x_v1\": \"#000000\",\n",
    "    \"HyDrop_v1\": \"#F50F51\",\n",
    "    # \"10x_multiome_v1\": \"#84BC3D\",\n",
    "}\n",
    "\n",
    "# Ensure the order of beads is given by the keys of bead_palette.\n",
    "sample_order = list(bead_palette.keys())\n",
    "\n",
    "# Merge sample_means into the cell_data DataFrame (if needed).\n",
    "cistopic_obj.cell_data = cistopic_obj.cell_data.merge(sample_means, on='sample_id', how='left')\n",
    "\n",
    "# Create the violin plot with the specified order, custom colors, and linewidth for the violins.\n",
    "plt.figure(figsize=(8, 5))\n",
    "ax = sns.violinplot(x='beads', y='Log_unique_nr_frag', data=cistopic_obj.cell_data,\n",
    "                    inner=None, order=sample_order, palette=bead_palette,\n",
    "                    linewidth=0.5)\n",
    "\n",
    "# Calculate the median FRIP for each bead group.\n",
    "medians = cistopic_obj.cell_data.groupby('beads')['Log_unique_nr_frag'].median()\n",
    "\n",
    "# Overlay a white dot with a black edge (with linewidth 0.5) for each median.\n",
    "for i, bead in enumerate(sample_order):\n",
    "    median_val = medians[bead]\n",
    "    plt.scatter(i, median_val, color='white', edgecolor='black', s=100, zorder=10, linewidths=0.5)\n",
    "\n",
    "# Set axes labels and tick parameters.\n",
    "plt.xlabel('Beads', fontsize=18)\n",
    "plt.ylabel('Log_unique_nr_frag', fontsize=18)\n",
    "plt.xticks(rotation=60, fontsize=12)\n",
    "plt.yticks(fontsize=12)\n",
    "#plt.ylim(0,50000)\n",
    "\n",
    "# Set the border (spine) linewidth to 0.5.\n",
    "for spine in ax.spines.values():\n",
    "    spine.set_linewidth(0.5)\n",
    "\n",
    "plt.tight_layout()\n",
    "plt.savefig(\"Log_unique_nr_frag_tech_bead_color_mean.svg\", dpi=500, bbox_inches=\"tight\")\n",
    "plt.show()"
   ]
  },
  {
   "cell_type": "code",
   "execution_count": 11,
   "id": "ac2b5037-ea43-4110-92e8-dc20b868b7ff",
   "metadata": {},
   "outputs": [],
   "source": [
    "import matplotlib as mpl\n",
    "mpl.rcParams['pdf.fonttype'] = 42"
   ]
  },
  {
   "cell_type": "code",
   "execution_count": null,
   "id": "6aa58de9-bc1c-432f-8c97-704f5bff688d",
   "metadata": {},
   "outputs": [],
   "source": []
  }
 ],
 "metadata": {
  "kernelspec": {
   "display_name": "pycistopic_polars_feb25",
   "language": "python",
   "name": "pycistopic_polars_feb25"
  },
  "language_info": {
   "codemirror_mode": {
    "name": "ipython",
    "version": 3
   },
   "file_extension": ".py",
   "mimetype": "text/x-python",
   "name": "python",
   "nbconvert_exporter": "python",
   "pygments_lexer": "ipython3",
   "version": "3.11.11"
  }
 },
 "nbformat": 4,
 "nbformat_minor": 5
}
